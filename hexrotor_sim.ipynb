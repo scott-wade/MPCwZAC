{
 "cells": [
  {
   "cell_type": "code",
   "execution_count": 13,
   "metadata": {},
   "outputs": [
    {
     "name": "stderr",
     "output_type": "stream",
     "text": [
      "\u001b[32m\u001b[1m  Activating\u001b[22m\u001b[39m environment at `~/CMU/16-745 Optimal Control/HEXROTOR_MODELING/Project.toml`\n"
     ]
    }
   ],
   "source": [
    "import Pkg\n",
    "Pkg.activate(@__DIR__)\n",
    "Pkg.instantiate()\n",
    "\n"
   ]
  },
  {
   "cell_type": "code",
   "execution_count": 17,
   "metadata": {},
   "outputs": [
    {
     "name": "stderr",
     "output_type": "stream",
     "text": [
      "\u001b[32m\u001b[1m   Resolving\u001b[22m\u001b[39m package versions...\n",
      "\u001b[32m\u001b[1m    Updating\u001b[22m\u001b[39m `~/CMU/16-745 Optimal Control/HEXROTOR_MODELING/Project.toml`\n",
      " \u001b[90m [37e2e46d] \u001b[39m\u001b[92m+ LinearAlgebra\u001b[39m\n",
      "\u001b[32m\u001b[1m  No Changes\u001b[22m\u001b[39m to `~/CMU/16-745 Optimal Control/HEXROTOR_MODELING/Manifest.toml`\n"
     ]
    }
   ],
   "source": [
    "Pkg.add(\"LinearAlgebra\")"
   ]
  },
  {
   "cell_type": "code",
   "execution_count": 1,
   "metadata": {},
   "outputs": [
    {
     "ename": "ErrorException",
     "evalue": "syntax: unexpected \",\"",
     "output_type": "error",
     "traceback": [
      "syntax: unexpected \",\"\n",
      "\n",
      "Stacktrace:\n",
      " [1] top-level scope\n",
      "   @ ~/CMU/16-745 Optimal Control/HEXROTOR_MODELING/hexrotor_sim.ipynb:7"
     ]
    }
   ],
   "source": [
    "# hexrotor model\n",
    "\n",
    "model_hexrotor= (mass= 6.725,\n",
    "    J= Diagonal([0.0025, 0.002, 0.0045]), \n",
    "    gravity= [0,0,-9.81],\n",
    "    L= 1.075, # total length from end to end\n",
    "    kf= , # force coefficient\n",
    "    km= , # torque coefficient\n",
    "    dt= 0.05)\n",
    "\n",
    "\n",
    "## assumptions\n",
    "# center of mass is at the center of the drone\n",
    "# mass is distributed evenly\n"
   ]
  },
  {
   "cell_type": "code",
   "execution_count": null,
   "metadata": {},
   "outputs": [],
   "source": [
    "## PARAMETERS\n",
    "# number of states\n",
    "nx=\n",
    "\n",
    "# number of controls\n",
    "nu= \n",
    "\n",
    "params = (\n",
    "    N = N, \n",
    "    nx = nx, \n",
    "    nu = nu, \n",
    "    Xref = Xref, \n",
    "    Uref = Uref, \n",
    "    Q = Q, \n",
    "    R = R, \n",
    "    Qf = Qf, \n",
    "    model = model_hexrotor\n",
    ")\n",
    "\n"
   ]
  },
  {
   "cell_type": "code",
   "execution_count": null,
   "metadata": {},
   "outputs": [],
   "source": [
    "## UTILITY FUNCTIONS\n",
    "\n",
    "function dcm_from_mrp(p)\n",
    "    p1,p2,p3 = p\n",
    "    den = (p1^2 + p2^2 + p3^2 + 1)^2\n",
    "    a = (4*p1^2 + 4*p2^2 + 4*p3^2 - 4)\n",
    "    [\n",
    "    (-((8*p2^2+8*p3^2)/den-1)*den)   (8*p1*p2 + p3*a)     (8*p1*p3 - p2*a);\n",
    "    (8*p1*p2 - p3*a) (-((8*p1^2 + 8*p3^2)/den - 1)*den)   (8*p2*p3 + p1*a);\n",
    "    (8*p1*p3 + p2*a)  (8*p2*p3 - p1*a)  (-((8*p1^2 + 8*p2^2)/den - 1)*den)\n",
    "    ]/den\n",
    "end\n",
    "\n",
    "function skew(ω::Vector)\n",
    "    return [0    -ω[3]  ω[2];\n",
    "            ω[3]  0    -ω[1];\n",
    "           -ω[2]  ω[1]  0]\n",
    "end"
   ]
  },
  {
   "cell_type": "code",
   "execution_count": null,
   "metadata": {},
   "outputs": [],
   "source": [
    "# HEXROTOR Dynamicsfunction quadrotor_dynamics(model::NamedTuple,x,u)\n",
    "    # quadrotor dynamics with an MRP for attitude\n",
    "    # and velocity in the world frame (not body frame)\n",
    "    \n",
    "    r = x[1:3]     # position in world frame \n",
    "    v = x[4:6]     # position in body frame \n",
    "    p = x[7:9]     # n_p_b (MRP) attitude \n",
    "    ω = x[10:12]   # angular velocity \n",
    "\n",
    "    Q = dcm_from_mrp(p)\n",
    "\n",
    "    mass=model.mass\n",
    "    J = model.J\n",
    "    gravity= model.gravity\n",
    "    L= model.L\n",
    "    kf=model.kf\n",
    "    km=model.km\n",
    "\n",
    "    w1 = u[1]\n",
    "    w2 = u[2]\n",
    "    w3 = u[3]\n",
    "    w4 = u[4]\n",
    "    w5 = u[5]\n",
    "    w6 = u[6]\n",
    "\n",
    "    F1 = max(0,kf*w1)\n",
    "    F2 = max(0,kf*w2)\n",
    "    F3 = max(0,kf*w3)\n",
    "    F4 = max(0,kf*w4)\n",
    "    F5 = max(0,kf*w5)\n",
    "    F6 = max(0,kf*w6)\n",
    "    F = [0., 0., F1+F2+F3+F4+F5+F6] #total rotor force in body frame\n",
    "\n",
    "    M1 = km*w1\n",
    "    M2 = km*w2\n",
    "    M3 = km*w3\n",
    "    M4 = km*w4\n",
    "    M5 = km*w5\n",
    "    M6 = km*w6\n",
    "\n",
    "    ### edit this to account for 6 rotors\n",
    "    τ = [L*(F2-F4), L*(F3-F1), (M1-M2+M3-M4)] #total rotor torque in body frame\n",
    "\n",
    "    f = mass*gravity + Q*F # forces in world frame\n",
    "\n",
    "    # this is xdot \n",
    "    [\n",
    "        v\n",
    "        f/mass\n",
    "        ((1+norm(p)^2)/4) *(   I + 2*(skew(p)^2 + skew(p))/(1+norm(p)^2)   )*ω\n",
    "        J\\(τ - cross(ω,J*ω))\n",
    "    ]\n",
    "end"
   ]
  },
  {
   "cell_type": "code",
   "execution_count": null,
   "metadata": {},
   "outputs": [],
   "source": [
    "# discretization with rk4\n",
    "function discrete_dynamics(params::NamedTuple, x::Vector, u, k)\n",
    "    # discrete dynamics\n",
    "    # x - state \n",
    "    # u - control \n",
    "    # k - index of trajectory \n",
    "    # dt comes from params.model.dt \n",
    "    return rk4(params.model, quadrotor_dynamics, x, u, params.model.dt)\n",
    "end"
   ]
  }
 ],
 "metadata": {
  "kernelspec": {
   "display_name": "Julia 1.6.7",
   "language": "julia",
   "name": "julia-1.6"
  },
  "language_info": {
   "file_extension": ".jl",
   "mimetype": "application/julia",
   "name": "julia",
   "version": "1.6.7"
  }
 },
 "nbformat": 4,
 "nbformat_minor": 2
}
