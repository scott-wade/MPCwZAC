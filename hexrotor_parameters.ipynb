{
 "cells": [
  {
   "cell_type": "code",
   "execution_count": null,
   "metadata": {},
   "outputs": [],
   "source": [
    "### model parameters"
   ]
  },
  {
   "cell_type": "code",
   "execution_count": null,
   "metadata": {},
   "outputs": [],
   "source": [
    "# mass (kg)- determined from CAD model and datasheet\n",
    "mass= 6.728 \n",
    "\n",
    "# km- drag coefficient\n",
    "#   represents the aerodynamic drag produced by the propellers as they rotate\n",
    "km= 0.01 # common value (chat gpt, need actual source...)\n",
    "\n",
    "\n",
    "# kf- constant thrust coefficient\n",
    "#   represents the efficiency of the propellers in converting power into thrust\n",
    "kf= 0.1 # common value (chat gpt, need actual source...)\n",
    "\n",
    "# inertia for J (g mm^2), measured from CAD model\n",
    "# Ixx= 2.331e8\n",
    "# Iyy= 2.322e8\n",
    "# Izz= 4.022e8 \n",
    "\n",
    "# inertia for J in correct units (kg m^2)\n",
    "Ixx= 2.331e2\n",
    "Iyy= 2.322e2\n",
    "Izz= 4.022e2\n",
    "\n",
    "# length from center of drone to center of propeller (m)\n",
    "L= 0.5375\n",
    "\n",
    "# Frequency of simulation= 100 Hz (chosen arbitrarily), timestep Δt between each update would be 1/frequency, which is 0.01 seconds \n",
    "#   sim advances by 100 millseconds each step\n",
    "dt= 0.01\n",
    "\n",
    "# propeller tilt in x direction (in body frame) (in radians)\n",
    "#   this could change if we want to test different angles\n",
    "alpha= 30 #degrees\n",
    "α= alpha * (pi / 180)\n",
    "\n",
    "\n",
    "# propeller tilt in y direction (in body frame) (in radians)\n",
    "#   this could change if we want to test different angles\n",
    "beta= 30 #degrees\n",
    "β= beta * (pi / 180)\n",
    "\n",
    "# in the body frame, the propellers are 60 degrees from each other when rotated around the Z axis\n",
    "#   This is set in the design- we cannot change this\n",
    "λ= (i-1)*(π/3)\n",
    "\n"
   ]
  },
  {
   "cell_type": "code",
   "execution_count": null,
   "metadata": {},
   "outputs": [],
   "source": [
    "# hexrotor model\n",
    "\n",
    "model_hexrotor_tilted= (mass= 6.728,\n",
    "    J= Diagonal([Ixx, Iyy, Izz]) \n",
    "    gravity= [0,0,-9.81],\n",
    "    L= 1.075, \n",
    "    kf= 0.1, # constant thrust coefficient \n",
    "    km= 0.01, # propeller drag coefficient\n",
    "    dt= 0.01, # 100 Hz\n",
    "    α= , # optimal value determined from paper\n",
    "    β= , # optimal value determined from paper\n",
    "    λ= ((i-1)*(π/3))) # each propeller is 60 degrees from each other \n",
    "\n"
   ]
  },
  {
   "cell_type": "code",
   "execution_count": null,
   "metadata": {},
   "outputs": [],
   "source": [
    "\"Model Assumptions\n",
    "    1. center of mass is at the center of the drone (it isn't in the CAD model but it is close- about 10mm in the -Z direction)\n",
    "    2. The center of the propeller frame is \n",
    "    3. inertia is from CAD\n",
    "\n",
    "Wind Model Assumptions\n",
    "    1. \n",
    "\n",
    "\"\n",
    "\n"
   ]
  },
  {
   "cell_type": "code",
   "execution_count": 2,
   "metadata": {},
   "outputs": [],
   "source": [
    "# model constraints "
   ]
  },
  {
   "cell_type": "code",
   "execution_count": null,
   "metadata": {},
   "outputs": [],
   "source": [
    "### sources\n",
    "\"\n",
    "- hexrotor modeling paper\n",
    "- PX4 documentation for 100 hz? *** look more into this...\n",
    "- Aurelia X6 standard datasheet/webpage\n",
    "\n",
    "\n",
    "\"\n",
    "\n",
    "\n",
    "# #Industry Practice:\n",
    "\n",
    "# Drone simulation software and tools often allow users to specify the simulation rate, \n",
    "# and 100 Hz is frequently offered as a default or recommended value. For example, PX4, \n",
    "# an open-source flight control software for drones, recommends a simulation rate of 100 Hz for Gazebo-based simulations."
   ]
  }
 ],
 "metadata": {
  "kernelspec": {
   "display_name": "Julia 1.6.7",
   "language": "julia",
   "name": "julia-1.6"
  },
  "language_info": {
   "file_extension": ".jl",
   "mimetype": "application/julia",
   "name": "julia",
   "version": "1.6.7"
  }
 },
 "nbformat": 4,
 "nbformat_minor": 2
}
