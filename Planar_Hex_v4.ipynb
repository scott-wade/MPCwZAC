{
 "cells": [
  {
   "cell_type": "code",
   "execution_count": 59,
   "metadata": {},
   "outputs": [],
   "source": [
    "### 4th implementation of MPC\n",
    "\n",
    "### using the hexrotor ***\n",
    "### using KF and wind model (set to 0 right now though...)"
   ]
  },
  {
   "cell_type": "code",
   "execution_count": 1,
   "metadata": {},
   "outputs": [
    {
     "name": "stderr",
     "output_type": "stream",
     "text": [
      "\u001b[32m\u001b[1m  Activating\u001b[22m\u001b[39m environment at `c:\\Users\\scott\\Documents\\OCRL\\MPCwZAC\\Project.toml`\n"
     ]
    }
   ],
   "source": [
    "import Pkg\n",
    "Pkg.activate(@__DIR__)\n",
    "Pkg.instantiate()\n",
    "using LinearAlgebra, Plots\n",
    "import Convex as cvx \n",
    "import MeshCat as mc \n",
    "using Test\n",
    "using Random\n",
    "import Convex as cvx \n",
    "import ForwardDiff as FD\n",
    "import ECOS  \n",
    "using ProgressMeter    \n"
   ]
  },
  {
   "cell_type": "code",
   "execution_count": 36,
   "metadata": {},
   "outputs": [
    {
     "data": {
      "text/plain": [
       "animate_hexrotor (generic function with 1 method)"
      ]
     },
     "metadata": {},
     "output_type": "display_data"
    }
   ],
   "source": [
    "#include(joinpath(@__DIR__,\"ref_traj.jl\"))\n",
    "# include(joinpath(@__DIR__,\"planar_hexrotor_dynamics.jl\"))\n",
    "include(joinpath(@__DIR__,\"tilted_hexrotor_dynamics.jl\"))\n",
    "#include(joinpath(@__DIR__,\"quadrotor.jl\"))"
   ]
  },
  {
   "cell_type": "code",
   "execution_count": 3,
   "metadata": {},
   "outputs": [
    {
     "data": {
      "text/plain": [
       "update_wind (generic function with 1 method)"
      ]
     },
     "metadata": {},
     "output_type": "display_data"
    }
   ],
   "source": [
    "######### utility functions\n",
    "function create_ref_hover(model, N, dt, n_inputs, desired_altitude = 2)\n",
    "    # create a hover reference (with no pitch) for whole time period\n",
    "    mass = model.mass\n",
    "    kf = model.kf\n",
    "\n",
    "    # hover state\n",
    "    hover_position = [0.0; 0.0; desired_altitude]  # Hover at (0, 0, 2)\n",
    "    hover_velocity = [0.0; 0.0; 0.0]  # no velocity\n",
    "    hover_attitude = [0.0; 0.0; 0.0]  # No roll, pitch, yaw\n",
    "    hover_angvelocity= [0.0; 0.0; 0.0] # no angular velocity\n",
    "    \n",
    "    Xref= [zeros(12) for i = 1:N]\n",
    "    #Xref[1]= x0\n",
    "    for i= 1:N\n",
    "        Xref[i]= [hover_position; hover_velocity; hover_attitude; hover_angvelocity]\n",
    "    end\n",
    "\n",
    "    Uref = [(9.81*mass/(n_inputs*kf))*ones(n_inputs) for i = 1:(N-1)]\n",
    "    #Uref = [(9.81*mass)*ones(n_inputs) for i = 1:(N-1)]\n",
    "    return Xref, Uref\n",
    "end\n",
    "\n",
    "function create_fig8(model, N, dt, n_inputs, radius)\n",
    "    # create reference trajectory for quadrotor \n",
    "    R = radius\n",
    "    mass = model.mass\n",
    "    kf = model.kf\n",
    "    Xref = [ [R*cos(t);R*cos(t)*sin(t);1.2 + sin(t);zeros(9)] \n",
    "        for t = range(-pi/2,3*pi/2, length = N)]\n",
    "    for i = 1:(N-1)\n",
    "        Xref[i][4:6] = (Xref[i+1][1:3] - Xref[i][1:3])/dt\n",
    "    end\n",
    "    Xref[N][4:6] = Xref[N-1][4:6]\n",
    "    Uref = [(9.81*mass/(n_inputs*kf))*ones(n_inputs) for i = 1:(N-1)]\n",
    "    return Xref, Uref\n",
    "end\n",
    "\n",
    "# converting to and from vector of vectors <-> matrix \n",
    "function mat_from_vec(X::Vector{Vector{Float64}})::Matrix\n",
    "    # convert a vector of vectors to a matrix \n",
    "    Xm = hcat(X...)\n",
    "    return Xm \n",
    "end\n",
    "\n",
    "function vec_from_mat(Xm::Matrix)::Vector{Vector{Float64}}\n",
    "    # convert a matrix into a vector of vectors \n",
    "    X = [Xm[:,i] for i = 1:size(Xm,2)]\n",
    "    return X \n",
    "end\n",
    "\n",
    "function kalman_filter(A, B, C, D, Q, R, x_hat, P, u, y, W, w)\n",
    "    # w is the wind input \n",
    "    # W is the system response to wind \n",
    "    x_hat_minus = A * x_hat + B * u + W * w\n",
    "    P_minus = A * P * A' + Q\n",
    "    K = P_minus * C' / (C * P_minus * C' + R)\n",
    "    x_hat_plus = x_hat_minus + K * (y - C * x_hat_minus - D * u)\n",
    "    P_plus = (I - K * C) * P_minus\n",
    "    \n",
    "    return x_hat_plus, P_plus\n",
    "end\n",
    "\n",
    "function update_wind(current_wind, dt, intensity)\n",
    "    # Random walk update\n",
    "    d_wind = randn(size(current_wind)) .* sqrt(intensity * dt)\n",
    "    new_wind = current_wind + d_wind\n",
    "    return new_wind\n",
    "end"
   ]
  },
  {
   "cell_type": "code",
   "execution_count": 4,
   "metadata": {},
   "outputs": [
    {
     "data": {
      "text/plain": [
       "convex_mpc"
      ]
     },
     "metadata": {},
     "output_type": "display_data"
    }
   ],
   "source": [
    "\"\"\"\n",
    "`u = convex_mpc(A,B,X_ref_window,xic,xg,u_min,u_max,N_mpc)`\n",
    "\n",
    "setup and solve the above optimization problem, returning the \n",
    "first control u_1 from the solution (should be a length nu \n",
    "Vector{Float64}).  \n",
    "\"\"\"\n",
    "function convex_mpc(A::Matrix, # discrete dynamics matrix A\n",
    "                    B::Matrix, # discrete dynamics matrix B\n",
    "                    X_ref_window::Vector{Vector{Float64}}, # reference trajectory for this window \n",
    "                    xic::Vector, # current state x \n",
    "                    xg::Vector, # goal state\n",
    "                    u_min::Vector, # lower bound on u \n",
    "                    u_max::Vector, # upper bound on u \n",
    "                    N_mpc::Int64,  # length of MPC window (horizon)\n",
    "                    Q, #Q cost\n",
    "                    R, #Input cost\n",
    "                    wind_dynamics::Matrix, # discrete dynamics of wind W\n",
    "                    wind_velocity::Vector # current wind state w\n",
    "                    )::Vector{Float64} # return the first control command of the solved policy \n",
    "                    \n",
    "    # get our sizes for state and control\n",
    "    nx,nu = size(B)\n",
    "    \n",
    "    # check sizes \n",
    "    @assert size(A) == (nx, nx)\n",
    "    @assert length(xic) == nx \n",
    "    @assert length(xg) == nx \n",
    "    @assert length(X_ref_window) == N_mpc \n",
    "        \n",
    "    # LQR cost\n",
    "    # Q = diagm(ones(nx))\n",
    "    # R = diagm(ones(nu))\n",
    "    # tracking cost function\n",
    "    # Q = 1*diagm([1*ones(3);.1*ones(3);1*ones(3);.1*ones(3)])\n",
    "    # R = .1*diagm(ones(nu))\n",
    "    Qf = 10*Q \n",
    "\n",
    "    # variables we are solving for\n",
    "    X = cvx.Variable(nx,N_mpc)\n",
    "    U = cvx.Variable(nu,N_mpc-1)\n",
    "\n",
    "    # TODO: implement cost function\n",
    "    obj = 0\n",
    "    ################\n",
    "    # stage cost\n",
    "    for k= 1: (N_mpc-1)\n",
    "        xk= X[:,k] # state at timestep k\n",
    "        uk= U[:,k] # controls at timestep k\n",
    "        obj += 0.5*cvx.quadform((X[:,k]-X_ref_window[k]), Q)+ 0.5 *cvx.quadform(U[:,k], R)\n",
    "    end\n",
    "\n",
    "    #terminal cost\n",
    "    obj += 0.5* cvx.quadform((X[:,N_mpc]- X_ref_window[N_mpc]), Qf)\n",
    "    ################\n",
    "    \n",
    "    # create problem with objective\n",
    "    prob = cvx.minimize(obj)\n",
    "\n",
    "    # TODO: add constraints with prob.constraints += \n",
    "    #################\n",
    "    # initial conditions constraint\n",
    "    prob.constraints += (X[:,1]== xic)\n",
    "    #prob.constraints += (X[:,N_mpc]== xg)\n",
    "    \n",
    "    for k = 1:(N_mpc-1) \n",
    "        xk= X[:,k]\n",
    "        uk= U[:,k]\n",
    "        # linear dynamics constraints\n",
    "        prob.constraints += (X[:,k+1] == A*xk + B*uk  + wind_dynamics * wind_velocity)\n",
    "        # control bound constraints\n",
    "        prob.constraints += (uk <= u_max) \n",
    "        prob.constraints += (uk >= u_min)\n",
    "    end\n",
    "\n",
    "    # solve problem \n",
    "    cvx.solve!(prob, ECOS.Optimizer; silent_solver = true)\n",
    "\n",
    "    # get X and U solutions \n",
    "    X = X.value\n",
    "    U = U.value\n",
    "    \n",
    "    # return first control U \n",
    "    return U[:,1]\n",
    "end\n",
    "        "
   ]
  },
  {
   "cell_type": "code",
   "execution_count": 37,
   "metadata": {},
   "outputs": [
    {
     "name": "stderr",
     "output_type": "stream",
     "text": [
      "┌ Warning: Problem status ALMOST_OPTIMAL; solution may be inaccurate.\n",
      "└ @ Convex C:\\Users\\scott\\.julia\\packages\\Convex\\b2S4H\\src\\solution.jl:342\n"
     ]
    },
    {
     "name": "stderr",
     "output_type": "stream",
     "text": [
      "\r\u001b[32msimulating   1%|█                                        |  ETA: 0:02:41\u001b[39m\u001b[K"
     ]
    },
    {
     "name": "stderr",
     "output_type": "stream",
     "text": [
      "\r\u001b[32msimulating   1%|█                                        |  ETA: 0:02:20\u001b[39m\u001b[K"
     ]
    },
    {
     "name": "stderr",
     "output_type": "stream",
     "text": [
      "\r\u001b[32msimulating   1%|█                                        |  ETA: 0:02:17\u001b[39m\u001b[K"
     ]
    },
    {
     "name": "stderr",
     "output_type": "stream",
     "text": [
      "\r\u001b[32msimulating   2%|█                                        |  ETA: 0:02:08\u001b[39m\u001b[K"
     ]
    },
    {
     "name": "stderr",
     "output_type": "stream",
     "text": [
      "\r\u001b[32msimulating   2%|█                                        |  ETA: 0:02:04\u001b[39m\u001b[K"
     ]
    },
    {
     "name": "stderr",
     "output_type": "stream",
     "text": [
      "\r\u001b[32msimulating   2%|█                                        |  ETA: 0:02:00\u001b[39m\u001b[K"
     ]
    },
    {
     "name": "stderr",
     "output_type": "stream",
     "text": [
      "\r\u001b[32msimulating   3%|██                                       |  ETA: 0:01:56\u001b[39m\u001b[K"
     ]
    },
    {
     "name": "stderr",
     "output_type": "stream",
     "text": [
      "\r\u001b[32msimulating   3%|██                                       |  ETA: 0:01:51\u001b[39m\u001b[K"
     ]
    },
    {
     "name": "stderr",
     "output_type": "stream",
     "text": [
      "\r\u001b[32msimulating   3%|██                                       |  ETA: 0:01:47\u001b[39m\u001b[K"
     ]
    },
    {
     "name": "stderr",
     "output_type": "stream",
     "text": [
      "\r\u001b[32msimulating   4%|██                                       |  ETA: 0:01:44\u001b[39m\u001b[K"
     ]
    },
    {
     "name": "stderr",
     "output_type": "stream",
     "text": [
      "\r\u001b[32msimulating   4%|██                                       |  ETA: 0:01:41\u001b[39m\u001b[K"
     ]
    },
    {
     "name": "stderr",
     "output_type": "stream",
     "text": [
      "\r\u001b[32msimulating   4%|██                                       |  ETA: 0:01:39\u001b[39m\u001b[K"
     ]
    },
    {
     "name": "stderr",
     "output_type": "stream",
     "text": [
      "\r\u001b[32msimulating   5%|██                                       |  ETA: 0:01:37\u001b[39m\u001b[K"
     ]
    },
    {
     "name": "stderr",
     "output_type": "stream",
     "text": [
      "\r\u001b[32msimulating   5%|███                                      |  ETA: 0:01:35\u001b[39m\u001b[K"
     ]
    },
    {
     "name": "stderr",
     "output_type": "stream",
     "text": [
      "\r\u001b[32msimulating   5%|███                                      |  ETA: 0:01:33\u001b[39m\u001b[K"
     ]
    },
    {
     "name": "stderr",
     "output_type": "stream",
     "text": [
      "\r\u001b[32msimulating   6%|███                                      |  ETA: 0:01:32\u001b[39m\u001b[K"
     ]
    },
    {
     "name": "stderr",
     "output_type": "stream",
     "text": [
      "\r\u001b[32msimulating   6%|███                                      |  ETA: 0:01:31\u001b[39m\u001b[K"
     ]
    },
    {
     "name": "stderr",
     "output_type": "stream",
     "text": [
      "\r\u001b[32msimulating   6%|███                                      |  ETA: 0:01:29\u001b[39m\u001b[K"
     ]
    },
    {
     "name": "stderr",
     "output_type": "stream",
     "text": [
      "\r\u001b[32msimulating   7%|███                                      |  ETA: 0:01:28\u001b[39m\u001b[K"
     ]
    },
    {
     "name": "stderr",
     "output_type": "stream",
     "text": [
      "\r\u001b[32msimulating   7%|███                                      |  ETA: 0:01:27\u001b[39m\u001b[K"
     ]
    },
    {
     "name": "stderr",
     "output_type": "stream",
     "text": [
      "\r\u001b[32msimulating   7%|████                                     |  ETA: 0:01:26\u001b[39m\u001b[K"
     ]
    },
    {
     "name": "stderr",
     "output_type": "stream",
     "text": [
      "\r\u001b[32msimulating   8%|████                                     |  ETA: 0:01:25\u001b[39m\u001b[K"
     ]
    },
    {
     "name": "stderr",
     "output_type": "stream",
     "text": [
      "\r\u001b[32msimulating   8%|████                                     |  ETA: 0:01:25\u001b[39m\u001b[K"
     ]
    },
    {
     "name": "stderr",
     "output_type": "stream",
     "text": [
      "\r\u001b[32msimulating   8%|████                                     |  ETA: 0:01:24\u001b[39m\u001b[K"
     ]
    },
    {
     "name": "stderr",
     "output_type": "stream",
     "text": [
      "\r\u001b[32msimulating   9%|████                                     |  ETA: 0:01:23\u001b[39m\u001b[K"
     ]
    },
    {
     "name": "stderr",
     "output_type": "stream",
     "text": [
      "\r\u001b[32msimulating   9%|████                                     |  ETA: 0:01:22\u001b[39m\u001b[K"
     ]
    },
    {
     "name": "stderr",
     "output_type": "stream",
     "text": [
      "\r\u001b[32msimulating   9%|████                                     |  ETA: 0:01:21\u001b[39m\u001b[K"
     ]
    },
    {
     "name": "stderr",
     "output_type": "stream",
     "text": [
      "\r\u001b[32msimulating  10%|████                                     |  ETA: 0:01:20\u001b[39m\u001b[K"
     ]
    },
    {
     "name": "stderr",
     "output_type": "stream",
     "text": [
      "\r\u001b[32msimulating  10%|█████                                    |  ETA: 0:01:19\u001b[39m\u001b[K"
     ]
    },
    {
     "name": "stderr",
     "output_type": "stream",
     "text": [
      "\r\u001b[32msimulating  10%|█████                                    |  ETA: 0:01:18\u001b[39m\u001b[K"
     ]
    },
    {
     "name": "stderr",
     "output_type": "stream",
     "text": [
      "\r\u001b[32msimulating  11%|█████                                    |  ETA: 0:01:18\u001b[39m\u001b[K"
     ]
    },
    {
     "name": "stderr",
     "output_type": "stream",
     "text": [
      "\r\u001b[32msimulating  11%|█████                                    |  ETA: 0:01:17\u001b[39m\u001b[K"
     ]
    },
    {
     "name": "stderr",
     "output_type": "stream",
     "text": [
      "\r\u001b[32msimulating  11%|█████                                    |  ETA: 0:01:16\u001b[39m\u001b[K"
     ]
    },
    {
     "name": "stderr",
     "output_type": "stream",
     "text": [
      "\r\u001b[32msimulating  12%|█████                                    |  ETA: 0:01:16\u001b[39m\u001b[K"
     ]
    },
    {
     "name": "stderr",
     "output_type": "stream",
     "text": [
      "\r\u001b[32msimulating  12%|█████                                    |  ETA: 0:01:15\u001b[39m\u001b[K"
     ]
    },
    {
     "name": "stderr",
     "output_type": "stream",
     "text": [
      "\r\u001b[32msimulating  12%|██████                                   |  ETA: 0:01:15\u001b[39m\u001b[K"
     ]
    },
    {
     "name": "stderr",
     "output_type": "stream",
     "text": [
      "\r\u001b[32msimulating  13%|██████                                   |  ETA: 0:01:14\u001b[39m\u001b[K"
     ]
    },
    {
     "name": "stderr",
     "output_type": "stream",
     "text": [
      "\r\u001b[32msimulating  13%|██████                                   |  ETA: 0:01:14\u001b[39m\u001b[K"
     ]
    },
    {
     "name": "stderr",
     "output_type": "stream",
     "text": [
      "\r\u001b[32msimulating  13%|██████                                   |  ETA: 0:01:13\u001b[39m\u001b[K"
     ]
    },
    {
     "name": "stderr",
     "output_type": "stream",
     "text": [
      "\r\u001b[32msimulating  14%|██████                                   |  ETA: 0:01:13\u001b[39m\u001b[K"
     ]
    },
    {
     "name": "stderr",
     "output_type": "stream",
     "text": [
      "\r\u001b[32msimulating  14%|██████                                   |  ETA: 0:01:13\u001b[39m\u001b[K"
     ]
    },
    {
     "name": "stderr",
     "output_type": "stream",
     "text": [
      "\r\u001b[32msimulating  14%|██████                                   |  ETA: 0:01:13\u001b[39m\u001b[K"
     ]
    },
    {
     "name": "stderr",
     "output_type": "stream",
     "text": [
      "\r\u001b[32msimulating  15%|███████                                  |  ETA: 0:01:13\u001b[39m\u001b[K"
     ]
    },
    {
     "name": "stderr",
     "output_type": "stream",
     "text": [
      "\r\u001b[32msimulating  15%|███████                                  |  ETA: 0:01:13\u001b[39m\u001b[K"
     ]
    },
    {
     "name": "stderr",
     "output_type": "stream",
     "text": [
      "\r\u001b[32msimulating  15%|███████                                  |  ETA: 0:01:12\u001b[39m\u001b[K"
     ]
    },
    {
     "name": "stderr",
     "output_type": "stream",
     "text": [
      "\r\u001b[32msimulating  16%|███████                                  |  ETA: 0:01:12\u001b[39m\u001b[K"
     ]
    },
    {
     "name": "stderr",
     "output_type": "stream",
     "text": [
      "\r\u001b[32msimulating  16%|███████                                  |  ETA: 0:01:12\u001b[39m\u001b[K"
     ]
    },
    {
     "name": "stderr",
     "output_type": "stream",
     "text": [
      "\r\u001b[32msimulating  16%|███████                                  |  ETA: 0:01:12\u001b[39m\u001b[K"
     ]
    },
    {
     "name": "stderr",
     "output_type": "stream",
     "text": [
      "\r\u001b[32msimulating  17%|███████                                  |  ETA: 0:01:11\u001b[39m\u001b[K"
     ]
    },
    {
     "name": "stderr",
     "output_type": "stream",
     "text": [
      "\r\u001b[32msimulating  17%|███████                                  |  ETA: 0:01:11\u001b[39m\u001b[K"
     ]
    },
    {
     "name": "stderr",
     "output_type": "stream",
     "text": [
      "\r\u001b[32msimulating  17%|████████                                 |  ETA: 0:01:10\u001b[39m\u001b[K"
     ]
    },
    {
     "name": "stderr",
     "output_type": "stream",
     "text": [
      "\r\u001b[32msimulating  18%|████████                                 |  ETA: 0:01:10\u001b[39m\u001b[K"
     ]
    },
    {
     "name": "stderr",
     "output_type": "stream",
     "text": [
      "\r\u001b[32msimulating  18%|████████                                 |  ETA: 0:01:10\u001b[39m\u001b[K"
     ]
    },
    {
     "name": "stderr",
     "output_type": "stream",
     "text": [
      "\r\u001b[32msimulating  18%|████████                                 |  ETA: 0:01:09\u001b[39m\u001b[K"
     ]
    },
    {
     "name": "stderr",
     "output_type": "stream",
     "text": [
      "\r\u001b[32msimulating  19%|████████                                 |  ETA: 0:01:09\u001b[39m\u001b[K"
     ]
    },
    {
     "name": "stderr",
     "output_type": "stream",
     "text": [
      "\r\u001b[32msimulating  19%|████████                                 |  ETA: 0:01:08\u001b[39m\u001b[K"
     ]
    },
    {
     "name": "stderr",
     "output_type": "stream",
     "text": [
      "\r\u001b[32msimulating  19%|████████                                 |  ETA: 0:01:08\u001b[39m\u001b[K"
     ]
    },
    {
     "name": "stderr",
     "output_type": "stream",
     "text": [
      "\r\u001b[32msimulating  20%|█████████                                |  ETA: 0:01:07\u001b[39m\u001b[K"
     ]
    },
    {
     "name": "stderr",
     "output_type": "stream",
     "text": [
      "\r\u001b[32msimulating  20%|█████████                                |  ETA: 0:01:07\u001b[39m\u001b[K"
     ]
    },
    {
     "name": "stderr",
     "output_type": "stream",
     "text": [
      "\r\u001b[32msimulating  20%|█████████                                |  ETA: 0:01:06\u001b[39m\u001b[K"
     ]
    },
    {
     "name": "stderr",
     "output_type": "stream",
     "text": [
      "\r\u001b[32msimulating  21%|█████████                                |  ETA: 0:01:06\u001b[39m\u001b[K"
     ]
    },
    {
     "name": "stderr",
     "output_type": "stream",
     "text": [
      "\r\u001b[32msimulating  21%|█████████                                |  ETA: 0:01:06\u001b[39m\u001b[K"
     ]
    },
    {
     "name": "stderr",
     "output_type": "stream",
     "text": [
      "\r\u001b[32msimulating  21%|█████████                                |  ETA: 0:01:05\u001b[39m\u001b[K"
     ]
    },
    {
     "name": "stderr",
     "output_type": "stream",
     "text": [
      "\r\u001b[32msimulating  22%|█████████                                |  ETA: 0:01:05\u001b[39m\u001b[K"
     ]
    },
    {
     "name": "stderr",
     "output_type": "stream",
     "text": [
      "\r\u001b[32msimulating  22%|██████████                               |  ETA: 0:01:05\u001b[39m\u001b[K"
     ]
    },
    {
     "name": "stderr",
     "output_type": "stream",
     "text": [
      "\r\u001b[32msimulating  22%|██████████                               |  ETA: 0:01:05\u001b[39m\u001b[K"
     ]
    },
    {
     "name": "stderr",
     "output_type": "stream",
     "text": [
      "\r\u001b[32msimulating  23%|██████████                               |  ETA: 0:01:04\u001b[39m\u001b[K"
     ]
    },
    {
     "name": "stderr",
     "output_type": "stream",
     "text": [
      "\r\u001b[32msimulating  23%|██████████                               |  ETA: 0:01:04\u001b[39m\u001b[K"
     ]
    },
    {
     "name": "stderr",
     "output_type": "stream",
     "text": [
      "\r\u001b[32msimulating  23%|██████████                               |  ETA: 0:01:04\u001b[39m\u001b[K"
     ]
    },
    {
     "name": "stderr",
     "output_type": "stream",
     "text": [
      "\r\u001b[32msimulating  24%|██████████                               |  ETA: 0:01:04\u001b[39m\u001b[K"
     ]
    },
    {
     "name": "stderr",
     "output_type": "stream",
     "text": [
      "\r\u001b[32msimulating  24%|██████████                               |  ETA: 0:01:04\u001b[39m\u001b[K"
     ]
    },
    {
     "name": "stderr",
     "output_type": "stream",
     "text": [
      "\r\u001b[32msimulating  24%|███████████                              |  ETA: 0:01:04\u001b[39m\u001b[K"
     ]
    },
    {
     "name": "stderr",
     "output_type": "stream",
     "text": [
      "\r\u001b[32msimulating  25%|███████████                              |  ETA: 0:01:03\u001b[39m\u001b[K"
     ]
    },
    {
     "name": "stderr",
     "output_type": "stream",
     "text": [
      "\r\u001b[32msimulating  25%|███████████                              |  ETA: 0:01:03\u001b[39m\u001b[K"
     ]
    },
    {
     "name": "stderr",
     "output_type": "stream",
     "text": [
      "\r\u001b[32msimulating  25%|███████████                              |  ETA: 0:01:03\u001b[39m\u001b[K"
     ]
    },
    {
     "name": "stderr",
     "output_type": "stream",
     "text": [
      "\r\u001b[32msimulating  26%|███████████                              |  ETA: 0:01:02\u001b[39m\u001b[K"
     ]
    },
    {
     "name": "stderr",
     "output_type": "stream",
     "text": [
      "\r\u001b[32msimulating  26%|███████████                              |  ETA: 0:01:02\u001b[39m\u001b[K"
     ]
    },
    {
     "name": "stderr",
     "output_type": "stream",
     "text": [
      "\r\u001b[32msimulating  26%|███████████                              |  ETA: 0:01:02\u001b[39m\u001b[K"
     ]
    },
    {
     "name": "stderr",
     "output_type": "stream",
     "text": [
      "\r\u001b[32msimulating  27%|███████████                              |  ETA: 0:01:01\u001b[39m\u001b[K"
     ]
    },
    {
     "name": "stderr",
     "output_type": "stream",
     "text": [
      "\r\u001b[32msimulating  27%|████████████                             |  ETA: 0:01:01\u001b[39m\u001b[K"
     ]
    },
    {
     "name": "stderr",
     "output_type": "stream",
     "text": [
      "\r\u001b[32msimulating  27%|████████████                             |  ETA: 0:01:00\u001b[39m\u001b[K"
     ]
    },
    {
     "name": "stderr",
     "output_type": "stream",
     "text": [
      "\r\u001b[32msimulating  28%|████████████                             |  ETA: 0:01:00\u001b[39m\u001b[K"
     ]
    },
    {
     "name": "stderr",
     "output_type": "stream",
     "text": [
      "\r\u001b[32msimulating  28%|████████████                             |  ETA: 0:01:00\u001b[39m\u001b[K"
     ]
    },
    {
     "name": "stderr",
     "output_type": "stream",
     "text": [
      "\r\u001b[32msimulating  28%|████████████                             |  ETA: 0:01:00\u001b[39m\u001b[K"
     ]
    },
    {
     "name": "stderr",
     "output_type": "stream",
     "text": [
      "\r\u001b[32msimulating  29%|████████████                             |  ETA: 0:01:00\u001b[39m\u001b[K"
     ]
    },
    {
     "name": "stderr",
     "output_type": "stream",
     "text": [
      "\r\u001b[32msimulating  29%|████████████                             |  ETA: 0:01:00\u001b[39m\u001b[K"
     ]
    },
    {
     "name": "stderr",
     "output_type": "stream",
     "text": [
      "\r\u001b[32msimulating  29%|█████████████                            |  ETA: 0:01:00\u001b[39m\u001b[K"
     ]
    },
    {
     "name": "stderr",
     "output_type": "stream",
     "text": [
      "\r\u001b[32msimulating  30%|█████████████                            |  ETA: 0:01:00\u001b[39m\u001b[K"
     ]
    },
    {
     "name": "stderr",
     "output_type": "stream",
     "text": [
      "\r\u001b[32msimulating  30%|█████████████                            |  ETA: 0:00:59\u001b[39m\u001b[K"
     ]
    },
    {
     "name": "stderr",
     "output_type": "stream",
     "text": [
      "\r\u001b[32msimulating  30%|█████████████                            |  ETA: 0:00:59\u001b[39m\u001b[K"
     ]
    },
    {
     "name": "stderr",
     "output_type": "stream",
     "text": [
      "\r\u001b[32msimulating  31%|█████████████                            |  ETA: 0:00:59\u001b[39m\u001b[K"
     ]
    },
    {
     "name": "stderr",
     "output_type": "stream",
     "text": [
      "\r\u001b[32msimulating  31%|█████████████                            |  ETA: 0:00:59\u001b[39m\u001b[K"
     ]
    },
    {
     "name": "stderr",
     "output_type": "stream",
     "text": [
      "\r\u001b[32msimulating  31%|█████████████                            |  ETA: 0:00:58\u001b[39m\u001b[K"
     ]
    },
    {
     "name": "stderr",
     "output_type": "stream",
     "text": [
      "\r\u001b[32msimulating  32%|██████████████                           |  ETA: 0:00:58\u001b[39m\u001b[K"
     ]
    },
    {
     "name": "stderr",
     "output_type": "stream",
     "text": [
      "\r\u001b[32msimulating  32%|██████████████                           |  ETA: 0:00:58\u001b[39m\u001b[K"
     ]
    },
    {
     "name": "stderr",
     "output_type": "stream",
     "text": [
      "\r\u001b[32msimulating  32%|██████████████                           |  ETA: 0:00:58\u001b[39m\u001b[K"
     ]
    },
    {
     "name": "stderr",
     "output_type": "stream",
     "text": [
      "\r\u001b[32msimulating  33%|██████████████                           |  ETA: 0:00:57\u001b[39m\u001b[K"
     ]
    },
    {
     "name": "stderr",
     "output_type": "stream",
     "text": [
      "\r\u001b[32msimulating  33%|██████████████                           |  ETA: 0:00:57\u001b[39m\u001b[K"
     ]
    },
    {
     "name": "stderr",
     "output_type": "stream",
     "text": [
      "\r\u001b[32msimulating  33%|██████████████                           |  ETA: 0:00:57\u001b[39m\u001b[K"
     ]
    },
    {
     "name": "stderr",
     "output_type": "stream",
     "text": [
      "\r\u001b[32msimulating  34%|██████████████                           |  ETA: 0:00:57\u001b[39m\u001b[K"
     ]
    },
    {
     "name": "stderr",
     "output_type": "stream",
     "text": [
      "\r\u001b[32msimulating  34%|██████████████                           |  ETA: 0:00:57\u001b[39m\u001b[K"
     ]
    },
    {
     "name": "stderr",
     "output_type": "stream",
     "text": [
      "\r\u001b[32msimulating  34%|███████████████                          |  ETA: 0:00:56\u001b[39m\u001b[K"
     ]
    },
    {
     "name": "stderr",
     "output_type": "stream",
     "text": [
      "\r\u001b[32msimulating  35%|███████████████                          |  ETA: 0:00:56\u001b[39m\u001b[K"
     ]
    },
    {
     "name": "stderr",
     "output_type": "stream",
     "text": [
      "┌ Warning: Problem status ALMOST_OPTIMAL; solution may be inaccurate.\n",
      "└ @ Convex C:\\Users\\scott\\.julia\\packages\\Convex\\b2S4H\\src\\solution.jl:342\n",
      "\r\u001b[32msimulating  35%|███████████████                          |  ETA: 0:00:56\u001b[39m\u001b[K"
     ]
    },
    {
     "name": "stderr",
     "output_type": "stream",
     "text": [
      "┌ Warning: Problem status ALMOST_OPTIMAL; solution may be inaccurate.\n",
      "└ @ Convex C:\\Users\\scott\\.julia\\packages\\Convex\\b2S4H\\src\\solution.jl:342\n",
      "\r\u001b[32msimulating  35%|███████████████                          |  ETA: 0:00:56\u001b[39m\u001b[K"
     ]
    },
    {
     "name": "stderr",
     "output_type": "stream",
     "text": [
      "┌ Warning: Problem status ALMOST_OPTIMAL; solution may be inaccurate.\n",
      "└ @ Convex C:\\Users\\scott\\.julia\\packages\\Convex\\b2S4H\\src\\solution.jl:342\n",
      "\r\u001b[32msimulating  36%|███████████████                          |  ETA: 0:00:56\u001b[39m\u001b[K"
     ]
    },
    {
     "name": "stderr",
     "output_type": "stream",
     "text": [
      "┌ Warning: Problem status ALMOST_OPTIMAL; solution may be inaccurate.\n",
      "└ @ Convex C:\\Users\\scott\\.julia\\packages\\Convex\\b2S4H\\src\\solution.jl:342\n",
      "\r\u001b[32msimulating  36%|███████████████                          |  ETA: 0:00:56\u001b[39m\u001b[K"
     ]
    },
    {
     "name": "stderr",
     "output_type": "stream",
     "text": [
      "┌ Warning: Problem status ALMOST_OPTIMAL; solution may be inaccurate.\n",
      "└ @ Convex C:\\Users\\scott\\.julia\\packages\\Convex\\b2S4H\\src\\solution.jl:342\n",
      "\r\u001b[32msimulating  36%|███████████████                          |  ETA: 0:00:55\u001b[39m\u001b[K"
     ]
    },
    {
     "name": "stderr",
     "output_type": "stream",
     "text": [
      "┌ Warning: Problem status ALMOST_OPTIMAL; solution may be inaccurate.\n",
      "└ @ Convex C:\\Users\\scott\\.julia\\packages\\Convex\\b2S4H\\src\\solution.jl:342\n",
      "\r\u001b[32msimulating  37%|████████████████                         |  ETA: 0:00:55\u001b[39m\u001b[K"
     ]
    },
    {
     "name": "stderr",
     "output_type": "stream",
     "text": [
      "┌ Warning: Problem status ALMOST_OPTIMAL; solution may be inaccurate.\n",
      "└ @ Convex C:\\Users\\scott\\.julia\\packages\\Convex\\b2S4H\\src\\solution.jl:342\n",
      "\r\u001b[32msimulating  37%|████████████████                         |  ETA: 0:00:55\u001b[39m\u001b[K"
     ]
    },
    {
     "name": "stderr",
     "output_type": "stream",
     "text": [
      "┌ Warning: Problem status ALMOST_OPTIMAL; solution may be inaccurate.\n",
      "└ @ Convex C:\\Users\\scott\\.julia\\packages\\Convex\\b2S4H\\src\\solution.jl:342\n",
      "\r\u001b[32msimulating  37%|████████████████                         |  ETA: 0:00:55\u001b[39m\u001b[K"
     ]
    },
    {
     "name": "stderr",
     "output_type": "stream",
     "text": [
      "┌ Warning: Problem status ALMOST_OPTIMAL; solution may be inaccurate.\n",
      "└ @ Convex C:\\Users\\scott\\.julia\\packages\\Convex\\b2S4H\\src\\solution.jl:342\n",
      "\r\u001b[32msimulating  38%|████████████████                         |  ETA: 0:00:54\u001b[39m\u001b[K"
     ]
    },
    {
     "name": "stderr",
     "output_type": "stream",
     "text": [
      "┌ Warning: Problem status ALMOST_OPTIMAL; solution may be inaccurate.\n",
      "└ @ Convex C:\\Users\\scott\\.julia\\packages\\Convex\\b2S4H\\src\\solution.jl:342\n",
      "\r\u001b[32msimulating  38%|████████████████                         |  ETA: 0:00:54\u001b[39m\u001b[K"
     ]
    },
    {
     "name": "stderr",
     "output_type": "stream",
     "text": [
      "┌ Warning: Problem status ALMOST_OPTIMAL; solution may be inaccurate.\n",
      "└ @ Convex C:\\Users\\scott\\.julia\\packages\\Convex\\b2S4H\\src\\solution.jl:342\n",
      "\r\u001b[32msimulating  38%|████████████████                         |  ETA: 0:00:54\u001b[39m\u001b[K"
     ]
    },
    {
     "name": "stderr",
     "output_type": "stream",
     "text": [
      "┌ Warning: Problem status ALMOST_OPTIMAL; solution may be inaccurate.\n",
      "└ @ Convex C:\\Users\\scott\\.julia\\packages\\Convex\\b2S4H\\src\\solution.jl:342\n",
      "\r\u001b[32msimulating  39%|████████████████                         |  ETA: 0:00:54\u001b[39m\u001b[K"
     ]
    },
    {
     "name": "stderr",
     "output_type": "stream",
     "text": [
      "┌ Warning: Problem status ALMOST_INFEASIBLE; solution may be inaccurate.\n",
      "└ @ Convex C:\\Users\\scott\\.julia\\packages\\Convex\\b2S4H\\src\\solution.jl:342\n",
      "\r\u001b[32msimulating  39%|█████████████████                        |  ETA: 0:00:53\u001b[39m\u001b[K"
     ]
    },
    {
     "name": "stderr",
     "output_type": "stream",
     "text": [
      "┌ Warning: Problem status ALMOST_OPTIMAL; solution may be inaccurate.\n",
      "└ @ Convex C:\\Users\\scott\\.julia\\packages\\Convex\\b2S4H\\src\\solution.jl:342\n",
      "\r\u001b[32msimulating  39%|█████████████████                        |  ETA: 0:00:53\u001b[39m\u001b[K"
     ]
    },
    {
     "name": "stderr",
     "output_type": "stream",
     "text": [
      "┌ Warning: Problem status ALMOST_OPTIMAL; solution may be inaccurate.\n",
      "└ @ Convex C:\\Users\\scott\\.julia\\packages\\Convex\\b2S4H\\src\\solution.jl:342\n",
      "\r\u001b[32msimulating  40%|█████████████████                        |  ETA: 0:00:53\u001b[39m\u001b[K"
     ]
    },
    {
     "name": "stderr",
     "output_type": "stream",
     "text": [
      "┌ Warning: Problem status ALMOST_OPTIMAL; solution may be inaccurate.\n",
      "└ @ Convex C:\\Users\\scott\\.julia\\packages\\Convex\\b2S4H\\src\\solution.jl:342\n",
      "\r\u001b[32msimulating  40%|█████████████████                        |  ETA: 0:00:52\u001b[39m\u001b[K"
     ]
    },
    {
     "name": "stderr",
     "output_type": "stream",
     "text": [
      "┌ Warning: Problem status ALMOST_OPTIMAL; solution may be inaccurate.\n",
      "└ @ Convex C:\\Users\\scott\\.julia\\packages\\Convex\\b2S4H\\src\\solution.jl:342\n",
      "\r\u001b[32msimulating  40%|█████████████████                        |  ETA: 0:00:52\u001b[39m\u001b[K"
     ]
    },
    {
     "name": "stderr",
     "output_type": "stream",
     "text": [
      "┌ Warning: Problem status ALMOST_OPTIMAL; solution may be inaccurate.\n",
      "└ @ Convex C:\\Users\\scott\\.julia\\packages\\Convex\\b2S4H\\src\\solution.jl:342\n",
      "\r\u001b[32msimulating  41%|█████████████████                        |  ETA: 0:00:52\u001b[39m\u001b[K"
     ]
    },
    {
     "name": "stderr",
     "output_type": "stream",
     "text": [
      "┌ Warning: Problem status ALMOST_OPTIMAL; solution may be inaccurate.\n",
      "└ @ Convex C:\\Users\\scott\\.julia\\packages\\Convex\\b2S4H\\src\\solution.jl:342\n",
      "\r\u001b[32msimulating  41%|█████████████████                        |  ETA: 0:00:52\u001b[39m\u001b[K"
     ]
    },
    {
     "name": "stderr",
     "output_type": "stream",
     "text": [
      "┌ Warning: Problem status ALMOST_OPTIMAL; solution may be inaccurate.\n",
      "└ @ Convex C:\\Users\\scott\\.julia\\packages\\Convex\\b2S4H\\src\\solution.jl:342\n",
      "\r\u001b[32msimulating  41%|██████████████████                       |  ETA: 0:00:52\u001b[39m\u001b[K"
     ]
    },
    {
     "name": "stderr",
     "output_type": "stream",
     "text": [
      "┌ Warning: Problem status ALMOST_OPTIMAL; solution may be inaccurate.\n",
      "└ @ Convex C:\\Users\\scott\\.julia\\packages\\Convex\\b2S4H\\src\\solution.jl:342\n",
      "\r\u001b[32msimulating  42%|██████████████████                       |  ETA: 0:00:51\u001b[39m\u001b[K"
     ]
    },
    {
     "name": "stderr",
     "output_type": "stream",
     "text": [
      "┌ Warning: Problem status ALMOST_OPTIMAL; solution may be inaccurate.\n",
      "└ @ Convex C:\\Users\\scott\\.julia\\packages\\Convex\\b2S4H\\src\\solution.jl:342\n",
      "\r\u001b[32msimulating  42%|██████████████████                       |  ETA: 0:00:51\u001b[39m\u001b[K"
     ]
    },
    {
     "name": "stderr",
     "output_type": "stream",
     "text": [
      "┌ Warning: Problem status ALMOST_OPTIMAL; solution may be inaccurate.\n",
      "└ @ Convex C:\\Users\\scott\\.julia\\packages\\Convex\\b2S4H\\src\\solution.jl:342\n",
      "\r\u001b[32msimulating  42%|██████████████████                       |  ETA: 0:00:51\u001b[39m\u001b[K"
     ]
    },
    {
     "name": "stderr",
     "output_type": "stream",
     "text": [
      "┌ Warning: Problem status ALMOST_OPTIMAL; solution may be inaccurate.\n",
      "└ @ Convex C:\\Users\\scott\\.julia\\packages\\Convex\\b2S4H\\src\\solution.jl:342\n",
      "\r\u001b[32msimulating  43%|██████████████████                       |  ETA: 0:00:50\u001b[39m\u001b[K"
     ]
    },
    {
     "name": "stderr",
     "output_type": "stream",
     "text": [
      "┌ Warning: Problem status ALMOST_OPTIMAL; solution may be inaccurate.\n",
      "└ @ Convex C:\\Users\\scott\\.julia\\packages\\Convex\\b2S4H\\src\\solution.jl:342\n",
      "\r\u001b[32msimulating  43%|██████████████████                       |  ETA: 0:00:50\u001b[39m\u001b[K"
     ]
    },
    {
     "name": "stderr",
     "output_type": "stream",
     "text": [
      "┌ Warning: Problem status ALMOST_INFEASIBLE; solution may be inaccurate.\n",
      "└ @ Convex C:\\Users\\scott\\.julia\\packages\\Convex\\b2S4H\\src\\solution.jl:342\n",
      "\r\u001b[32msimulating  43%|██████████████████                       |  ETA: 0:00:50\u001b[39m\u001b[K"
     ]
    },
    {
     "name": "stderr",
     "output_type": "stream",
     "text": [
      "┌ Warning: Problem status ALMOST_OPTIMAL; solution may be inaccurate.\n",
      "└ @ Convex C:\\Users\\scott\\.julia\\packages\\Convex\\b2S4H\\src\\solution.jl:342\n",
      "\r\u001b[32msimulating  44%|██████████████████                       |  ETA: 0:00:49\u001b[39m\u001b[K"
     ]
    },
    {
     "name": "stderr",
     "output_type": "stream",
     "text": [
      "┌ Warning: Problem status ALMOST_OPTIMAL; solution may be inaccurate.\n",
      "└ @ Convex C:\\Users\\scott\\.julia\\packages\\Convex\\b2S4H\\src\\solution.jl:342\n",
      "\r\u001b[32msimulating  44%|███████████████████                      |  ETA: 0:00:49\u001b[39m\u001b[K"
     ]
    },
    {
     "name": "stderr",
     "output_type": "stream",
     "text": [
      "┌ Warning: Problem status ALMOST_OPTIMAL; solution may be inaccurate.\n",
      "└ @ Convex C:\\Users\\scott\\.julia\\packages\\Convex\\b2S4H\\src\\solution.jl:342\n",
      "\r\u001b[32msimulating  44%|███████████████████                      |  ETA: 0:00:49\u001b[39m\u001b[K"
     ]
    },
    {
     "name": "stderr",
     "output_type": "stream",
     "text": [
      "┌ Warning: Problem status ALMOST_OPTIMAL; solution may be inaccurate.\n",
      "└ @ Convex C:\\Users\\scott\\.julia\\packages\\Convex\\b2S4H\\src\\solution.jl:342\n",
      "\r\u001b[32msimulating  45%|███████████████████                      |  ETA: 0:00:49\u001b[39m\u001b[K"
     ]
    },
    {
     "name": "stderr",
     "output_type": "stream",
     "text": [
      "┌ Warning: Problem status ALMOST_OPTIMAL; solution may be inaccurate.\n",
      "└ @ Convex C:\\Users\\scott\\.julia\\packages\\Convex\\b2S4H\\src\\solution.jl:342\n",
      "\r\u001b[32msimulating  45%|███████████████████                      |  ETA: 0:00:48\u001b[39m\u001b[K"
     ]
    },
    {
     "name": "stderr",
     "output_type": "stream",
     "text": [
      "┌ Warning: Problem status ALMOST_OPTIMAL; solution may be inaccurate.\n",
      "└ @ Convex C:\\Users\\scott\\.julia\\packages\\Convex\\b2S4H\\src\\solution.jl:342\n",
      "\r\u001b[32msimulating  45%|███████████████████                      |  ETA: 0:00:48\u001b[39m\u001b[K"
     ]
    },
    {
     "name": "stderr",
     "output_type": "stream",
     "text": [
      "┌ Warning: Problem status ALMOST_OPTIMAL; solution may be inaccurate.\n",
      "└ @ Convex C:\\Users\\scott\\.julia\\packages\\Convex\\b2S4H\\src\\solution.jl:342\n",
      "\r\u001b[32msimulating  46%|███████████████████                      |  ETA: 0:00:48\u001b[39m\u001b[K"
     ]
    },
    {
     "name": "stderr",
     "output_type": "stream",
     "text": [
      "┌ Warning: Problem status ALMOST_OPTIMAL; solution may be inaccurate.\n",
      "└ @ Convex C:\\Users\\scott\\.julia\\packages\\Convex\\b2S4H\\src\\solution.jl:342\n",
      "\r\u001b[32msimulating  46%|███████████████████                      |  ETA: 0:00:47\u001b[39m\u001b[K"
     ]
    },
    {
     "name": "stderr",
     "output_type": "stream",
     "text": [
      "┌ Warning: Problem status ALMOST_OPTIMAL; solution may be inaccurate.\n",
      "└ @ Convex C:\\Users\\scott\\.julia\\packages\\Convex\\b2S4H\\src\\solution.jl:342\n",
      "\r\u001b[32msimulating  46%|████████████████████                     |  ETA: 0:00:47\u001b[39m\u001b[K"
     ]
    },
    {
     "name": "stderr",
     "output_type": "stream",
     "text": [
      "┌ Warning: Problem status ALMOST_OPTIMAL; solution may be inaccurate.\n",
      "└ @ Convex C:\\Users\\scott\\.julia\\packages\\Convex\\b2S4H\\src\\solution.jl:342\n",
      "\r\u001b[32msimulating  47%|████████████████████                     |  ETA: 0:00:47\u001b[39m\u001b[K"
     ]
    },
    {
     "name": "stderr",
     "output_type": "stream",
     "text": [
      "┌ Warning: Problem status ALMOST_OPTIMAL; solution may be inaccurate.\n",
      "└ @ Convex C:\\Users\\scott\\.julia\\packages\\Convex\\b2S4H\\src\\solution.jl:342\n",
      "\r\u001b[32msimulating  47%|████████████████████                     |  ETA: 0:00:46\u001b[39m\u001b[K"
     ]
    },
    {
     "name": "stderr",
     "output_type": "stream",
     "text": [
      "┌ Warning: Problem status ALMOST_OPTIMAL; solution may be inaccurate.\n",
      "└ @ Convex C:\\Users\\scott\\.julia\\packages\\Convex\\b2S4H\\src\\solution.jl:342\n",
      "\r\u001b[32msimulating  47%|████████████████████                     |  ETA: 0:00:46\u001b[39m\u001b[K"
     ]
    },
    {
     "name": "stderr",
     "output_type": "stream",
     "text": [
      "┌ Warning: Problem status ALMOST_OPTIMAL; solution may be inaccurate.\n",
      "└ @ Convex C:\\Users\\scott\\.julia\\packages\\Convex\\b2S4H\\src\\solution.jl:342\n",
      "\r\u001b[32msimulating  48%|████████████████████                     |  ETA: 0:00:46\u001b[39m\u001b[K"
     ]
    },
    {
     "name": "stderr",
     "output_type": "stream",
     "text": [
      "┌ Warning: Problem status ALMOST_OPTIMAL; solution may be inaccurate.\n",
      "└ @ Convex C:\\Users\\scott\\.julia\\packages\\Convex\\b2S4H\\src\\solution.jl:342\n",
      "\r\u001b[32msimulating  48%|████████████████████                     |  ETA: 0:00:45\u001b[39m\u001b[K"
     ]
    },
    {
     "name": "stderr",
     "output_type": "stream",
     "text": [
      "┌ Warning: Problem status ALMOST_OPTIMAL; solution may be inaccurate.\n",
      "└ @ Convex C:\\Users\\scott\\.julia\\packages\\Convex\\b2S4H\\src\\solution.jl:342\n",
      "\r\u001b[32msimulating  48%|████████████████████                     |  ETA: 0:00:45\u001b[39m\u001b[K"
     ]
    },
    {
     "name": "stderr",
     "output_type": "stream",
     "text": [
      "┌ Warning: Problem status ALMOST_OPTIMAL; solution may be inaccurate.\n",
      "└ @ Convex C:\\Users\\scott\\.julia\\packages\\Convex\\b2S4H\\src\\solution.jl:342\n",
      "\r\u001b[32msimulating  49%|█████████████████████                    |  ETA: 0:00:45\u001b[39m\u001b[K"
     ]
    },
    {
     "name": "stderr",
     "output_type": "stream",
     "text": [
      "┌ Warning: Problem status ALMOST_OPTIMAL; solution may be inaccurate.\n",
      "└ @ Convex C:\\Users\\scott\\.julia\\packages\\Convex\\b2S4H\\src\\solution.jl:342\n",
      "\r\u001b[32msimulating  49%|█████████████████████                    |  ETA: 0:00:45\u001b[39m\u001b[K"
     ]
    },
    {
     "name": "stderr",
     "output_type": "stream",
     "text": [
      "┌ Warning: Problem status ALMOST_OPTIMAL; solution may be inaccurate.\n",
      "└ @ Convex C:\\Users\\scott\\.julia\\packages\\Convex\\b2S4H\\src\\solution.jl:342\n",
      "\r\u001b[32msimulating  49%|█████████████████████                    |  ETA: 0:00:44\u001b[39m\u001b[K"
     ]
    },
    {
     "name": "stderr",
     "output_type": "stream",
     "text": [
      "┌ Warning: Problem status ALMOST_OPTIMAL; solution may be inaccurate.\n",
      "└ @ Convex C:\\Users\\scott\\.julia\\packages\\Convex\\b2S4H\\src\\solution.jl:342\n",
      "\r\u001b[32msimulating  50%|█████████████████████                    |  ETA: 0:00:44\u001b[39m\u001b[K"
     ]
    },
    {
     "name": "stderr",
     "output_type": "stream",
     "text": [
      "┌ Warning: Problem status ALMOST_OPTIMAL; solution may be inaccurate.\n",
      "└ @ Convex C:\\Users\\scott\\.julia\\packages\\Convex\\b2S4H\\src\\solution.jl:342\n",
      "\r\u001b[32msimulating  50%|█████████████████████                    |  ETA: 0:00:44\u001b[39m\u001b[K"
     ]
    },
    {
     "name": "stderr",
     "output_type": "stream",
     "text": [
      "┌ Warning: Problem status ALMOST_OPTIMAL; solution may be inaccurate.\n",
      "└ @ Convex C:\\Users\\scott\\.julia\\packages\\Convex\\b2S4H\\src\\solution.jl:342\n",
      "\r\u001b[32msimulating  51%|█████████████████████                    |  ETA: 0:00:43\u001b[39m\u001b[K"
     ]
    },
    {
     "name": "stderr",
     "output_type": "stream",
     "text": [
      "┌ Warning: Problem status ALMOST_OPTIMAL; solution may be inaccurate.\n",
      "└ @ Convex C:\\Users\\scott\\.julia\\packages\\Convex\\b2S4H\\src\\solution.jl:342\n",
      "\r\u001b[32msimulating  51%|█████████████████████                    |  ETA: 0:00:43\u001b[39m\u001b[K"
     ]
    },
    {
     "name": "stderr",
     "output_type": "stream",
     "text": [
      "┌ Warning: Problem status ALMOST_OPTIMAL; solution may be inaccurate.\n",
      "└ @ Convex C:\\Users\\scott\\.julia\\packages\\Convex\\b2S4H\\src\\solution.jl:342\n",
      "\r\u001b[32msimulating  51%|█████████████████████                    |  ETA: 0:00:43\u001b[39m\u001b[K"
     ]
    },
    {
     "name": "stderr",
     "output_type": "stream",
     "text": [
      "┌ Warning: Problem status ALMOST_OPTIMAL; solution may be inaccurate.\n",
      "└ @ Convex C:\\Users\\scott\\.julia\\packages\\Convex\\b2S4H\\src\\solution.jl:342\n",
      "\r\u001b[32msimulating  52%|██████████████████████                   |  ETA: 0:00:43\u001b[39m\u001b[K"
     ]
    },
    {
     "name": "stderr",
     "output_type": "stream",
     "text": [
      "┌ Warning: Problem status ALMOST_OPTIMAL; solution may be inaccurate.\n",
      "└ @ Convex C:\\Users\\scott\\.julia\\packages\\Convex\\b2S4H\\src\\solution.jl:342\n",
      "\r\u001b[32msimulating  52%|██████████████████████                   |  ETA: 0:00:42\u001b[39m\u001b[K"
     ]
    },
    {
     "name": "stderr",
     "output_type": "stream",
     "text": [
      "┌ Warning: Problem status ALMOST_OPTIMAL; solution may be inaccurate.\n",
      "└ @ Convex C:\\Users\\scott\\.julia\\packages\\Convex\\b2S4H\\src\\solution.jl:342\n",
      "\r\u001b[32msimulating  52%|██████████████████████                   |  ETA: 0:00:42\u001b[39m\u001b[K"
     ]
    },
    {
     "name": "stderr",
     "output_type": "stream",
     "text": [
      "┌ Warning: Problem status ALMOST_OPTIMAL; solution may be inaccurate.\n",
      "└ @ Convex C:\\Users\\scott\\.julia\\packages\\Convex\\b2S4H\\src\\solution.jl:342\n",
      "\r\u001b[32msimulating  53%|██████████████████████                   |  ETA: 0:00:42\u001b[39m\u001b[K"
     ]
    },
    {
     "name": "stderr",
     "output_type": "stream",
     "text": [
      "┌ Warning: Problem status ALMOST_OPTIMAL; solution may be inaccurate.\n",
      "└ @ Convex C:\\Users\\scott\\.julia\\packages\\Convex\\b2S4H\\src\\solution.jl:342\n",
      "\r\u001b[32msimulating  53%|██████████████████████                   |  ETA: 0:00:41\u001b[39m\u001b[K"
     ]
    },
    {
     "name": "stderr",
     "output_type": "stream",
     "text": [
      "┌ Warning: Problem status ALMOST_OPTIMAL; solution may be inaccurate.\n",
      "└ @ Convex C:\\Users\\scott\\.julia\\packages\\Convex\\b2S4H\\src\\solution.jl:342\n",
      "\r\u001b[32msimulating  53%|██████████████████████                   |  ETA: 0:00:41\u001b[39m\u001b[K"
     ]
    },
    {
     "name": "stderr",
     "output_type": "stream",
     "text": [
      "┌ Warning: Problem status ALMOST_OPTIMAL; solution may be inaccurate.\n",
      "└ @ Convex C:\\Users\\scott\\.julia\\packages\\Convex\\b2S4H\\src\\solution.jl:342\n",
      "\r\u001b[32msimulating  54%|██████████████████████                   |  ETA: 0:00:41\u001b[39m\u001b[K"
     ]
    },
    {
     "name": "stderr",
     "output_type": "stream",
     "text": [
      "┌ Warning: Problem status ALMOST_OPTIMAL; solution may be inaccurate.\n",
      "└ @ Convex C:\\Users\\scott\\.julia\\packages\\Convex\\b2S4H\\src\\solution.jl:342\n",
      "\r\u001b[32msimulating  54%|███████████████████████                  |  ETA: 0:00:40\u001b[39m\u001b[K"
     ]
    },
    {
     "name": "stderr",
     "output_type": "stream",
     "text": [
      "┌ Warning: Problem status ALMOST_OPTIMAL; solution may be inaccurate.\n",
      "└ @ Convex C:\\Users\\scott\\.julia\\packages\\Convex\\b2S4H\\src\\solution.jl:342\n",
      "\r\u001b[32msimulating  54%|███████████████████████                  |  ETA: 0:00:40\u001b[39m\u001b[K"
     ]
    },
    {
     "name": "stderr",
     "output_type": "stream",
     "text": [
      "┌ Warning: Problem status ALMOST_OPTIMAL; solution may be inaccurate.\n",
      "└ @ Convex C:\\Users\\scott\\.julia\\packages\\Convex\\b2S4H\\src\\solution.jl:342\n",
      "\r\u001b[32msimulating  55%|███████████████████████                  |  ETA: 0:00:40\u001b[39m\u001b[K"
     ]
    },
    {
     "name": "stderr",
     "output_type": "stream",
     "text": [
      "┌ Warning: Problem status ALMOST_OPTIMAL; solution may be inaccurate.\n",
      "└ @ Convex C:\\Users\\scott\\.julia\\packages\\Convex\\b2S4H\\src\\solution.jl:342\n",
      "\r\u001b[32msimulating  55%|███████████████████████                  |  ETA: 0:00:40\u001b[39m\u001b[K"
     ]
    },
    {
     "name": "stderr",
     "output_type": "stream",
     "text": [
      "┌ Warning: Problem status ALMOST_OPTIMAL; solution may be inaccurate.\n",
      "└ @ Convex C:\\Users\\scott\\.julia\\packages\\Convex\\b2S4H\\src\\solution.jl:342\n",
      "\r\u001b[32msimulating  55%|███████████████████████                  |  ETA: 0:00:39\u001b[39m\u001b[K"
     ]
    },
    {
     "name": "stderr",
     "output_type": "stream",
     "text": [
      "┌ Warning: Problem status ALMOST_OPTIMAL; solution may be inaccurate.\n",
      "└ @ Convex C:\\Users\\scott\\.julia\\packages\\Convex\\b2S4H\\src\\solution.jl:342\n",
      "\r\u001b[32msimulating  56%|███████████████████████                  |  ETA: 0:00:39\u001b[39m\u001b[K"
     ]
    },
    {
     "name": "stderr",
     "output_type": "stream",
     "text": [
      "┌ Warning: Problem status ALMOST_OPTIMAL; solution may be inaccurate.\n",
      "└ @ Convex C:\\Users\\scott\\.julia\\packages\\Convex\\b2S4H\\src\\solution.jl:342\n",
      "\r\u001b[32msimulating  56%|███████████████████████                  |  ETA: 0:00:39\u001b[39m\u001b[K"
     ]
    },
    {
     "name": "stderr",
     "output_type": "stream",
     "text": [
      "┌ Warning: Problem status ALMOST_OPTIMAL; solution may be inaccurate.\n",
      "└ @ Convex C:\\Users\\scott\\.julia\\packages\\Convex\\b2S4H\\src\\solution.jl:342\n",
      "\r\u001b[32msimulating  56%|████████████████████████                 |  ETA: 0:00:39\u001b[39m\u001b[K"
     ]
    },
    {
     "name": "stderr",
     "output_type": "stream",
     "text": [
      "┌ Warning: Problem status ALMOST_OPTIMAL; solution may be inaccurate.\n",
      "└ @ Convex C:\\Users\\scott\\.julia\\packages\\Convex\\b2S4H\\src\\solution.jl:342\n",
      "\r\u001b[32msimulating  57%|████████████████████████                 |  ETA: 0:00:38\u001b[39m\u001b[K"
     ]
    },
    {
     "name": "stderr",
     "output_type": "stream",
     "text": [
      "┌ Warning: Problem status ALMOST_OPTIMAL; solution may be inaccurate.\n",
      "└ @ Convex C:\\Users\\scott\\.julia\\packages\\Convex\\b2S4H\\src\\solution.jl:342\n",
      "\r\u001b[32msimulating  57%|████████████████████████                 |  ETA: 0:00:38\u001b[39m\u001b[K"
     ]
    },
    {
     "name": "stderr",
     "output_type": "stream",
     "text": [
      "┌ Warning: Problem status ALMOST_OPTIMAL; solution may be inaccurate.\n",
      "└ @ Convex C:\\Users\\scott\\.julia\\packages\\Convex\\b2S4H\\src\\solution.jl:342\n",
      "\r\u001b[32msimulating  57%|████████████████████████                 |  ETA: 0:00:38\u001b[39m\u001b[K"
     ]
    },
    {
     "name": "stderr",
     "output_type": "stream",
     "text": [
      "┌ Warning: Problem status ALMOST_OPTIMAL; solution may be inaccurate.\n",
      "└ @ Convex C:\\Users\\scott\\.julia\\packages\\Convex\\b2S4H\\src\\solution.jl:342\n",
      "\r\u001b[32msimulating  58%|████████████████████████                 |  ETA: 0:00:37\u001b[39m\u001b[K"
     ]
    },
    {
     "name": "stderr",
     "output_type": "stream",
     "text": [
      "┌ Warning: Problem status ALMOST_OPTIMAL; solution may be inaccurate.\n",
      "└ @ Convex C:\\Users\\scott\\.julia\\packages\\Convex\\b2S4H\\src\\solution.jl:342\n",
      "\r\u001b[32msimulating  58%|████████████████████████                 |  ETA: 0:00:37\u001b[39m\u001b[K"
     ]
    },
    {
     "name": "stderr",
     "output_type": "stream",
     "text": [
      "┌ Warning: Problem status ALMOST_OPTIMAL; solution may be inaccurate.\n",
      "└ @ Convex C:\\Users\\scott\\.julia\\packages\\Convex\\b2S4H\\src\\solution.jl:342\n",
      "\r\u001b[32msimulating  58%|████████████████████████                 |  ETA: 0:00:37\u001b[39m\u001b[K"
     ]
    },
    {
     "name": "stderr",
     "output_type": "stream",
     "text": [
      "┌ Warning: Problem status ALMOST_OPTIMAL; solution may be inaccurate.\n",
      "└ @ Convex C:\\Users\\scott\\.julia\\packages\\Convex\\b2S4H\\src\\solution.jl:342\n",
      "\r\u001b[32msimulating  59%|████████████████████████                 |  ETA: 0:00:36\u001b[39m\u001b[K"
     ]
    },
    {
     "name": "stderr",
     "output_type": "stream",
     "text": [
      "┌ Warning: Problem status ALMOST_OPTIMAL; solution may be inaccurate.\n",
      "└ @ Convex C:\\Users\\scott\\.julia\\packages\\Convex\\b2S4H\\src\\solution.jl:342\n",
      "\r\u001b[32msimulating  59%|█████████████████████████                |  ETA: 0:00:36\u001b[39m\u001b[K"
     ]
    },
    {
     "name": "stderr",
     "output_type": "stream",
     "text": [
      "┌ Warning: Problem status ALMOST_OPTIMAL; solution may be inaccurate.\n",
      "└ @ Convex C:\\Users\\scott\\.julia\\packages\\Convex\\b2S4H\\src\\solution.jl:342\n",
      "\r\u001b[32msimulating  59%|█████████████████████████                |  ETA: 0:00:36\u001b[39m\u001b[K"
     ]
    },
    {
     "name": "stderr",
     "output_type": "stream",
     "text": [
      "┌ Warning: Problem status ALMOST_OPTIMAL; solution may be inaccurate.\n",
      "└ @ Convex C:\\Users\\scott\\.julia\\packages\\Convex\\b2S4H\\src\\solution.jl:342\n",
      "\r\u001b[32msimulating  60%|█████████████████████████                |  ETA: 0:00:35\u001b[39m\u001b[K"
     ]
    },
    {
     "name": "stderr",
     "output_type": "stream",
     "text": [
      "┌ Warning: Problem status ALMOST_OPTIMAL; solution may be inaccurate.\n",
      "└ @ Convex C:\\Users\\scott\\.julia\\packages\\Convex\\b2S4H\\src\\solution.jl:342\n",
      "\r\u001b[32msimulating  60%|█████████████████████████                |  ETA: 0:00:35\u001b[39m\u001b[K"
     ]
    },
    {
     "name": "stderr",
     "output_type": "stream",
     "text": [
      "┌ Warning: Problem status ALMOST_OPTIMAL; solution may be inaccurate.\n",
      "└ @ Convex C:\\Users\\scott\\.julia\\packages\\Convex\\b2S4H\\src\\solution.jl:342\n",
      "\r\u001b[32msimulating  60%|█████████████████████████                |  ETA: 0:00:35\u001b[39m\u001b[K"
     ]
    },
    {
     "name": "stderr",
     "output_type": "stream",
     "text": [
      "┌ Warning: Problem status ALMOST_OPTIMAL; solution may be inaccurate.\n",
      "└ @ Convex C:\\Users\\scott\\.julia\\packages\\Convex\\b2S4H\\src\\solution.jl:342\n",
      "\r\u001b[32msimulating  61%|█████████████████████████                |  ETA: 0:00:35\u001b[39m\u001b[K"
     ]
    },
    {
     "name": "stderr",
     "output_type": "stream",
     "text": [
      "┌ Warning: Problem status ALMOST_INFEASIBLE; solution may be inaccurate.\n",
      "└ @ Convex C:\\Users\\scott\\.julia\\packages\\Convex\\b2S4H\\src\\solution.jl:342\n",
      "\r\u001b[32msimulating  61%|█████████████████████████                |  ETA: 0:00:34\u001b[39m\u001b[K"
     ]
    },
    {
     "name": "stderr",
     "output_type": "stream",
     "text": [
      "┌ Warning: Problem status ALMOST_OPTIMAL; solution may be inaccurate.\n",
      "└ @ Convex C:\\Users\\scott\\.julia\\packages\\Convex\\b2S4H\\src\\solution.jl:342\n",
      "\r\u001b[32msimulating  61%|██████████████████████████               |  ETA: 0:00:34\u001b[39m\u001b[K"
     ]
    },
    {
     "name": "stderr",
     "output_type": "stream",
     "text": [
      "┌ Warning: Problem status ALMOST_OPTIMAL; solution may be inaccurate.\n",
      "└ @ Convex C:\\Users\\scott\\.julia\\packages\\Convex\\b2S4H\\src\\solution.jl:342\n",
      "\r\u001b[32msimulating  62%|██████████████████████████               |  ETA: 0:00:34\u001b[39m\u001b[K"
     ]
    },
    {
     "name": "stderr",
     "output_type": "stream",
     "text": [
      "┌ Warning: Problem status ALMOST_OPTIMAL; solution may be inaccurate.\n",
      "└ @ Convex C:\\Users\\scott\\.julia\\packages\\Convex\\b2S4H\\src\\solution.jl:342\n",
      "\r\u001b[32msimulating  62%|██████████████████████████               |  ETA: 0:00:34\u001b[39m\u001b[K"
     ]
    },
    {
     "name": "stderr",
     "output_type": "stream",
     "text": [
      "┌ Warning: Problem status ALMOST_OPTIMAL; solution may be inaccurate.\n",
      "└ @ Convex C:\\Users\\scott\\.julia\\packages\\Convex\\b2S4H\\src\\solution.jl:342\n",
      "\r\u001b[32msimulating  62%|██████████████████████████               |  ETA: 0:00:33\u001b[39m\u001b[K"
     ]
    },
    {
     "name": "stderr",
     "output_type": "stream",
     "text": [
      "┌ Warning: Problem status ALMOST_OPTIMAL; solution may be inaccurate.\n",
      "└ @ Convex C:\\Users\\scott\\.julia\\packages\\Convex\\b2S4H\\src\\solution.jl:342\n",
      "\r\u001b[32msimulating  63%|██████████████████████████               |  ETA: 0:00:33\u001b[39m\u001b[K"
     ]
    },
    {
     "name": "stderr",
     "output_type": "stream",
     "text": [
      "┌ Warning: Problem status ALMOST_OPTIMAL; solution may be inaccurate.\n",
      "└ @ Convex C:\\Users\\scott\\.julia\\packages\\Convex\\b2S4H\\src\\solution.jl:342\n",
      "\r\u001b[32msimulating  63%|██████████████████████████               |  ETA: 0:00:33\u001b[39m\u001b[K"
     ]
    },
    {
     "name": "stderr",
     "output_type": "stream",
     "text": [
      "┌ Warning: Problem status ALMOST_OPTIMAL; solution may be inaccurate.\n",
      "└ @ Convex C:\\Users\\scott\\.julia\\packages\\Convex\\b2S4H\\src\\solution.jl:342\n",
      "\r\u001b[32msimulating  63%|██████████████████████████               |  ETA: 0:00:33\u001b[39m\u001b[K"
     ]
    },
    {
     "name": "stderr",
     "output_type": "stream",
     "text": [
      "┌ Warning: Problem status ALMOST_OPTIMAL; solution may be inaccurate.\n",
      "└ @ Convex C:\\Users\\scott\\.julia\\packages\\Convex\\b2S4H\\src\\solution.jl:342\n",
      "\r\u001b[32msimulating  64%|███████████████████████████              |  ETA: 0:00:32\u001b[39m\u001b[K"
     ]
    },
    {
     "name": "stderr",
     "output_type": "stream",
     "text": [
      "┌ Warning: Problem status ALMOST_OPTIMAL; solution may be inaccurate.\n",
      "└ @ Convex C:\\Users\\scott\\.julia\\packages\\Convex\\b2S4H\\src\\solution.jl:342\n",
      "\r\u001b[32msimulating  64%|███████████████████████████              |  ETA: 0:00:32\u001b[39m\u001b[K"
     ]
    },
    {
     "name": "stderr",
     "output_type": "stream",
     "text": [
      "┌ Warning: Problem status ALMOST_OPTIMAL; solution may be inaccurate.\n",
      "└ @ Convex C:\\Users\\scott\\.julia\\packages\\Convex\\b2S4H\\src\\solution.jl:342\n",
      "\r\u001b[32msimulating  64%|███████████████████████████              |  ETA: 0:00:32\u001b[39m\u001b[K"
     ]
    },
    {
     "name": "stderr",
     "output_type": "stream",
     "text": [
      "┌ Warning: Problem status ALMOST_OPTIMAL; solution may be inaccurate.\n",
      "└ @ Convex C:\\Users\\scott\\.julia\\packages\\Convex\\b2S4H\\src\\solution.jl:342\n",
      "\r\u001b[32msimulating  65%|███████████████████████████              |  ETA: 0:00:31\u001b[39m\u001b[K"
     ]
    },
    {
     "name": "stderr",
     "output_type": "stream",
     "text": [
      "┌ Warning: Problem status ALMOST_OPTIMAL; solution may be inaccurate.\n",
      "└ @ Convex C:\\Users\\scott\\.julia\\packages\\Convex\\b2S4H\\src\\solution.jl:342\n",
      "\r\u001b[32msimulating  65%|███████████████████████████              |  ETA: 0:00:31\u001b[39m\u001b[K"
     ]
    },
    {
     "name": "stderr",
     "output_type": "stream",
     "text": [
      "┌ Warning: Problem status ALMOST_OPTIMAL; solution may be inaccurate.\n",
      "└ @ Convex C:\\Users\\scott\\.julia\\packages\\Convex\\b2S4H\\src\\solution.jl:342\n",
      "\r\u001b[32msimulating  65%|███████████████████████████              |  ETA: 0:00:31\u001b[39m\u001b[K"
     ]
    },
    {
     "name": "stderr",
     "output_type": "stream",
     "text": [
      "┌ Warning: Problem status ALMOST_OPTIMAL; solution may be inaccurate.\n",
      "└ @ Convex C:\\Users\\scott\\.julia\\packages\\Convex\\b2S4H\\src\\solution.jl:342\n",
      "\r\u001b[32msimulating  66%|███████████████████████████              |  ETA: 0:00:31\u001b[39m\u001b[K"
     ]
    },
    {
     "name": "stderr",
     "output_type": "stream",
     "text": [
      "┌ Warning: Problem status ALMOST_OPTIMAL; solution may be inaccurate.\n",
      "└ @ Convex C:\\Users\\scott\\.julia\\packages\\Convex\\b2S4H\\src\\solution.jl:342\n",
      "\r\u001b[32msimulating  66%|████████████████████████████             |  ETA: 0:00:30\u001b[39m\u001b[K"
     ]
    },
    {
     "name": "stderr",
     "output_type": "stream",
     "text": [
      "┌ Warning: Problem status ALMOST_INFEASIBLE; solution may be inaccurate.\n",
      "└ @ Convex C:\\Users\\scott\\.julia\\packages\\Convex\\b2S4H\\src\\solution.jl:342\n",
      "\r\u001b[32msimulating  66%|████████████████████████████             |  ETA: 0:00:30\u001b[39m\u001b[K"
     ]
    },
    {
     "name": "stderr",
     "output_type": "stream",
     "text": [
      "┌ Warning: Problem status ALMOST_OPTIMAL; solution may be inaccurate.\n",
      "└ @ Convex C:\\Users\\scott\\.julia\\packages\\Convex\\b2S4H\\src\\solution.jl:342\n",
      "\r\u001b[32msimulating  67%|████████████████████████████             |  ETA: 0:00:30\u001b[39m\u001b[K"
     ]
    },
    {
     "name": "stderr",
     "output_type": "stream",
     "text": [
      "┌ Warning: Problem status ALMOST_OPTIMAL; solution may be inaccurate.\n",
      "└ @ Convex C:\\Users\\scott\\.julia\\packages\\Convex\\b2S4H\\src\\solution.jl:342\n",
      "\r\u001b[32msimulating  67%|████████████████████████████             |  ETA: 0:00:29\u001b[39m\u001b[K"
     ]
    },
    {
     "name": "stderr",
     "output_type": "stream",
     "text": [
      "┌ Warning: Problem status ALMOST_OPTIMAL; solution may be inaccurate.\n",
      "└ @ Convex C:\\Users\\scott\\.julia\\packages\\Convex\\b2S4H\\src\\solution.jl:342\n",
      "\r\u001b[32msimulating  67%|████████████████████████████             |  ETA: 0:00:29\u001b[39m\u001b[K"
     ]
    },
    {
     "name": "stderr",
     "output_type": "stream",
     "text": [
      "┌ Warning: Problem status ALMOST_OPTIMAL; solution may be inaccurate.\n",
      "└ @ Convex C:\\Users\\scott\\.julia\\packages\\Convex\\b2S4H\\src\\solution.jl:342\n",
      "\r\u001b[32msimulating  68%|████████████████████████████             |  ETA: 0:00:29\u001b[39m\u001b[K"
     ]
    },
    {
     "name": "stderr",
     "output_type": "stream",
     "text": [
      "┌ Warning: Problem status ALMOST_OPTIMAL; solution may be inaccurate.\n",
      "└ @ Convex C:\\Users\\scott\\.julia\\packages\\Convex\\b2S4H\\src\\solution.jl:342\n",
      "\r\u001b[32msimulating  68%|████████████████████████████             |  ETA: 0:00:29\u001b[39m\u001b[K"
     ]
    },
    {
     "name": "stderr",
     "output_type": "stream",
     "text": [
      "┌ Warning: Problem status ALMOST_OPTIMAL; solution may be inaccurate.\n",
      "└ @ Convex C:\\Users\\scott\\.julia\\packages\\Convex\\b2S4H\\src\\solution.jl:342\n",
      "\r\u001b[32msimulating  68%|████████████████████████████             |  ETA: 0:00:28\u001b[39m\u001b[K"
     ]
    },
    {
     "name": "stderr",
     "output_type": "stream",
     "text": [
      "┌ Warning: Problem status ALMOST_OPTIMAL; solution may be inaccurate.\n",
      "└ @ Convex C:\\Users\\scott\\.julia\\packages\\Convex\\b2S4H\\src\\solution.jl:342\n",
      "\r\u001b[32msimulating  69%|█████████████████████████████            |  ETA: 0:00:28\u001b[39m\u001b[K"
     ]
    },
    {
     "name": "stderr",
     "output_type": "stream",
     "text": [
      "┌ Warning: Problem status ALMOST_OPTIMAL; solution may be inaccurate.\n",
      "└ @ Convex C:\\Users\\scott\\.julia\\packages\\Convex\\b2S4H\\src\\solution.jl:342\n",
      "\r\u001b[32msimulating  69%|█████████████████████████████            |  ETA: 0:00:28\u001b[39m\u001b[K"
     ]
    },
    {
     "name": "stderr",
     "output_type": "stream",
     "text": [
      "┌ Warning: Problem status ALMOST_OPTIMAL; solution may be inaccurate.\n",
      "└ @ Convex C:\\Users\\scott\\.julia\\packages\\Convex\\b2S4H\\src\\solution.jl:342\n",
      "\r\u001b[32msimulating  69%|█████████████████████████████            |  ETA: 0:00:27\u001b[39m\u001b[K"
     ]
    },
    {
     "name": "stderr",
     "output_type": "stream",
     "text": [
      "┌ Warning: Problem status ALMOST_OPTIMAL; solution may be inaccurate.\n",
      "└ @ Convex C:\\Users\\scott\\.julia\\packages\\Convex\\b2S4H\\src\\solution.jl:342\n",
      "\r\u001b[32msimulating  70%|█████████████████████████████            |  ETA: 0:00:27\u001b[39m\u001b[K"
     ]
    },
    {
     "name": "stderr",
     "output_type": "stream",
     "text": [
      "┌ Warning: Problem status ALMOST_OPTIMAL; solution may be inaccurate.\n",
      "└ @ Convex C:\\Users\\scott\\.julia\\packages\\Convex\\b2S4H\\src\\solution.jl:342\n",
      "\r\u001b[32msimulating  70%|█████████████████████████████            |  ETA: 0:00:27\u001b[39m\u001b[K"
     ]
    },
    {
     "name": "stderr",
     "output_type": "stream",
     "text": [
      "┌ Warning: Problem status ALMOST_OPTIMAL; solution may be inaccurate.\n",
      "└ @ Convex C:\\Users\\scott\\.julia\\packages\\Convex\\b2S4H\\src\\solution.jl:342\n",
      "\r\u001b[32msimulating  70%|█████████████████████████████            |  ETA: 0:00:27\u001b[39m\u001b[K"
     ]
    },
    {
     "name": "stderr",
     "output_type": "stream",
     "text": [
      "┌ Warning: Problem status ALMOST_OPTIMAL; solution may be inaccurate.\n",
      "└ @ Convex C:\\Users\\scott\\.julia\\packages\\Convex\\b2S4H\\src\\solution.jl:342\n",
      "\r\u001b[32msimulating  71%|█████████████████████████████            |  ETA: 0:00:26\u001b[39m\u001b[K"
     ]
    },
    {
     "name": "stderr",
     "output_type": "stream",
     "text": [
      "┌ Warning: Problem status ALMOST_OPTIMAL; solution may be inaccurate.\n",
      "└ @ Convex C:\\Users\\scott\\.julia\\packages\\Convex\\b2S4H\\src\\solution.jl:342\n",
      "\r\u001b[32msimulating  71%|██████████████████████████████           |  ETA: 0:00:26\u001b[39m\u001b[K"
     ]
    },
    {
     "name": "stderr",
     "output_type": "stream",
     "text": [
      "┌ Warning: Problem status ALMOST_OPTIMAL; solution may be inaccurate.\n",
      "└ @ Convex C:\\Users\\scott\\.julia\\packages\\Convex\\b2S4H\\src\\solution.jl:342\n",
      "\r\u001b[32msimulating  71%|██████████████████████████████           |  ETA: 0:00:26\u001b[39m\u001b[K"
     ]
    },
    {
     "name": "stderr",
     "output_type": "stream",
     "text": [
      "┌ Warning: Problem status ALMOST_OPTIMAL; solution may be inaccurate.\n",
      "└ @ Convex C:\\Users\\scott\\.julia\\packages\\Convex\\b2S4H\\src\\solution.jl:342\n",
      "\r\u001b[32msimulating  72%|██████████████████████████████           |  ETA: 0:00:25\u001b[39m\u001b[K"
     ]
    },
    {
     "name": "stderr",
     "output_type": "stream",
     "text": [
      "┌ Warning: Problem status ALMOST_OPTIMAL; solution may be inaccurate.\n",
      "└ @ Convex C:\\Users\\scott\\.julia\\packages\\Convex\\b2S4H\\src\\solution.jl:342\n",
      "\r\u001b[32msimulating  72%|██████████████████████████████           |  ETA: 0:00:25\u001b[39m\u001b[K"
     ]
    },
    {
     "name": "stderr",
     "output_type": "stream",
     "text": [
      "┌ Warning: Problem status ALMOST_OPTIMAL; solution may be inaccurate.\n",
      "└ @ Convex C:\\Users\\scott\\.julia\\packages\\Convex\\b2S4H\\src\\solution.jl:342\n",
      "\r\u001b[32msimulating  72%|██████████████████████████████           |  ETA: 0:00:25\u001b[39m\u001b[K"
     ]
    },
    {
     "name": "stderr",
     "output_type": "stream",
     "text": [
      "┌ Warning: Problem status ALMOST_OPTIMAL; solution may be inaccurate.\n",
      "└ @ Convex C:\\Users\\scott\\.julia\\packages\\Convex\\b2S4H\\src\\solution.jl:342\n",
      "\r\u001b[32msimulating  73%|██████████████████████████████           |  ETA: 0:00:24\u001b[39m\u001b[K"
     ]
    },
    {
     "name": "stderr",
     "output_type": "stream",
     "text": [
      "┌ Warning: Problem status ALMOST_OPTIMAL; solution may be inaccurate.\n",
      "└ @ Convex C:\\Users\\scott\\.julia\\packages\\Convex\\b2S4H\\src\\solution.jl:342\n",
      "\r\u001b[32msimulating  73%|██████████████████████████████           |  ETA: 0:00:24\u001b[39m\u001b[K"
     ]
    },
    {
     "name": "stderr",
     "output_type": "stream",
     "text": [
      "┌ Warning: Problem status ALMOST_OPTIMAL; solution may be inaccurate.\n",
      "└ @ Convex C:\\Users\\scott\\.julia\\packages\\Convex\\b2S4H\\src\\solution.jl:342\n",
      "\r\u001b[32msimulating  73%|███████████████████████████████          |  ETA: 0:00:24\u001b[39m\u001b[K"
     ]
    },
    {
     "name": "stderr",
     "output_type": "stream",
     "text": [
      "┌ Warning: Problem status ALMOST_OPTIMAL; solution may be inaccurate.\n",
      "└ @ Convex C:\\Users\\scott\\.julia\\packages\\Convex\\b2S4H\\src\\solution.jl:342\n",
      "\r\u001b[32msimulating  74%|███████████████████████████████          |  ETA: 0:00:24\u001b[39m\u001b[K"
     ]
    },
    {
     "name": "stderr",
     "output_type": "stream",
     "text": [
      "┌ Warning: Problem status ALMOST_OPTIMAL; solution may be inaccurate.\n",
      "└ @ Convex C:\\Users\\scott\\.julia\\packages\\Convex\\b2S4H\\src\\solution.jl:342\n",
      "\r\u001b[32msimulating  74%|███████████████████████████████          |  ETA: 0:00:23\u001b[39m\u001b[K"
     ]
    },
    {
     "name": "stderr",
     "output_type": "stream",
     "text": [
      "┌ Warning: Problem status ALMOST_OPTIMAL; solution may be inaccurate.\n",
      "└ @ Convex C:\\Users\\scott\\.julia\\packages\\Convex\\b2S4H\\src\\solution.jl:342\n",
      "\r\u001b[32msimulating  74%|███████████████████████████████          |  ETA: 0:00:23\u001b[39m\u001b[K"
     ]
    },
    {
     "name": "stderr",
     "output_type": "stream",
     "text": [
      "┌ Warning: Problem status ALMOST_OPTIMAL; solution may be inaccurate.\n",
      "└ @ Convex C:\\Users\\scott\\.julia\\packages\\Convex\\b2S4H\\src\\solution.jl:342\n",
      "\r\u001b[32msimulating  75%|███████████████████████████████          |  ETA: 0:00:23\u001b[39m\u001b[K"
     ]
    },
    {
     "name": "stderr",
     "output_type": "stream",
     "text": [
      "┌ Warning: Problem status ALMOST_OPTIMAL; solution may be inaccurate.\n",
      "└ @ Convex C:\\Users\\scott\\.julia\\packages\\Convex\\b2S4H\\src\\solution.jl:342\n",
      "\r\u001b[32msimulating  75%|███████████████████████████████          |  ETA: 0:00:22\u001b[39m\u001b[K"
     ]
    },
    {
     "name": "stderr",
     "output_type": "stream",
     "text": [
      "┌ Warning: Problem status ALMOST_OPTIMAL; solution may be inaccurate.\n",
      "└ @ Convex C:\\Users\\scott\\.julia\\packages\\Convex\\b2S4H\\src\\solution.jl:342\n",
      "\r\u001b[32msimulating  75%|███████████████████████████████          |  ETA: 0:00:22\u001b[39m\u001b[K"
     ]
    },
    {
     "name": "stderr",
     "output_type": "stream",
     "text": [
      "┌ Warning: Problem status ALMOST_OPTIMAL; solution may be inaccurate.\n",
      "└ @ Convex C:\\Users\\scott\\.julia\\packages\\Convex\\b2S4H\\src\\solution.jl:342\n",
      "\r\u001b[32msimulating  76%|███████████████████████████████          |  ETA: 0:00:22\u001b[39m\u001b[K"
     ]
    },
    {
     "name": "stderr",
     "output_type": "stream",
     "text": [
      "┌ Warning: Problem status ALMOST_OPTIMAL; solution may be inaccurate.\n",
      "└ @ Convex C:\\Users\\scott\\.julia\\packages\\Convex\\b2S4H\\src\\solution.jl:342\n",
      "\r\u001b[32msimulating  76%|████████████████████████████████         |  ETA: 0:00:21\u001b[39m\u001b[K"
     ]
    },
    {
     "name": "stderr",
     "output_type": "stream",
     "text": [
      "┌ Warning: Problem status ALMOST_OPTIMAL; solution may be inaccurate.\n",
      "└ @ Convex C:\\Users\\scott\\.julia\\packages\\Convex\\b2S4H\\src\\solution.jl:342\n",
      "\r\u001b[32msimulating  76%|████████████████████████████████         |  ETA: 0:00:21\u001b[39m\u001b[K"
     ]
    },
    {
     "name": "stderr",
     "output_type": "stream",
     "text": [
      "┌ Warning: Problem status ALMOST_OPTIMAL; solution may be inaccurate.\n",
      "└ @ Convex C:\\Users\\scott\\.julia\\packages\\Convex\\b2S4H\\src\\solution.jl:342\n",
      "\r\u001b[32msimulating  77%|████████████████████████████████         |  ETA: 0:00:21\u001b[39m\u001b[K"
     ]
    },
    {
     "name": "stderr",
     "output_type": "stream",
     "text": [
      "┌ Warning: Problem status ALMOST_OPTIMAL; solution may be inaccurate.\n",
      "└ @ Convex C:\\Users\\scott\\.julia\\packages\\Convex\\b2S4H\\src\\solution.jl:342\n",
      "\r\u001b[32msimulating  77%|████████████████████████████████         |  ETA: 0:00:20\u001b[39m\u001b[K"
     ]
    },
    {
     "name": "stderr",
     "output_type": "stream",
     "text": [
      "┌ Warning: Problem status ALMOST_OPTIMAL; solution may be inaccurate.\n",
      "└ @ Convex C:\\Users\\scott\\.julia\\packages\\Convex\\b2S4H\\src\\solution.jl:342\n",
      "\r\u001b[32msimulating  77%|████████████████████████████████         |  ETA: 0:00:20\u001b[39m\u001b[K"
     ]
    },
    {
     "name": "stderr",
     "output_type": "stream",
     "text": [
      "┌ Warning: Problem status ALMOST_OPTIMAL; solution may be inaccurate.\n",
      "└ @ Convex C:\\Users\\scott\\.julia\\packages\\Convex\\b2S4H\\src\\solution.jl:342\n",
      "\r\u001b[32msimulating  78%|████████████████████████████████         |  ETA: 0:00:20\u001b[39m\u001b[K"
     ]
    },
    {
     "name": "stderr",
     "output_type": "stream",
     "text": [
      "┌ Warning: Problem status ALMOST_OPTIMAL; solution may be inaccurate.\n",
      "└ @ Convex C:\\Users\\scott\\.julia\\packages\\Convex\\b2S4H\\src\\solution.jl:342\n",
      "\r\u001b[32msimulating  78%|████████████████████████████████         |  ETA: 0:00:20\u001b[39m\u001b[K"
     ]
    },
    {
     "name": "stderr",
     "output_type": "stream",
     "text": [
      "┌ Warning: Problem status ALMOST_OPTIMAL; solution may be inaccurate.\n",
      "└ @ Convex C:\\Users\\scott\\.julia\\packages\\Convex\\b2S4H\\src\\solution.jl:342\n",
      "\r\u001b[32msimulating  78%|█████████████████████████████████        |  ETA: 0:00:19\u001b[39m\u001b[K"
     ]
    },
    {
     "name": "stderr",
     "output_type": "stream",
     "text": [
      "┌ Warning: Problem status ALMOST_OPTIMAL; solution may be inaccurate.\n",
      "└ @ Convex C:\\Users\\scott\\.julia\\packages\\Convex\\b2S4H\\src\\solution.jl:342\n",
      "\r\u001b[32msimulating  79%|█████████████████████████████████        |  ETA: 0:00:19\u001b[39m\u001b[K"
     ]
    },
    {
     "name": "stderr",
     "output_type": "stream",
     "text": [
      "┌ Warning: Problem status ALMOST_OPTIMAL; solution may be inaccurate.\n",
      "└ @ Convex C:\\Users\\scott\\.julia\\packages\\Convex\\b2S4H\\src\\solution.jl:342\n",
      "\r\u001b[32msimulating  79%|█████████████████████████████████        |  ETA: 0:00:19\u001b[39m\u001b[K"
     ]
    },
    {
     "name": "stderr",
     "output_type": "stream",
     "text": [
      "┌ Warning: Problem status ALMOST_OPTIMAL; solution may be inaccurate.\n",
      "└ @ Convex C:\\Users\\scott\\.julia\\packages\\Convex\\b2S4H\\src\\solution.jl:342\n",
      "\r\u001b[32msimulating  79%|█████████████████████████████████        |  ETA: 0:00:18\u001b[39m\u001b[K"
     ]
    },
    {
     "name": "stderr",
     "output_type": "stream",
     "text": [
      "┌ Warning: Problem status ALMOST_OPTIMAL; solution may be inaccurate.\n",
      "└ @ Convex C:\\Users\\scott\\.julia\\packages\\Convex\\b2S4H\\src\\solution.jl:342\n",
      "\r\u001b[32msimulating  80%|█████████████████████████████████        |  ETA: 0:00:18\u001b[39m\u001b[K"
     ]
    },
    {
     "name": "stderr",
     "output_type": "stream",
     "text": [
      "┌ Warning: Problem status ALMOST_OPTIMAL; solution may be inaccurate.\n",
      "└ @ Convex C:\\Users\\scott\\.julia\\packages\\Convex\\b2S4H\\src\\solution.jl:342\n",
      "\r\u001b[32msimulating  80%|█████████████████████████████████        |  ETA: 0:00:18\u001b[39m\u001b[K"
     ]
    },
    {
     "name": "stderr",
     "output_type": "stream",
     "text": [
      "┌ Warning: Problem status ALMOST_OPTIMAL; solution may be inaccurate.\n",
      "└ @ Convex C:\\Users\\scott\\.julia\\packages\\Convex\\b2S4H\\src\\solution.jl:342\n",
      "\r\u001b[32msimulating  80%|█████████████████████████████████        |  ETA: 0:00:17\u001b[39m\u001b[K"
     ]
    },
    {
     "name": "stderr",
     "output_type": "stream",
     "text": [
      "┌ Warning: Problem status ALMOST_INFEASIBLE; solution may be inaccurate.\n",
      "└ @ Convex C:\\Users\\scott\\.julia\\packages\\Convex\\b2S4H\\src\\solution.jl:342\n",
      "\r\u001b[32msimulating  81%|██████████████████████████████████       |  ETA: 0:00:17\u001b[39m\u001b[K"
     ]
    },
    {
     "name": "stderr",
     "output_type": "stream",
     "text": [
      "┌ Warning: Problem status ALMOST_OPTIMAL; solution may be inaccurate.\n",
      "└ @ Convex C:\\Users\\scott\\.julia\\packages\\Convex\\b2S4H\\src\\solution.jl:342\n",
      "\r\u001b[32msimulating  81%|██████████████████████████████████       |  ETA: 0:00:17\u001b[39m\u001b[K"
     ]
    },
    {
     "name": "stderr",
     "output_type": "stream",
     "text": [
      "┌ Warning: Problem status ALMOST_OPTIMAL; solution may be inaccurate.\n",
      "└ @ Convex C:\\Users\\scott\\.julia\\packages\\Convex\\b2S4H\\src\\solution.jl:342\n",
      "\r\u001b[32msimulating  81%|██████████████████████████████████       |  ETA: 0:00:17\u001b[39m\u001b[K"
     ]
    },
    {
     "name": "stderr",
     "output_type": "stream",
     "text": [
      "┌ Warning: Problem status ALMOST_OPTIMAL; solution may be inaccurate.\n",
      "└ @ Convex C:\\Users\\scott\\.julia\\packages\\Convex\\b2S4H\\src\\solution.jl:342\n",
      "\r\u001b[32msimulating  82%|██████████████████████████████████       |  ETA: 0:00:16\u001b[39m\u001b[K"
     ]
    },
    {
     "name": "stderr",
     "output_type": "stream",
     "text": [
      "┌ Warning: Problem status ALMOST_OPTIMAL; solution may be inaccurate.\n",
      "└ @ Convex C:\\Users\\scott\\.julia\\packages\\Convex\\b2S4H\\src\\solution.jl:342\n",
      "\r\u001b[32msimulating  82%|██████████████████████████████████       |  ETA: 0:00:16\u001b[39m\u001b[K"
     ]
    },
    {
     "name": "stderr",
     "output_type": "stream",
     "text": [
      "┌ Warning: Problem status ALMOST_OPTIMAL; solution may be inaccurate.\n",
      "└ @ Convex C:\\Users\\scott\\.julia\\packages\\Convex\\b2S4H\\src\\solution.jl:342\n",
      "\r\u001b[32msimulating  82%|██████████████████████████████████       |  ETA: 0:00:16\u001b[39m\u001b[K"
     ]
    },
    {
     "name": "stderr",
     "output_type": "stream",
     "text": [
      "┌ Warning: Problem status ALMOST_OPTIMAL; solution may be inaccurate.\n",
      "└ @ Convex C:\\Users\\scott\\.julia\\packages\\Convex\\b2S4H\\src\\solution.jl:342\n",
      "\r\u001b[32msimulating  83%|██████████████████████████████████       |  ETA: 0:00:15\u001b[39m\u001b[K"
     ]
    },
    {
     "name": "stderr",
     "output_type": "stream",
     "text": [
      "┌ Warning: Problem status ALMOST_OPTIMAL; solution may be inaccurate.\n",
      "└ @ Convex C:\\Users\\scott\\.julia\\packages\\Convex\\b2S4H\\src\\solution.jl:342\n",
      "\r\u001b[32msimulating  83%|███████████████████████████████████      |  ETA: 0:00:15\u001b[39m\u001b[K"
     ]
    },
    {
     "name": "stderr",
     "output_type": "stream",
     "text": [
      "┌ Warning: Problem status ALMOST_OPTIMAL; solution may be inaccurate.\n",
      "└ @ Convex C:\\Users\\scott\\.julia\\packages\\Convex\\b2S4H\\src\\solution.jl:342\n",
      "\r\u001b[32msimulating  83%|███████████████████████████████████      |  ETA: 0:00:15\u001b[39m\u001b[K"
     ]
    },
    {
     "name": "stderr",
     "output_type": "stream",
     "text": [
      "┌ Warning: Problem status ALMOST_OPTIMAL; solution may be inaccurate.\n",
      "└ @ Convex C:\\Users\\scott\\.julia\\packages\\Convex\\b2S4H\\src\\solution.jl:342\n",
      "\r\u001b[32msimulating  84%|███████████████████████████████████      |  ETA: 0:00:14\u001b[39m\u001b[K"
     ]
    },
    {
     "name": "stderr",
     "output_type": "stream",
     "text": [
      "┌ Warning: Problem status ALMOST_OPTIMAL; solution may be inaccurate.\n",
      "└ @ Convex C:\\Users\\scott\\.julia\\packages\\Convex\\b2S4H\\src\\solution.jl:342\n",
      "\r\u001b[32msimulating  84%|███████████████████████████████████      |  ETA: 0:00:14\u001b[39m\u001b[K"
     ]
    },
    {
     "name": "stderr",
     "output_type": "stream",
     "text": [
      "┌ Warning: Problem status ALMOST_INFEASIBLE; solution may be inaccurate.\n",
      "└ @ Convex C:\\Users\\scott\\.julia\\packages\\Convex\\b2S4H\\src\\solution.jl:342\n",
      "\r\u001b[32msimulating  84%|███████████████████████████████████      |  ETA: 0:00:14\u001b[39m\u001b[K"
     ]
    },
    {
     "name": "stderr",
     "output_type": "stream",
     "text": [
      "┌ Warning: Problem status ALMOST_OPTIMAL; solution may be inaccurate.\n",
      "└ @ Convex C:\\Users\\scott\\.julia\\packages\\Convex\\b2S4H\\src\\solution.jl:342\n",
      "\r\u001b[32msimulating  85%|███████████████████████████████████      |  ETA: 0:00:14\u001b[39m\u001b[K"
     ]
    },
    {
     "name": "stderr",
     "output_type": "stream",
     "text": [
      "┌ Warning: Problem status ALMOST_INFEASIBLE; solution may be inaccurate.\n",
      "└ @ Convex C:\\Users\\scott\\.julia\\packages\\Convex\\b2S4H\\src\\solution.jl:342\n",
      "\r\u001b[32msimulating  85%|███████████████████████████████████      |  ETA: 0:00:13\u001b[39m\u001b[K"
     ]
    },
    {
     "name": "stderr",
     "output_type": "stream",
     "text": [
      "┌ Warning: Problem status ALMOST_OPTIMAL; solution may be inaccurate.\n",
      "└ @ Convex C:\\Users\\scott\\.julia\\packages\\Convex\\b2S4H\\src\\solution.jl:342\n",
      "\r\u001b[32msimulating  85%|███████████████████████████████████      |  ETA: 0:00:13\u001b[39m\u001b[K"
     ]
    },
    {
     "name": "stderr",
     "output_type": "stream",
     "text": [
      "┌ Warning: Problem status ALMOST_OPTIMAL; solution may be inaccurate.\n",
      "└ @ Convex C:\\Users\\scott\\.julia\\packages\\Convex\\b2S4H\\src\\solution.jl:342\n",
      "\r\u001b[32msimulating  86%|████████████████████████████████████     |  ETA: 0:00:13\u001b[39m\u001b[K"
     ]
    },
    {
     "name": "stderr",
     "output_type": "stream",
     "text": [
      "┌ Warning: Problem status ALMOST_OPTIMAL; solution may be inaccurate.\n",
      "└ @ Convex C:\\Users\\scott\\.julia\\packages\\Convex\\b2S4H\\src\\solution.jl:342\n",
      "\r\u001b[32msimulating  86%|████████████████████████████████████     |  ETA: 0:00:12\u001b[39m\u001b[K"
     ]
    },
    {
     "name": "stderr",
     "output_type": "stream",
     "text": [
      "┌ Warning: Problem status ALMOST_OPTIMAL; solution may be inaccurate.\n",
      "└ @ Convex C:\\Users\\scott\\.julia\\packages\\Convex\\b2S4H\\src\\solution.jl:342\n",
      "\r\u001b[32msimulating  86%|████████████████████████████████████     |  ETA: 0:00:12\u001b[39m\u001b[K"
     ]
    },
    {
     "name": "stderr",
     "output_type": "stream",
     "text": [
      "┌ Warning: Problem status ALMOST_OPTIMAL; solution may be inaccurate.\n",
      "└ @ Convex C:\\Users\\scott\\.julia\\packages\\Convex\\b2S4H\\src\\solution.jl:342\n",
      "\r\u001b[32msimulating  87%|████████████████████████████████████     |  ETA: 0:00:12\u001b[39m\u001b[K"
     ]
    },
    {
     "name": "stderr",
     "output_type": "stream",
     "text": [
      "┌ Warning: Problem status ALMOST_OPTIMAL; solution may be inaccurate.\n",
      "└ @ Convex C:\\Users\\scott\\.julia\\packages\\Convex\\b2S4H\\src\\solution.jl:342\n",
      "\r\u001b[32msimulating  87%|████████████████████████████████████     |  ETA: 0:00:11\u001b[39m\u001b[K"
     ]
    },
    {
     "name": "stderr",
     "output_type": "stream",
     "text": [
      "┌ Warning: Problem status ALMOST_OPTIMAL; solution may be inaccurate.\n",
      "└ @ Convex C:\\Users\\scott\\.julia\\packages\\Convex\\b2S4H\\src\\solution.jl:342\n",
      "\r\u001b[32msimulating  87%|████████████████████████████████████     |  ETA: 0:00:11\u001b[39m\u001b[K"
     ]
    },
    {
     "name": "stderr",
     "output_type": "stream",
     "text": [
      "┌ Warning: Problem status ALMOST_OPTIMAL; solution may be inaccurate.\n",
      "└ @ Convex C:\\Users\\scott\\.julia\\packages\\Convex\\b2S4H\\src\\solution.jl:342\n",
      "\r\u001b[32msimulating  88%|████████████████████████████████████     |  ETA: 0:00:11\u001b[39m\u001b[K"
     ]
    },
    {
     "name": "stderr",
     "output_type": "stream",
     "text": [
      "┌ Warning: Problem status ALMOST_OPTIMAL; solution may be inaccurate.\n",
      "└ @ Convex C:\\Users\\scott\\.julia\\packages\\Convex\\b2S4H\\src\\solution.jl:342\n",
      "\r\u001b[32msimulating  88%|█████████████████████████████████████    |  ETA: 0:00:11\u001b[39m\u001b[K"
     ]
    },
    {
     "name": "stderr",
     "output_type": "stream",
     "text": [
      "┌ Warning: Problem status ALMOST_OPTIMAL; solution may be inaccurate.\n",
      "└ @ Convex C:\\Users\\scott\\.julia\\packages\\Convex\\b2S4H\\src\\solution.jl:342\n",
      "\r\u001b[32msimulating  88%|█████████████████████████████████████    |  ETA: 0:00:10\u001b[39m\u001b[K"
     ]
    },
    {
     "name": "stderr",
     "output_type": "stream",
     "text": [
      "┌ Warning: Problem status ALMOST_OPTIMAL; solution may be inaccurate.\n",
      "└ @ Convex C:\\Users\\scott\\.julia\\packages\\Convex\\b2S4H\\src\\solution.jl:342\n",
      "\r\u001b[32msimulating  89%|█████████████████████████████████████    |  ETA: 0:00:10\u001b[39m\u001b[K"
     ]
    },
    {
     "name": "stderr",
     "output_type": "stream",
     "text": [
      "┌ Warning: Problem status ALMOST_OPTIMAL; solution may be inaccurate.\n",
      "└ @ Convex C:\\Users\\scott\\.julia\\packages\\Convex\\b2S4H\\src\\solution.jl:342\n",
      "\r\u001b[32msimulating  89%|█████████████████████████████████████    |  ETA: 0:00:10\u001b[39m\u001b[K"
     ]
    },
    {
     "name": "stderr",
     "output_type": "stream",
     "text": [
      "┌ Warning: Problem status ALMOST_OPTIMAL; solution may be inaccurate.\n",
      "└ @ Convex C:\\Users\\scott\\.julia\\packages\\Convex\\b2S4H\\src\\solution.jl:342\n",
      "\r\u001b[32msimulating  89%|█████████████████████████████████████    |  ETA: 0:00:09\u001b[39m\u001b[K"
     ]
    },
    {
     "name": "stderr",
     "output_type": "stream",
     "text": [
      "┌ Warning: Problem status ALMOST_OPTIMAL; solution may be inaccurate.\n",
      "└ @ Convex C:\\Users\\scott\\.julia\\packages\\Convex\\b2S4H\\src\\solution.jl:342\n",
      "\r\u001b[32msimulating  90%|█████████████████████████████████████    |  ETA: 0:00:09\u001b[39m\u001b[K"
     ]
    },
    {
     "name": "stderr",
     "output_type": "stream",
     "text": [
      "┌ Warning: Problem status ALMOST_OPTIMAL; solution may be inaccurate.\n",
      "└ @ Convex C:\\Users\\scott\\.julia\\packages\\Convex\\b2S4H\\src\\solution.jl:342\n",
      "\r\u001b[32msimulating  90%|█████████████████████████████████████    |  ETA: 0:00:09\u001b[39m\u001b[K"
     ]
    },
    {
     "name": "stderr",
     "output_type": "stream",
     "text": [
      "┌ Warning: Problem status ALMOST_OPTIMAL; solution may be inaccurate.\n",
      "└ @ Convex C:\\Users\\scott\\.julia\\packages\\Convex\\b2S4H\\src\\solution.jl:342\n",
      "\r\u001b[32msimulating  90%|██████████████████████████████████████   |  ETA: 0:00:09\u001b[39m\u001b[K"
     ]
    },
    {
     "name": "stderr",
     "output_type": "stream",
     "text": [
      "┌ Warning: Problem status ALMOST_OPTIMAL; solution may be inaccurate.\n",
      "└ @ Convex C:\\Users\\scott\\.julia\\packages\\Convex\\b2S4H\\src\\solution.jl:342\n",
      "\r\u001b[32msimulating  91%|██████████████████████████████████████   |  ETA: 0:00:08\u001b[39m\u001b[K"
     ]
    },
    {
     "name": "stderr",
     "output_type": "stream",
     "text": [
      "┌ Warning: Problem status ALMOST_OPTIMAL; solution may be inaccurate.\n",
      "└ @ Convex C:\\Users\\scott\\.julia\\packages\\Convex\\b2S4H\\src\\solution.jl:342\n",
      "\r\u001b[32msimulating  91%|██████████████████████████████████████   |  ETA: 0:00:08\u001b[39m\u001b[K"
     ]
    },
    {
     "name": "stderr",
     "output_type": "stream",
     "text": [
      "┌ Warning: Problem status ALMOST_OPTIMAL; solution may be inaccurate.\n",
      "└ @ Convex C:\\Users\\scott\\.julia\\packages\\Convex\\b2S4H\\src\\solution.jl:342\n",
      "\r\u001b[32msimulating  91%|██████████████████████████████████████   |  ETA: 0:00:08\u001b[39m\u001b[K"
     ]
    },
    {
     "name": "stderr",
     "output_type": "stream",
     "text": [
      "┌ Warning: Problem status ALMOST_OPTIMAL; solution may be inaccurate.\n",
      "└ @ Convex C:\\Users\\scott\\.julia\\packages\\Convex\\b2S4H\\src\\solution.jl:342\n",
      "\r\u001b[32msimulating  92%|██████████████████████████████████████   |  ETA: 0:00:07\u001b[39m\u001b[K"
     ]
    },
    {
     "name": "stderr",
     "output_type": "stream",
     "text": [
      "┌ Warning: Problem status ALMOST_OPTIMAL; solution may be inaccurate.\n",
      "└ @ Convex C:\\Users\\scott\\.julia\\packages\\Convex\\b2S4H\\src\\solution.jl:342\n",
      "\r\u001b[32msimulating  92%|██████████████████████████████████████   |  ETA: 0:00:07\u001b[39m\u001b[K"
     ]
    },
    {
     "name": "stderr",
     "output_type": "stream",
     "text": [
      "┌ Warning: Problem status ALMOST_OPTIMAL; solution may be inaccurate.\n",
      "└ @ Convex C:\\Users\\scott\\.julia\\packages\\Convex\\b2S4H\\src\\solution.jl:342\n",
      "\r\u001b[32msimulating  92%|██████████████████████████████████████   |  ETA: 0:00:07\u001b[39m\u001b[K"
     ]
    },
    {
     "name": "stderr",
     "output_type": "stream",
     "text": [
      "┌ Warning: Problem status ALMOST_INFEASIBLE; solution may be inaccurate.\n",
      "└ @ Convex C:\\Users\\scott\\.julia\\packages\\Convex\\b2S4H\\src\\solution.jl:342\n",
      "\r\u001b[32msimulating  93%|██████████████████████████████████████   |  ETA: 0:00:07\u001b[39m\u001b[K"
     ]
    },
    {
     "name": "stderr",
     "output_type": "stream",
     "text": [
      "┌ Warning: Problem status ALMOST_OPTIMAL; solution may be inaccurate.\n",
      "└ @ Convex C:\\Users\\scott\\.julia\\packages\\Convex\\b2S4H\\src\\solution.jl:342\n",
      "\r\u001b[32msimulating  93%|███████████████████████████████████████  |  ETA: 0:00:06\u001b[39m\u001b[K"
     ]
    },
    {
     "name": "stderr",
     "output_type": "stream",
     "text": [
      "┌ Warning: Problem status ALMOST_OPTIMAL; solution may be inaccurate.\n",
      "└ @ Convex C:\\Users\\scott\\.julia\\packages\\Convex\\b2S4H\\src\\solution.jl:342\n",
      "\r\u001b[32msimulating  93%|███████████████████████████████████████  |  ETA: 0:00:06\u001b[39m\u001b[K"
     ]
    },
    {
     "name": "stderr",
     "output_type": "stream",
     "text": [
      "┌ Warning: Problem status ALMOST_OPTIMAL; solution may be inaccurate.\n",
      "└ @ Convex C:\\Users\\scott\\.julia\\packages\\Convex\\b2S4H\\src\\solution.jl:342\n",
      "\r\u001b[32msimulating  94%|███████████████████████████████████████  |  ETA: 0:00:06\u001b[39m\u001b[K"
     ]
    },
    {
     "name": "stderr",
     "output_type": "stream",
     "text": [
      "┌ Warning: Problem status ALMOST_OPTIMAL; solution may be inaccurate.\n",
      "└ @ Convex C:\\Users\\scott\\.julia\\packages\\Convex\\b2S4H\\src\\solution.jl:342\n",
      "\r\u001b[32msimulating  94%|███████████████████████████████████████  |  ETA: 0:00:05\u001b[39m\u001b[K"
     ]
    },
    {
     "name": "stderr",
     "output_type": "stream",
     "text": [
      "┌ Warning: Problem status ALMOST_OPTIMAL; solution may be inaccurate.\n",
      "└ @ Convex C:\\Users\\scott\\.julia\\packages\\Convex\\b2S4H\\src\\solution.jl:342\n",
      "\r\u001b[32msimulating  94%|███████████████████████████████████████  |  ETA: 0:00:05\u001b[39m\u001b[K"
     ]
    },
    {
     "name": "stderr",
     "output_type": "stream",
     "text": [
      "┌ Warning: Problem status ALMOST_OPTIMAL; solution may be inaccurate.\n",
      "└ @ Convex C:\\Users\\scott\\.julia\\packages\\Convex\\b2S4H\\src\\solution.jl:342\n",
      "\r\u001b[32msimulating  95%|███████████████████████████████████████  |  ETA: 0:00:05\u001b[39m\u001b[K"
     ]
    },
    {
     "name": "stderr",
     "output_type": "stream",
     "text": [
      "┌ Warning: Problem status ALMOST_OPTIMAL; solution may be inaccurate.\n",
      "└ @ Convex C:\\Users\\scott\\.julia\\packages\\Convex\\b2S4H\\src\\solution.jl:342\n",
      "\r\u001b[32msimulating  95%|███████████████████████████████████████  |  ETA: 0:00:05\u001b[39m\u001b[K"
     ]
    },
    {
     "name": "stderr",
     "output_type": "stream",
     "text": [
      "┌ Warning: Problem status ALMOST_OPTIMAL; solution may be inaccurate.\n",
      "└ @ Convex C:\\Users\\scott\\.julia\\packages\\Convex\\b2S4H\\src\\solution.jl:342\n",
      "\r\u001b[32msimulating  95%|████████████████████████████████████████ |  ETA: 0:00:04\u001b[39m\u001b[K"
     ]
    },
    {
     "name": "stderr",
     "output_type": "stream",
     "text": [
      "┌ Warning: Problem status ALMOST_OPTIMAL; solution may be inaccurate.\n",
      "└ @ Convex C:\\Users\\scott\\.julia\\packages\\Convex\\b2S4H\\src\\solution.jl:342\n",
      "\r\u001b[32msimulating  96%|████████████████████████████████████████ |  ETA: 0:00:04\u001b[39m\u001b[K"
     ]
    },
    {
     "name": "stderr",
     "output_type": "stream",
     "text": [
      "┌ Warning: Problem status ALMOST_OPTIMAL; solution may be inaccurate.\n",
      "└ @ Convex C:\\Users\\scott\\.julia\\packages\\Convex\\b2S4H\\src\\solution.jl:342\n",
      "\r\u001b[32msimulating  96%|████████████████████████████████████████ |  ETA: 0:00:04\u001b[39m\u001b[K"
     ]
    },
    {
     "name": "stderr",
     "output_type": "stream",
     "text": [
      "┌ Warning: Problem status ALMOST_INFEASIBLE; solution may be inaccurate.\n",
      "└ @ Convex C:\\Users\\scott\\.julia\\packages\\Convex\\b2S4H\\src\\solution.jl:342\n",
      "\r\u001b[32msimulating  96%|████████████████████████████████████████ |  ETA: 0:00:03\u001b[39m\u001b[K"
     ]
    },
    {
     "name": "stderr",
     "output_type": "stream",
     "text": [
      "┌ Warning: Problem status ALMOST_OPTIMAL; solution may be inaccurate.\n",
      "└ @ Convex C:\\Users\\scott\\.julia\\packages\\Convex\\b2S4H\\src\\solution.jl:342\n",
      "\r\u001b[32msimulating  97%|████████████████████████████████████████ |  ETA: 0:00:03\u001b[39m\u001b[K"
     ]
    },
    {
     "name": "stderr",
     "output_type": "stream",
     "text": [
      "┌ Warning: Problem status ALMOST_OPTIMAL; solution may be inaccurate.\n",
      "└ @ Convex C:\\Users\\scott\\.julia\\packages\\Convex\\b2S4H\\src\\solution.jl:342\n",
      "\r\u001b[32msimulating  97%|████████████████████████████████████████ |  ETA: 0:00:03\u001b[39m\u001b[K"
     ]
    },
    {
     "name": "stderr",
     "output_type": "stream",
     "text": [
      "┌ Warning: Problem status ALMOST_OPTIMAL; solution may be inaccurate.\n",
      "└ @ Convex C:\\Users\\scott\\.julia\\packages\\Convex\\b2S4H\\src\\solution.jl:342\n",
      "\r\u001b[32msimulating  97%|████████████████████████████████████████ |  ETA: 0:00:03\u001b[39m\u001b[K"
     ]
    },
    {
     "name": "stderr",
     "output_type": "stream",
     "text": [
      "┌ Warning: Problem status ALMOST_OPTIMAL; solution may be inaccurate.\n",
      "└ @ Convex C:\\Users\\scott\\.julia\\packages\\Convex\\b2S4H\\src\\solution.jl:342\n",
      "\r\u001b[32msimulating  98%|█████████████████████████████████████████|  ETA: 0:00:02\u001b[39m\u001b[K"
     ]
    },
    {
     "name": "stderr",
     "output_type": "stream",
     "text": [
      "┌ Warning: Problem status ALMOST_OPTIMAL; solution may be inaccurate.\n",
      "└ @ Convex C:\\Users\\scott\\.julia\\packages\\Convex\\b2S4H\\src\\solution.jl:342\n",
      "\r\u001b[32msimulating  98%|█████████████████████████████████████████|  ETA: 0:00:02\u001b[39m\u001b[K"
     ]
    },
    {
     "name": "stderr",
     "output_type": "stream",
     "text": [
      "┌ Warning: Problem status ALMOST_OPTIMAL; solution may be inaccurate.\n",
      "└ @ Convex C:\\Users\\scott\\.julia\\packages\\Convex\\b2S4H\\src\\solution.jl:342\n",
      "\r\u001b[32msimulating  98%|█████████████████████████████████████████|  ETA: 0:00:02\u001b[39m\u001b[K"
     ]
    },
    {
     "name": "stderr",
     "output_type": "stream",
     "text": [
      "┌ Warning: Problem status ALMOST_INFEASIBLE; solution may be inaccurate.\n",
      "└ @ Convex C:\\Users\\scott\\.julia\\packages\\Convex\\b2S4H\\src\\solution.jl:342\n",
      "\r\u001b[32msimulating  99%|█████████████████████████████████████████|  ETA: 0:00:01\u001b[39m\u001b[K"
     ]
    },
    {
     "name": "stderr",
     "output_type": "stream",
     "text": [
      "┌ Warning: Problem status ALMOST_OPTIMAL; solution may be inaccurate.\n",
      "└ @ Convex C:\\Users\\scott\\.julia\\packages\\Convex\\b2S4H\\src\\solution.jl:342\n",
      "\r\u001b[32msimulating  99%|█████████████████████████████████████████|  ETA: 0:00:01\u001b[39m\u001b[K"
     ]
    },
    {
     "name": "stderr",
     "output_type": "stream",
     "text": [
      "┌ Warning: Problem status ALMOST_OPTIMAL; solution may be inaccurate.\n",
      "└ @ Convex C:\\Users\\scott\\.julia\\packages\\Convex\\b2S4H\\src\\solution.jl:342\n",
      "\r\u001b[32msimulating  99%|█████████████████████████████████████████|  ETA: 0:00:01\u001b[39m\u001b[K"
     ]
    },
    {
     "name": "stderr",
     "output_type": "stream",
     "text": [
      "┌ Warning: Problem status ALMOST_OPTIMAL; solution may be inaccurate.\n",
      "└ @ Convex C:\\Users\\scott\\.julia\\packages\\Convex\\b2S4H\\src\\solution.jl:342\n",
      "\r\u001b[32msimulating 100%|█████████████████████████████████████████|  ETA: 0:00:00\u001b[39m\u001b[K"
     ]
    },
    {
     "name": "stderr",
     "output_type": "stream",
     "text": [
      "┌ Warning: Problem status ALMOST_INFEASIBLE; solution may be inaccurate.\n",
      "└ @ Convex C:\\Users\\scott\\.julia\\packages\\Convex\\b2S4H\\src\\solution.jl:342\n",
      "\r\u001b[32msimulating 100%|█████████████████████████████████████████| Time: 0:01:35\u001b[39m\u001b[K\n"
     ]
    },
    {
     "data": {
      "image/png": "[encoded data removed]",
      "image/svg+xml": [
       "<?xml version=\"1.0\" encoding=\"utf-8\"?>\n",
       "<svg xmlns=\"http://www.w3.org/2000/svg\" xmlns:xlink=\"http://www.w3.org/1999/xlink\" width=\"600\" height=\"400\" viewBox=\"0 0 2400 1600\">\n",
       "<defs>\n",
       "  <clipPath id=\"clip420\">\n",
       "    <rect x=\"0\" y=\"0\" width=\"2400\" height=\"1600\"/>\n",
       "  </clipPath>\n",
       "</defs>\n",
       "<path clip-path=\"url(#clip420)\" d=\"M0 1600 L2400 1600 L2400 0 L0 0  Z\" fill=\"#ffffff\" fill-rule=\"evenodd\" fill-opacity=\"1\"/>\n",
       "<defs>\n",
       "  <clipPath id=\"clip421\">\n",
       "    <rect x=\"480\" y=\"0\" width=\"1681\" height=\"1600\"/>\n",
       "  </clipPath>\n",
       "</defs>\n",
       "<path clip-path=\"url(#clip420)\" d=\"M302.458 1423.18 L2352.76 1423.18 L2352.76 123.472 L302.458 123.472  Z\" fill=\"#ffffff\" fill-rule=\"evenodd\" fill-opacity=\"1\"/>\n",
       "<defs>\n",
       "  <clipPath id=\"clip422\">\n",
       "    <rect x=\"302\" y=\"123\" width=\"2051\" height=\"1301\"/>\n",
       "  </clipPath>\n",
       "</defs>\n",
       "<polyline clip-path=\"url(#clip422)\" style=\"stroke:#000000; stroke-linecap:round; stroke-linejoin:round; stroke-width:2; stroke-opacity:0.1; fill:none\" points=\"360.486,1423.18 360.486,123.472 \"/>\n",
       "<polyline clip-path=\"url(#clip422)\" style=\"stroke:#000000; stroke-linecap:round; stroke-linejoin:round; stroke-width:2; stroke-opacity:0.1; fill:none\" points=\"1007.39,1423.18 1007.39,123.472 \"/>\n",
       "<polyline clip-path=\"url(#clip422)\" style=\"stroke:#000000; stroke-linecap:round; stroke-linejoin:round; stroke-width:2; stroke-opacity:0.1; fill:none\" points=\"1654.29,1423.18 1654.29,123.472 \"/>\n",
       "<polyline clip-path=\"url(#clip422)\" style=\"stroke:#000000; stroke-linecap:round; stroke-linejoin:round; stroke-width:2; stroke-opacity:0.1; fill:none\" points=\"2301.2,1423.18 2301.2,123.472 \"/>\n",
       "<polyline clip-path=\"url(#clip420)\" style=\"stroke:#000000; stroke-linecap:round; stroke-linejoin:round; stroke-width:4; stroke-opacity:1; fill:none\" points=\"302.458,1423.18 2352.76,1423.18 \"/>\n",
       "<polyline clip-path=\"url(#clip420)\" style=\"stroke:#000000; stroke-linecap:round; stroke-linejoin:round; stroke-width:4; stroke-opacity:1; fill:none\" points=\"360.486,1423.18 360.486,1404.28 \"/>\n",
       "<polyline clip-path=\"url(#clip420)\" style=\"stroke:#000000; stroke-linecap:round; stroke-linejoin:round; stroke-width:4; stroke-opacity:1; fill:none\" points=\"1007.39,1423.18 1007.39,1404.28 \"/>\n",
       "<polyline clip-path=\"url(#clip420)\" style=\"stroke:#000000; stroke-linecap:round; stroke-linejoin:round; stroke-width:4; stroke-opacity:1; fill:none\" points=\"1654.29,1423.18 1654.29,1404.28 \"/>\n",
       "<polyline clip-path=\"url(#clip420)\" style=\"stroke:#000000; stroke-linecap:round; stroke-linejoin:round; stroke-width:4; stroke-opacity:1; fill:none\" points=\"2301.2,1423.18 2301.2,1404.28 \"/>\n",
       "<path clip-path=\"url(#clip420)\" d=\"M360.486 1454.1 Q356.875 1454.1 355.046 1457.66 Q353.24 1461.2 353.24 1468.33 Q353.24 1475.44 355.046 1479.01 Q356.875 1482.55 360.486 1482.55 Q364.12 1482.55 365.925 1479.01 Q367.754 1475.44 367.754 1468.33 Q367.754 1461.2 365.925 1457.66 Q364.12 1454.1 360.486 1454.1 M360.486 1450.39 Q366.296 1450.39 369.351 1455 Q372.43 1459.58 372.43 1468.33 Q372.43 1477.06 369.351 1481.67 Q366.296 1486.25 360.486 1486.25 Q354.676 1486.25 351.597 1481.67 Q348.541 1477.06 348.541 1468.33 Q348.541 1459.58 351.597 1455 Q354.676 1450.39 360.486 1450.39 Z\" fill=\"#000000\" fill-rule=\"nonzero\" fill-opacity=\"1\" /><path clip-path=\"url(#clip420)\" d=\"M982.077 1481.64 L989.716 1481.64 L989.716 1455.28 L981.406 1456.95 L981.406 1452.69 L989.67 1451.02 L994.346 1451.02 L994.346 1481.64 L1001.98 1481.64 L1001.98 1485.58 L982.077 1485.58 L982.077 1481.64 Z\" fill=\"#000000\" fill-rule=\"nonzero\" fill-opacity=\"1\" /><path clip-path=\"url(#clip420)\" d=\"M1021.43 1454.1 Q1017.82 1454.1 1015.99 1457.66 Q1014.18 1461.2 1014.18 1468.33 Q1014.18 1475.44 1015.99 1479.01 Q1017.82 1482.55 1021.43 1482.55 Q1025.06 1482.55 1026.87 1479.01 Q1028.7 1475.44 1028.7 1468.33 Q1028.7 1461.2 1026.87 1457.66 Q1025.06 1454.1 1021.43 1454.1 M1021.43 1450.39 Q1027.24 1450.39 1030.29 1455 Q1033.37 1459.58 1033.37 1468.33 Q1033.37 1477.06 1030.29 1481.67 Q1027.24 1486.25 1021.43 1486.25 Q1015.62 1486.25 1012.54 1481.67 Q1009.48 1477.06 1009.48 1468.33 Q1009.48 1459.58 1012.54 1455 Q1015.62 1450.39 1021.43 1450.39 Z\" fill=\"#000000\" fill-rule=\"nonzero\" fill-opacity=\"1\" /><path clip-path=\"url(#clip420)\" d=\"M1633.07 1481.64 L1649.39 1481.64 L1649.39 1485.58 L1627.44 1485.58 L1627.44 1481.64 Q1630.1 1478.89 1634.69 1474.26 Q1639.29 1469.61 1640.47 1468.27 Q1642.72 1465.74 1643.6 1464.01 Q1644.5 1462.25 1644.5 1460.56 Q1644.5 1457.8 1642.56 1456.07 Q1640.64 1454.33 1637.53 1454.33 Q1635.34 1454.33 1632.88 1455.09 Q1630.45 1455.86 1627.67 1457.41 L1627.67 1452.69 Q1630.5 1451.55 1632.95 1450.97 Q1635.4 1450.39 1637.44 1450.39 Q1642.81 1450.39 1646.01 1453.08 Q1649.2 1455.77 1649.2 1460.26 Q1649.2 1462.39 1648.39 1464.31 Q1647.6 1466.2 1645.5 1468.8 Q1644.92 1469.47 1641.82 1472.69 Q1638.72 1475.88 1633.07 1481.64 Z\" fill=\"#000000\" fill-rule=\"nonzero\" fill-opacity=\"1\" /><path clip-path=\"url(#clip420)\" d=\"M1669.2 1454.1 Q1665.59 1454.1 1663.76 1457.66 Q1661.96 1461.2 1661.96 1468.33 Q1661.96 1475.44 1663.76 1479.01 Q1665.59 1482.55 1669.2 1482.55 Q1672.84 1482.55 1674.64 1479.01 Q1676.47 1475.44 1676.47 1468.33 Q1676.47 1461.2 1674.64 1457.66 Q1672.84 1454.1 1669.2 1454.1 M1669.2 1450.39 Q1675.01 1450.39 1678.07 1455 Q1681.15 1459.58 1681.15 1468.33 Q1681.15 1477.06 1678.07 1481.67 Q1675.01 1486.25 1669.2 1486.25 Q1663.39 1486.25 1660.31 1481.67 Q1657.26 1477.06 1657.26 1468.33 Q1657.26 1459.58 1660.31 1455 Q1663.39 1450.39 1669.2 1450.39 Z\" fill=\"#000000\" fill-rule=\"nonzero\" fill-opacity=\"1\" /><path clip-path=\"url(#clip420)\" d=\"M2290.04 1466.95 Q2293.4 1467.66 2295.27 1469.93 Q2297.17 1472.2 2297.17 1475.53 Q2297.17 1480.65 2293.65 1483.45 Q2290.13 1486.25 2283.65 1486.25 Q2281.48 1486.25 2279.16 1485.81 Q2276.87 1485.39 2274.42 1484.54 L2274.42 1480.02 Q2276.36 1481.16 2278.67 1481.74 Q2280.99 1482.32 2283.51 1482.32 Q2287.91 1482.32 2290.2 1480.58 Q2292.52 1478.84 2292.52 1475.53 Q2292.52 1472.48 2290.36 1470.77 Q2288.23 1469.03 2284.42 1469.03 L2280.39 1469.03 L2280.39 1465.19 L2284.6 1465.19 Q2288.05 1465.19 2289.88 1463.82 Q2291.71 1462.43 2291.71 1459.84 Q2291.71 1457.18 2289.81 1455.77 Q2287.93 1454.33 2284.42 1454.33 Q2282.49 1454.33 2280.29 1454.75 Q2278.1 1455.16 2275.46 1456.04 L2275.46 1451.88 Q2278.12 1451.14 2280.43 1450.77 Q2282.77 1450.39 2284.83 1450.39 Q2290.16 1450.39 2293.26 1452.83 Q2296.36 1455.23 2296.36 1459.35 Q2296.36 1462.22 2294.72 1464.21 Q2293.07 1466.18 2290.04 1466.95 Z\" fill=\"#000000\" fill-rule=\"nonzero\" fill-opacity=\"1\" /><path clip-path=\"url(#clip420)\" d=\"M2316.04 1454.1 Q2312.42 1454.1 2310.6 1457.66 Q2308.79 1461.2 2308.79 1468.33 Q2308.79 1475.44 2310.6 1479.01 Q2312.42 1482.55 2316.04 1482.55 Q2319.67 1482.55 2321.48 1479.01 Q2323.3 1475.44 2323.3 1468.33 Q2323.3 1461.2 2321.48 1457.66 Q2319.67 1454.1 2316.04 1454.1 M2316.04 1450.39 Q2321.85 1450.39 2324.9 1455 Q2327.98 1459.58 2327.98 1468.33 Q2327.98 1477.06 2324.9 1481.67 Q2321.85 1486.25 2316.04 1486.25 Q2310.23 1486.25 2307.15 1481.67 Q2304.09 1477.06 2304.09 1468.33 Q2304.09 1459.58 2307.15 1455 Q2310.23 1450.39 2316.04 1450.39 Z\" fill=\"#000000\" fill-rule=\"nonzero\" fill-opacity=\"1\" /><path clip-path=\"url(#clip420)\" d=\"M1215.06 1522.27 L1215.06 1532.4 L1227.12 1532.4 L1227.12 1536.95 L1215.06 1536.95 L1215.06 1556.3 Q1215.06 1560.66 1216.24 1561.9 Q1217.45 1563.14 1221.11 1563.14 L1227.12 1563.14 L1227.12 1568.04 L1221.11 1568.04 Q1214.33 1568.04 1211.75 1565.53 Q1209.17 1562.98 1209.17 1556.3 L1209.17 1536.95 L1204.88 1536.95 L1204.88 1532.4 L1209.17 1532.4 L1209.17 1522.27 L1215.06 1522.27 Z\" fill=\"#000000\" fill-rule=\"nonzero\" fill-opacity=\"1\" /><path clip-path=\"url(#clip420)\" d=\"M1234.83 1532.4 L1240.68 1532.4 L1240.68 1568.04 L1234.83 1568.04 L1234.83 1532.4 M1234.83 1518.52 L1240.68 1518.52 L1240.68 1525.93 L1234.83 1525.93 L1234.83 1518.52 Z\" fill=\"#000000\" fill-rule=\"nonzero\" fill-opacity=\"1\" /><path clip-path=\"url(#clip420)\" d=\"M1280.69 1539.24 Q1282.89 1535.29 1285.94 1533.41 Q1289 1531.54 1293.14 1531.54 Q1298.71 1531.54 1301.73 1535.45 Q1304.75 1539.33 1304.75 1546.53 L1304.75 1568.04 L1298.87 1568.04 L1298.87 1546.72 Q1298.87 1541.59 1297.05 1539.11 Q1295.24 1536.63 1291.51 1536.63 Q1286.96 1536.63 1284.32 1539.65 Q1281.68 1542.68 1281.68 1547.9 L1281.68 1568.04 L1275.79 1568.04 L1275.79 1546.72 Q1275.79 1541.56 1273.98 1539.11 Q1272.16 1536.63 1268.37 1536.63 Q1263.89 1536.63 1261.24 1539.68 Q1258.6 1542.71 1258.6 1547.9 L1258.6 1568.04 L1252.71 1568.04 L1252.71 1532.4 L1258.6 1532.4 L1258.6 1537.93 Q1260.61 1534.66 1263.41 1533.1 Q1266.21 1531.54 1270.06 1531.54 Q1273.94 1531.54 1276.65 1533.51 Q1279.39 1535.48 1280.69 1539.24 Z\" fill=\"#000000\" fill-rule=\"nonzero\" fill-opacity=\"1\" /><path clip-path=\"url(#clip420)\" d=\"M1346.93 1548.76 L1346.93 1551.62 L1320 1551.62 Q1320.38 1557.67 1323.63 1560.85 Q1326.91 1564 1332.73 1564 Q1336.11 1564 1339.26 1563.17 Q1342.44 1562.35 1345.56 1560.69 L1345.56 1566.23 Q1342.41 1567.57 1339.1 1568.27 Q1335.79 1568.97 1332.38 1568.97 Q1323.85 1568.97 1318.85 1564 Q1313.89 1559.04 1313.89 1550.57 Q1313.89 1541.82 1318.6 1536.69 Q1323.34 1531.54 1331.36 1531.54 Q1338.56 1531.54 1342.73 1536.18 Q1346.93 1540.8 1346.93 1548.76 M1341.07 1547.04 Q1341.01 1542.23 1338.37 1539.37 Q1335.76 1536.5 1331.43 1536.5 Q1326.52 1536.5 1323.56 1539.27 Q1320.64 1542.04 1320.19 1547.07 L1341.07 1547.04 Z\" fill=\"#000000\" fill-rule=\"nonzero\" fill-opacity=\"1\" /><path clip-path=\"url(#clip420)\" d=\"M1391.33 1518.58 Q1387.06 1525.9 1384.99 1533.06 Q1382.93 1540.23 1382.93 1547.58 Q1382.93 1554.93 1384.99 1562.16 Q1387.09 1569.35 1391.33 1576.64 L1386.24 1576.64 Q1381.46 1569.16 1379.07 1561.93 Q1376.72 1554.71 1376.72 1547.58 Q1376.72 1540.48 1379.07 1533.29 Q1381.43 1526.09 1386.24 1518.58 L1391.33 1518.58 Z\" fill=\"#000000\" fill-rule=\"nonzero\" fill-opacity=\"1\" /><path clip-path=\"url(#clip420)\" d=\"M1425.42 1533.45 L1425.42 1538.98 Q1422.93 1537.71 1420.26 1537.07 Q1417.59 1536.44 1414.72 1536.44 Q1410.36 1536.44 1408.17 1537.77 Q1406 1539.11 1406 1541.79 Q1406 1543.82 1407.56 1545 Q1409.12 1546.15 1413.83 1547.2 L1415.84 1547.64 Q1422.07 1548.98 1424.68 1551.43 Q1427.33 1553.85 1427.33 1558.21 Q1427.33 1563.17 1423.38 1566.07 Q1419.46 1568.97 1412.59 1568.97 Q1409.72 1568.97 1406.61 1568.39 Q1403.52 1567.85 1400.08 1566.74 L1400.08 1560.69 Q1403.33 1562.38 1406.48 1563.24 Q1409.63 1564.07 1412.72 1564.07 Q1416.85 1564.07 1419.08 1562.66 Q1421.31 1561.23 1421.31 1558.65 Q1421.31 1556.27 1419.69 1554.99 Q1418.1 1553.72 1412.65 1552.54 L1410.62 1552.07 Q1405.17 1550.92 1402.75 1548.56 Q1400.34 1546.18 1400.34 1542.04 Q1400.34 1537.01 1403.9 1534.27 Q1407.46 1531.54 1414.02 1531.54 Q1417.27 1531.54 1420.13 1532.01 Q1423 1532.49 1425.42 1533.45 Z\" fill=\"#000000\" fill-rule=\"nonzero\" fill-opacity=\"1\" /><path clip-path=\"url(#clip420)\" d=\"M1435.73 1518.58 L1440.82 1518.58 Q1445.6 1526.09 1447.95 1533.29 Q1450.34 1540.48 1450.34 1547.58 Q1450.34 1554.71 1447.95 1561.93 Q1445.6 1569.16 1440.82 1576.64 L1435.73 1576.64 Q1439.96 1569.35 1442.03 1562.16 Q1444.13 1554.93 1444.13 1547.58 Q1444.13 1540.23 1442.03 1533.06 Q1439.96 1525.9 1435.73 1518.58 Z\" fill=\"#000000\" fill-rule=\"nonzero\" fill-opacity=\"1\" /><polyline clip-path=\"url(#clip422)\" style=\"stroke:#000000; stroke-linecap:round; stroke-linejoin:round; stroke-width:2; stroke-opacity:0.1; fill:none\" points=\"302.458,1289.47 2352.76,1289.47 \"/>\n",
       "<polyline clip-path=\"url(#clip422)\" style=\"stroke:#000000; stroke-linecap:round; stroke-linejoin:round; stroke-width:2; stroke-opacity:0.1; fill:none\" points=\"302.458,1061.97 2352.76,1061.97 \"/>\n",
       "<polyline clip-path=\"url(#clip422)\" style=\"stroke:#000000; stroke-linecap:round; stroke-linejoin:round; stroke-width:2; stroke-opacity:0.1; fill:none\" points=\"302.458,834.471 2352.76,834.471 \"/>\n",
       "<polyline clip-path=\"url(#clip422)\" style=\"stroke:#000000; stroke-linecap:round; stroke-linejoin:round; stroke-width:2; stroke-opacity:0.1; fill:none\" points=\"302.458,606.971 2352.76,606.971 \"/>\n",
       "<polyline clip-path=\"url(#clip422)\" style=\"stroke:#000000; stroke-linecap:round; stroke-linejoin:round; stroke-width:2; stroke-opacity:0.1; fill:none\" points=\"302.458,379.47 2352.76,379.47 \"/>\n",
       "<polyline clip-path=\"url(#clip422)\" style=\"stroke:#000000; stroke-linecap:round; stroke-linejoin:round; stroke-width:2; stroke-opacity:0.1; fill:none\" points=\"302.458,151.969 2352.76,151.969 \"/>\n",
       "<polyline clip-path=\"url(#clip420)\" style=\"stroke:#000000; stroke-linecap:round; stroke-linejoin:round; stroke-width:4; stroke-opacity:1; fill:none\" points=\"302.458,1423.18 302.458,123.472 \"/>\n",
       "<polyline clip-path=\"url(#clip420)\" style=\"stroke:#000000; stroke-linecap:round; stroke-linejoin:round; stroke-width:4; stroke-opacity:1; fill:none\" points=\"302.458,1289.47 321.356,1289.47 \"/>\n",
       "<polyline clip-path=\"url(#clip420)\" style=\"stroke:#000000; stroke-linecap:round; stroke-linejoin:round; stroke-width:4; stroke-opacity:1; fill:none\" points=\"302.458,1061.97 321.356,1061.97 \"/>\n",
       "<polyline clip-path=\"url(#clip420)\" style=\"stroke:#000000; stroke-linecap:round; stroke-linejoin:round; stroke-width:4; stroke-opacity:1; fill:none\" points=\"302.458,834.471 321.356,834.471 \"/>\n",
       "<polyline clip-path=\"url(#clip420)\" style=\"stroke:#000000; stroke-linecap:round; stroke-linejoin:round; stroke-width:4; stroke-opacity:1; fill:none\" points=\"302.458,606.971 321.356,606.971 \"/>\n",
       "<polyline clip-path=\"url(#clip420)\" style=\"stroke:#000000; stroke-linecap:round; stroke-linejoin:round; stroke-width:4; stroke-opacity:1; fill:none\" points=\"302.458,379.47 321.356,379.47 \"/>\n",
       "<polyline clip-path=\"url(#clip420)\" style=\"stroke:#000000; stroke-linecap:round; stroke-linejoin:round; stroke-width:4; stroke-opacity:1; fill:none\" points=\"302.458,151.969 321.356,151.969 \"/>\n",
       "<path clip-path=\"url(#clip420)\" d=\"M114.26 1289.92 L143.936 1289.92 L143.936 1293.86 L114.26 1293.86 L114.26 1289.92 Z\" fill=\"#000000\" fill-rule=\"nonzero\" fill-opacity=\"1\" /><path clip-path=\"url(#clip420)\" d=\"M158.056 1302.82 L174.376 1302.82 L174.376 1306.75 L152.431 1306.75 L152.431 1302.82 Q155.093 1300.06 159.677 1295.43 Q164.283 1290.78 165.464 1289.44 Q167.709 1286.91 168.589 1285.18 Q169.491 1283.42 169.491 1281.73 Q169.491 1278.97 167.547 1277.24 Q165.626 1275.5 162.524 1275.5 Q160.325 1275.5 157.871 1276.27 Q155.44 1277.03 152.663 1278.58 L152.663 1273.86 Q155.487 1272.72 157.94 1272.15 Q160.394 1271.57 162.431 1271.57 Q167.802 1271.57 170.996 1274.25 Q174.19 1276.94 174.19 1281.43 Q174.19 1283.56 173.38 1285.48 Q172.593 1287.38 170.487 1289.97 Q169.908 1290.64 166.806 1293.86 Q163.704 1297.05 158.056 1302.82 Z\" fill=\"#000000\" fill-rule=\"nonzero\" fill-opacity=\"1\" /><path clip-path=\"url(#clip420)\" d=\"M194.19 1275.27 Q190.579 1275.27 188.75 1278.84 Q186.945 1282.38 186.945 1289.51 Q186.945 1296.61 188.75 1300.18 Q190.579 1303.72 194.19 1303.72 Q197.825 1303.72 199.63 1300.18 Q201.459 1296.61 201.459 1289.51 Q201.459 1282.38 199.63 1278.84 Q197.825 1275.27 194.19 1275.27 M194.19 1271.57 Q200 1271.57 203.056 1276.17 Q206.135 1280.76 206.135 1289.51 Q206.135 1298.23 203.056 1302.84 Q200 1307.42 194.19 1307.42 Q188.38 1307.42 185.301 1302.84 Q182.246 1298.23 182.246 1289.51 Q182.246 1280.76 185.301 1276.17 Q188.38 1271.57 194.19 1271.57 Z\" fill=\"#000000\" fill-rule=\"nonzero\" fill-opacity=\"1\" /><path clip-path=\"url(#clip420)\" d=\"M224.352 1275.27 Q220.741 1275.27 218.912 1278.84 Q217.107 1282.38 217.107 1289.51 Q217.107 1296.61 218.912 1300.18 Q220.741 1303.72 224.352 1303.72 Q227.986 1303.72 229.792 1300.18 Q231.621 1296.61 231.621 1289.51 Q231.621 1282.38 229.792 1278.84 Q227.986 1275.27 224.352 1275.27 M224.352 1271.57 Q230.162 1271.57 233.218 1276.17 Q236.297 1280.76 236.297 1289.51 Q236.297 1298.23 233.218 1302.84 Q230.162 1307.42 224.352 1307.42 Q218.542 1307.42 215.463 1302.84 Q212.408 1298.23 212.408 1289.51 Q212.408 1280.76 215.463 1276.17 Q218.542 1271.57 224.352 1271.57 Z\" fill=\"#000000\" fill-rule=\"nonzero\" fill-opacity=\"1\" /><path clip-path=\"url(#clip420)\" d=\"M254.514 1275.27 Q250.903 1275.27 249.074 1278.84 Q247.269 1282.38 247.269 1289.51 Q247.269 1296.61 249.074 1300.18 Q250.903 1303.72 254.514 1303.72 Q258.148 1303.72 259.954 1300.18 Q261.783 1296.61 261.783 1289.51 Q261.783 1282.38 259.954 1278.84 Q258.148 1275.27 254.514 1275.27 M254.514 1271.57 Q260.324 1271.57 263.38 1276.17 Q266.458 1280.76 266.458 1289.51 Q266.458 1298.23 263.38 1302.84 Q260.324 1307.42 254.514 1307.42 Q248.704 1307.42 245.625 1302.84 Q242.57 1298.23 242.57 1289.51 Q242.57 1280.76 245.625 1276.17 Q248.704 1271.57 254.514 1271.57 Z\" fill=\"#000000\" fill-rule=\"nonzero\" fill-opacity=\"1\" /><path clip-path=\"url(#clip420)\" d=\"M114.26 1062.42 L143.936 1062.42 L143.936 1066.36 L114.26 1066.36 L114.26 1062.42 Z\" fill=\"#000000\" fill-rule=\"nonzero\" fill-opacity=\"1\" /><path clip-path=\"url(#clip420)\" d=\"M154.839 1075.32 L162.477 1075.32 L162.477 1048.95 L154.167 1050.62 L154.167 1046.36 L162.431 1044.69 L167.107 1044.69 L167.107 1075.32 L174.746 1075.32 L174.746 1079.25 L154.839 1079.25 L154.839 1075.32 Z\" fill=\"#000000\" fill-rule=\"nonzero\" fill-opacity=\"1\" /><path clip-path=\"url(#clip420)\" d=\"M184.237 1044.69 L202.593 1044.69 L202.593 1048.63 L188.519 1048.63 L188.519 1057.1 Q189.538 1056.75 190.556 1056.59 Q191.575 1056.4 192.593 1056.4 Q198.38 1056.4 201.76 1059.58 Q205.139 1062.75 205.139 1068.16 Q205.139 1073.74 201.667 1076.84 Q198.195 1079.92 191.875 1079.92 Q189.7 1079.92 187.431 1079.55 Q185.186 1079.18 182.778 1078.44 L182.778 1073.74 Q184.862 1074.88 187.084 1075.43 Q189.306 1075.99 191.783 1075.99 Q195.787 1075.99 198.125 1073.88 Q200.463 1071.77 200.463 1068.16 Q200.463 1064.55 198.125 1062.45 Q195.787 1060.34 191.783 1060.34 Q189.908 1060.34 188.033 1060.76 Q186.181 1061.17 184.237 1062.05 L184.237 1044.69 Z\" fill=\"#000000\" fill-rule=\"nonzero\" fill-opacity=\"1\" /><path clip-path=\"url(#clip420)\" d=\"M224.352 1047.77 Q220.741 1047.77 218.912 1051.34 Q217.107 1054.88 217.107 1062.01 Q217.107 1069.11 218.912 1072.68 Q220.741 1076.22 224.352 1076.22 Q227.986 1076.22 229.792 1072.68 Q231.621 1069.11 231.621 1062.01 Q231.621 1054.88 229.792 1051.34 Q227.986 1047.77 224.352 1047.77 M224.352 1044.07 Q230.162 1044.07 233.218 1048.67 Q236.297 1053.26 236.297 1062.01 Q236.297 1070.73 233.218 1075.34 Q230.162 1079.92 224.352 1079.92 Q218.542 1079.92 215.463 1075.34 Q212.408 1070.73 212.408 1062.01 Q212.408 1053.26 215.463 1048.67 Q218.542 1044.07 224.352 1044.07 Z\" fill=\"#000000\" fill-rule=\"nonzero\" fill-opacity=\"1\" /><path clip-path=\"url(#clip420)\" d=\"M254.514 1047.77 Q250.903 1047.77 249.074 1051.34 Q247.269 1054.88 247.269 1062.01 Q247.269 1069.11 249.074 1072.68 Q250.903 1076.22 254.514 1076.22 Q258.148 1076.22 259.954 1072.68 Q261.783 1069.11 261.783 1062.01 Q261.783 1054.88 259.954 1051.34 Q258.148 1047.77 254.514 1047.77 M254.514 1044.07 Q260.324 1044.07 263.38 1048.67 Q266.458 1053.26 266.458 1062.01 Q266.458 1070.73 263.38 1075.34 Q260.324 1079.92 254.514 1079.92 Q248.704 1079.92 245.625 1075.34 Q242.57 1070.73 242.57 1062.01 Q242.57 1053.26 245.625 1048.67 Q248.704 1044.07 254.514 1044.07 Z\" fill=\"#000000\" fill-rule=\"nonzero\" fill-opacity=\"1\" /><path clip-path=\"url(#clip420)\" d=\"M114.26 834.922 L143.936 834.922 L143.936 838.858 L114.26 838.858 L114.26 834.922 Z\" fill=\"#000000\" fill-rule=\"nonzero\" fill-opacity=\"1\" /><path clip-path=\"url(#clip420)\" d=\"M154.839 847.816 L162.477 847.816 L162.477 821.45 L154.167 823.117 L154.167 818.858 L162.431 817.191 L167.107 817.191 L167.107 847.816 L174.746 847.816 L174.746 851.751 L154.839 851.751 L154.839 847.816 Z\" fill=\"#000000\" fill-rule=\"nonzero\" fill-opacity=\"1\" /><path clip-path=\"url(#clip420)\" d=\"M194.19 820.27 Q190.579 820.27 188.75 823.835 Q186.945 827.376 186.945 834.506 Q186.945 841.612 188.75 845.177 Q190.579 848.719 194.19 848.719 Q197.825 848.719 199.63 845.177 Q201.459 841.612 201.459 834.506 Q201.459 827.376 199.63 823.835 Q197.825 820.27 194.19 820.27 M194.19 816.566 Q200 816.566 203.056 821.173 Q206.135 825.756 206.135 834.506 Q206.135 843.233 203.056 847.839 Q200 852.422 194.19 852.422 Q188.38 852.422 185.301 847.839 Q182.246 843.233 182.246 834.506 Q182.246 825.756 185.301 821.173 Q188.38 816.566 194.19 816.566 Z\" fill=\"#000000\" fill-rule=\"nonzero\" fill-opacity=\"1\" /><path clip-path=\"url(#clip420)\" d=\"M224.352 820.27 Q220.741 820.27 218.912 823.835 Q217.107 827.376 217.107 834.506 Q217.107 841.612 218.912 845.177 Q220.741 848.719 224.352 848.719 Q227.986 848.719 229.792 845.177 Q231.621 841.612 231.621 834.506 Q231.621 827.376 229.792 823.835 Q227.986 820.27 224.352 820.27 M224.352 816.566 Q230.162 816.566 233.218 821.173 Q236.297 825.756 236.297 834.506 Q236.297 843.233 233.218 847.839 Q230.162 852.422 224.352 852.422 Q218.542 852.422 215.463 847.839 Q212.408 843.233 212.408 834.506 Q212.408 825.756 215.463 821.173 Q218.542 816.566 224.352 816.566 Z\" fill=\"#000000\" fill-rule=\"nonzero\" fill-opacity=\"1\" /><path clip-path=\"url(#clip420)\" d=\"M254.514 820.27 Q250.903 820.27 249.074 823.835 Q247.269 827.376 247.269 834.506 Q247.269 841.612 249.074 845.177 Q250.903 848.719 254.514 848.719 Q258.148 848.719 259.954 845.177 Q261.783 841.612 261.783 834.506 Q261.783 827.376 259.954 823.835 Q258.148 820.27 254.514 820.27 M254.514 816.566 Q260.324 816.566 263.38 821.173 Q266.458 825.756 266.458 834.506 Q266.458 843.233 263.38 847.839 Q260.324 852.422 254.514 852.422 Q248.704 852.422 245.625 847.839 Q242.57 843.233 242.57 834.506 Q242.57 825.756 245.625 821.173 Q248.704 816.566 254.514 816.566 Z\" fill=\"#000000\" fill-rule=\"nonzero\" fill-opacity=\"1\" /><path clip-path=\"url(#clip420)\" d=\"M144.422 607.422 L174.098 607.422 L174.098 611.357 L144.422 611.357 L144.422 607.422 Z\" fill=\"#000000\" fill-rule=\"nonzero\" fill-opacity=\"1\" /><path clip-path=\"url(#clip420)\" d=\"M184.237 589.691 L202.593 589.691 L202.593 593.626 L188.519 593.626 L188.519 602.098 Q189.538 601.751 190.556 601.589 Q191.575 601.403 192.593 601.403 Q198.38 601.403 201.76 604.575 Q205.139 607.746 205.139 613.163 Q205.139 618.741 201.667 621.843 Q198.195 624.922 191.875 624.922 Q189.7 624.922 187.431 624.551 Q185.186 624.181 182.778 623.44 L182.778 618.741 Q184.862 619.876 187.084 620.431 Q189.306 620.987 191.783 620.987 Q195.787 620.987 198.125 618.88 Q200.463 616.774 200.463 613.163 Q200.463 609.552 198.125 607.445 Q195.787 605.339 191.783 605.339 Q189.908 605.339 188.033 605.755 Q186.181 606.172 184.237 607.052 L184.237 589.691 Z\" fill=\"#000000\" fill-rule=\"nonzero\" fill-opacity=\"1\" /><path clip-path=\"url(#clip420)\" d=\"M224.352 592.769 Q220.741 592.769 218.912 596.334 Q217.107 599.876 217.107 607.005 Q217.107 614.112 218.912 617.676 Q220.741 621.218 224.352 621.218 Q227.986 621.218 229.792 617.676 Q231.621 614.112 231.621 607.005 Q231.621 599.876 229.792 596.334 Q227.986 592.769 224.352 592.769 M224.352 589.066 Q230.162 589.066 233.218 593.672 Q236.297 598.255 236.297 607.005 Q236.297 615.732 233.218 620.338 Q230.162 624.922 224.352 624.922 Q218.542 624.922 215.463 620.338 Q212.408 615.732 212.408 607.005 Q212.408 598.255 215.463 593.672 Q218.542 589.066 224.352 589.066 Z\" fill=\"#000000\" fill-rule=\"nonzero\" fill-opacity=\"1\" /><path clip-path=\"url(#clip420)\" d=\"M254.514 592.769 Q250.903 592.769 249.074 596.334 Q247.269 599.876 247.269 607.005 Q247.269 614.112 249.074 617.676 Q250.903 621.218 254.514 621.218 Q258.148 621.218 259.954 617.676 Q261.783 614.112 261.783 607.005 Q261.783 599.876 259.954 596.334 Q258.148 592.769 254.514 592.769 M254.514 589.066 Q260.324 589.066 263.38 593.672 Q266.458 598.255 266.458 607.005 Q266.458 615.732 263.38 620.338 Q260.324 624.922 254.514 624.922 Q248.704 624.922 245.625 620.338 Q242.57 615.732 242.57 607.005 Q242.57 598.255 245.625 593.672 Q248.704 589.066 254.514 589.066 Z\" fill=\"#000000\" fill-rule=\"nonzero\" fill-opacity=\"1\" /><path clip-path=\"url(#clip420)\" d=\"M254.514 365.269 Q250.903 365.269 249.074 368.833 Q247.269 372.375 247.269 379.505 Q247.269 386.611 249.074 390.176 Q250.903 393.718 254.514 393.718 Q258.148 393.718 259.954 390.176 Q261.783 386.611 261.783 379.505 Q261.783 372.375 259.954 368.833 Q258.148 365.269 254.514 365.269 M254.514 361.565 Q260.324 361.565 263.38 366.171 Q266.458 370.755 266.458 379.505 Q266.458 388.231 263.38 392.838 Q260.324 397.421 254.514 397.421 Q248.704 397.421 245.625 392.838 Q242.57 388.231 242.57 379.505 Q242.57 370.755 245.625 366.171 Q248.704 361.565 254.514 361.565 Z\" fill=\"#000000\" fill-rule=\"nonzero\" fill-opacity=\"1\" /><path clip-path=\"url(#clip420)\" d=\"M184.237 134.689 L202.593 134.689 L202.593 138.625 L188.519 138.625 L188.519 147.097 Q189.538 146.75 190.556 146.588 Q191.575 146.402 192.593 146.402 Q198.38 146.402 201.76 149.574 Q205.139 152.745 205.139 158.162 Q205.139 163.74 201.667 166.842 Q198.195 169.921 191.875 169.921 Q189.7 169.921 187.431 169.55 Q185.186 169.18 182.778 168.439 L182.778 163.74 Q184.862 164.874 187.084 165.43 Q189.306 165.986 191.783 165.986 Q195.787 165.986 198.125 163.879 Q200.463 161.773 200.463 158.162 Q200.463 154.55 198.125 152.444 Q195.787 150.337 191.783 150.337 Q189.908 150.337 188.033 150.754 Q186.181 151.171 184.237 152.05 L184.237 134.689 Z\" fill=\"#000000\" fill-rule=\"nonzero\" fill-opacity=\"1\" /><path clip-path=\"url(#clip420)\" d=\"M224.352 137.768 Q220.741 137.768 218.912 141.333 Q217.107 144.875 217.107 152.004 Q217.107 159.111 218.912 162.675 Q220.741 166.217 224.352 166.217 Q227.986 166.217 229.792 162.675 Q231.621 159.111 231.621 152.004 Q231.621 144.875 229.792 141.333 Q227.986 137.768 224.352 137.768 M224.352 134.064 Q230.162 134.064 233.218 138.671 Q236.297 143.254 236.297 152.004 Q236.297 160.731 233.218 165.337 Q230.162 169.921 224.352 169.921 Q218.542 169.921 215.463 165.337 Q212.408 160.731 212.408 152.004 Q212.408 143.254 215.463 138.671 Q218.542 134.064 224.352 134.064 Z\" fill=\"#000000\" fill-rule=\"nonzero\" fill-opacity=\"1\" /><path clip-path=\"url(#clip420)\" d=\"M254.514 137.768 Q250.903 137.768 249.074 141.333 Q247.269 144.875 247.269 152.004 Q247.269 159.111 249.074 162.675 Q250.903 166.217 254.514 166.217 Q258.148 166.217 259.954 162.675 Q261.783 159.111 261.783 152.004 Q261.783 144.875 259.954 141.333 Q258.148 137.768 254.514 137.768 M254.514 134.064 Q260.324 134.064 263.38 138.671 Q266.458 143.254 266.458 152.004 Q266.458 160.731 263.38 165.337 Q260.324 169.921 254.514 169.921 Q248.704 169.921 245.625 165.337 Q242.57 160.731 242.57 152.004 Q242.57 143.254 245.625 138.671 Q248.704 134.064 254.514 134.064 Z\" fill=\"#000000\" fill-rule=\"nonzero\" fill-opacity=\"1\" /><path clip-path=\"url(#clip420)\" d=\"M58.657 958.313 L77.5631 958.313 L77.5631 964.202 L28.3562 964.202 L28.3562 958.313 L33.7671 958.313 Q30.5842 956.467 29.0564 953.666 Q27.4968 950.834 27.4968 946.919 Q27.4968 940.426 32.6531 936.384 Q37.8093 932.31 46.212 932.31 Q54.6147 932.31 59.771 936.384 Q64.9272 940.426 64.9272 946.919 Q64.9272 950.834 63.3994 953.666 Q61.8398 956.467 58.657 958.313 M46.212 938.389 Q39.7508 938.389 36.0905 941.062 Q32.3984 943.704 32.3984 948.351 Q32.3984 952.998 36.0905 955.672 Q39.7508 958.313 46.212 958.313 Q52.6732 958.313 56.3653 955.672 Q60.0256 952.998 60.0256 948.351 Q60.0256 943.704 56.3653 941.062 Q52.6732 938.389 46.212 938.389 Z\" fill=\"#000000\" fill-rule=\"nonzero\" fill-opacity=\"1\" /><path clip-path=\"url(#clip420)\" d=\"M32.4621 908.788 Q32.4621 913.499 36.1542 916.236 Q39.8145 918.973 46.212 918.973 Q52.6095 918.973 56.3017 916.268 Q59.9619 913.531 59.9619 908.788 Q59.9619 904.109 56.2698 901.372 Q52.5777 898.635 46.212 898.635 Q39.8781 898.635 36.186 901.372 Q32.4621 904.109 32.4621 908.788 M27.4968 908.788 Q27.4968 901.149 32.4621 896.789 Q37.4273 892.428 46.212 892.428 Q54.9649 892.428 59.9619 896.789 Q64.9272 901.149 64.9272 908.788 Q64.9272 916.459 59.9619 920.819 Q54.9649 925.148 46.212 925.148 Q37.4273 925.148 32.4621 920.819 Q27.4968 916.459 27.4968 908.788 Z\" fill=\"#000000\" fill-rule=\"nonzero\" fill-opacity=\"1\" /><path clip-path=\"url(#clip420)\" d=\"M29.4065 859.995 L34.9447 859.995 Q33.6716 862.478 33.035 865.151 Q32.3984 867.825 32.3984 870.689 Q32.3984 875.05 33.7352 877.246 Q35.072 879.41 37.7456 879.41 Q39.7826 879.41 40.9603 877.851 Q42.1061 876.291 43.1565 871.581 L43.6021 869.575 Q44.9389 863.337 47.3897 860.727 Q49.8086 858.085 54.1691 858.085 Q59.1344 858.085 62.0308 862.032 Q64.9272 865.947 64.9272 872.822 Q64.9272 875.687 64.3543 878.806 Q63.8132 881.893 62.6992 885.331 L56.6518 885.331 Q58.3387 882.084 59.198 878.933 Q60.0256 875.782 60.0256 872.695 Q60.0256 868.557 58.6251 866.329 Q57.1929 864.101 54.6147 864.101 Q52.2276 864.101 50.9545 865.724 Q49.6813 867.316 48.5037 872.758 L48.0262 874.795 Q46.8804 880.238 44.5251 882.657 Q42.138 885.076 38.0002 885.076 Q32.9713 885.076 30.2341 881.511 Q27.4968 877.946 27.4968 871.39 Q27.4968 868.143 27.9743 865.279 Q28.4517 862.414 29.4065 859.995 Z\" fill=\"#000000\" fill-rule=\"nonzero\" fill-opacity=\"1\" /><path clip-path=\"url(#clip420)\" d=\"M28.3562 848.76 L28.3562 842.903 L64.0042 842.903 L64.0042 848.76 L28.3562 848.76 M14.479 848.76 L14.479 842.903 L21.895 842.903 L21.895 848.76 L14.479 848.76 Z\" fill=\"#000000\" fill-rule=\"nonzero\" fill-opacity=\"1\" /><path clip-path=\"url(#clip420)\" d=\"M18.2347 824.856 L28.3562 824.856 L28.3562 812.793 L32.9077 812.793 L32.9077 824.856 L52.2594 824.856 Q56.6199 824.856 57.8613 823.679 Q59.1026 822.469 59.1026 818.809 L59.1026 812.793 L64.0042 812.793 L64.0042 818.809 Q64.0042 825.588 61.4897 828.167 Q58.9434 830.745 52.2594 830.745 L32.9077 830.745 L32.9077 835.042 L28.3562 835.042 L28.3562 830.745 L18.2347 830.745 L18.2347 824.856 Z\" fill=\"#000000\" fill-rule=\"nonzero\" fill-opacity=\"1\" /><path clip-path=\"url(#clip420)\" d=\"M28.3562 805.091 L28.3562 799.234 L64.0042 799.234 L64.0042 805.091 L28.3562 805.091 M14.479 805.091 L14.479 799.234 L21.895 799.234 L21.895 805.091 L14.479 805.091 Z\" fill=\"#000000\" fill-rule=\"nonzero\" fill-opacity=\"1\" /><path clip-path=\"url(#clip420)\" d=\"M32.4621 773.167 Q32.4621 777.877 36.1542 780.615 Q39.8145 783.352 46.212 783.352 Q52.6095 783.352 56.3017 780.647 Q59.9619 777.909 59.9619 773.167 Q59.9619 768.488 56.2698 765.751 Q52.5777 763.014 46.212 763.014 Q39.8781 763.014 36.186 765.751 Q32.4621 768.488 32.4621 773.167 M27.4968 773.167 Q27.4968 765.528 32.4621 761.167 Q37.4273 756.807 46.212 756.807 Q54.9649 756.807 59.9619 761.167 Q64.9272 765.528 64.9272 773.167 Q64.9272 780.838 59.9619 785.198 Q54.9649 789.527 46.212 789.527 Q37.4273 789.527 32.4621 785.198 Q27.4968 780.838 27.4968 773.167 Z\" fill=\"#000000\" fill-rule=\"nonzero\" fill-opacity=\"1\" /><path clip-path=\"url(#clip420)\" d=\"M42.4881 717.467 L64.0042 717.467 L64.0042 723.323 L42.679 723.323 Q37.6183 723.323 35.1038 725.297 Q32.5894 727.27 32.5894 731.217 Q32.5894 735.959 35.6131 738.697 Q38.6368 741.434 43.8567 741.434 L64.0042 741.434 L64.0042 747.322 L28.3562 747.322 L28.3562 741.434 L33.8944 741.434 Q30.6797 739.333 29.0883 736.5 Q27.4968 733.636 27.4968 729.912 Q27.4968 723.769 31.3163 720.618 Q35.1038 717.467 42.4881 717.467 Z\" fill=\"#000000\" fill-rule=\"nonzero\" fill-opacity=\"1\" /><path clip-path=\"url(#clip420)\" d=\"M14.5426 670.997 Q21.8632 675.262 29.0246 677.331 Q36.186 679.4 43.5384 679.4 Q50.8908 679.4 58.1159 677.331 Q65.3091 675.23 72.5979 670.997 L72.5979 676.09 Q65.1182 680.864 57.8931 683.251 Q50.668 685.607 43.5384 685.607 Q36.4406 685.607 29.2474 683.251 Q22.0542 680.896 14.5426 676.09 L14.5426 670.997 Z\" fill=\"#000000\" fill-rule=\"nonzero\" fill-opacity=\"1\" /><path clip-path=\"url(#clip420)\" d=\"M35.1993 631.88 Q31.2526 629.684 29.3747 626.628 Q27.4968 623.573 27.4968 619.435 Q27.4968 613.865 31.4117 610.841 Q35.2948 607.818 42.4881 607.818 L64.0042 607.818 L64.0042 613.706 L42.679 613.706 Q37.5546 613.706 35.072 615.52 Q32.5894 617.334 32.5894 621.058 Q32.5894 625.61 35.6131 628.252 Q38.6368 630.893 43.8567 630.893 L64.0042 630.893 L64.0042 636.782 L42.679 636.782 Q37.5228 636.782 35.072 638.596 Q32.5894 640.41 32.5894 644.198 Q32.5894 648.685 35.6449 651.327 Q38.6686 653.969 43.8567 653.969 L64.0042 653.969 L64.0042 659.857 L28.3562 659.857 L28.3562 653.969 L33.8944 653.969 Q30.616 651.964 29.0564 649.163 Q27.4968 646.362 27.4968 642.511 Q27.4968 638.628 29.4702 635.922 Q31.4436 633.185 35.1993 631.88 Z\" fill=\"#000000\" fill-rule=\"nonzero\" fill-opacity=\"1\" /><path clip-path=\"url(#clip420)\" d=\"M14.5426 597.06 L14.5426 591.967 Q22.0542 587.193 29.2474 584.837 Q36.4406 582.45 43.5384 582.45 Q50.668 582.45 57.8931 584.837 Q65.1182 587.193 72.5979 591.967 L72.5979 597.06 Q65.3091 592.826 58.1159 590.758 Q50.8908 588.657 43.5384 588.657 Q36.186 588.657 29.0246 590.758 Q21.8632 592.826 14.5426 597.06 Z\" fill=\"#000000\" fill-rule=\"nonzero\" fill-opacity=\"1\" /><path clip-path=\"url(#clip420)\" d=\"M1158.77 18.8205 L1158.77 41.5461 L1169.05 41.5461 Q1174.77 41.5461 1177.89 38.5889 Q1181 35.6318 1181 30.163 Q1181 24.7348 1177.89 21.7777 Q1174.77 18.8205 1169.05 18.8205 L1158.77 18.8205 M1150.58 12.096 L1169.05 12.096 Q1179.22 12.096 1184.41 16.714 Q1189.63 21.2916 1189.63 30.163 Q1189.63 39.1155 1184.41 43.6931 Q1179.22 48.2706 1169.05 48.2706 L1158.77 48.2706 L1158.77 72.576 L1150.58 72.576 L1150.58 12.096 Z\" fill=\"#000000\" fill-rule=\"nonzero\" fill-opacity=\"1\" /><path clip-path=\"url(#clip420)\" d=\"M1214.91 32.4315 Q1208.92 32.4315 1205.43 37.1306 Q1201.95 41.7891 1201.95 49.9314 Q1201.95 58.0738 1205.39 62.7728 Q1208.88 67.4314 1214.91 67.4314 Q1220.87 67.4314 1224.35 62.7323 Q1227.83 58.0333 1227.83 49.9314 Q1227.83 41.8701 1224.35 37.1711 Q1220.87 32.4315 1214.91 32.4315 M1214.91 26.1121 Q1224.63 26.1121 1230.18 32.4315 Q1235.73 38.7509 1235.73 49.9314 Q1235.73 61.0714 1230.18 67.4314 Q1224.63 73.7508 1214.91 73.7508 Q1205.15 73.7508 1199.6 67.4314 Q1194.09 61.0714 1194.09 49.9314 Q1194.09 38.7509 1199.6 32.4315 Q1205.15 26.1121 1214.91 26.1121 Z\" fill=\"#000000\" fill-rule=\"nonzero\" fill-opacity=\"1\" /><path clip-path=\"url(#clip420)\" d=\"M1277.01 28.5427 L1277.01 35.5912 Q1273.85 33.9709 1270.45 33.1607 Q1267.05 32.3505 1263.4 32.3505 Q1257.85 32.3505 1255.06 34.0519 Q1252.3 35.7533 1252.3 39.156 Q1252.3 41.7486 1254.29 43.2475 Q1256.27 44.7058 1262.27 46.0426 L1264.82 46.6097 Q1272.76 48.3111 1276.08 51.4303 Q1279.44 54.509 1279.44 60.0587 Q1279.44 66.3781 1274.42 70.0644 Q1269.44 73.7508 1260.69 73.7508 Q1257.04 73.7508 1253.07 73.0216 Q1249.14 72.3329 1244.77 70.9151 L1244.77 63.2184 Q1248.9 65.3654 1252.91 66.4591 Q1256.92 67.5124 1260.85 67.5124 Q1266.11 67.5124 1268.95 65.73 Q1271.79 63.9071 1271.79 60.6258 Q1271.79 57.5877 1269.72 55.9673 Q1267.69 54.3469 1260.77 52.8481 L1258.17 52.2405 Q1251.25 50.7821 1248.17 47.7845 Q1245.09 44.7463 1245.09 39.4801 Q1245.09 33.0797 1249.63 29.5959 Q1254.16 26.1121 1262.51 26.1121 Q1266.64 26.1121 1270.29 26.7198 Q1273.93 27.3274 1277.01 28.5427 Z\" fill=\"#000000\" fill-rule=\"nonzero\" fill-opacity=\"1\" /><path clip-path=\"url(#clip420)\" d=\"M1291.31 27.2059 L1298.76 27.2059 L1298.76 72.576 L1291.31 72.576 L1291.31 27.2059 M1291.31 9.54393 L1298.76 9.54393 L1298.76 18.9825 L1291.31 18.9825 L1291.31 9.54393 Z\" fill=\"#000000\" fill-rule=\"nonzero\" fill-opacity=\"1\" /><path clip-path=\"url(#clip420)\" d=\"M1321.73 14.324 L1321.73 27.2059 L1337.09 27.2059 L1337.09 32.9987 L1321.73 32.9987 L1321.73 57.6282 Q1321.73 63.1779 1323.23 64.7578 Q1324.77 66.3376 1329.43 66.3376 L1337.09 66.3376 L1337.09 72.576 L1329.43 72.576 Q1320.8 72.576 1317.52 69.3758 Q1314.24 66.1351 1314.24 57.6282 L1314.24 32.9987 L1308.77 32.9987 L1308.77 27.2059 L1314.24 27.2059 L1314.24 14.324 L1321.73 14.324 Z\" fill=\"#000000\" fill-rule=\"nonzero\" fill-opacity=\"1\" /><path clip-path=\"url(#clip420)\" d=\"M1346.89 27.2059 L1354.34 27.2059 L1354.34 72.576 L1346.89 72.576 L1346.89 27.2059 M1346.89 9.54393 L1354.34 9.54393 L1354.34 18.9825 L1346.89 18.9825 L1346.89 9.54393 Z\" fill=\"#000000\" fill-rule=\"nonzero\" fill-opacity=\"1\" /><path clip-path=\"url(#clip420)\" d=\"M1387.52 32.4315 Q1381.52 32.4315 1378.04 37.1306 Q1374.56 41.7891 1374.56 49.9314 Q1374.56 58.0738 1378 62.7728 Q1381.48 67.4314 1387.52 67.4314 Q1393.47 67.4314 1396.96 62.7323 Q1400.44 58.0333 1400.44 49.9314 Q1400.44 41.8701 1396.96 37.1711 Q1393.47 32.4315 1387.52 32.4315 M1387.52 26.1121 Q1397.24 26.1121 1402.79 32.4315 Q1408.34 38.7509 1408.34 49.9314 Q1408.34 61.0714 1402.79 67.4314 Q1397.24 73.7508 1387.52 73.7508 Q1377.76 73.7508 1372.21 67.4314 Q1366.7 61.0714 1366.7 49.9314 Q1366.7 38.7509 1372.21 32.4315 Q1377.76 26.1121 1387.52 26.1121 Z\" fill=\"#000000\" fill-rule=\"nonzero\" fill-opacity=\"1\" /><path clip-path=\"url(#clip420)\" d=\"M1458.41 45.1919 L1458.41 72.576 L1450.96 72.576 L1450.96 45.4349 Q1450.96 38.994 1448.45 35.7938 Q1445.93 32.5936 1440.91 32.5936 Q1434.88 32.5936 1431.39 36.4419 Q1427.91 40.2903 1427.91 46.9338 L1427.91 72.576 L1420.41 72.576 L1420.41 27.2059 L1427.91 27.2059 L1427.91 34.2544 Q1430.58 30.163 1434.19 28.1376 Q1437.83 26.1121 1442.57 26.1121 Q1450.39 26.1121 1454.4 30.9732 Q1458.41 35.7938 1458.41 45.1919 Z\" fill=\"#000000\" fill-rule=\"nonzero\" fill-opacity=\"1\" /><path clip-path=\"url(#clip420)\" d=\"M1502.2 28.5427 L1502.2 35.5912 Q1499.04 33.9709 1495.64 33.1607 Q1492.24 32.3505 1488.59 32.3505 Q1483.04 32.3505 1480.25 34.0519 Q1477.49 35.7533 1477.49 39.156 Q1477.49 41.7486 1479.48 43.2475 Q1481.46 44.7058 1487.46 46.0426 L1490.01 46.6097 Q1497.95 48.3111 1501.27 51.4303 Q1504.63 54.509 1504.63 60.0587 Q1504.63 66.3781 1499.61 70.0644 Q1494.63 73.7508 1485.88 73.7508 Q1482.23 73.7508 1478.26 73.0216 Q1474.33 72.3329 1469.96 70.9151 L1469.96 63.2184 Q1474.09 65.3654 1478.1 66.4591 Q1482.11 67.5124 1486.04 67.5124 Q1491.3 67.5124 1494.14 65.73 Q1496.98 63.9071 1496.98 60.6258 Q1496.98 57.5877 1494.91 55.9673 Q1492.88 54.3469 1485.96 52.8481 L1483.36 52.2405 Q1476.44 50.7821 1473.36 47.7845 Q1470.28 44.7463 1470.28 39.4801 Q1470.28 33.0797 1474.82 29.5959 Q1479.35 26.1121 1487.7 26.1121 Q1491.83 26.1121 1495.48 26.7198 Q1499.12 27.3274 1502.2 28.5427 Z\" fill=\"#000000\" fill-rule=\"nonzero\" fill-opacity=\"1\" /><polyline clip-path=\"url(#clip422)\" style=\"stroke:#009af9; stroke-linecap:round; stroke-linejoin:round; stroke-width:4; stroke-opacity:1; fill:none\" points=\"360.486,379.47 366.955,379.463 373.424,379.444 379.893,379.412 386.362,379.373 392.831,379.328 399.3,379.278 405.769,379.223 412.238,379.165 418.707,379.103 425.176,379.038 431.645,378.971 438.114,378.901 444.583,378.829 451.052,378.757 457.521,378.683 463.99,378.608 470.459,378.533 476.928,378.458 483.397,378.383 489.867,378.309 496.336,378.235 502.805,378.161 509.274,378.089 515.743,378.018 522.212,377.949 528.681,377.881 535.15,377.815 541.619,377.75 548.088,377.687 554.557,377.627 561.026,377.568 567.495,377.512 573.964,377.458 580.433,377.406 586.902,377.357 593.371,377.311 599.84,377.267 606.309,377.226 612.778,377.187 619.247,377.151 625.716,377.118 632.185,377.088 638.654,377.061 645.123,377.037 651.592,377.017 658.062,376.999 664.531,376.985 671,376.974 677.469,376.967 683.938,376.963 690.407,376.963 696.876,376.967 703.345,376.975 709.814,376.987 716.283,377.003 722.752,377.024 729.221,377.051 735.69,377.082 742.159,377.119 748.628,377.161 755.097,377.21 761.566,377.266 768.035,377.328 774.504,377.399 780.973,377.478 787.442,377.566 793.911,377.664 800.38,377.773 806.849,377.894 813.318,378.028 819.788,378.176 826.257,378.341 832.726,378.524 839.195,378.725 845.664,378.947 852.133,379.191 858.602,379.459 865.071,379.751 871.54,380.068 878.009,380.412 884.478,380.782 890.947,381.179 897.416,381.605 903.885,382.059 910.354,382.542 916.823,383.057 923.292,383.605 929.761,384.188 936.23,384.809 942.699,385.471 949.168,386.178 955.637,386.934 962.106,387.741 968.575,388.604 975.044,389.529 981.514,390.536 987.983,391.649 994.452,392.888 1000.92,394.275 1007.39,395.837 1013.86,397.606 1020.33,399.626 1026.8,401.949 1033.27,404.646 1039.73,407.777 1046.2,411.391 1052.67,415.564 1059.14,420.391 1065.61,425.999 1072.08,432.541 1078.55,440.161 1085.02,448.939 1091.49,458.925 1097.96,470.161 1104.43,482.676 1110.89,496.479 1117.36,511.568 1123.83,527.914 1130.3,545.47 1136.77,564.164 1143.24,583.819 1149.71,604.117 1156.18,624.707 1162.65,645.287 1169.12,665.53 1175.58,685.215 1182.05,704.223 1188.52,722.361 1194.99,739.441 1201.46,755.321 1207.93,769.896 1214.4,783.109 1220.87,794.976 1227.34,805.575 1233.81,815.044 1240.28,823.573 1246.74,831.376 1253.21,838.669 1259.68,845.635 1266.15,852.483 1272.62,859.498 1279.09,866.988 1285.56,875.263 1292.03,884.574 1298.5,895.096 1304.97,906.878 1311.43,919.782 1317.9,933.468 1324.37,947.47 1330.84,961.265 1337.31,974.408 1343.78,986.533 1350.25,997.363 1356.72,1006.8 1363.19,1014.92 1369.66,1021.9 1376.12,1028.02 1382.59,1033.6 1389.06,1039 1395.53,1044.63 1402,1050.97 1408.47,1058.4 1414.94,1067.03 1421.41,1076.77 1427.88,1087.2 1434.35,1097.8 1440.82,1107.87 1447.28,1116.83 1453.75,1124.44 1460.22,1130.72 1466.69,1135.88 1473.16,1140.29 1479.63,1144.4 1486.1,1148.74 1492.57,1153.88 1499.04,1160.15 1505.51,1167.54 1511.97,1175.64 1518.44,1183.7 1524.91,1191.1 1531.38,1197.36 1537.85,1202.26 1544.32,1205.95 1550.79,1208.8 1557.26,1211.36 1563.73,1214.26 1570.2,1218.08 1576.67,1223.05 1583.13,1228.91 1589.6,1234.97 1596.07,1240.38 1602.54,1244.55 1609.01,1247.34 1615.48,1248.98 1621.95,1250 1628.42,1251.08 1634.89,1252.88 1641.36,1255.78 1647.82,1259.59 1654.29,1263.6 1660.76,1266.85 1667.23,1268.84 1673.7,1269.51 1680.17,1269.22 1686.64,1268.65 1693.11,1268.6 1699.58,1269.55 1706.05,1271.51 1712.52,1273.86 1718.98,1275.64 1725.45,1276.17 1731.92,1275.37 1738.39,1273.73 1744.86,1272.06 1751.33,1271.13 1757.8,1271.19 1764.27,1271.83 1770.74,1272.15 1777.21,1271.29 1783.67,1269.03 1790.14,1265.88 1796.61,1262.65 1803.08,1260.16 1809.55,1258.66 1816.02,1257.89 1822.49,1257.02 1828.96,1255.15 1835.43,1252.07 1841.9,1248.44 1848.36,1245.19 1854.83,1242.85 1861.3,1241.36 1867.77,1240.15 1874.24,1238.15 1880.71,1234.85 1887.18,1230.98 1893.65,1227.57 1900.12,1225.04 1906.59,1223.39 1913.06,1221.88 1919.52,1219.61 1925.99,1216.25 1932.46,1212.37 1938.93,1208.97 1945.4,1206.49 1951.87,1204.72 1958.34,1202.57 1964.81,1199.26 1971.28,1195.04 1977.75,1190.68 1984.21,1186.96 1990.68,1184.12 1997.15,1181.53 2003.62,1178.24 2010.09,1173.96 2016.56,1169.27 2023.03,1165.01 2029.5,1161.69 2035.97,1158.95 2042.44,1155.72 2048.91,1151.4 2055.37,1146.57 2061.84,1142.12 2068.31,1138.64 2074.78,1135.85 2081.25,1132.8 2087.72,1128.78 2094.19,1124.04 2100.66,1119.52 2107.13,1115.94 2113.6,1113.13 2120.06,1109.99 2126.53,1105.73 2133,1100.83 2139.47,1096.28 2145.94,1092.69 2152.41,1089.8 2158.88,1086.48 2165.35,1082.11 2171.82,1077.18 2178.29,1072.73 2184.75,1069.29 2191.22,1066.33 2197.69,1062.66 2204.16,1057.92 2210.63,1053.03 2217.1,1048.92 2223.57,1045.73 2230.04,1042.62 2236.51,1038.61 2242.98,1033.81 2249.45,1029.18 2255.91,1025.51 2262.38,1022.51 2268.85,1019.15 2275.32,1014.87 2281.79,1010.35 2288.26,1006.64 2294.73,1003.82 \"/>\n",
       "<polyline clip-path=\"url(#clip422)\" style=\"stroke:#e26f46; stroke-linecap:round; stroke-linejoin:round; stroke-width:4; stroke-opacity:1; fill:none\" points=\"360.486,379.47 366.955,379.471 373.424,379.475 379.893,379.48 386.362,379.487 392.831,379.494 399.3,379.5 405.769,379.505 412.238,379.509 418.707,379.512 425.176,379.514 431.645,379.516 438.114,379.515 444.583,379.514 451.052,379.511 457.521,379.507 463.99,379.501 470.459,379.493 476.928,379.484 483.397,379.472 489.867,379.458 496.336,379.442 502.805,379.423 509.274,379.402 515.743,379.378 522.212,379.351 528.681,379.322 535.15,379.289 541.619,379.253 548.088,379.214 554.557,379.172 561.026,379.125 567.495,379.076 573.964,379.022 580.433,378.965 586.902,378.904 593.371,378.839 599.84,378.77 606.309,378.696 612.778,378.619 619.247,378.537 625.716,378.452 632.185,378.361 638.654,378.267 645.123,378.168 651.592,378.065 658.062,377.958 664.531,377.846 671,377.73 677.469,377.61 683.938,377.485 690.407,377.356 696.876,377.224 703.345,377.087 709.814,376.946 716.283,376.801 722.752,376.652 729.221,376.5 735.69,376.344 742.159,376.185 748.628,376.023 755.097,375.858 761.566,375.691 768.035,375.521 774.504,375.35 780.973,375.177 787.442,375.003 793.911,374.829 800.38,374.654 806.849,374.481 813.318,374.309 819.788,374.139 826.257,373.973 832.726,373.809 839.195,373.648 845.664,373.486 852.133,373.324 858.602,373.162 865.071,373.001 871.54,372.843 878.009,372.691 884.478,372.549 890.947,372.419 897.416,372.308 903.885,372.218 910.354,372.156 916.823,372.129 923.292,372.144 929.761,372.209 936.23,372.336 942.699,372.537 949.168,372.827 955.637,373.225 962.106,373.754 968.575,374.441 975.044,375.311 981.514,376.391 987.983,377.708 994.452,379.297 1000.92,381.201 1007.39,383.473 1013.86,386.17 1020.33,389.363 1026.8,393.128 1033.27,397.555 1039.73,402.7 1046.2,408.585 1052.67,415.227 1059.14,422.638 1065.61,430.822 1072.08,439.765 1078.55,449.444 1085.02,459.826 1091.49,470.866 1097.96,482.51 1104.43,494.691 1110.89,507.333 1117.36,520.364 1123.83,533.711 1130.3,547.305 1136.77,561.08 1143.24,574.924 1149.71,588.702 1156.18,602.358 1162.65,615.911 1169.12,629.377 1175.58,642.771 1182.05,656.145 1188.52,669.589 1194.99,683.193 1201.46,697.037 1207.93,711.19 1214.4,725.701 1220.87,740.589 1227.34,755.842 1233.81,771.413 1240.28,787.221 1246.74,803.169 1253.21,819.164 1259.68,835.168 1266.15,851.156 1272.62,867.07 1279.09,882.866 1285.56,898.46 1292.03,913.758 1298.5,928.665 1304.97,943.044 1311.43,956.779 1317.9,969.843 1324.37,982.321 1330.84,994.359 1337.31,1006.1 1343.78,1017.74 1350.25,1029.44 1356.72,1041.32 1363.19,1053.41 1369.66,1065.67 1376.12,1078.04 1382.59,1090.43 1389.06,1102.83 1395.53,1115.22 1402,1127.43 1408.47,1139.23 1414.94,1150.47 1421.41,1161.02 1427.88,1170.86 1434.35,1180.1 1440.82,1189.01 1447.28,1197.84 1453.75,1206.74 1460.22,1215.8 1466.69,1225.01 1473.16,1234.3 1479.63,1243.64 1486.1,1252.92 1492.57,1261.9 1499.04,1270.31 1505.51,1277.99 1511.97,1284.88 1518.44,1291.17 1524.91,1297.08 1531.38,1302.87 1537.85,1308.74 1544.32,1314.79 1550.79,1320.98 1557.26,1327.24 1563.73,1333.45 1570.2,1339.33 1576.67,1344.54 1583.13,1348.91 1589.6,1352.52 1596.07,1355.73 1602.54,1358.89 1609.01,1362.16 1615.48,1365.62 1621.95,1369.23 1628.42,1372.88 1634.89,1376.27 1641.36,1378.96 1647.82,1380.75 1654.29,1381.73 1660.76,1382.28 1667.23,1382.76 1673.7,1383.41 1680.17,1384.31 1686.64,1385.35 1693.11,1386.18 1699.58,1386.4 1706.05,1385.72 1712.52,1384.12 1718.98,1381.96 1725.45,1379.83 1731.92,1378 1738.39,1376.54 1744.86,1375.21 1751.33,1373.46 1757.8,1370.86 1764.27,1367.23 1770.74,1362.83 1777.21,1358.27 1783.67,1353.98 1790.14,1350.06 1796.61,1346.26 1803.08,1342.02 1809.55,1336.93 1816.02,1330.81 1822.49,1323.88 1828.96,1316.92 1835.43,1310.37 1841.9,1304.17 1848.36,1297.81 1854.83,1290.7 1861.3,1282.58 1867.77,1273.51 1874.24,1264.12 1880.71,1255.13 1887.18,1246.47 1893.65,1237.54 1900.12,1227.95 1906.59,1217.48 1913.06,1206.35 1919.52,1195.45 1925.99,1185.17 1932.46,1175.3 1938.93,1165.14 1945.4,1154.26 1951.87,1142.61 1958.34,1130.7 1964.81,1119.32 1971.28,1108.66 1977.75,1098.29 1984.21,1087.65 1990.68,1076.36 1997.15,1064.52 2003.62,1052.85 2010.09,1041.93 2016.56,1031.6 2023.03,1021.34 2029.5,1010.59 2035.97,999.221 2042.44,987.776 2048.91,976.963 2055.37,966.831 2061.84,956.897 2068.31,946.581 2074.78,935.631 2081.25,924.486 2087.72,913.912 2094.19,904.042 2100.66,894.459 2107.13,884.559 2113.6,874.052 2120.06,863.354 2126.53,853.195 2133,843.7 2139.47,834.438 2145.94,824.841 2152.41,814.641 2158.88,804.32 2165.35,794.622 2171.82,785.55 2178.29,776.631 2184.75,767.297 2191.22,757.394 2197.69,747.521 2204.16,738.301 2210.63,729.583 2217.1,720.803 2223.57,711.488 2230.04,701.726 2236.51,692.304 2242.98,683.579 2249.45,675.202 2255.91,666.536 2262.38,657.243 2268.85,647.751 2275.32,638.785 2281.79,630.363 2288.26,621.857 2294.73,612.803 \"/>\n",
       "<polyline clip-path=\"url(#clip422)\" style=\"stroke:#3da44d; stroke-linecap:round; stroke-linejoin:round; stroke-width:4; stroke-opacity:1; fill:none\" points=\"360.486,379.015 366.955,379.034 373.424,379.09 379.893,379.181 386.362,379.299 392.831,379.439 399.3,379.598 405.769,379.774 412.238,379.966 418.707,380.172 425.176,380.392 431.645,380.623 438.114,380.864 444.583,381.114 451.052,381.372 457.521,381.637 463.99,381.906 470.459,382.181 476.928,382.459 483.397,382.739 489.867,383.022 496.336,383.305 502.805,383.589 509.274,383.873 515.743,384.156 522.212,384.437 528.681,384.716 535.15,384.993 541.619,385.267 548.088,385.538 554.557,385.805 561.026,386.068 567.495,386.327 573.964,386.581 580.433,386.83 586.902,387.074 593.371,387.312 599.84,387.545 606.309,387.772 612.778,387.992 619.247,388.206 625.716,388.413 632.185,388.614 638.654,388.807 645.123,388.992 651.592,389.17 658.062,389.339 664.531,389.501 671,389.653 677.469,389.796 683.938,389.931 690.407,390.055 696.876,390.169 703.345,390.273 709.814,390.365 716.283,390.447 722.752,390.516 729.221,390.573 735.69,390.617 742.159,390.647 748.628,390.663 755.097,390.665 761.566,390.651 768.035,390.621 774.504,390.575 780.973,390.511 787.442,390.43 793.911,390.329 800.38,390.209 806.849,390.068 813.318,389.906 819.788,389.722 826.257,389.514 832.726,389.283 839.195,389.027 845.664,388.744 852.133,388.433 858.602,388.094 865.071,387.727 871.54,387.332 878.009,386.911 884.478,386.466 890.947,386 897.416,385.515 903.885,385.01 910.354,384.487 916.823,383.945 923.292,383.387 929.761,382.813 936.23,382.226 942.699,381.628 949.168,381.021 955.637,380.41 962.106,379.802 968.575,379.208 975.044,378.636 981.514,378.087 987.983,377.559 994.452,377.051 1000.92,376.563 1007.39,376.092 1013.86,375.633 1020.33,375.179 1026.8,374.723 1033.27,374.257 1039.73,373.768 1046.2,373.233 1052.67,372.626 1059.14,371.925 1065.61,371.12 1072.08,370.22 1078.55,369.256 1085.02,368.269 1091.49,367.316 1097.96,366.468 1104.43,365.825 1110.89,365.501 1117.36,365.618 1123.83,366.306 1130.3,367.695 1136.77,369.918 1143.24,373.17 1149.71,377.689 1156.18,383.635 1162.65,391.072 1169.12,399.988 1175.58,410.306 1182.05,421.922 1188.52,434.699 1194.99,448.449 1201.46,462.941 1207.93,477.9 1214.4,493.024 1220.87,507.997 1227.34,522.507 1233.81,536.271 1240.28,549.051 1246.74,560.677 1253.21,571.044 1259.68,580.115 1266.15,587.871 1272.62,594.318 1279.09,599.532 1285.56,603.683 1292.03,607.018 1298.5,609.868 1304.97,612.679 1311.43,615.965 1317.9,620.199 1324.37,625.707 1330.84,632.585 1337.31,640.718 1343.78,649.837 1350.25,659.534 1356.72,669.336 1363.19,678.769 1369.66,687.453 1376.12,695.101 1382.59,701.523 1389.06,706.64 1395.53,710.462 1402,713.196 1408.47,715.227 1414.94,717.062 1421.41,719.321 1427.88,722.538 1434.35,727.003 1440.82,732.697 1447.28,739.248 1453.75,746.093 1460.22,752.696 1466.69,758.564 1473.16,763.314 1479.63,766.783 1486.1,768.979 1492.57,770.178 1499.04,770.935 1505.51,771.895 1511.97,773.715 1518.44,776.801 1524.91,781.068 1531.38,786.062 1537.85,791.168 1544.32,795.762 1550.79,799.322 1557.26,801.604 1563.73,802.632 1570.2,802.801 1576.67,802.793 1583.13,803.344 1589.6,805.017 1596.07,807.852 1602.54,811.341 1609.01,814.811 1615.48,817.599 1621.95,819.221 1628.42,819.545 1634.89,818.857 1641.36,817.874 1647.82,817.341 1654.29,817.846 1660.76,819.455 1667.23,821.662 1673.7,823.726 1680.17,824.907 1686.64,824.814 1693.11,823.549 1699.58,821.704 1706.05,820.014 1712.52,819.168 1718.98,819.4 1725.45,820.189 1731.92,820.737 1738.39,820.375 1744.86,818.752 1751.33,816.145 1757.8,813.349 1764.27,811.205 1770.74,810.143 1777.21,809.799 1783.67,809.272 1790.14,807.795 1796.61,805.024 1803.08,801.266 1809.55,797.187 1816.02,793.532 1822.49,790.926 1828.96,789.126 1835.43,786.912 1841.9,783.45 1848.36,778.778 1854.83,773.44 1861.3,768.19 1867.77,763.811 1874.24,760.378 1880.71,756.791 1887.18,751.885 1893.65,745.585 1900.12,738.438 1906.59,731.239 1913.06,724.948 1919.52,719.515 1925.99,714.093 1932.46,707.568 1938.93,699.756 1945.4,691.274 1951.87,683.174 1958.34,676.17 1964.81,669.579 1971.28,662.32 1977.75,653.793 1984.21,644.196 1990.68,634.555 1997.15,625.903 2003.62,618.147 2010.09,610.394 2016.56,601.74 2023.03,592.008 2029.5,581.982 2035.97,572.742 2042.44,564.562 2048.91,556.529 2055.37,547.587 2061.84,537.551 2068.31,527.093 2074.78,517.269 2081.25,508.54 2087.72,500.142 2094.19,491.085 2100.66,480.962 2107.13,470.355 2113.6,460.342 2120.06,451.429 2126.53,442.77 2133,433.216 2139.47,422.561 2145.94,411.495 2152.41,401.097 2158.88,391.729 2165.35,382.434 2171.82,372.295 2178.29,361.125 2184.75,349.743 2191.22,339.211 2197.69,329.601 2204.16,319.715 2210.63,308.687 2217.1,296.804 2223.57,285.069 2230.04,274.33 2236.51,264.162 2242.98,253.549 2249.45,241.856 2255.91,229.66 2262.38,218.108 2268.85,207.574 2275.32,197.028 2281.79,185.342 2288.26,172.744 2294.73,160.256 \"/>\n",
       "<path clip-path=\"url(#clip420)\" d=\"M370.802 1379.86 L601.063 1379.86 L601.063 1172.5 L370.802 1172.5  Z\" fill=\"#ffffff\" fill-rule=\"evenodd\" fill-opacity=\"1\"/>\n",
       "<polyline clip-path=\"url(#clip420)\" style=\"stroke:#000000; stroke-linecap:round; stroke-linejoin:round; stroke-width:4; stroke-opacity:1; fill:none\" points=\"370.802,1379.86 601.063,1379.86 601.063,1172.5 370.802,1172.5 370.802,1379.86 \"/>\n",
       "<polyline clip-path=\"url(#clip420)\" style=\"stroke:#009af9; stroke-linecap:round; stroke-linejoin:round; stroke-width:4; stroke-opacity:1; fill:none\" points=\"393.583,1224.34 530.269,1224.34 \"/>\n",
       "<path clip-path=\"url(#clip420)\" d=\"M577.703 1215.69 L568.328 1228.31 L578.189 1241.62 L573.166 1241.62 L565.62 1231.43 L558.073 1241.62 L553.05 1241.62 L563.12 1228.05 L553.907 1215.69 L558.93 1215.69 L565.805 1224.93 L572.68 1215.69 L577.703 1215.69 Z\" fill=\"#000000\" fill-rule=\"nonzero\" fill-opacity=\"1\" /><polyline clip-path=\"url(#clip420)\" style=\"stroke:#e26f46; stroke-linecap:round; stroke-linejoin:round; stroke-width:4; stroke-opacity:1; fill:none\" points=\"393.583,1276.18 530.269,1276.18 \"/>\n",
       "<path clip-path=\"url(#clip420)\" d=\"M566.893 1295.86 Q565.087 1300.49 563.374 1301.91 Q561.661 1303.32 558.791 1303.32 L555.388 1303.32 L555.388 1299.75 L557.888 1299.75 Q559.648 1299.75 560.62 1298.92 Q561.592 1298.09 562.773 1294.98 L563.536 1293.04 L553.05 1267.53 L557.564 1267.53 L565.666 1287.81 L573.768 1267.53 L578.282 1267.53 L566.893 1295.86 Z\" fill=\"#000000\" fill-rule=\"nonzero\" fill-opacity=\"1\" /><polyline clip-path=\"url(#clip420)\" style=\"stroke:#3da44d; stroke-linecap:round; stroke-linejoin:round; stroke-width:4; stroke-opacity:1; fill:none\" points=\"393.583,1328.02 530.269,1328.02 \"/>\n",
       "<path clip-path=\"url(#clip420)\" d=\"M553.629 1319.37 L573.86 1319.37 L573.86 1323.26 L557.842 1341.89 L573.86 1341.89 L573.86 1345.3 L553.05 1345.3 L553.05 1341.41 L569.069 1322.77 L553.629 1322.77 L553.629 1319.37 Z\" fill=\"#000000\" fill-rule=\"nonzero\" fill-opacity=\"1\" /></svg>\n"
      ],
      "text/html": [
       "<?xml version=\"1.0\" encoding=\"utf-8\"?>\n",
       "<svg xmlns=\"http://www.w3.org/2000/svg\" xmlns:xlink=\"http://www.w3.org/1999/xlink\" width=\"600\" height=\"400\" viewBox=\"0 0 2400 1600\">\n",
       "<defs>\n",
       "  <clipPath id=\"clip470\">\n",
       "    <rect x=\"0\" y=\"0\" width=\"2400\" height=\"1600\"/>\n",
       "  </clipPath>\n",
       "</defs>\n",
       "<path clip-path=\"url(#clip470)\" d=\"M0 1600 L2400 1600 L2400 0 L0 0  Z\" fill=\"#ffffff\" fill-rule=\"evenodd\" fill-opacity=\"1\"/>\n",
       "<defs>\n",
       "  <clipPath id=\"clip471\">\n",
       "    <rect x=\"480\" y=\"0\" width=\"1681\" height=\"1600\"/>\n",
       "  </clipPath>\n",
       "</defs>\n",
       "<path clip-path=\"url(#clip470)\" d=\"M302.458 1423.18 L2352.76 1423.18 L2352.76 123.472 L302.458 123.472  Z\" fill=\"#ffffff\" fill-rule=\"evenodd\" fill-opacity=\"1\"/>\n",
       "<defs>\n",
       "  <clipPath id=\"clip472\">\n",
       "    <rect x=\"302\" y=\"123\" width=\"2051\" height=\"1301\"/>\n",
       "  </clipPath>\n",
       "</defs>\n",
       "<polyline clip-path=\"url(#clip472)\" style=\"stroke:#000000; stroke-linecap:round; stroke-linejoin:round; stroke-width:2; stroke-opacity:0.1; fill:none\" points=\"360.486,1423.18 360.486,123.472 \"/>\n",
       "<polyline clip-path=\"url(#clip472)\" style=\"stroke:#000000; stroke-linecap:round; stroke-linejoin:round; stroke-width:2; stroke-opacity:0.1; fill:none\" points=\"1007.39,1423.18 1007.39,123.472 \"/>\n",
       "<polyline clip-path=\"url(#clip472)\" style=\"stroke:#000000; stroke-linecap:round; stroke-linejoin:round; stroke-width:2; stroke-opacity:0.1; fill:none\" points=\"1654.29,1423.18 1654.29,123.472 \"/>\n",
       "<polyline clip-path=\"url(#clip472)\" style=\"stroke:#000000; stroke-linecap:round; stroke-linejoin:round; stroke-width:2; stroke-opacity:0.1; fill:none\" points=\"2301.2,1423.18 2301.2,123.472 \"/>\n",
       "<polyline clip-path=\"url(#clip470)\" style=\"stroke:#000000; stroke-linecap:round; stroke-linejoin:round; stroke-width:4; stroke-opacity:1; fill:none\" points=\"302.458,1423.18 2352.76,1423.18 \"/>\n",
       "<polyline clip-path=\"url(#clip470)\" style=\"stroke:#000000; stroke-linecap:round; stroke-linejoin:round; stroke-width:4; stroke-opacity:1; fill:none\" points=\"360.486,1423.18 360.486,1404.28 \"/>\n",
       "<polyline clip-path=\"url(#clip470)\" style=\"stroke:#000000; stroke-linecap:round; stroke-linejoin:round; stroke-width:4; stroke-opacity:1; fill:none\" points=\"1007.39,1423.18 1007.39,1404.28 \"/>\n",
       "<polyline clip-path=\"url(#clip470)\" style=\"stroke:#000000; stroke-linecap:round; stroke-linejoin:round; stroke-width:4; stroke-opacity:1; fill:none\" points=\"1654.29,1423.18 1654.29,1404.28 \"/>\n",
       "<polyline clip-path=\"url(#clip470)\" style=\"stroke:#000000; stroke-linecap:round; stroke-linejoin:round; stroke-width:4; stroke-opacity:1; fill:none\" points=\"2301.2,1423.18 2301.2,1404.28 \"/>\n",
       "<path clip-path=\"url(#clip470)\" d=\"M360.486 1454.1 Q356.875 1454.1 355.046 1457.66 Q353.24 1461.2 353.24 1468.33 Q353.24 1475.44 355.046 1479.01 Q356.875 1482.55 360.486 1482.55 Q364.12 1482.55 365.925 1479.01 Q367.754 1475.44 367.754 1468.33 Q367.754 1461.2 365.925 1457.66 Q364.12 1454.1 360.486 1454.1 M360.486 1450.39 Q366.296 1450.39 369.351 1455 Q372.43 1459.58 372.43 1468.33 Q372.43 1477.06 369.351 1481.67 Q366.296 1486.25 360.486 1486.25 Q354.676 1486.25 351.597 1481.67 Q348.541 1477.06 348.541 1468.33 Q348.541 1459.58 351.597 1455 Q354.676 1450.39 360.486 1450.39 Z\" fill=\"#000000\" fill-rule=\"nonzero\" fill-opacity=\"1\" /><path clip-path=\"url(#clip470)\" d=\"M982.077 1481.64 L989.716 1481.64 L989.716 1455.28 L981.406 1456.95 L981.406 1452.69 L989.67 1451.02 L994.346 1451.02 L994.346 1481.64 L1001.98 1481.64 L1001.98 1485.58 L982.077 1485.58 L982.077 1481.64 Z\" fill=\"#000000\" fill-rule=\"nonzero\" fill-opacity=\"1\" /><path clip-path=\"url(#clip470)\" d=\"M1021.43 1454.1 Q1017.82 1454.1 1015.99 1457.66 Q1014.18 1461.2 1014.18 1468.33 Q1014.18 1475.44 1015.99 1479.01 Q1017.82 1482.55 1021.43 1482.55 Q1025.06 1482.55 1026.87 1479.01 Q1028.7 1475.44 1028.7 1468.33 Q1028.7 1461.2 1026.87 1457.66 Q1025.06 1454.1 1021.43 1454.1 M1021.43 1450.39 Q1027.24 1450.39 1030.29 1455 Q1033.37 1459.58 1033.37 1468.33 Q1033.37 1477.06 1030.29 1481.67 Q1027.24 1486.25 1021.43 1486.25 Q1015.62 1486.25 1012.54 1481.67 Q1009.48 1477.06 1009.48 1468.33 Q1009.48 1459.58 1012.54 1455 Q1015.62 1450.39 1021.43 1450.39 Z\" fill=\"#000000\" fill-rule=\"nonzero\" fill-opacity=\"1\" /><path clip-path=\"url(#clip470)\" d=\"M1633.07 1481.64 L1649.39 1481.64 L1649.39 1485.58 L1627.44 1485.58 L1627.44 1481.64 Q1630.1 1478.89 1634.69 1474.26 Q1639.29 1469.61 1640.47 1468.27 Q1642.72 1465.74 1643.6 1464.01 Q1644.5 1462.25 1644.5 1460.56 Q1644.5 1457.8 1642.56 1456.07 Q1640.64 1454.33 1637.53 1454.33 Q1635.34 1454.33 1632.88 1455.09 Q1630.45 1455.86 1627.67 1457.41 L1627.67 1452.69 Q1630.5 1451.55 1632.95 1450.97 Q1635.4 1450.39 1637.44 1450.39 Q1642.81 1450.39 1646.01 1453.08 Q1649.2 1455.77 1649.2 1460.26 Q1649.2 1462.39 1648.39 1464.31 Q1647.6 1466.2 1645.5 1468.8 Q1644.92 1469.47 1641.82 1472.69 Q1638.72 1475.88 1633.07 1481.64 Z\" fill=\"#000000\" fill-rule=\"nonzero\" fill-opacity=\"1\" /><path clip-path=\"url(#clip470)\" d=\"M1669.2 1454.1 Q1665.59 1454.1 1663.76 1457.66 Q1661.96 1461.2 1661.96 1468.33 Q1661.96 1475.44 1663.76 1479.01 Q1665.59 1482.55 1669.2 1482.55 Q1672.84 1482.55 1674.64 1479.01 Q1676.47 1475.44 1676.47 1468.33 Q1676.47 1461.2 1674.64 1457.66 Q1672.84 1454.1 1669.2 1454.1 M1669.2 1450.39 Q1675.01 1450.39 1678.07 1455 Q1681.15 1459.58 1681.15 1468.33 Q1681.15 1477.06 1678.07 1481.67 Q1675.01 1486.25 1669.2 1486.25 Q1663.39 1486.25 1660.31 1481.67 Q1657.26 1477.06 1657.26 1468.33 Q1657.26 1459.58 1660.31 1455 Q1663.39 1450.39 1669.2 1450.39 Z\" fill=\"#000000\" fill-rule=\"nonzero\" fill-opacity=\"1\" /><path clip-path=\"url(#clip470)\" d=\"M2290.04 1466.95 Q2293.4 1467.66 2295.27 1469.93 Q2297.17 1472.2 2297.17 1475.53 Q2297.17 1480.65 2293.65 1483.45 Q2290.13 1486.25 2283.65 1486.25 Q2281.48 1486.25 2279.16 1485.81 Q2276.87 1485.39 2274.42 1484.54 L2274.42 1480.02 Q2276.36 1481.16 2278.67 1481.74 Q2280.99 1482.32 2283.51 1482.32 Q2287.91 1482.32 2290.2 1480.58 Q2292.52 1478.84 2292.52 1475.53 Q2292.52 1472.48 2290.36 1470.77 Q2288.23 1469.03 2284.42 1469.03 L2280.39 1469.03 L2280.39 1465.19 L2284.6 1465.19 Q2288.05 1465.19 2289.88 1463.82 Q2291.71 1462.43 2291.71 1459.84 Q2291.71 1457.18 2289.81 1455.77 Q2287.93 1454.33 2284.42 1454.33 Q2282.49 1454.33 2280.29 1454.75 Q2278.1 1455.16 2275.46 1456.04 L2275.46 1451.88 Q2278.12 1451.14 2280.43 1450.77 Q2282.77 1450.39 2284.83 1450.39 Q2290.16 1450.39 2293.26 1452.83 Q2296.36 1455.23 2296.36 1459.35 Q2296.36 1462.22 2294.72 1464.21 Q2293.07 1466.18 2290.04 1466.95 Z\" fill=\"#000000\" fill-rule=\"nonzero\" fill-opacity=\"1\" /><path clip-path=\"url(#clip470)\" d=\"M2316.04 1454.1 Q2312.42 1454.1 2310.6 1457.66 Q2308.79 1461.2 2308.79 1468.33 Q2308.79 1475.44 2310.6 1479.01 Q2312.42 1482.55 2316.04 1482.55 Q2319.67 1482.55 2321.48 1479.01 Q2323.3 1475.44 2323.3 1468.33 Q2323.3 1461.2 2321.48 1457.66 Q2319.67 1454.1 2316.04 1454.1 M2316.04 1450.39 Q2321.85 1450.39 2324.9 1455 Q2327.98 1459.58 2327.98 1468.33 Q2327.98 1477.06 2324.9 1481.67 Q2321.85 1486.25 2316.04 1486.25 Q2310.23 1486.25 2307.15 1481.67 Q2304.09 1477.06 2304.09 1468.33 Q2304.09 1459.58 2307.15 1455 Q2310.23 1450.39 2316.04 1450.39 Z\" fill=\"#000000\" fill-rule=\"nonzero\" fill-opacity=\"1\" /><path clip-path=\"url(#clip470)\" d=\"M1215.06 1522.27 L1215.06 1532.4 L1227.12 1532.4 L1227.12 1536.95 L1215.06 1536.95 L1215.06 1556.3 Q1215.06 1560.66 1216.24 1561.9 Q1217.45 1563.14 1221.11 1563.14 L1227.12 1563.14 L1227.12 1568.04 L1221.11 1568.04 Q1214.33 1568.04 1211.75 1565.53 Q1209.17 1562.98 1209.17 1556.3 L1209.17 1536.95 L1204.88 1536.95 L1204.88 1532.4 L1209.17 1532.4 L1209.17 1522.27 L1215.06 1522.27 Z\" fill=\"#000000\" fill-rule=\"nonzero\" fill-opacity=\"1\" /><path clip-path=\"url(#clip470)\" d=\"M1234.83 1532.4 L1240.68 1532.4 L1240.68 1568.04 L1234.83 1568.04 L1234.83 1532.4 M1234.83 1518.52 L1240.68 1518.52 L1240.68 1525.93 L1234.83 1525.93 L1234.83 1518.52 Z\" fill=\"#000000\" fill-rule=\"nonzero\" fill-opacity=\"1\" /><path clip-path=\"url(#clip470)\" d=\"M1280.69 1539.24 Q1282.89 1535.29 1285.94 1533.41 Q1289 1531.54 1293.14 1531.54 Q1298.71 1531.54 1301.73 1535.45 Q1304.75 1539.33 1304.75 1546.53 L1304.75 1568.04 L1298.87 1568.04 L1298.87 1546.72 Q1298.87 1541.59 1297.05 1539.11 Q1295.24 1536.63 1291.51 1536.63 Q1286.96 1536.63 1284.32 1539.65 Q1281.68 1542.68 1281.68 1547.9 L1281.68 1568.04 L1275.79 1568.04 L1275.79 1546.72 Q1275.79 1541.56 1273.98 1539.11 Q1272.16 1536.63 1268.37 1536.63 Q1263.89 1536.63 1261.24 1539.68 Q1258.6 1542.71 1258.6 1547.9 L1258.6 1568.04 L1252.71 1568.04 L1252.71 1532.4 L1258.6 1532.4 L1258.6 1537.93 Q1260.61 1534.66 1263.41 1533.1 Q1266.21 1531.54 1270.06 1531.54 Q1273.94 1531.54 1276.65 1533.51 Q1279.39 1535.48 1280.69 1539.24 Z\" fill=\"#000000\" fill-rule=\"nonzero\" fill-opacity=\"1\" /><path clip-path=\"url(#clip470)\" d=\"M1346.93 1548.76 L1346.93 1551.62 L1320 1551.62 Q1320.38 1557.67 1323.63 1560.85 Q1326.91 1564 1332.73 1564 Q1336.11 1564 1339.26 1563.17 Q1342.44 1562.35 1345.56 1560.69 L1345.56 1566.23 Q1342.41 1567.57 1339.1 1568.27 Q1335.79 1568.97 1332.38 1568.97 Q1323.85 1568.97 1318.85 1564 Q1313.89 1559.04 1313.89 1550.57 Q1313.89 1541.82 1318.6 1536.69 Q1323.34 1531.54 1331.36 1531.54 Q1338.56 1531.54 1342.73 1536.18 Q1346.93 1540.8 1346.93 1548.76 M1341.07 1547.04 Q1341.01 1542.23 1338.37 1539.37 Q1335.76 1536.5 1331.43 1536.5 Q1326.52 1536.5 1323.56 1539.27 Q1320.64 1542.04 1320.19 1547.07 L1341.07 1547.04 Z\" fill=\"#000000\" fill-rule=\"nonzero\" fill-opacity=\"1\" /><path clip-path=\"url(#clip470)\" d=\"M1391.33 1518.58 Q1387.06 1525.9 1384.99 1533.06 Q1382.93 1540.23 1382.93 1547.58 Q1382.93 1554.93 1384.99 1562.16 Q1387.09 1569.35 1391.33 1576.64 L1386.24 1576.64 Q1381.46 1569.16 1379.07 1561.93 Q1376.72 1554.71 1376.72 1547.58 Q1376.72 1540.48 1379.07 1533.29 Q1381.43 1526.09 1386.24 1518.58 L1391.33 1518.58 Z\" fill=\"#000000\" fill-rule=\"nonzero\" fill-opacity=\"1\" /><path clip-path=\"url(#clip470)\" d=\"M1425.42 1533.45 L1425.42 1538.98 Q1422.93 1537.71 1420.26 1537.07 Q1417.59 1536.44 1414.72 1536.44 Q1410.36 1536.44 1408.17 1537.77 Q1406 1539.11 1406 1541.79 Q1406 1543.82 1407.56 1545 Q1409.12 1546.15 1413.83 1547.2 L1415.84 1547.64 Q1422.07 1548.98 1424.68 1551.43 Q1427.33 1553.85 1427.33 1558.21 Q1427.33 1563.17 1423.38 1566.07 Q1419.46 1568.97 1412.59 1568.97 Q1409.72 1568.97 1406.61 1568.39 Q1403.52 1567.85 1400.08 1566.74 L1400.08 1560.69 Q1403.33 1562.38 1406.48 1563.24 Q1409.63 1564.07 1412.72 1564.07 Q1416.85 1564.07 1419.08 1562.66 Q1421.31 1561.23 1421.31 1558.65 Q1421.31 1556.27 1419.69 1554.99 Q1418.1 1553.72 1412.65 1552.54 L1410.62 1552.07 Q1405.17 1550.92 1402.75 1548.56 Q1400.34 1546.18 1400.34 1542.04 Q1400.34 1537.01 1403.9 1534.27 Q1407.46 1531.54 1414.02 1531.54 Q1417.27 1531.54 1420.13 1532.01 Q1423 1532.49 1425.42 1533.45 Z\" fill=\"#000000\" fill-rule=\"nonzero\" fill-opacity=\"1\" /><path clip-path=\"url(#clip470)\" d=\"M1435.73 1518.58 L1440.82 1518.58 Q1445.6 1526.09 1447.95 1533.29 Q1450.34 1540.48 1450.34 1547.58 Q1450.34 1554.71 1447.95 1561.93 Q1445.6 1569.16 1440.82 1576.64 L1435.73 1576.64 Q1439.96 1569.35 1442.03 1562.16 Q1444.13 1554.93 1444.13 1547.58 Q1444.13 1540.23 1442.03 1533.06 Q1439.96 1525.9 1435.73 1518.58 Z\" fill=\"#000000\" fill-rule=\"nonzero\" fill-opacity=\"1\" /><polyline clip-path=\"url(#clip472)\" style=\"stroke:#000000; stroke-linecap:round; stroke-linejoin:round; stroke-width:2; stroke-opacity:0.1; fill:none\" points=\"302.458,1289.47 2352.76,1289.47 \"/>\n",
       "<polyline clip-path=\"url(#clip472)\" style=\"stroke:#000000; stroke-linecap:round; stroke-linejoin:round; stroke-width:2; stroke-opacity:0.1; fill:none\" points=\"302.458,1061.97 2352.76,1061.97 \"/>\n",
       "<polyline clip-path=\"url(#clip472)\" style=\"stroke:#000000; stroke-linecap:round; stroke-linejoin:round; stroke-width:2; stroke-opacity:0.1; fill:none\" points=\"302.458,834.471 2352.76,834.471 \"/>\n",
       "<polyline clip-path=\"url(#clip472)\" style=\"stroke:#000000; stroke-linecap:round; stroke-linejoin:round; stroke-width:2; stroke-opacity:0.1; fill:none\" points=\"302.458,606.971 2352.76,606.971 \"/>\n",
       "<polyline clip-path=\"url(#clip472)\" style=\"stroke:#000000; stroke-linecap:round; stroke-linejoin:round; stroke-width:2; stroke-opacity:0.1; fill:none\" points=\"302.458,379.47 2352.76,379.47 \"/>\n",
       "<polyline clip-path=\"url(#clip472)\" style=\"stroke:#000000; stroke-linecap:round; stroke-linejoin:round; stroke-width:2; stroke-opacity:0.1; fill:none\" points=\"302.458,151.969 2352.76,151.969 \"/>\n",
       "<polyline clip-path=\"url(#clip470)\" style=\"stroke:#000000; stroke-linecap:round; stroke-linejoin:round; stroke-width:4; stroke-opacity:1; fill:none\" points=\"302.458,1423.18 302.458,123.472 \"/>\n",
       "<polyline clip-path=\"url(#clip470)\" style=\"stroke:#000000; stroke-linecap:round; stroke-linejoin:round; stroke-width:4; stroke-opacity:1; fill:none\" points=\"302.458,1289.47 321.356,1289.47 \"/>\n",
       "<polyline clip-path=\"url(#clip470)\" style=\"stroke:#000000; stroke-linecap:round; stroke-linejoin:round; stroke-width:4; stroke-opacity:1; fill:none\" points=\"302.458,1061.97 321.356,1061.97 \"/>\n",
       "<polyline clip-path=\"url(#clip470)\" style=\"stroke:#000000; stroke-linecap:round; stroke-linejoin:round; stroke-width:4; stroke-opacity:1; fill:none\" points=\"302.458,834.471 321.356,834.471 \"/>\n",
       "<polyline clip-path=\"url(#clip470)\" style=\"stroke:#000000; stroke-linecap:round; stroke-linejoin:round; stroke-width:4; stroke-opacity:1; fill:none\" points=\"302.458,606.971 321.356,606.971 \"/>\n",
       "<polyline clip-path=\"url(#clip470)\" style=\"stroke:#000000; stroke-linecap:round; stroke-linejoin:round; stroke-width:4; stroke-opacity:1; fill:none\" points=\"302.458,379.47 321.356,379.47 \"/>\n",
       "<polyline clip-path=\"url(#clip470)\" style=\"stroke:#000000; stroke-linecap:round; stroke-linejoin:round; stroke-width:4; stroke-opacity:1; fill:none\" points=\"302.458,151.969 321.356,151.969 \"/>\n",
       "<path clip-path=\"url(#clip470)\" d=\"M114.26 1289.92 L143.936 1289.92 L143.936 1293.86 L114.26 1293.86 L114.26 1289.92 Z\" fill=\"#000000\" fill-rule=\"nonzero\" fill-opacity=\"1\" /><path clip-path=\"url(#clip470)\" d=\"M158.056 1302.82 L174.376 1302.82 L174.376 1306.75 L152.431 1306.75 L152.431 1302.82 Q155.093 1300.06 159.677 1295.43 Q164.283 1290.78 165.464 1289.44 Q167.709 1286.91 168.589 1285.18 Q169.491 1283.42 169.491 1281.73 Q169.491 1278.97 167.547 1277.24 Q165.626 1275.5 162.524 1275.5 Q160.325 1275.5 157.871 1276.27 Q155.44 1277.03 152.663 1278.58 L152.663 1273.86 Q155.487 1272.72 157.94 1272.15 Q160.394 1271.57 162.431 1271.57 Q167.802 1271.57 170.996 1274.25 Q174.19 1276.94 174.19 1281.43 Q174.19 1283.56 173.38 1285.48 Q172.593 1287.38 170.487 1289.97 Q169.908 1290.64 166.806 1293.86 Q163.704 1297.05 158.056 1302.82 Z\" fill=\"#000000\" fill-rule=\"nonzero\" fill-opacity=\"1\" /><path clip-path=\"url(#clip470)\" d=\"M194.19 1275.27 Q190.579 1275.27 188.75 1278.84 Q186.945 1282.38 186.945 1289.51 Q186.945 1296.61 188.75 1300.18 Q190.579 1303.72 194.19 1303.72 Q197.825 1303.72 199.63 1300.18 Q201.459 1296.61 201.459 1289.51 Q201.459 1282.38 199.63 1278.84 Q197.825 1275.27 194.19 1275.27 M194.19 1271.57 Q200 1271.57 203.056 1276.17 Q206.135 1280.76 206.135 1289.51 Q206.135 1298.23 203.056 1302.84 Q200 1307.42 194.19 1307.42 Q188.38 1307.42 185.301 1302.84 Q182.246 1298.23 182.246 1289.51 Q182.246 1280.76 185.301 1276.17 Q188.38 1271.57 194.19 1271.57 Z\" fill=\"#000000\" fill-rule=\"nonzero\" fill-opacity=\"1\" /><path clip-path=\"url(#clip470)\" d=\"M224.352 1275.27 Q220.741 1275.27 218.912 1278.84 Q217.107 1282.38 217.107 1289.51 Q217.107 1296.61 218.912 1300.18 Q220.741 1303.72 224.352 1303.72 Q227.986 1303.72 229.792 1300.18 Q231.621 1296.61 231.621 1289.51 Q231.621 1282.38 229.792 1278.84 Q227.986 1275.27 224.352 1275.27 M224.352 1271.57 Q230.162 1271.57 233.218 1276.17 Q236.297 1280.76 236.297 1289.51 Q236.297 1298.23 233.218 1302.84 Q230.162 1307.42 224.352 1307.42 Q218.542 1307.42 215.463 1302.84 Q212.408 1298.23 212.408 1289.51 Q212.408 1280.76 215.463 1276.17 Q218.542 1271.57 224.352 1271.57 Z\" fill=\"#000000\" fill-rule=\"nonzero\" fill-opacity=\"1\" /><path clip-path=\"url(#clip470)\" d=\"M254.514 1275.27 Q250.903 1275.27 249.074 1278.84 Q247.269 1282.38 247.269 1289.51 Q247.269 1296.61 249.074 1300.18 Q250.903 1303.72 254.514 1303.72 Q258.148 1303.72 259.954 1300.18 Q261.783 1296.61 261.783 1289.51 Q261.783 1282.38 259.954 1278.84 Q258.148 1275.27 254.514 1275.27 M254.514 1271.57 Q260.324 1271.57 263.38 1276.17 Q266.458 1280.76 266.458 1289.51 Q266.458 1298.23 263.38 1302.84 Q260.324 1307.42 254.514 1307.42 Q248.704 1307.42 245.625 1302.84 Q242.57 1298.23 242.57 1289.51 Q242.57 1280.76 245.625 1276.17 Q248.704 1271.57 254.514 1271.57 Z\" fill=\"#000000\" fill-rule=\"nonzero\" fill-opacity=\"1\" /><path clip-path=\"url(#clip470)\" d=\"M114.26 1062.42 L143.936 1062.42 L143.936 1066.36 L114.26 1066.36 L114.26 1062.42 Z\" fill=\"#000000\" fill-rule=\"nonzero\" fill-opacity=\"1\" /><path clip-path=\"url(#clip470)\" d=\"M154.839 1075.32 L162.477 1075.32 L162.477 1048.95 L154.167 1050.62 L154.167 1046.36 L162.431 1044.69 L167.107 1044.69 L167.107 1075.32 L174.746 1075.32 L174.746 1079.25 L154.839 1079.25 L154.839 1075.32 Z\" fill=\"#000000\" fill-rule=\"nonzero\" fill-opacity=\"1\" /><path clip-path=\"url(#clip470)\" d=\"M184.237 1044.69 L202.593 1044.69 L202.593 1048.63 L188.519 1048.63 L188.519 1057.1 Q189.538 1056.75 190.556 1056.59 Q191.575 1056.4 192.593 1056.4 Q198.38 1056.4 201.76 1059.58 Q205.139 1062.75 205.139 1068.16 Q205.139 1073.74 201.667 1076.84 Q198.195 1079.92 191.875 1079.92 Q189.7 1079.92 187.431 1079.55 Q185.186 1079.18 182.778 1078.44 L182.778 1073.74 Q184.862 1074.88 187.084 1075.43 Q189.306 1075.99 191.783 1075.99 Q195.787 1075.99 198.125 1073.88 Q200.463 1071.77 200.463 1068.16 Q200.463 1064.55 198.125 1062.45 Q195.787 1060.34 191.783 1060.34 Q189.908 1060.34 188.033 1060.76 Q186.181 1061.17 184.237 1062.05 L184.237 1044.69 Z\" fill=\"#000000\" fill-rule=\"nonzero\" fill-opacity=\"1\" /><path clip-path=\"url(#clip470)\" d=\"M224.352 1047.77 Q220.741 1047.77 218.912 1051.34 Q217.107 1054.88 217.107 1062.01 Q217.107 1069.11 218.912 1072.68 Q220.741 1076.22 224.352 1076.22 Q227.986 1076.22 229.792 1072.68 Q231.621 1069.11 231.621 1062.01 Q231.621 1054.88 229.792 1051.34 Q227.986 1047.77 224.352 1047.77 M224.352 1044.07 Q230.162 1044.07 233.218 1048.67 Q236.297 1053.26 236.297 1062.01 Q236.297 1070.73 233.218 1075.34 Q230.162 1079.92 224.352 1079.92 Q218.542 1079.92 215.463 1075.34 Q212.408 1070.73 212.408 1062.01 Q212.408 1053.26 215.463 1048.67 Q218.542 1044.07 224.352 1044.07 Z\" fill=\"#000000\" fill-rule=\"nonzero\" fill-opacity=\"1\" /><path clip-path=\"url(#clip470)\" d=\"M254.514 1047.77 Q250.903 1047.77 249.074 1051.34 Q247.269 1054.88 247.269 1062.01 Q247.269 1069.11 249.074 1072.68 Q250.903 1076.22 254.514 1076.22 Q258.148 1076.22 259.954 1072.68 Q261.783 1069.11 261.783 1062.01 Q261.783 1054.88 259.954 1051.34 Q258.148 1047.77 254.514 1047.77 M254.514 1044.07 Q260.324 1044.07 263.38 1048.67 Q266.458 1053.26 266.458 1062.01 Q266.458 1070.73 263.38 1075.34 Q260.324 1079.92 254.514 1079.92 Q248.704 1079.92 245.625 1075.34 Q242.57 1070.73 242.57 1062.01 Q242.57 1053.26 245.625 1048.67 Q248.704 1044.07 254.514 1044.07 Z\" fill=\"#000000\" fill-rule=\"nonzero\" fill-opacity=\"1\" /><path clip-path=\"url(#clip470)\" d=\"M114.26 834.922 L143.936 834.922 L143.936 838.858 L114.26 838.858 L114.26 834.922 Z\" fill=\"#000000\" fill-rule=\"nonzero\" fill-opacity=\"1\" /><path clip-path=\"url(#clip470)\" d=\"M154.839 847.816 L162.477 847.816 L162.477 821.45 L154.167 823.117 L154.167 818.858 L162.431 817.191 L167.107 817.191 L167.107 847.816 L174.746 847.816 L174.746 851.751 L154.839 851.751 L154.839 847.816 Z\" fill=\"#000000\" fill-rule=\"nonzero\" fill-opacity=\"1\" /><path clip-path=\"url(#clip470)\" d=\"M194.19 820.27 Q190.579 820.27 188.75 823.835 Q186.945 827.376 186.945 834.506 Q186.945 841.612 188.75 845.177 Q190.579 848.719 194.19 848.719 Q197.825 848.719 199.63 845.177 Q201.459 841.612 201.459 834.506 Q201.459 827.376 199.63 823.835 Q197.825 820.27 194.19 820.27 M194.19 816.566 Q200 816.566 203.056 821.173 Q206.135 825.756 206.135 834.506 Q206.135 843.233 203.056 847.839 Q200 852.422 194.19 852.422 Q188.38 852.422 185.301 847.839 Q182.246 843.233 182.246 834.506 Q182.246 825.756 185.301 821.173 Q188.38 816.566 194.19 816.566 Z\" fill=\"#000000\" fill-rule=\"nonzero\" fill-opacity=\"1\" /><path clip-path=\"url(#clip470)\" d=\"M224.352 820.27 Q220.741 820.27 218.912 823.835 Q217.107 827.376 217.107 834.506 Q217.107 841.612 218.912 845.177 Q220.741 848.719 224.352 848.719 Q227.986 848.719 229.792 845.177 Q231.621 841.612 231.621 834.506 Q231.621 827.376 229.792 823.835 Q227.986 820.27 224.352 820.27 M224.352 816.566 Q230.162 816.566 233.218 821.173 Q236.297 825.756 236.297 834.506 Q236.297 843.233 233.218 847.839 Q230.162 852.422 224.352 852.422 Q218.542 852.422 215.463 847.839 Q212.408 843.233 212.408 834.506 Q212.408 825.756 215.463 821.173 Q218.542 816.566 224.352 816.566 Z\" fill=\"#000000\" fill-rule=\"nonzero\" fill-opacity=\"1\" /><path clip-path=\"url(#clip470)\" d=\"M254.514 820.27 Q250.903 820.27 249.074 823.835 Q247.269 827.376 247.269 834.506 Q247.269 841.612 249.074 845.177 Q250.903 848.719 254.514 848.719 Q258.148 848.719 259.954 845.177 Q261.783 841.612 261.783 834.506 Q261.783 827.376 259.954 823.835 Q258.148 820.27 254.514 820.27 M254.514 816.566 Q260.324 816.566 263.38 821.173 Q266.458 825.756 266.458 834.506 Q266.458 843.233 263.38 847.839 Q260.324 852.422 254.514 852.422 Q248.704 852.422 245.625 847.839 Q242.57 843.233 242.57 834.506 Q242.57 825.756 245.625 821.173 Q248.704 816.566 254.514 816.566 Z\" fill=\"#000000\" fill-rule=\"nonzero\" fill-opacity=\"1\" /><path clip-path=\"url(#clip470)\" d=\"M144.422 607.422 L174.098 607.422 L174.098 611.357 L144.422 611.357 L144.422 607.422 Z\" fill=\"#000000\" fill-rule=\"nonzero\" fill-opacity=\"1\" /><path clip-path=\"url(#clip470)\" d=\"M184.237 589.691 L202.593 589.691 L202.593 593.626 L188.519 593.626 L188.519 602.098 Q189.538 601.751 190.556 601.589 Q191.575 601.403 192.593 601.403 Q198.38 601.403 201.76 604.575 Q205.139 607.746 205.139 613.163 Q205.139 618.741 201.667 621.843 Q198.195 624.922 191.875 624.922 Q189.7 624.922 187.431 624.551 Q185.186 624.181 182.778 623.44 L182.778 618.741 Q184.862 619.876 187.084 620.431 Q189.306 620.987 191.783 620.987 Q195.787 620.987 198.125 618.88 Q200.463 616.774 200.463 613.163 Q200.463 609.552 198.125 607.445 Q195.787 605.339 191.783 605.339 Q189.908 605.339 188.033 605.755 Q186.181 606.172 184.237 607.052 L184.237 589.691 Z\" fill=\"#000000\" fill-rule=\"nonzero\" fill-opacity=\"1\" /><path clip-path=\"url(#clip470)\" d=\"M224.352 592.769 Q220.741 592.769 218.912 596.334 Q217.107 599.876 217.107 607.005 Q217.107 614.112 218.912 617.676 Q220.741 621.218 224.352 621.218 Q227.986 621.218 229.792 617.676 Q231.621 614.112 231.621 607.005 Q231.621 599.876 229.792 596.334 Q227.986 592.769 224.352 592.769 M224.352 589.066 Q230.162 589.066 233.218 593.672 Q236.297 598.255 236.297 607.005 Q236.297 615.732 233.218 620.338 Q230.162 624.922 224.352 624.922 Q218.542 624.922 215.463 620.338 Q212.408 615.732 212.408 607.005 Q212.408 598.255 215.463 593.672 Q218.542 589.066 224.352 589.066 Z\" fill=\"#000000\" fill-rule=\"nonzero\" fill-opacity=\"1\" /><path clip-path=\"url(#clip470)\" d=\"M254.514 592.769 Q250.903 592.769 249.074 596.334 Q247.269 599.876 247.269 607.005 Q247.269 614.112 249.074 617.676 Q250.903 621.218 254.514 621.218 Q258.148 621.218 259.954 617.676 Q261.783 614.112 261.783 607.005 Q261.783 599.876 259.954 596.334 Q258.148 592.769 254.514 592.769 M254.514 589.066 Q260.324 589.066 263.38 593.672 Q266.458 598.255 266.458 607.005 Q266.458 615.732 263.38 620.338 Q260.324 624.922 254.514 624.922 Q248.704 624.922 245.625 620.338 Q242.57 615.732 242.57 607.005 Q242.57 598.255 245.625 593.672 Q248.704 589.066 254.514 589.066 Z\" fill=\"#000000\" fill-rule=\"nonzero\" fill-opacity=\"1\" /><path clip-path=\"url(#clip470)\" d=\"M254.514 365.269 Q250.903 365.269 249.074 368.833 Q247.269 372.375 247.269 379.505 Q247.269 386.611 249.074 390.176 Q250.903 393.718 254.514 393.718 Q258.148 393.718 259.954 390.176 Q261.783 386.611 261.783 379.505 Q261.783 372.375 259.954 368.833 Q258.148 365.269 254.514 365.269 M254.514 361.565 Q260.324 361.565 263.38 366.171 Q266.458 370.755 266.458 379.505 Q266.458 388.231 263.38 392.838 Q260.324 397.421 254.514 397.421 Q248.704 397.421 245.625 392.838 Q242.57 388.231 242.57 379.505 Q242.57 370.755 245.625 366.171 Q248.704 361.565 254.514 361.565 Z\" fill=\"#000000\" fill-rule=\"nonzero\" fill-opacity=\"1\" /><path clip-path=\"url(#clip470)\" d=\"M184.237 134.689 L202.593 134.689 L202.593 138.625 L188.519 138.625 L188.519 147.097 Q189.538 146.75 190.556 146.588 Q191.575 146.402 192.593 146.402 Q198.38 146.402 201.76 149.574 Q205.139 152.745 205.139 158.162 Q205.139 163.74 201.667 166.842 Q198.195 169.921 191.875 169.921 Q189.7 169.921 187.431 169.55 Q185.186 169.18 182.778 168.439 L182.778 163.74 Q184.862 164.874 187.084 165.43 Q189.306 165.986 191.783 165.986 Q195.787 165.986 198.125 163.879 Q200.463 161.773 200.463 158.162 Q200.463 154.55 198.125 152.444 Q195.787 150.337 191.783 150.337 Q189.908 150.337 188.033 150.754 Q186.181 151.171 184.237 152.05 L184.237 134.689 Z\" fill=\"#000000\" fill-rule=\"nonzero\" fill-opacity=\"1\" /><path clip-path=\"url(#clip470)\" d=\"M224.352 137.768 Q220.741 137.768 218.912 141.333 Q217.107 144.875 217.107 152.004 Q217.107 159.111 218.912 162.675 Q220.741 166.217 224.352 166.217 Q227.986 166.217 229.792 162.675 Q231.621 159.111 231.621 152.004 Q231.621 144.875 229.792 141.333 Q227.986 137.768 224.352 137.768 M224.352 134.064 Q230.162 134.064 233.218 138.671 Q236.297 143.254 236.297 152.004 Q236.297 160.731 233.218 165.337 Q230.162 169.921 224.352 169.921 Q218.542 169.921 215.463 165.337 Q212.408 160.731 212.408 152.004 Q212.408 143.254 215.463 138.671 Q218.542 134.064 224.352 134.064 Z\" fill=\"#000000\" fill-rule=\"nonzero\" fill-opacity=\"1\" /><path clip-path=\"url(#clip470)\" d=\"M254.514 137.768 Q250.903 137.768 249.074 141.333 Q247.269 144.875 247.269 152.004 Q247.269 159.111 249.074 162.675 Q250.903 166.217 254.514 166.217 Q258.148 166.217 259.954 162.675 Q261.783 159.111 261.783 152.004 Q261.783 144.875 259.954 141.333 Q258.148 137.768 254.514 137.768 M254.514 134.064 Q260.324 134.064 263.38 138.671 Q266.458 143.254 266.458 152.004 Q266.458 160.731 263.38 165.337 Q260.324 169.921 254.514 169.921 Q248.704 169.921 245.625 165.337 Q242.57 160.731 242.57 152.004 Q242.57 143.254 245.625 138.671 Q248.704 134.064 254.514 134.064 Z\" fill=\"#000000\" fill-rule=\"nonzero\" fill-opacity=\"1\" /><path clip-path=\"url(#clip470)\" d=\"M58.657 958.313 L77.5631 958.313 L77.5631 964.202 L28.3562 964.202 L28.3562 958.313 L33.7671 958.313 Q30.5842 956.467 29.0564 953.666 Q27.4968 950.834 27.4968 946.919 Q27.4968 940.426 32.6531 936.384 Q37.8093 932.31 46.212 932.31 Q54.6147 932.31 59.771 936.384 Q64.9272 940.426 64.9272 946.919 Q64.9272 950.834 63.3994 953.666 Q61.8398 956.467 58.657 958.313 M46.212 938.389 Q39.7508 938.389 36.0905 941.062 Q32.3984 943.704 32.3984 948.351 Q32.3984 952.998 36.0905 955.672 Q39.7508 958.313 46.212 958.313 Q52.6732 958.313 56.3653 955.672 Q60.0256 952.998 60.0256 948.351 Q60.0256 943.704 56.3653 941.062 Q52.6732 938.389 46.212 938.389 Z\" fill=\"#000000\" fill-rule=\"nonzero\" fill-opacity=\"1\" /><path clip-path=\"url(#clip470)\" d=\"M32.4621 908.788 Q32.4621 913.499 36.1542 916.236 Q39.8145 918.973 46.212 918.973 Q52.6095 918.973 56.3017 916.268 Q59.9619 913.531 59.9619 908.788 Q59.9619 904.109 56.2698 901.372 Q52.5777 898.635 46.212 898.635 Q39.8781 898.635 36.186 901.372 Q32.4621 904.109 32.4621 908.788 M27.4968 908.788 Q27.4968 901.149 32.4621 896.789 Q37.4273 892.428 46.212 892.428 Q54.9649 892.428 59.9619 896.789 Q64.9272 901.149 64.9272 908.788 Q64.9272 916.459 59.9619 920.819 Q54.9649 925.148 46.212 925.148 Q37.4273 925.148 32.4621 920.819 Q27.4968 916.459 27.4968 908.788 Z\" fill=\"#000000\" fill-rule=\"nonzero\" fill-opacity=\"1\" /><path clip-path=\"url(#clip470)\" d=\"M29.4065 859.995 L34.9447 859.995 Q33.6716 862.478 33.035 865.151 Q32.3984 867.825 32.3984 870.689 Q32.3984 875.05 33.7352 877.246 Q35.072 879.41 37.7456 879.41 Q39.7826 879.41 40.9603 877.851 Q42.1061 876.291 43.1565 871.581 L43.6021 869.575 Q44.9389 863.337 47.3897 860.727 Q49.8086 858.085 54.1691 858.085 Q59.1344 858.085 62.0308 862.032 Q64.9272 865.947 64.9272 872.822 Q64.9272 875.687 64.3543 878.806 Q63.8132 881.893 62.6992 885.331 L56.6518 885.331 Q58.3387 882.084 59.198 878.933 Q60.0256 875.782 60.0256 872.695 Q60.0256 868.557 58.6251 866.329 Q57.1929 864.101 54.6147 864.101 Q52.2276 864.101 50.9545 865.724 Q49.6813 867.316 48.5037 872.758 L48.0262 874.795 Q46.8804 880.238 44.5251 882.657 Q42.138 885.076 38.0002 885.076 Q32.9713 885.076 30.2341 881.511 Q27.4968 877.946 27.4968 871.39 Q27.4968 868.143 27.9743 865.279 Q28.4517 862.414 29.4065 859.995 Z\" fill=\"#000000\" fill-rule=\"nonzero\" fill-opacity=\"1\" /><path clip-path=\"url(#clip470)\" d=\"M28.3562 848.76 L28.3562 842.903 L64.0042 842.903 L64.0042 848.76 L28.3562 848.76 M14.479 848.76 L14.479 842.903 L21.895 842.903 L21.895 848.76 L14.479 848.76 Z\" fill=\"#000000\" fill-rule=\"nonzero\" fill-opacity=\"1\" /><path clip-path=\"url(#clip470)\" d=\"M18.2347 824.856 L28.3562 824.856 L28.3562 812.793 L32.9077 812.793 L32.9077 824.856 L52.2594 824.856 Q56.6199 824.856 57.8613 823.679 Q59.1026 822.469 59.1026 818.809 L59.1026 812.793 L64.0042 812.793 L64.0042 818.809 Q64.0042 825.588 61.4897 828.167 Q58.9434 830.745 52.2594 830.745 L32.9077 830.745 L32.9077 835.042 L28.3562 835.042 L28.3562 830.745 L18.2347 830.745 L18.2347 824.856 Z\" fill=\"#000000\" fill-rule=\"nonzero\" fill-opacity=\"1\" /><path clip-path=\"url(#clip470)\" d=\"M28.3562 805.091 L28.3562 799.234 L64.0042 799.234 L64.0042 805.091 L28.3562 805.091 M14.479 805.091 L14.479 799.234 L21.895 799.234 L21.895 805.091 L14.479 805.091 Z\" fill=\"#000000\" fill-rule=\"nonzero\" fill-opacity=\"1\" /><path clip-path=\"url(#clip470)\" d=\"M32.4621 773.167 Q32.4621 777.877 36.1542 780.615 Q39.8145 783.352 46.212 783.352 Q52.6095 783.352 56.3017 780.647 Q59.9619 777.909 59.9619 773.167 Q59.9619 768.488 56.2698 765.751 Q52.5777 763.014 46.212 763.014 Q39.8781 763.014 36.186 765.751 Q32.4621 768.488 32.4621 773.167 M27.4968 773.167 Q27.4968 765.528 32.4621 761.167 Q37.4273 756.807 46.212 756.807 Q54.9649 756.807 59.9619 761.167 Q64.9272 765.528 64.9272 773.167 Q64.9272 780.838 59.9619 785.198 Q54.9649 789.527 46.212 789.527 Q37.4273 789.527 32.4621 785.198 Q27.4968 780.838 27.4968 773.167 Z\" fill=\"#000000\" fill-rule=\"nonzero\" fill-opacity=\"1\" /><path clip-path=\"url(#clip470)\" d=\"M42.4881 717.467 L64.0042 717.467 L64.0042 723.323 L42.679 723.323 Q37.6183 723.323 35.1038 725.297 Q32.5894 727.27 32.5894 731.217 Q32.5894 735.959 35.6131 738.697 Q38.6368 741.434 43.8567 741.434 L64.0042 741.434 L64.0042 747.322 L28.3562 747.322 L28.3562 741.434 L33.8944 741.434 Q30.6797 739.333 29.0883 736.5 Q27.4968 733.636 27.4968 729.912 Q27.4968 723.769 31.3163 720.618 Q35.1038 717.467 42.4881 717.467 Z\" fill=\"#000000\" fill-rule=\"nonzero\" fill-opacity=\"1\" /><path clip-path=\"url(#clip470)\" d=\"M14.5426 670.997 Q21.8632 675.262 29.0246 677.331 Q36.186 679.4 43.5384 679.4 Q50.8908 679.4 58.1159 677.331 Q65.3091 675.23 72.5979 670.997 L72.5979 676.09 Q65.1182 680.864 57.8931 683.251 Q50.668 685.607 43.5384 685.607 Q36.4406 685.607 29.2474 683.251 Q22.0542 680.896 14.5426 676.09 L14.5426 670.997 Z\" fill=\"#000000\" fill-rule=\"nonzero\" fill-opacity=\"1\" /><path clip-path=\"url(#clip470)\" d=\"M35.1993 631.88 Q31.2526 629.684 29.3747 626.628 Q27.4968 623.573 27.4968 619.435 Q27.4968 613.865 31.4117 610.841 Q35.2948 607.818 42.4881 607.818 L64.0042 607.818 L64.0042 613.706 L42.679 613.706 Q37.5546 613.706 35.072 615.52 Q32.5894 617.334 32.5894 621.058 Q32.5894 625.61 35.6131 628.252 Q38.6368 630.893 43.8567 630.893 L64.0042 630.893 L64.0042 636.782 L42.679 636.782 Q37.5228 636.782 35.072 638.596 Q32.5894 640.41 32.5894 644.198 Q32.5894 648.685 35.6449 651.327 Q38.6686 653.969 43.8567 653.969 L64.0042 653.969 L64.0042 659.857 L28.3562 659.857 L28.3562 653.969 L33.8944 653.969 Q30.616 651.964 29.0564 649.163 Q27.4968 646.362 27.4968 642.511 Q27.4968 638.628 29.4702 635.922 Q31.4436 633.185 35.1993 631.88 Z\" fill=\"#000000\" fill-rule=\"nonzero\" fill-opacity=\"1\" /><path clip-path=\"url(#clip470)\" d=\"M14.5426 597.06 L14.5426 591.967 Q22.0542 587.193 29.2474 584.837 Q36.4406 582.45 43.5384 582.45 Q50.668 582.45 57.8931 584.837 Q65.1182 587.193 72.5979 591.967 L72.5979 597.06 Q65.3091 592.826 58.1159 590.758 Q50.8908 588.657 43.5384 588.657 Q36.186 588.657 29.0246 590.758 Q21.8632 592.826 14.5426 597.06 Z\" fill=\"#000000\" fill-rule=\"nonzero\" fill-opacity=\"1\" /><path clip-path=\"url(#clip470)\" d=\"M1158.77 18.8205 L1158.77 41.5461 L1169.05 41.5461 Q1174.77 41.5461 1177.89 38.5889 Q1181 35.6318 1181 30.163 Q1181 24.7348 1177.89 21.7777 Q1174.77 18.8205 1169.05 18.8205 L1158.77 18.8205 M1150.58 12.096 L1169.05 12.096 Q1179.22 12.096 1184.41 16.714 Q1189.63 21.2916 1189.63 30.163 Q1189.63 39.1155 1184.41 43.6931 Q1179.22 48.2706 1169.05 48.2706 L1158.77 48.2706 L1158.77 72.576 L1150.58 72.576 L1150.58 12.096 Z\" fill=\"#000000\" fill-rule=\"nonzero\" fill-opacity=\"1\" /><path clip-path=\"url(#clip470)\" d=\"M1214.91 32.4315 Q1208.92 32.4315 1205.43 37.1306 Q1201.95 41.7891 1201.95 49.9314 Q1201.95 58.0738 1205.39 62.7728 Q1208.88 67.4314 1214.91 67.4314 Q1220.87 67.4314 1224.35 62.7323 Q1227.83 58.0333 1227.83 49.9314 Q1227.83 41.8701 1224.35 37.1711 Q1220.87 32.4315 1214.91 32.4315 M1214.91 26.1121 Q1224.63 26.1121 1230.18 32.4315 Q1235.73 38.7509 1235.73 49.9314 Q1235.73 61.0714 1230.18 67.4314 Q1224.63 73.7508 1214.91 73.7508 Q1205.15 73.7508 1199.6 67.4314 Q1194.09 61.0714 1194.09 49.9314 Q1194.09 38.7509 1199.6 32.4315 Q1205.15 26.1121 1214.91 26.1121 Z\" fill=\"#000000\" fill-rule=\"nonzero\" fill-opacity=\"1\" /><path clip-path=\"url(#clip470)\" d=\"M1277.01 28.5427 L1277.01 35.5912 Q1273.85 33.9709 1270.45 33.1607 Q1267.05 32.3505 1263.4 32.3505 Q1257.85 32.3505 1255.06 34.0519 Q1252.3 35.7533 1252.3 39.156 Q1252.3 41.7486 1254.29 43.2475 Q1256.27 44.7058 1262.27 46.0426 L1264.82 46.6097 Q1272.76 48.3111 1276.08 51.4303 Q1279.44 54.509 1279.44 60.0587 Q1279.44 66.3781 1274.42 70.0644 Q1269.44 73.7508 1260.69 73.7508 Q1257.04 73.7508 1253.07 73.0216 Q1249.14 72.3329 1244.77 70.9151 L1244.77 63.2184 Q1248.9 65.3654 1252.91 66.4591 Q1256.92 67.5124 1260.85 67.5124 Q1266.11 67.5124 1268.95 65.73 Q1271.79 63.9071 1271.79 60.6258 Q1271.79 57.5877 1269.72 55.9673 Q1267.69 54.3469 1260.77 52.8481 L1258.17 52.2405 Q1251.25 50.7821 1248.17 47.7845 Q1245.09 44.7463 1245.09 39.4801 Q1245.09 33.0797 1249.63 29.5959 Q1254.16 26.1121 1262.51 26.1121 Q1266.64 26.1121 1270.29 26.7198 Q1273.93 27.3274 1277.01 28.5427 Z\" fill=\"#000000\" fill-rule=\"nonzero\" fill-opacity=\"1\" /><path clip-path=\"url(#clip470)\" d=\"M1291.31 27.2059 L1298.76 27.2059 L1298.76 72.576 L1291.31 72.576 L1291.31 27.2059 M1291.31 9.54393 L1298.76 9.54393 L1298.76 18.9825 L1291.31 18.9825 L1291.31 9.54393 Z\" fill=\"#000000\" fill-rule=\"nonzero\" fill-opacity=\"1\" /><path clip-path=\"url(#clip470)\" d=\"M1321.73 14.324 L1321.73 27.2059 L1337.09 27.2059 L1337.09 32.9987 L1321.73 32.9987 L1321.73 57.6282 Q1321.73 63.1779 1323.23 64.7578 Q1324.77 66.3376 1329.43 66.3376 L1337.09 66.3376 L1337.09 72.576 L1329.43 72.576 Q1320.8 72.576 1317.52 69.3758 Q1314.24 66.1351 1314.24 57.6282 L1314.24 32.9987 L1308.77 32.9987 L1308.77 27.2059 L1314.24 27.2059 L1314.24 14.324 L1321.73 14.324 Z\" fill=\"#000000\" fill-rule=\"nonzero\" fill-opacity=\"1\" /><path clip-path=\"url(#clip470)\" d=\"M1346.89 27.2059 L1354.34 27.2059 L1354.34 72.576 L1346.89 72.576 L1346.89 27.2059 M1346.89 9.54393 L1354.34 9.54393 L1354.34 18.9825 L1346.89 18.9825 L1346.89 9.54393 Z\" fill=\"#000000\" fill-rule=\"nonzero\" fill-opacity=\"1\" /><path clip-path=\"url(#clip470)\" d=\"M1387.52 32.4315 Q1381.52 32.4315 1378.04 37.1306 Q1374.56 41.7891 1374.56 49.9314 Q1374.56 58.0738 1378 62.7728 Q1381.48 67.4314 1387.52 67.4314 Q1393.47 67.4314 1396.96 62.7323 Q1400.44 58.0333 1400.44 49.9314 Q1400.44 41.8701 1396.96 37.1711 Q1393.47 32.4315 1387.52 32.4315 M1387.52 26.1121 Q1397.24 26.1121 1402.79 32.4315 Q1408.34 38.7509 1408.34 49.9314 Q1408.34 61.0714 1402.79 67.4314 Q1397.24 73.7508 1387.52 73.7508 Q1377.76 73.7508 1372.21 67.4314 Q1366.7 61.0714 1366.7 49.9314 Q1366.7 38.7509 1372.21 32.4315 Q1377.76 26.1121 1387.52 26.1121 Z\" fill=\"#000000\" fill-rule=\"nonzero\" fill-opacity=\"1\" /><path clip-path=\"url(#clip470)\" d=\"M1458.41 45.1919 L1458.41 72.576 L1450.96 72.576 L1450.96 45.4349 Q1450.96 38.994 1448.45 35.7938 Q1445.93 32.5936 1440.91 32.5936 Q1434.88 32.5936 1431.39 36.4419 Q1427.91 40.2903 1427.91 46.9338 L1427.91 72.576 L1420.41 72.576 L1420.41 27.2059 L1427.91 27.2059 L1427.91 34.2544 Q1430.58 30.163 1434.19 28.1376 Q1437.83 26.1121 1442.57 26.1121 Q1450.39 26.1121 1454.4 30.9732 Q1458.41 35.7938 1458.41 45.1919 Z\" fill=\"#000000\" fill-rule=\"nonzero\" fill-opacity=\"1\" /><path clip-path=\"url(#clip470)\" d=\"M1502.2 28.5427 L1502.2 35.5912 Q1499.04 33.9709 1495.64 33.1607 Q1492.24 32.3505 1488.59 32.3505 Q1483.04 32.3505 1480.25 34.0519 Q1477.49 35.7533 1477.49 39.156 Q1477.49 41.7486 1479.48 43.2475 Q1481.46 44.7058 1487.46 46.0426 L1490.01 46.6097 Q1497.95 48.3111 1501.27 51.4303 Q1504.63 54.509 1504.63 60.0587 Q1504.63 66.3781 1499.61 70.0644 Q1494.63 73.7508 1485.88 73.7508 Q1482.23 73.7508 1478.26 73.0216 Q1474.33 72.3329 1469.96 70.9151 L1469.96 63.2184 Q1474.09 65.3654 1478.1 66.4591 Q1482.11 67.5124 1486.04 67.5124 Q1491.3 67.5124 1494.14 65.73 Q1496.98 63.9071 1496.98 60.6258 Q1496.98 57.5877 1494.91 55.9673 Q1492.88 54.3469 1485.96 52.8481 L1483.36 52.2405 Q1476.44 50.7821 1473.36 47.7845 Q1470.28 44.7463 1470.28 39.4801 Q1470.28 33.0797 1474.82 29.5959 Q1479.35 26.1121 1487.7 26.1121 Q1491.83 26.1121 1495.48 26.7198 Q1499.12 27.3274 1502.2 28.5427 Z\" fill=\"#000000\" fill-rule=\"nonzero\" fill-opacity=\"1\" /><polyline clip-path=\"url(#clip472)\" style=\"stroke:#009af9; stroke-linecap:round; stroke-linejoin:round; stroke-width:4; stroke-opacity:1; fill:none\" points=\"360.486,379.47 366.955,379.463 373.424,379.444 379.893,379.412 386.362,379.373 392.831,379.328 399.3,379.278 405.769,379.223 412.238,379.165 418.707,379.103 425.176,379.038 431.645,378.971 438.114,378.901 444.583,378.829 451.052,378.757 457.521,378.683 463.99,378.608 470.459,378.533 476.928,378.458 483.397,378.383 489.867,378.309 496.336,378.235 502.805,378.161 509.274,378.089 515.743,378.018 522.212,377.949 528.681,377.881 535.15,377.815 541.619,377.75 548.088,377.687 554.557,377.627 561.026,377.568 567.495,377.512 573.964,377.458 580.433,377.406 586.902,377.357 593.371,377.311 599.84,377.267 606.309,377.226 612.778,377.187 619.247,377.151 625.716,377.118 632.185,377.088 638.654,377.061 645.123,377.037 651.592,377.017 658.062,376.999 664.531,376.985 671,376.974 677.469,376.967 683.938,376.963 690.407,376.963 696.876,376.967 703.345,376.975 709.814,376.987 716.283,377.003 722.752,377.024 729.221,377.051 735.69,377.082 742.159,377.119 748.628,377.161 755.097,377.21 761.566,377.266 768.035,377.328 774.504,377.399 780.973,377.478 787.442,377.566 793.911,377.664 800.38,377.773 806.849,377.894 813.318,378.028 819.788,378.176 826.257,378.341 832.726,378.524 839.195,378.725 845.664,378.947 852.133,379.191 858.602,379.459 865.071,379.751 871.54,380.068 878.009,380.412 884.478,380.782 890.947,381.179 897.416,381.605 903.885,382.059 910.354,382.542 916.823,383.057 923.292,383.605 929.761,384.188 936.23,384.809 942.699,385.471 949.168,386.178 955.637,386.934 962.106,387.741 968.575,388.604 975.044,389.529 981.514,390.536 987.983,391.649 994.452,392.888 1000.92,394.275 1007.39,395.837 1013.86,397.606 1020.33,399.626 1026.8,401.949 1033.27,404.646 1039.73,407.777 1046.2,411.391 1052.67,415.564 1059.14,420.391 1065.61,425.999 1072.08,432.541 1078.55,440.161 1085.02,448.939 1091.49,458.925 1097.96,470.161 1104.43,482.676 1110.89,496.479 1117.36,511.568 1123.83,527.914 1130.3,545.47 1136.77,564.164 1143.24,583.819 1149.71,604.117 1156.18,624.707 1162.65,645.287 1169.12,665.53 1175.58,685.215 1182.05,704.223 1188.52,722.361 1194.99,739.441 1201.46,755.321 1207.93,769.896 1214.4,783.109 1220.87,794.976 1227.34,805.575 1233.81,815.044 1240.28,823.573 1246.74,831.376 1253.21,838.669 1259.68,845.635 1266.15,852.483 1272.62,859.498 1279.09,866.988 1285.56,875.263 1292.03,884.574 1298.5,895.096 1304.97,906.878 1311.43,919.782 1317.9,933.468 1324.37,947.47 1330.84,961.265 1337.31,974.408 1343.78,986.533 1350.25,997.363 1356.72,1006.8 1363.19,1014.92 1369.66,1021.9 1376.12,1028.02 1382.59,1033.6 1389.06,1039 1395.53,1044.63 1402,1050.97 1408.47,1058.4 1414.94,1067.03 1421.41,1076.77 1427.88,1087.2 1434.35,1097.8 1440.82,1107.87 1447.28,1116.83 1453.75,1124.44 1460.22,1130.72 1466.69,1135.88 1473.16,1140.29 1479.63,1144.4 1486.1,1148.74 1492.57,1153.88 1499.04,1160.15 1505.51,1167.54 1511.97,1175.64 1518.44,1183.7 1524.91,1191.1 1531.38,1197.36 1537.85,1202.26 1544.32,1205.95 1550.79,1208.8 1557.26,1211.36 1563.73,1214.26 1570.2,1218.08 1576.67,1223.05 1583.13,1228.91 1589.6,1234.97 1596.07,1240.38 1602.54,1244.55 1609.01,1247.34 1615.48,1248.98 1621.95,1250 1628.42,1251.08 1634.89,1252.88 1641.36,1255.78 1647.82,1259.59 1654.29,1263.6 1660.76,1266.85 1667.23,1268.84 1673.7,1269.51 1680.17,1269.22 1686.64,1268.65 1693.11,1268.6 1699.58,1269.55 1706.05,1271.51 1712.52,1273.86 1718.98,1275.64 1725.45,1276.17 1731.92,1275.37 1738.39,1273.73 1744.86,1272.06 1751.33,1271.13 1757.8,1271.19 1764.27,1271.83 1770.74,1272.15 1777.21,1271.29 1783.67,1269.03 1790.14,1265.88 1796.61,1262.65 1803.08,1260.16 1809.55,1258.66 1816.02,1257.89 1822.49,1257.02 1828.96,1255.15 1835.43,1252.07 1841.9,1248.44 1848.36,1245.19 1854.83,1242.85 1861.3,1241.36 1867.77,1240.15 1874.24,1238.15 1880.71,1234.85 1887.18,1230.98 1893.65,1227.57 1900.12,1225.04 1906.59,1223.39 1913.06,1221.88 1919.52,1219.61 1925.99,1216.25 1932.46,1212.37 1938.93,1208.97 1945.4,1206.49 1951.87,1204.72 1958.34,1202.57 1964.81,1199.26 1971.28,1195.04 1977.75,1190.68 1984.21,1186.96 1990.68,1184.12 1997.15,1181.53 2003.62,1178.24 2010.09,1173.96 2016.56,1169.27 2023.03,1165.01 2029.5,1161.69 2035.97,1158.95 2042.44,1155.72 2048.91,1151.4 2055.37,1146.57 2061.84,1142.12 2068.31,1138.64 2074.78,1135.85 2081.25,1132.8 2087.72,1128.78 2094.19,1124.04 2100.66,1119.52 2107.13,1115.94 2113.6,1113.13 2120.06,1109.99 2126.53,1105.73 2133,1100.83 2139.47,1096.28 2145.94,1092.69 2152.41,1089.8 2158.88,1086.48 2165.35,1082.11 2171.82,1077.18 2178.29,1072.73 2184.75,1069.29 2191.22,1066.33 2197.69,1062.66 2204.16,1057.92 2210.63,1053.03 2217.1,1048.92 2223.57,1045.73 2230.04,1042.62 2236.51,1038.61 2242.98,1033.81 2249.45,1029.18 2255.91,1025.51 2262.38,1022.51 2268.85,1019.15 2275.32,1014.87 2281.79,1010.35 2288.26,1006.64 2294.73,1003.82 \"/>\n",
       "<polyline clip-path=\"url(#clip472)\" style=\"stroke:#e26f46; stroke-linecap:round; stroke-linejoin:round; stroke-width:4; stroke-opacity:1; fill:none\" points=\"360.486,379.47 366.955,379.471 373.424,379.475 379.893,379.48 386.362,379.487 392.831,379.494 399.3,379.5 405.769,379.505 412.238,379.509 418.707,379.512 425.176,379.514 431.645,379.516 438.114,379.515 444.583,379.514 451.052,379.511 457.521,379.507 463.99,379.501 470.459,379.493 476.928,379.484 483.397,379.472 489.867,379.458 496.336,379.442 502.805,379.423 509.274,379.402 515.743,379.378 522.212,379.351 528.681,379.322 535.15,379.289 541.619,379.253 548.088,379.214 554.557,379.172 561.026,379.125 567.495,379.076 573.964,379.022 580.433,378.965 586.902,378.904 593.371,378.839 599.84,378.77 606.309,378.696 612.778,378.619 619.247,378.537 625.716,378.452 632.185,378.361 638.654,378.267 645.123,378.168 651.592,378.065 658.062,377.958 664.531,377.846 671,377.73 677.469,377.61 683.938,377.485 690.407,377.356 696.876,377.224 703.345,377.087 709.814,376.946 716.283,376.801 722.752,376.652 729.221,376.5 735.69,376.344 742.159,376.185 748.628,376.023 755.097,375.858 761.566,375.691 768.035,375.521 774.504,375.35 780.973,375.177 787.442,375.003 793.911,374.829 800.38,374.654 806.849,374.481 813.318,374.309 819.788,374.139 826.257,373.973 832.726,373.809 839.195,373.648 845.664,373.486 852.133,373.324 858.602,373.162 865.071,373.001 871.54,372.843 878.009,372.691 884.478,372.549 890.947,372.419 897.416,372.308 903.885,372.218 910.354,372.156 916.823,372.129 923.292,372.144 929.761,372.209 936.23,372.336 942.699,372.537 949.168,372.827 955.637,373.225 962.106,373.754 968.575,374.441 975.044,375.311 981.514,376.391 987.983,377.708 994.452,379.297 1000.92,381.201 1007.39,383.473 1013.86,386.17 1020.33,389.363 1026.8,393.128 1033.27,397.555 1039.73,402.7 1046.2,408.585 1052.67,415.227 1059.14,422.638 1065.61,430.822 1072.08,439.765 1078.55,449.444 1085.02,459.826 1091.49,470.866 1097.96,482.51 1104.43,494.691 1110.89,507.333 1117.36,520.364 1123.83,533.711 1130.3,547.305 1136.77,561.08 1143.24,574.924 1149.71,588.702 1156.18,602.358 1162.65,615.911 1169.12,629.377 1175.58,642.771 1182.05,656.145 1188.52,669.589 1194.99,683.193 1201.46,697.037 1207.93,711.19 1214.4,725.701 1220.87,740.589 1227.34,755.842 1233.81,771.413 1240.28,787.221 1246.74,803.169 1253.21,819.164 1259.68,835.168 1266.15,851.156 1272.62,867.07 1279.09,882.866 1285.56,898.46 1292.03,913.758 1298.5,928.665 1304.97,943.044 1311.43,956.779 1317.9,969.843 1324.37,982.321 1330.84,994.359 1337.31,1006.1 1343.78,1017.74 1350.25,1029.44 1356.72,1041.32 1363.19,1053.41 1369.66,1065.67 1376.12,1078.04 1382.59,1090.43 1389.06,1102.83 1395.53,1115.22 1402,1127.43 1408.47,1139.23 1414.94,1150.47 1421.41,1161.02 1427.88,1170.86 1434.35,1180.1 1440.82,1189.01 1447.28,1197.84 1453.75,1206.74 1460.22,1215.8 1466.69,1225.01 1473.16,1234.3 1479.63,1243.64 1486.1,1252.92 1492.57,1261.9 1499.04,1270.31 1505.51,1277.99 1511.97,1284.88 1518.44,1291.17 1524.91,1297.08 1531.38,1302.87 1537.85,1308.74 1544.32,1314.79 1550.79,1320.98 1557.26,1327.24 1563.73,1333.45 1570.2,1339.33 1576.67,1344.54 1583.13,1348.91 1589.6,1352.52 1596.07,1355.73 1602.54,1358.89 1609.01,1362.16 1615.48,1365.62 1621.95,1369.23 1628.42,1372.88 1634.89,1376.27 1641.36,1378.96 1647.82,1380.75 1654.29,1381.73 1660.76,1382.28 1667.23,1382.76 1673.7,1383.41 1680.17,1384.31 1686.64,1385.35 1693.11,1386.18 1699.58,1386.4 1706.05,1385.72 1712.52,1384.12 1718.98,1381.96 1725.45,1379.83 1731.92,1378 1738.39,1376.54 1744.86,1375.21 1751.33,1373.46 1757.8,1370.86 1764.27,1367.23 1770.74,1362.83 1777.21,1358.27 1783.67,1353.98 1790.14,1350.06 1796.61,1346.26 1803.08,1342.02 1809.55,1336.93 1816.02,1330.81 1822.49,1323.88 1828.96,1316.92 1835.43,1310.37 1841.9,1304.17 1848.36,1297.81 1854.83,1290.7 1861.3,1282.58 1867.77,1273.51 1874.24,1264.12 1880.71,1255.13 1887.18,1246.47 1893.65,1237.54 1900.12,1227.95 1906.59,1217.48 1913.06,1206.35 1919.52,1195.45 1925.99,1185.17 1932.46,1175.3 1938.93,1165.14 1945.4,1154.26 1951.87,1142.61 1958.34,1130.7 1964.81,1119.32 1971.28,1108.66 1977.75,1098.29 1984.21,1087.65 1990.68,1076.36 1997.15,1064.52 2003.62,1052.85 2010.09,1041.93 2016.56,1031.6 2023.03,1021.34 2029.5,1010.59 2035.97,999.221 2042.44,987.776 2048.91,976.963 2055.37,966.831 2061.84,956.897 2068.31,946.581 2074.78,935.631 2081.25,924.486 2087.72,913.912 2094.19,904.042 2100.66,894.459 2107.13,884.559 2113.6,874.052 2120.06,863.354 2126.53,853.195 2133,843.7 2139.47,834.438 2145.94,824.841 2152.41,814.641 2158.88,804.32 2165.35,794.622 2171.82,785.55 2178.29,776.631 2184.75,767.297 2191.22,757.394 2197.69,747.521 2204.16,738.301 2210.63,729.583 2217.1,720.803 2223.57,711.488 2230.04,701.726 2236.51,692.304 2242.98,683.579 2249.45,675.202 2255.91,666.536 2262.38,657.243 2268.85,647.751 2275.32,638.785 2281.79,630.363 2288.26,621.857 2294.73,612.803 \"/>\n",
       "<polyline clip-path=\"url(#clip472)\" style=\"stroke:#3da44d; stroke-linecap:round; stroke-linejoin:round; stroke-width:4; stroke-opacity:1; fill:none\" points=\"360.486,379.015 366.955,379.034 373.424,379.09 379.893,379.181 386.362,379.299 392.831,379.439 399.3,379.598 405.769,379.774 412.238,379.966 418.707,380.172 425.176,380.392 431.645,380.623 438.114,380.864 444.583,381.114 451.052,381.372 457.521,381.637 463.99,381.906 470.459,382.181 476.928,382.459 483.397,382.739 489.867,383.022 496.336,383.305 502.805,383.589 509.274,383.873 515.743,384.156 522.212,384.437 528.681,384.716 535.15,384.993 541.619,385.267 548.088,385.538 554.557,385.805 561.026,386.068 567.495,386.327 573.964,386.581 580.433,386.83 586.902,387.074 593.371,387.312 599.84,387.545 606.309,387.772 612.778,387.992 619.247,388.206 625.716,388.413 632.185,388.614 638.654,388.807 645.123,388.992 651.592,389.17 658.062,389.339 664.531,389.501 671,389.653 677.469,389.796 683.938,389.931 690.407,390.055 696.876,390.169 703.345,390.273 709.814,390.365 716.283,390.447 722.752,390.516 729.221,390.573 735.69,390.617 742.159,390.647 748.628,390.663 755.097,390.665 761.566,390.651 768.035,390.621 774.504,390.575 780.973,390.511 787.442,390.43 793.911,390.329 800.38,390.209 806.849,390.068 813.318,389.906 819.788,389.722 826.257,389.514 832.726,389.283 839.195,389.027 845.664,388.744 852.133,388.433 858.602,388.094 865.071,387.727 871.54,387.332 878.009,386.911 884.478,386.466 890.947,386 897.416,385.515 903.885,385.01 910.354,384.487 916.823,383.945 923.292,383.387 929.761,382.813 936.23,382.226 942.699,381.628 949.168,381.021 955.637,380.41 962.106,379.802 968.575,379.208 975.044,378.636 981.514,378.087 987.983,377.559 994.452,377.051 1000.92,376.563 1007.39,376.092 1013.86,375.633 1020.33,375.179 1026.8,374.723 1033.27,374.257 1039.73,373.768 1046.2,373.233 1052.67,372.626 1059.14,371.925 1065.61,371.12 1072.08,370.22 1078.55,369.256 1085.02,368.269 1091.49,367.316 1097.96,366.468 1104.43,365.825 1110.89,365.501 1117.36,365.618 1123.83,366.306 1130.3,367.695 1136.77,369.918 1143.24,373.17 1149.71,377.689 1156.18,383.635 1162.65,391.072 1169.12,399.988 1175.58,410.306 1182.05,421.922 1188.52,434.699 1194.99,448.449 1201.46,462.941 1207.93,477.9 1214.4,493.024 1220.87,507.997 1227.34,522.507 1233.81,536.271 1240.28,549.051 1246.74,560.677 1253.21,571.044 1259.68,580.115 1266.15,587.871 1272.62,594.318 1279.09,599.532 1285.56,603.683 1292.03,607.018 1298.5,609.868 1304.97,612.679 1311.43,615.965 1317.9,620.199 1324.37,625.707 1330.84,632.585 1337.31,640.718 1343.78,649.837 1350.25,659.534 1356.72,669.336 1363.19,678.769 1369.66,687.453 1376.12,695.101 1382.59,701.523 1389.06,706.64 1395.53,710.462 1402,713.196 1408.47,715.227 1414.94,717.062 1421.41,719.321 1427.88,722.538 1434.35,727.003 1440.82,732.697 1447.28,739.248 1453.75,746.093 1460.22,752.696 1466.69,758.564 1473.16,763.314 1479.63,766.783 1486.1,768.979 1492.57,770.178 1499.04,770.935 1505.51,771.895 1511.97,773.715 1518.44,776.801 1524.91,781.068 1531.38,786.062 1537.85,791.168 1544.32,795.762 1550.79,799.322 1557.26,801.604 1563.73,802.632 1570.2,802.801 1576.67,802.793 1583.13,803.344 1589.6,805.017 1596.07,807.852 1602.54,811.341 1609.01,814.811 1615.48,817.599 1621.95,819.221 1628.42,819.545 1634.89,818.857 1641.36,817.874 1647.82,817.341 1654.29,817.846 1660.76,819.455 1667.23,821.662 1673.7,823.726 1680.17,824.907 1686.64,824.814 1693.11,823.549 1699.58,821.704 1706.05,820.014 1712.52,819.168 1718.98,819.4 1725.45,820.189 1731.92,820.737 1738.39,820.375 1744.86,818.752 1751.33,816.145 1757.8,813.349 1764.27,811.205 1770.74,810.143 1777.21,809.799 1783.67,809.272 1790.14,807.795 1796.61,805.024 1803.08,801.266 1809.55,797.187 1816.02,793.532 1822.49,790.926 1828.96,789.126 1835.43,786.912 1841.9,783.45 1848.36,778.778 1854.83,773.44 1861.3,768.19 1867.77,763.811 1874.24,760.378 1880.71,756.791 1887.18,751.885 1893.65,745.585 1900.12,738.438 1906.59,731.239 1913.06,724.948 1919.52,719.515 1925.99,714.093 1932.46,707.568 1938.93,699.756 1945.4,691.274 1951.87,683.174 1958.34,676.17 1964.81,669.579 1971.28,662.32 1977.75,653.793 1984.21,644.196 1990.68,634.555 1997.15,625.903 2003.62,618.147 2010.09,610.394 2016.56,601.74 2023.03,592.008 2029.5,581.982 2035.97,572.742 2042.44,564.562 2048.91,556.529 2055.37,547.587 2061.84,537.551 2068.31,527.093 2074.78,517.269 2081.25,508.54 2087.72,500.142 2094.19,491.085 2100.66,480.962 2107.13,470.355 2113.6,460.342 2120.06,451.429 2126.53,442.77 2133,433.216 2139.47,422.561 2145.94,411.495 2152.41,401.097 2158.88,391.729 2165.35,382.434 2171.82,372.295 2178.29,361.125 2184.75,349.743 2191.22,339.211 2197.69,329.601 2204.16,319.715 2210.63,308.687 2217.1,296.804 2223.57,285.069 2230.04,274.33 2236.51,264.162 2242.98,253.549 2249.45,241.856 2255.91,229.66 2262.38,218.108 2268.85,207.574 2275.32,197.028 2281.79,185.342 2288.26,172.744 2294.73,160.256 \"/>\n",
       "<path clip-path=\"url(#clip470)\" d=\"M370.802 1379.86 L601.063 1379.86 L601.063 1172.5 L370.802 1172.5  Z\" fill=\"#ffffff\" fill-rule=\"evenodd\" fill-opacity=\"1\"/>\n",
       "<polyline clip-path=\"url(#clip470)\" style=\"stroke:#000000; stroke-linecap:round; stroke-linejoin:round; stroke-width:4; stroke-opacity:1; fill:none\" points=\"370.802,1379.86 601.063,1379.86 601.063,1172.5 370.802,1172.5 370.802,1379.86 \"/>\n",
       "<polyline clip-path=\"url(#clip470)\" style=\"stroke:#009af9; stroke-linecap:round; stroke-linejoin:round; stroke-width:4; stroke-opacity:1; fill:none\" points=\"393.583,1224.34 530.269,1224.34 \"/>\n",
       "<path clip-path=\"url(#clip470)\" d=\"M577.703 1215.69 L568.328 1228.31 L578.189 1241.62 L573.166 1241.62 L565.62 1231.43 L558.073 1241.62 L553.05 1241.62 L563.12 1228.05 L553.907 1215.69 L558.93 1215.69 L565.805 1224.93 L572.68 1215.69 L577.703 1215.69 Z\" fill=\"#000000\" fill-rule=\"nonzero\" fill-opacity=\"1\" /><polyline clip-path=\"url(#clip470)\" style=\"stroke:#e26f46; stroke-linecap:round; stroke-linejoin:round; stroke-width:4; stroke-opacity:1; fill:none\" points=\"393.583,1276.18 530.269,1276.18 \"/>\n",
       "<path clip-path=\"url(#clip470)\" d=\"M566.893 1295.86 Q565.087 1300.49 563.374 1301.91 Q561.661 1303.32 558.791 1303.32 L555.388 1303.32 L555.388 1299.75 L557.888 1299.75 Q559.648 1299.75 560.62 1298.92 Q561.592 1298.09 562.773 1294.98 L563.536 1293.04 L553.05 1267.53 L557.564 1267.53 L565.666 1287.81 L573.768 1267.53 L578.282 1267.53 L566.893 1295.86 Z\" fill=\"#000000\" fill-rule=\"nonzero\" fill-opacity=\"1\" /><polyline clip-path=\"url(#clip470)\" style=\"stroke:#3da44d; stroke-linecap:round; stroke-linejoin:round; stroke-width:4; stroke-opacity:1; fill:none\" points=\"393.583,1328.02 530.269,1328.02 \"/>\n",
       "<path clip-path=\"url(#clip470)\" d=\"M553.629 1319.37 L573.86 1319.37 L573.86 1323.26 L557.842 1341.89 L573.86 1341.89 L573.86 1345.3 L553.05 1345.3 L553.05 1341.41 L569.069 1322.77 L553.629 1322.77 L553.629 1319.37 Z\" fill=\"#000000\" fill-rule=\"nonzero\" fill-opacity=\"1\" /></svg>\n"
      ]
     },
     "metadata": {},
     "output_type": "display_data"
    },
    {
     "data": {
      "image/png": "[encoded data removed]",
      "image/svg+xml": [
       "<?xml version=\"1.0\" encoding=\"utf-8\"?>\n",
       "<svg xmlns=\"http://www.w3.org/2000/svg\" xmlns:xlink=\"http://www.w3.org/1999/xlink\" width=\"600\" height=\"400\" viewBox=\"0 0 2400 1600\">\n",
       "<defs>\n",
       "  <clipPath id=\"clip510\">\n",
       "    <rect x=\"0\" y=\"0\" width=\"2400\" height=\"1600\"/>\n",
       "  </clipPath>\n",
       "</defs>\n",
       "<path clip-path=\"url(#clip510)\" d=\"M0 1600 L2400 1600 L2400 0 L0 0  Z\" fill=\"#ffffff\" fill-rule=\"evenodd\" fill-opacity=\"1\"/>\n",
       "<defs>\n",
       "  <clipPath id=\"clip511\">\n",
       "    <rect x=\"480\" y=\"0\" width=\"1681\" height=\"1600\"/>\n",
       "  </clipPath>\n",
       "</defs>\n",
       "<path clip-path=\"url(#clip510)\" d=\"M292.713 1423.18 L2352.76 1423.18 L2352.76 123.472 L292.713 123.472  Z\" fill=\"#ffffff\" fill-rule=\"evenodd\" fill-opacity=\"1\"/>\n",
       "<defs>\n",
       "  <clipPath id=\"clip512\">\n",
       "    <rect x=\"292\" y=\"123\" width=\"2061\" height=\"1301\"/>\n",
       "  </clipPath>\n",
       "</defs>\n",
       "<polyline clip-path=\"url(#clip512)\" style=\"stroke:#000000; stroke-linecap:round; stroke-linejoin:round; stroke-width:2; stroke-opacity:0.1; fill:none\" points=\"351.016,1423.18 351.016,123.472 \"/>\n",
       "<polyline clip-path=\"url(#clip512)\" style=\"stroke:#000000; stroke-linecap:round; stroke-linejoin:round; stroke-width:2; stroke-opacity:0.1; fill:none\" points=\"1000.99,1423.18 1000.99,123.472 \"/>\n",
       "<polyline clip-path=\"url(#clip512)\" style=\"stroke:#000000; stroke-linecap:round; stroke-linejoin:round; stroke-width:2; stroke-opacity:0.1; fill:none\" points=\"1650.97,1423.18 1650.97,123.472 \"/>\n",
       "<polyline clip-path=\"url(#clip512)\" style=\"stroke:#000000; stroke-linecap:round; stroke-linejoin:round; stroke-width:2; stroke-opacity:0.1; fill:none\" points=\"2300.95,1423.18 2300.95,123.472 \"/>\n",
       "<polyline clip-path=\"url(#clip510)\" style=\"stroke:#000000; stroke-linecap:round; stroke-linejoin:round; stroke-width:4; stroke-opacity:1; fill:none\" points=\"292.713,1423.18 2352.76,1423.18 \"/>\n",
       "<polyline clip-path=\"url(#clip510)\" style=\"stroke:#000000; stroke-linecap:round; stroke-linejoin:round; stroke-width:4; stroke-opacity:1; fill:none\" points=\"351.016,1423.18 351.016,1404.28 \"/>\n",
       "<polyline clip-path=\"url(#clip510)\" style=\"stroke:#000000; stroke-linecap:round; stroke-linejoin:round; stroke-width:4; stroke-opacity:1; fill:none\" points=\"1000.99,1423.18 1000.99,1404.28 \"/>\n",
       "<polyline clip-path=\"url(#clip510)\" style=\"stroke:#000000; stroke-linecap:round; stroke-linejoin:round; stroke-width:4; stroke-opacity:1; fill:none\" points=\"1650.97,1423.18 1650.97,1404.28 \"/>\n",
       "<polyline clip-path=\"url(#clip510)\" style=\"stroke:#000000; stroke-linecap:round; stroke-linejoin:round; stroke-width:4; stroke-opacity:1; fill:none\" points=\"2300.95,1423.18 2300.95,1404.28 \"/>\n",
       "<path clip-path=\"url(#clip510)\" d=\"M351.016 1454.1 Q347.405 1454.1 345.576 1457.66 Q343.771 1461.2 343.771 1468.33 Q343.771 1475.44 345.576 1479.01 Q347.405 1482.55 351.016 1482.55 Q354.65 1482.55 356.456 1479.01 Q358.285 1475.44 358.285 1468.33 Q358.285 1461.2 356.456 1457.66 Q354.65 1454.1 351.016 1454.1 M351.016 1450.39 Q356.826 1450.39 359.882 1455 Q362.961 1459.58 362.961 1468.33 Q362.961 1477.06 359.882 1481.67 Q356.826 1486.25 351.016 1486.25 Q345.206 1486.25 342.127 1481.67 Q339.072 1477.06 339.072 1468.33 Q339.072 1459.58 342.127 1455 Q345.206 1450.39 351.016 1450.39 Z\" fill=\"#000000\" fill-rule=\"nonzero\" fill-opacity=\"1\" /><path clip-path=\"url(#clip510)\" d=\"M975.683 1481.64 L983.321 1481.64 L983.321 1455.28 L975.011 1456.95 L975.011 1452.69 L983.275 1451.02 L987.951 1451.02 L987.951 1481.64 L995.59 1481.64 L995.59 1485.58 L975.683 1485.58 L975.683 1481.64 Z\" fill=\"#000000\" fill-rule=\"nonzero\" fill-opacity=\"1\" /><path clip-path=\"url(#clip510)\" d=\"M1015.03 1454.1 Q1011.42 1454.1 1009.59 1457.66 Q1007.79 1461.2 1007.79 1468.33 Q1007.79 1475.44 1009.59 1479.01 Q1011.42 1482.55 1015.03 1482.55 Q1018.67 1482.55 1020.47 1479.01 Q1022.3 1475.44 1022.3 1468.33 Q1022.3 1461.2 1020.47 1457.66 Q1018.67 1454.1 1015.03 1454.1 M1015.03 1450.39 Q1020.84 1450.39 1023.9 1455 Q1026.98 1459.58 1026.98 1468.33 Q1026.98 1477.06 1023.9 1481.67 Q1020.84 1486.25 1015.03 1486.25 Q1009.22 1486.25 1006.15 1481.67 Q1003.09 1477.06 1003.09 1468.33 Q1003.09 1459.58 1006.15 1455 Q1009.22 1450.39 1015.03 1450.39 Z\" fill=\"#000000\" fill-rule=\"nonzero\" fill-opacity=\"1\" /><path clip-path=\"url(#clip510)\" d=\"M1629.75 1481.64 L1646.07 1481.64 L1646.07 1485.58 L1624.12 1485.58 L1624.12 1481.64 Q1626.78 1478.89 1631.37 1474.26 Q1635.97 1469.61 1637.15 1468.27 Q1639.4 1465.74 1640.28 1464.01 Q1641.18 1462.25 1641.18 1460.56 Q1641.18 1457.8 1639.24 1456.07 Q1637.32 1454.33 1634.21 1454.33 Q1632.02 1454.33 1629.56 1455.09 Q1627.13 1455.86 1624.35 1457.41 L1624.35 1452.69 Q1627.18 1451.55 1629.63 1450.97 Q1632.09 1450.39 1634.12 1450.39 Q1639.49 1450.39 1642.69 1453.08 Q1645.88 1455.77 1645.88 1460.26 Q1645.88 1462.39 1645.07 1464.31 Q1644.28 1466.2 1642.18 1468.8 Q1641.6 1469.47 1638.5 1472.69 Q1635.4 1475.88 1629.75 1481.64 Z\" fill=\"#000000\" fill-rule=\"nonzero\" fill-opacity=\"1\" /><path clip-path=\"url(#clip510)\" d=\"M1665.88 1454.1 Q1662.27 1454.1 1660.44 1457.66 Q1658.64 1461.2 1658.64 1468.33 Q1658.64 1475.44 1660.44 1479.01 Q1662.27 1482.55 1665.88 1482.55 Q1669.52 1482.55 1671.32 1479.01 Q1673.15 1475.44 1673.15 1468.33 Q1673.15 1461.2 1671.32 1457.66 Q1669.52 1454.1 1665.88 1454.1 M1665.88 1450.39 Q1671.69 1450.39 1674.75 1455 Q1677.83 1459.58 1677.83 1468.33 Q1677.83 1477.06 1674.75 1481.67 Q1671.69 1486.25 1665.88 1486.25 Q1660.07 1486.25 1656.99 1481.67 Q1653.94 1477.06 1653.94 1468.33 Q1653.94 1459.58 1656.99 1455 Q1660.07 1450.39 1665.88 1450.39 Z\" fill=\"#000000\" fill-rule=\"nonzero\" fill-opacity=\"1\" /><path clip-path=\"url(#clip510)\" d=\"M2289.8 1466.95 Q2293.15 1467.66 2295.03 1469.93 Q2296.92 1472.2 2296.92 1475.53 Q2296.92 1480.65 2293.41 1483.45 Q2289.89 1486.25 2283.41 1486.25 Q2281.23 1486.25 2278.92 1485.81 Q2276.62 1485.39 2274.17 1484.54 L2274.17 1480.02 Q2276.11 1481.16 2278.43 1481.74 Q2280.74 1482.32 2283.27 1482.32 Q2287.67 1482.32 2289.96 1480.58 Q2292.27 1478.84 2292.27 1475.53 Q2292.27 1472.48 2290.12 1470.77 Q2287.99 1469.03 2284.17 1469.03 L2280.14 1469.03 L2280.14 1465.19 L2284.36 1465.19 Q2287.8 1465.19 2289.63 1463.82 Q2291.46 1462.43 2291.46 1459.84 Q2291.46 1457.18 2289.56 1455.77 Q2287.69 1454.33 2284.17 1454.33 Q2282.25 1454.33 2280.05 1454.75 Q2277.85 1455.16 2275.21 1456.04 L2275.21 1451.88 Q2277.87 1451.14 2280.19 1450.77 Q2282.53 1450.39 2284.59 1450.39 Q2289.91 1450.39 2293.01 1452.83 Q2296.11 1455.23 2296.11 1459.35 Q2296.11 1462.22 2294.47 1464.21 Q2292.83 1466.18 2289.8 1466.95 Z\" fill=\"#000000\" fill-rule=\"nonzero\" fill-opacity=\"1\" /><path clip-path=\"url(#clip510)\" d=\"M2315.79 1454.1 Q2312.18 1454.1 2310.35 1457.66 Q2308.55 1461.2 2308.55 1468.33 Q2308.55 1475.44 2310.35 1479.01 Q2312.18 1482.55 2315.79 1482.55 Q2319.42 1482.55 2321.23 1479.01 Q2323.06 1475.44 2323.06 1468.33 Q2323.06 1461.2 2321.23 1457.66 Q2319.42 1454.1 2315.79 1454.1 M2315.79 1450.39 Q2321.6 1450.39 2324.66 1455 Q2327.73 1459.58 2327.73 1468.33 Q2327.73 1477.06 2324.66 1481.67 Q2321.6 1486.25 2315.79 1486.25 Q2309.98 1486.25 2306.9 1481.67 Q2303.85 1477.06 2303.85 1468.33 Q2303.85 1459.58 2306.9 1455 Q2309.98 1450.39 2315.79 1450.39 Z\" fill=\"#000000\" fill-rule=\"nonzero\" fill-opacity=\"1\" /><path clip-path=\"url(#clip510)\" d=\"M1210.19 1522.27 L1210.19 1532.4 L1222.25 1532.4 L1222.25 1536.95 L1210.19 1536.95 L1210.19 1556.3 Q1210.19 1560.66 1211.37 1561.9 Q1212.58 1563.14 1216.24 1563.14 L1222.25 1563.14 L1222.25 1568.04 L1216.24 1568.04 Q1209.46 1568.04 1206.88 1565.53 Q1204.3 1562.98 1204.3 1556.3 L1204.3 1536.95 L1200 1536.95 L1200 1532.4 L1204.3 1532.4 L1204.3 1522.27 L1210.19 1522.27 Z\" fill=\"#000000\" fill-rule=\"nonzero\" fill-opacity=\"1\" /><path clip-path=\"url(#clip510)\" d=\"M1229.95 1532.4 L1235.81 1532.4 L1235.81 1568.04 L1229.95 1568.04 L1229.95 1532.4 M1229.95 1518.52 L1235.81 1518.52 L1235.81 1525.93 L1229.95 1525.93 L1229.95 1518.52 Z\" fill=\"#000000\" fill-rule=\"nonzero\" fill-opacity=\"1\" /><path clip-path=\"url(#clip510)\" d=\"M1275.82 1539.24 Q1278.02 1535.29 1281.07 1533.41 Q1284.13 1531.54 1288.26 1531.54 Q1293.83 1531.54 1296.86 1535.45 Q1299.88 1539.33 1299.88 1546.53 L1299.88 1568.04 L1293.99 1568.04 L1293.99 1546.72 Q1293.99 1541.59 1292.18 1539.11 Q1290.36 1536.63 1286.64 1536.63 Q1282.09 1536.63 1279.45 1539.65 Q1276.81 1542.68 1276.81 1547.9 L1276.81 1568.04 L1270.92 1568.04 L1270.92 1546.72 Q1270.92 1541.56 1269.1 1539.11 Q1267.29 1536.63 1263.5 1536.63 Q1259.01 1536.63 1256.37 1539.68 Q1253.73 1542.71 1253.73 1547.9 L1253.73 1568.04 L1247.84 1568.04 L1247.84 1532.4 L1253.73 1532.4 L1253.73 1537.93 Q1255.74 1534.66 1258.54 1533.1 Q1261.34 1531.54 1265.19 1531.54 Q1269.07 1531.54 1271.78 1533.51 Q1274.51 1535.48 1275.82 1539.24 Z\" fill=\"#000000\" fill-rule=\"nonzero\" fill-opacity=\"1\" /><path clip-path=\"url(#clip510)\" d=\"M1342.05 1548.76 L1342.05 1551.62 L1315.13 1551.62 Q1315.51 1557.67 1318.76 1560.85 Q1322.03 1564 1327.86 1564 Q1331.23 1564 1334.38 1563.17 Q1337.57 1562.35 1340.69 1560.69 L1340.69 1566.23 Q1337.53 1567.57 1334.22 1568.27 Q1330.91 1568.97 1327.51 1568.97 Q1318.98 1568.97 1313.98 1564 Q1309.02 1559.04 1309.02 1550.57 Q1309.02 1541.82 1313.73 1536.69 Q1318.47 1531.54 1326.49 1531.54 Q1333.68 1531.54 1337.85 1536.18 Q1342.05 1540.8 1342.05 1548.76 M1336.2 1547.04 Q1336.13 1542.23 1333.49 1539.37 Q1330.88 1536.5 1326.55 1536.5 Q1321.65 1536.5 1318.69 1539.27 Q1315.76 1542.04 1315.32 1547.07 L1336.2 1547.04 Z\" fill=\"#000000\" fill-rule=\"nonzero\" fill-opacity=\"1\" /><path clip-path=\"url(#clip510)\" d=\"M1386.46 1518.58 Q1382.19 1525.9 1380.12 1533.06 Q1378.05 1540.23 1378.05 1547.58 Q1378.05 1554.93 1380.12 1562.16 Q1382.22 1569.35 1386.46 1576.64 L1381.36 1576.64 Q1376.59 1569.16 1374.2 1561.93 Q1371.85 1554.71 1371.85 1547.58 Q1371.85 1540.48 1374.2 1533.29 Q1376.56 1526.09 1381.36 1518.58 L1386.46 1518.58 Z\" fill=\"#000000\" fill-rule=\"nonzero\" fill-opacity=\"1\" /><path clip-path=\"url(#clip510)\" d=\"M1420.54 1533.45 L1420.54 1538.98 Q1418.06 1537.71 1415.39 1537.07 Q1412.71 1536.44 1409.85 1536.44 Q1405.49 1536.44 1403.29 1537.77 Q1401.13 1539.11 1401.13 1541.79 Q1401.13 1543.82 1402.69 1545 Q1404.25 1546.15 1408.96 1547.2 L1410.96 1547.64 Q1417.2 1548.98 1419.81 1551.43 Q1422.45 1553.85 1422.45 1558.21 Q1422.45 1563.17 1418.51 1566.07 Q1414.59 1568.97 1407.72 1568.97 Q1404.85 1568.97 1401.73 1568.39 Q1398.65 1567.85 1395.21 1566.74 L1395.21 1560.69 Q1398.45 1562.38 1401.61 1563.24 Q1404.76 1564.07 1407.84 1564.07 Q1411.98 1564.07 1414.21 1562.66 Q1416.44 1561.23 1416.44 1558.65 Q1416.44 1556.27 1414.81 1554.99 Q1413.22 1553.72 1407.78 1552.54 L1405.74 1552.07 Q1400.3 1550.92 1397.88 1548.56 Q1395.46 1546.18 1395.46 1542.04 Q1395.46 1537.01 1399.03 1534.27 Q1402.59 1531.54 1409.15 1531.54 Q1412.4 1531.54 1415.26 1532.01 Q1418.12 1532.49 1420.54 1533.45 Z\" fill=\"#000000\" fill-rule=\"nonzero\" fill-opacity=\"1\" /><path clip-path=\"url(#clip510)\" d=\"M1430.86 1518.58 L1435.95 1518.58 Q1440.72 1526.09 1443.08 1533.29 Q1445.47 1540.48 1445.47 1547.58 Q1445.47 1554.71 1443.08 1561.93 Q1440.72 1569.16 1435.95 1576.64 L1430.86 1576.64 Q1435.09 1569.35 1437.16 1562.16 Q1439.26 1554.93 1439.26 1547.58 Q1439.26 1540.23 1437.16 1533.06 Q1435.09 1525.9 1430.86 1518.58 Z\" fill=\"#000000\" fill-rule=\"nonzero\" fill-opacity=\"1\" /><polyline clip-path=\"url(#clip512)\" style=\"stroke:#000000; stroke-linecap:round; stroke-linejoin:round; stroke-width:2; stroke-opacity:0.1; fill:none\" points=\"292.713,1386.4 2352.76,1386.4 \"/>\n",
       "<polyline clip-path=\"url(#clip512)\" style=\"stroke:#000000; stroke-linecap:round; stroke-linejoin:round; stroke-width:2; stroke-opacity:0.1; fill:none\" points=\"292.713,1079.86 2352.76,1079.86 \"/>\n",
       "<polyline clip-path=\"url(#clip512)\" style=\"stroke:#000000; stroke-linecap:round; stroke-linejoin:round; stroke-width:2; stroke-opacity:0.1; fill:none\" points=\"292.713,773.325 2352.76,773.325 \"/>\n",
       "<polyline clip-path=\"url(#clip512)\" style=\"stroke:#000000; stroke-linecap:round; stroke-linejoin:round; stroke-width:2; stroke-opacity:0.1; fill:none\" points=\"292.713,466.79 2352.76,466.79 \"/>\n",
       "<polyline clip-path=\"url(#clip512)\" style=\"stroke:#000000; stroke-linecap:round; stroke-linejoin:round; stroke-width:2; stroke-opacity:0.1; fill:none\" points=\"292.713,160.255 2352.76,160.255 \"/>\n",
       "<polyline clip-path=\"url(#clip510)\" style=\"stroke:#000000; stroke-linecap:round; stroke-linejoin:round; stroke-width:4; stroke-opacity:1; fill:none\" points=\"292.713,1423.18 292.713,123.472 \"/>\n",
       "<polyline clip-path=\"url(#clip510)\" style=\"stroke:#000000; stroke-linecap:round; stroke-linejoin:round; stroke-width:4; stroke-opacity:1; fill:none\" points=\"292.713,1386.4 311.611,1386.4 \"/>\n",
       "<polyline clip-path=\"url(#clip510)\" style=\"stroke:#000000; stroke-linecap:round; stroke-linejoin:round; stroke-width:4; stroke-opacity:1; fill:none\" points=\"292.713,1079.86 311.611,1079.86 \"/>\n",
       "<polyline clip-path=\"url(#clip510)\" style=\"stroke:#000000; stroke-linecap:round; stroke-linejoin:round; stroke-width:4; stroke-opacity:1; fill:none\" points=\"292.713,773.325 311.611,773.325 \"/>\n",
       "<polyline clip-path=\"url(#clip510)\" style=\"stroke:#000000; stroke-linecap:round; stroke-linejoin:round; stroke-width:4; stroke-opacity:1; fill:none\" points=\"292.713,466.79 311.611,466.79 \"/>\n",
       "<polyline clip-path=\"url(#clip510)\" style=\"stroke:#000000; stroke-linecap:round; stroke-linejoin:round; stroke-width:4; stroke-opacity:1; fill:none\" points=\"292.713,160.255 311.611,160.255 \"/>\n",
       "<path clip-path=\"url(#clip510)\" d=\"M244.769 1372.19 Q241.158 1372.19 239.329 1375.76 Q237.523 1379.3 237.523 1386.43 Q237.523 1393.54 239.329 1397.1 Q241.158 1400.64 244.769 1400.64 Q248.403 1400.64 250.209 1397.1 Q252.037 1393.54 252.037 1386.43 Q252.037 1379.3 250.209 1375.76 Q248.403 1372.19 244.769 1372.19 M244.769 1368.49 Q250.579 1368.49 253.634 1373.1 Q256.713 1377.68 256.713 1386.43 Q256.713 1395.16 253.634 1399.76 Q250.579 1404.35 244.769 1404.35 Q238.959 1404.35 235.88 1399.76 Q232.824 1395.16 232.824 1386.43 Q232.824 1377.68 235.88 1373.1 Q238.959 1368.49 244.769 1368.49 Z\" fill=\"#000000\" fill-rule=\"nonzero\" fill-opacity=\"1\" /><path clip-path=\"url(#clip510)\" d=\"M148.311 1093.21 L164.63 1093.21 L164.63 1097.14 L142.686 1097.14 L142.686 1093.21 Q145.348 1090.45 149.931 1085.82 Q154.538 1081.17 155.718 1079.83 Q157.964 1077.3 158.843 1075.57 Q159.746 1073.81 159.746 1072.12 Q159.746 1069.36 157.802 1067.63 Q155.88 1065.89 152.778 1065.89 Q150.579 1065.89 148.126 1066.65 Q145.695 1067.42 142.917 1068.97 L142.917 1064.25 Q145.741 1063.11 148.195 1062.53 Q150.649 1061.96 152.686 1061.96 Q158.056 1061.96 161.251 1064.64 Q164.445 1067.33 164.445 1071.82 Q164.445 1073.95 163.635 1075.87 Q162.848 1077.77 160.741 1080.36 Q160.163 1081.03 157.061 1084.25 Q153.959 1087.44 148.311 1093.21 Z\" fill=\"#000000\" fill-rule=\"nonzero\" fill-opacity=\"1\" /><path clip-path=\"url(#clip510)\" d=\"M174.491 1062.58 L192.848 1062.58 L192.848 1066.52 L178.774 1066.52 L178.774 1074.99 Q179.792 1074.64 180.811 1074.48 Q181.829 1074.29 182.848 1074.29 Q188.635 1074.29 192.014 1077.46 Q195.394 1080.64 195.394 1086.05 Q195.394 1091.63 191.922 1094.73 Q188.45 1097.81 182.13 1097.81 Q179.954 1097.81 177.686 1097.44 Q175.44 1097.07 173.033 1096.33 L173.033 1091.63 Q175.116 1092.77 177.339 1093.32 Q179.561 1093.88 182.038 1093.88 Q186.042 1093.88 188.38 1091.77 Q190.718 1089.66 190.718 1086.05 Q190.718 1082.44 188.38 1080.33 Q186.042 1078.23 182.038 1078.23 Q180.163 1078.23 178.288 1078.65 Q176.436 1079.06 174.491 1079.94 L174.491 1062.58 Z\" fill=\"#000000\" fill-rule=\"nonzero\" fill-opacity=\"1\" /><path clip-path=\"url(#clip510)\" d=\"M214.607 1065.66 Q210.996 1065.66 209.167 1069.22 Q207.362 1072.77 207.362 1079.9 Q207.362 1087 209.167 1090.57 Q210.996 1094.11 214.607 1094.11 Q218.241 1094.11 220.047 1090.57 Q221.875 1087 221.875 1079.9 Q221.875 1072.77 220.047 1069.22 Q218.241 1065.66 214.607 1065.66 M214.607 1061.96 Q220.417 1061.96 223.473 1066.56 Q226.551 1071.15 226.551 1079.9 Q226.551 1088.62 223.473 1093.23 Q220.417 1097.81 214.607 1097.81 Q208.797 1097.81 205.718 1093.23 Q202.662 1088.62 202.662 1079.9 Q202.662 1071.15 205.718 1066.56 Q208.797 1061.96 214.607 1061.96 Z\" fill=\"#000000\" fill-rule=\"nonzero\" fill-opacity=\"1\" /><path clip-path=\"url(#clip510)\" d=\"M244.769 1065.66 Q241.158 1065.66 239.329 1069.22 Q237.523 1072.77 237.523 1079.9 Q237.523 1087 239.329 1090.57 Q241.158 1094.11 244.769 1094.11 Q248.403 1094.11 250.209 1090.57 Q252.037 1087 252.037 1079.9 Q252.037 1072.77 250.209 1069.22 Q248.403 1065.66 244.769 1065.66 M244.769 1061.96 Q250.579 1061.96 253.634 1066.56 Q256.713 1071.15 256.713 1079.9 Q256.713 1088.62 253.634 1093.23 Q250.579 1097.81 244.769 1097.81 Q238.959 1097.81 235.88 1093.23 Q232.824 1088.62 232.824 1079.9 Q232.824 1071.15 235.88 1066.56 Q238.959 1061.96 244.769 1061.96 Z\" fill=\"#000000\" fill-rule=\"nonzero\" fill-opacity=\"1\" /><path clip-path=\"url(#clip510)\" d=\"M144.329 756.045 L162.686 756.045 L162.686 759.98 L148.612 759.98 L148.612 768.452 Q149.63 768.105 150.649 767.943 Q151.667 767.758 152.686 767.758 Q158.473 767.758 161.852 770.929 Q165.232 774.101 165.232 779.517 Q165.232 785.096 161.76 788.198 Q158.288 791.276 151.968 791.276 Q149.792 791.276 147.524 790.906 Q145.279 790.536 142.871 789.795 L142.871 785.096 Q144.954 786.23 147.177 786.786 Q149.399 787.341 151.876 787.341 Q155.88 787.341 158.218 785.235 Q160.556 783.128 160.556 779.517 Q160.556 775.906 158.218 773.8 Q155.88 771.693 151.876 771.693 Q150.001 771.693 148.126 772.11 Q146.274 772.527 144.329 773.406 L144.329 756.045 Z\" fill=\"#000000\" fill-rule=\"nonzero\" fill-opacity=\"1\" /><path clip-path=\"url(#clip510)\" d=\"M184.445 759.124 Q180.834 759.124 179.005 762.689 Q177.2 766.23 177.2 773.36 Q177.2 780.466 179.005 784.031 Q180.834 787.573 184.445 787.573 Q188.079 787.573 189.885 784.031 Q191.713 780.466 191.713 773.36 Q191.713 766.23 189.885 762.689 Q188.079 759.124 184.445 759.124 M184.445 755.42 Q190.255 755.42 193.311 760.027 Q196.389 764.61 196.389 773.36 Q196.389 782.087 193.311 786.693 Q190.255 791.276 184.445 791.276 Q178.635 791.276 175.556 786.693 Q172.501 782.087 172.501 773.36 Q172.501 764.61 175.556 760.027 Q178.635 755.42 184.445 755.42 Z\" fill=\"#000000\" fill-rule=\"nonzero\" fill-opacity=\"1\" /><path clip-path=\"url(#clip510)\" d=\"M214.607 759.124 Q210.996 759.124 209.167 762.689 Q207.362 766.23 207.362 773.36 Q207.362 780.466 209.167 784.031 Q210.996 787.573 214.607 787.573 Q218.241 787.573 220.047 784.031 Q221.875 780.466 221.875 773.36 Q221.875 766.23 220.047 762.689 Q218.241 759.124 214.607 759.124 M214.607 755.42 Q220.417 755.42 223.473 760.027 Q226.551 764.61 226.551 773.36 Q226.551 782.087 223.473 786.693 Q220.417 791.276 214.607 791.276 Q208.797 791.276 205.718 786.693 Q202.662 782.087 202.662 773.36 Q202.662 764.61 205.718 760.027 Q208.797 755.42 214.607 755.42 Z\" fill=\"#000000\" fill-rule=\"nonzero\" fill-opacity=\"1\" /><path clip-path=\"url(#clip510)\" d=\"M244.769 759.124 Q241.158 759.124 239.329 762.689 Q237.523 766.23 237.523 773.36 Q237.523 780.466 239.329 784.031 Q241.158 787.573 244.769 787.573 Q248.403 787.573 250.209 784.031 Q252.037 780.466 252.037 773.36 Q252.037 766.23 250.209 762.689 Q248.403 759.124 244.769 759.124 M244.769 755.42 Q250.579 755.42 253.634 760.027 Q256.713 764.61 256.713 773.36 Q256.713 782.087 253.634 786.693 Q250.579 791.276 244.769 791.276 Q238.959 791.276 235.88 786.693 Q232.824 782.087 232.824 773.36 Q232.824 764.61 235.88 760.027 Q238.959 755.42 244.769 755.42 Z\" fill=\"#000000\" fill-rule=\"nonzero\" fill-opacity=\"1\" /><path clip-path=\"url(#clip510)\" d=\"M143.103 449.51 L165.325 449.51 L165.325 451.501 L152.778 484.07 L147.894 484.07 L159.7 453.445 L143.103 453.445 L143.103 449.51 Z\" fill=\"#000000\" fill-rule=\"nonzero\" fill-opacity=\"1\" /><path clip-path=\"url(#clip510)\" d=\"M174.491 449.51 L192.848 449.51 L192.848 453.445 L178.774 453.445 L178.774 461.917 Q179.792 461.57 180.811 461.408 Q181.829 461.223 182.848 461.223 Q188.635 461.223 192.014 464.394 Q195.394 467.565 195.394 472.982 Q195.394 478.561 191.922 481.662 Q188.45 484.741 182.13 484.741 Q179.954 484.741 177.686 484.371 Q175.44 484 173.033 483.26 L173.033 478.561 Q175.116 479.695 177.339 480.25 Q179.561 480.806 182.038 480.806 Q186.042 480.806 188.38 478.7 Q190.718 476.593 190.718 472.982 Q190.718 469.371 188.38 467.264 Q186.042 465.158 182.038 465.158 Q180.163 465.158 178.288 465.575 Q176.436 465.991 174.491 466.871 L174.491 449.51 Z\" fill=\"#000000\" fill-rule=\"nonzero\" fill-opacity=\"1\" /><path clip-path=\"url(#clip510)\" d=\"M214.607 452.589 Q210.996 452.589 209.167 456.153 Q207.362 459.695 207.362 466.825 Q207.362 473.931 209.167 477.496 Q210.996 481.037 214.607 481.037 Q218.241 481.037 220.047 477.496 Q221.875 473.931 221.875 466.825 Q221.875 459.695 220.047 456.153 Q218.241 452.589 214.607 452.589 M214.607 448.885 Q220.417 448.885 223.473 453.491 Q226.551 458.075 226.551 466.825 Q226.551 475.551 223.473 480.158 Q220.417 484.741 214.607 484.741 Q208.797 484.741 205.718 480.158 Q202.662 475.551 202.662 466.825 Q202.662 458.075 205.718 453.491 Q208.797 448.885 214.607 448.885 Z\" fill=\"#000000\" fill-rule=\"nonzero\" fill-opacity=\"1\" /><path clip-path=\"url(#clip510)\" d=\"M244.769 452.589 Q241.158 452.589 239.329 456.153 Q237.523 459.695 237.523 466.825 Q237.523 473.931 239.329 477.496 Q241.158 481.037 244.769 481.037 Q248.403 481.037 250.209 477.496 Q252.037 473.931 252.037 466.825 Q252.037 459.695 250.209 456.153 Q248.403 452.589 244.769 452.589 M244.769 448.885 Q250.579 448.885 253.634 453.491 Q256.713 458.075 256.713 466.825 Q256.713 475.551 253.634 480.158 Q250.579 484.741 244.769 484.741 Q238.959 484.741 235.88 480.158 Q232.824 475.551 232.824 466.825 Q232.824 458.075 235.88 453.491 Q238.959 448.885 244.769 448.885 Z\" fill=\"#000000\" fill-rule=\"nonzero\" fill-opacity=\"1\" /><path clip-path=\"url(#clip510)\" d=\"M114.931 173.599 L122.57 173.599 L122.57 147.234 L114.26 148.9 L114.26 144.641 L122.524 142.975 L127.2 142.975 L127.2 173.599 L134.839 173.599 L134.839 177.535 L114.931 177.535 L114.931 173.599 Z\" fill=\"#000000\" fill-rule=\"nonzero\" fill-opacity=\"1\" /><path clip-path=\"url(#clip510)\" d=\"M154.283 146.053 Q150.672 146.053 148.843 149.618 Q147.038 153.16 147.038 160.289 Q147.038 167.396 148.843 170.961 Q150.672 174.502 154.283 174.502 Q157.917 174.502 159.723 170.961 Q161.552 167.396 161.552 160.289 Q161.552 153.16 159.723 149.618 Q157.917 146.053 154.283 146.053 M154.283 142.35 Q160.093 142.35 163.149 146.956 Q166.227 151.539 166.227 160.289 Q166.227 169.016 163.149 173.623 Q160.093 178.206 154.283 178.206 Q148.473 178.206 145.394 173.623 Q142.339 169.016 142.339 160.289 Q142.339 151.539 145.394 146.956 Q148.473 142.35 154.283 142.35 Z\" fill=\"#000000\" fill-rule=\"nonzero\" fill-opacity=\"1\" /><path clip-path=\"url(#clip510)\" d=\"M184.445 146.053 Q180.834 146.053 179.005 149.618 Q177.2 153.16 177.2 160.289 Q177.2 167.396 179.005 170.961 Q180.834 174.502 184.445 174.502 Q188.079 174.502 189.885 170.961 Q191.713 167.396 191.713 160.289 Q191.713 153.16 189.885 149.618 Q188.079 146.053 184.445 146.053 M184.445 142.35 Q190.255 142.35 193.311 146.956 Q196.389 151.539 196.389 160.289 Q196.389 169.016 193.311 173.623 Q190.255 178.206 184.445 178.206 Q178.635 178.206 175.556 173.623 Q172.501 169.016 172.501 160.289 Q172.501 151.539 175.556 146.956 Q178.635 142.35 184.445 142.35 Z\" fill=\"#000000\" fill-rule=\"nonzero\" fill-opacity=\"1\" /><path clip-path=\"url(#clip510)\" d=\"M214.607 146.053 Q210.996 146.053 209.167 149.618 Q207.362 153.16 207.362 160.289 Q207.362 167.396 209.167 170.961 Q210.996 174.502 214.607 174.502 Q218.241 174.502 220.047 170.961 Q221.875 167.396 221.875 160.289 Q221.875 153.16 220.047 149.618 Q218.241 146.053 214.607 146.053 M214.607 142.35 Q220.417 142.35 223.473 146.956 Q226.551 151.539 226.551 160.289 Q226.551 169.016 223.473 173.623 Q220.417 178.206 214.607 178.206 Q208.797 178.206 205.718 173.623 Q202.662 169.016 202.662 160.289 Q202.662 151.539 205.718 146.956 Q208.797 142.35 214.607 142.35 Z\" fill=\"#000000\" fill-rule=\"nonzero\" fill-opacity=\"1\" /><path clip-path=\"url(#clip510)\" d=\"M244.769 146.053 Q241.158 146.053 239.329 149.618 Q237.523 153.16 237.523 160.289 Q237.523 167.396 239.329 170.961 Q241.158 174.502 244.769 174.502 Q248.403 174.502 250.209 170.961 Q252.037 167.396 252.037 160.289 Q252.037 153.16 250.209 149.618 Q248.403 146.053 244.769 146.053 M244.769 142.35 Q250.579 142.35 253.634 146.956 Q256.713 151.539 256.713 160.289 Q256.713 169.016 253.634 173.623 Q250.579 178.206 244.769 178.206 Q238.959 178.206 235.88 173.623 Q232.824 169.016 232.824 160.289 Q232.824 151.539 235.88 146.956 Q238.959 142.35 244.769 142.35 Z\" fill=\"#000000\" fill-rule=\"nonzero\" fill-opacity=\"1\" /><path clip-path=\"url(#clip510)\" d=\"M18.2347 916.889 L28.3562 916.889 L28.3562 904.826 L32.9077 904.826 L32.9077 916.889 L52.2594 916.889 Q56.6199 916.889 57.8613 915.711 Q59.1026 914.501 59.1026 910.841 L59.1026 904.826 L64.0042 904.826 L64.0042 910.841 Q64.0042 917.621 61.4897 920.199 Q58.9434 922.777 52.2594 922.777 L32.9077 922.777 L32.9077 927.074 L28.3562 927.074 L28.3562 922.777 L18.2347 922.777 L18.2347 916.889 Z\" fill=\"#000000\" fill-rule=\"nonzero\" fill-opacity=\"1\" /><path clip-path=\"url(#clip510)\" d=\"M42.4881 867.491 L64.0042 867.491 L64.0042 873.347 L42.679 873.347 Q37.6183 873.347 35.1038 875.321 Q32.5894 877.294 32.5894 881.241 Q32.5894 885.983 35.6131 888.72 Q38.6368 891.458 43.8567 891.458 L64.0042 891.458 L64.0042 897.346 L14.479 897.346 L14.479 891.458 L33.8944 891.458 Q30.6797 889.357 29.0883 886.524 Q27.4968 883.66 27.4968 879.936 Q27.4968 873.793 31.3163 870.642 Q35.1038 867.491 42.4881 867.491 Z\" fill=\"#000000\" fill-rule=\"nonzero\" fill-opacity=\"1\" /><path clip-path=\"url(#clip510)\" d=\"M33.8307 835.153 Q33.2578 836.14 33.0032 837.317 Q32.7167 838.463 32.7167 839.864 Q32.7167 844.829 35.9632 847.502 Q39.1779 850.144 45.2253 850.144 L64.0042 850.144 L64.0042 856.032 L28.3562 856.032 L28.3562 850.144 L33.8944 850.144 Q30.6479 848.298 29.0883 845.338 Q27.4968 842.378 27.4968 838.145 Q27.4968 837.54 27.5923 836.808 Q27.656 836.076 27.8151 835.185 L33.8307 835.153 Z\" fill=\"#000000\" fill-rule=\"nonzero\" fill-opacity=\"1\" /><path clip-path=\"url(#clip510)\" d=\"M49.9359 829.615 L28.3562 829.615 L28.3562 823.758 L49.7131 823.758 Q54.7739 823.758 57.3202 821.785 Q59.8346 819.812 59.8346 815.865 Q59.8346 811.122 56.8109 808.385 Q53.7872 805.616 48.5673 805.616 L28.3562 805.616 L28.3562 799.76 L64.0042 799.76 L64.0042 805.616 L58.5296 805.616 Q61.7762 807.749 63.3676 810.581 Q64.9272 813.382 64.9272 817.106 Q64.9272 823.249 61.1078 826.432 Q57.2883 829.615 49.9359 829.615 M27.4968 814.878 L27.4968 814.878 Z\" fill=\"#000000\" fill-rule=\"nonzero\" fill-opacity=\"1\" /><path clip-path=\"url(#clip510)\" d=\"M29.4065 764.971 L34.9447 764.971 Q33.6716 767.454 33.035 770.127 Q32.3984 772.801 32.3984 775.665 Q32.3984 780.026 33.7352 782.222 Q35.072 784.386 37.7456 784.386 Q39.7826 784.386 40.9603 782.827 Q42.1061 781.267 43.1565 776.557 L43.6021 774.551 Q44.9389 768.313 47.3897 765.703 Q49.8086 763.061 54.1691 763.061 Q59.1344 763.061 62.0308 767.008 Q64.9272 770.923 64.9272 777.798 Q64.9272 780.662 64.3543 783.782 Q63.8132 786.869 62.6992 790.307 L56.6518 790.307 Q58.3387 787.06 59.198 783.909 Q60.0256 780.758 60.0256 777.671 Q60.0256 773.533 58.6251 771.305 Q57.1929 769.077 54.6147 769.077 Q52.2276 769.077 50.9545 770.7 Q49.6813 772.292 48.5037 777.734 L48.0262 779.771 Q46.8804 785.214 44.5251 787.633 Q42.138 790.052 38.0002 790.052 Q32.9713 790.052 30.2341 786.487 Q27.4968 782.922 27.4968 776.366 Q27.4968 773.119 27.9743 770.255 Q28.4517 767.39 29.4065 764.971 Z\" fill=\"#000000\" fill-rule=\"nonzero\" fill-opacity=\"1\" /><path clip-path=\"url(#clip510)\" d=\"M18.2347 747.943 L28.3562 747.943 L28.3562 735.88 L32.9077 735.88 L32.9077 747.943 L52.2594 747.943 Q56.6199 747.943 57.8613 746.765 Q59.1026 745.556 59.1026 741.895 L59.1026 735.88 L64.0042 735.88 L64.0042 741.895 Q64.0042 748.675 61.4897 751.253 Q58.9434 753.831 52.2594 753.831 L32.9077 753.831 L32.9077 758.128 L28.3562 758.128 L28.3562 753.831 L18.2347 753.831 L18.2347 747.943 Z\" fill=\"#000000\" fill-rule=\"nonzero\" fill-opacity=\"1\" /><path clip-path=\"url(#clip510)\" d=\"M14.5426 693.389 Q21.8632 697.654 29.0246 699.723 Q36.186 701.791 43.5384 701.791 Q50.8908 701.791 58.1159 699.723 Q65.3091 697.622 72.5979 693.389 L72.5979 698.481 Q65.1182 703.255 57.8931 705.643 Q50.668 707.998 43.5384 707.998 Q36.4406 707.998 29.2474 705.643 Q22.0542 703.287 14.5426 698.481 L14.5426 693.389 Z\" fill=\"#000000\" fill-rule=\"nonzero\" fill-opacity=\"1\" /><path clip-path=\"url(#clip510)\" d=\"M16.4842 681.771 L16.4842 673.114 L56.238 652.043 L16.4842 652.043 L16.4842 645.805 L64.0042 645.805 L64.0042 654.462 L24.2503 675.533 L64.0042 675.533 L64.0042 681.771 L16.4842 681.771 Z\" fill=\"#000000\" fill-rule=\"nonzero\" fill-opacity=\"1\" /><path clip-path=\"url(#clip510)\" d=\"M14.5426 634.188 L14.5426 629.095 Q22.0542 624.321 29.2474 621.965 Q36.4406 619.578 43.5384 619.578 Q50.668 619.578 57.8931 621.965 Q65.1182 624.321 72.5979 629.095 L72.5979 634.188 Q65.3091 629.954 58.1159 627.886 Q50.8908 625.785 43.5384 625.785 Q36.186 625.785 29.0246 627.886 Q21.8632 629.954 14.5426 634.188 Z\" fill=\"#000000\" fill-rule=\"nonzero\" fill-opacity=\"1\" /><path clip-path=\"url(#clip510)\" d=\"M1227.78 16.7545 L1227.78 25.383 Q1223.65 21.5346 1218.95 19.6307 Q1214.29 17.7268 1209.03 17.7268 Q1198.66 17.7268 1193.15 24.0867 Q1187.64 30.4061 1187.64 42.3968 Q1187.64 54.3469 1193.15 60.7069 Q1198.66 67.0263 1209.03 67.0263 Q1214.29 67.0263 1218.95 65.1223 Q1223.65 63.2184 1227.78 59.3701 L1227.78 67.9175 Q1223.49 70.8341 1218.67 72.2924 Q1213.89 73.7508 1208.54 73.7508 Q1194.81 73.7508 1186.91 65.3654 Q1179.01 56.9395 1179.01 42.3968 Q1179.01 27.8135 1186.91 19.4281 Q1194.81 11.0023 1208.54 11.0023 Q1213.97 11.0023 1218.75 12.4606 Q1223.57 13.8784 1227.78 16.7545 Z\" fill=\"#000000\" fill-rule=\"nonzero\" fill-opacity=\"1\" /><path clip-path=\"url(#clip510)\" d=\"M1257.68 32.4315 Q1251.68 32.4315 1248.2 37.1306 Q1244.71 41.7891 1244.71 49.9314 Q1244.71 58.0738 1248.16 62.7728 Q1251.64 67.4314 1257.68 67.4314 Q1263.63 67.4314 1267.12 62.7323 Q1270.6 58.0333 1270.6 49.9314 Q1270.6 41.8701 1267.12 37.1711 Q1263.63 32.4315 1257.68 32.4315 M1257.68 26.1121 Q1267.4 26.1121 1272.95 32.4315 Q1278.5 38.7509 1278.5 49.9314 Q1278.5 61.0714 1272.95 67.4314 Q1267.4 73.7508 1257.68 73.7508 Q1247.91 73.7508 1242.36 67.4314 Q1236.86 61.0714 1236.86 49.9314 Q1236.86 38.7509 1242.36 32.4315 Q1247.91 26.1121 1257.68 26.1121 Z\" fill=\"#000000\" fill-rule=\"nonzero\" fill-opacity=\"1\" /><path clip-path=\"url(#clip510)\" d=\"M1328.57 45.1919 L1328.57 72.576 L1321.11 72.576 L1321.11 45.4349 Q1321.11 38.994 1318.6 35.7938 Q1316.09 32.5936 1311.07 32.5936 Q1305.03 32.5936 1301.55 36.4419 Q1298.06 40.2903 1298.06 46.9338 L1298.06 72.576 L1290.57 72.576 L1290.57 27.2059 L1298.06 27.2059 L1298.06 34.2544 Q1300.74 30.163 1304.34 28.1376 Q1307.99 26.1121 1312.73 26.1121 Q1320.55 26.1121 1324.56 30.9732 Q1328.57 35.7938 1328.57 45.1919 Z\" fill=\"#000000\" fill-rule=\"nonzero\" fill-opacity=\"1\" /><path clip-path=\"url(#clip510)\" d=\"M1350.81 14.324 L1350.81 27.2059 L1366.16 27.2059 L1366.16 32.9987 L1350.81 32.9987 L1350.81 57.6282 Q1350.81 63.1779 1352.31 64.7578 Q1353.85 66.3376 1358.5 66.3376 L1366.16 66.3376 L1366.16 72.576 L1358.5 72.576 Q1349.88 72.576 1346.59 69.3758 Q1343.31 66.1351 1343.31 57.6282 L1343.31 32.9987 L1337.84 32.9987 L1337.84 27.2059 L1343.31 27.2059 L1343.31 14.324 L1350.81 14.324 Z\" fill=\"#000000\" fill-rule=\"nonzero\" fill-opacity=\"1\" /><path clip-path=\"url(#clip510)\" d=\"M1402.25 34.1734 Q1401 33.4443 1399.5 33.1202 Q1398.04 32.7556 1396.26 32.7556 Q1389.94 32.7556 1386.54 36.8875 Q1383.17 40.9789 1383.17 48.6757 L1383.17 72.576 L1375.68 72.576 L1375.68 27.2059 L1383.17 27.2059 L1383.17 34.2544 Q1385.52 30.1225 1389.29 28.1376 Q1393.06 26.1121 1398.45 26.1121 Q1399.22 26.1121 1400.15 26.2337 Q1401.08 26.3147 1402.21 26.5172 L1402.25 34.1734 Z\" fill=\"#000000\" fill-rule=\"nonzero\" fill-opacity=\"1\" /><path clip-path=\"url(#clip510)\" d=\"M1425.83 32.4315 Q1419.83 32.4315 1416.35 37.1306 Q1412.87 41.7891 1412.87 49.9314 Q1412.87 58.0738 1416.31 62.7728 Q1419.79 67.4314 1425.83 67.4314 Q1431.78 67.4314 1435.27 62.7323 Q1438.75 58.0333 1438.75 49.9314 Q1438.75 41.8701 1435.27 37.1711 Q1431.78 32.4315 1425.83 32.4315 M1425.83 26.1121 Q1435.55 26.1121 1441.1 32.4315 Q1446.65 38.7509 1446.65 49.9314 Q1446.65 61.0714 1441.1 67.4314 Q1435.55 73.7508 1425.83 73.7508 Q1416.07 73.7508 1410.52 67.4314 Q1405.01 61.0714 1405.01 49.9314 Q1405.01 38.7509 1410.52 32.4315 Q1416.07 26.1121 1425.83 26.1121 Z\" fill=\"#000000\" fill-rule=\"nonzero\" fill-opacity=\"1\" /><path clip-path=\"url(#clip510)\" d=\"M1459.01 9.54393 L1466.46 9.54393 L1466.46 72.576 L1459.01 72.576 L1459.01 9.54393 Z\" fill=\"#000000\" fill-rule=\"nonzero\" fill-opacity=\"1\" /><polyline clip-path=\"url(#clip512)\" style=\"stroke:#009af9; stroke-linecap:round; stroke-linejoin:round; stroke-width:4; stroke-opacity:1; fill:none\" points=\"351.016,1372.91 357.516,1374.32 364.016,1363.58 370.516,1354.11 377.015,1347.62 383.515,1344.09 390.015,1341.69 396.515,1339.38 403.015,1336.92 409.514,1334.37 416.014,1331.88 422.514,1329.51 429.014,1327.29 435.513,1325.21 442.013,1323.26 448.513,1321.42 455.013,1319.69 461.513,1318.06 468.012,1316.52 474.512,1315.08 481.012,1313.72 487.512,1312.45 494.012,1311.25 500.511,1310.13 507.011,1309.07 513.511,1308.08 520.011,1307.14 526.51,1306.26 533.01,1305.43 539.51,1304.65 546.01,1303.92 552.51,1303.23 559.009,1302.58 565.509,1301.97 572.009,1301.4 578.509,1300.87 585.009,1300.38 591.508,1299.92 598.008,1299.51 604.508,1299.13 611.008,1298.79 617.508,1298.49 624.007,1298.24 630.507,1298.03 637.007,1297.86 643.507,1297.75 650.006,1297.69 656.506,1297.68 663.006,1297.74 669.506,1297.86 676.006,1298.05 682.505,1298.32 689.005,1298.66 695.505,1299.09 702.005,1299.61 708.505,1300.22 715.004,1300.94 721.504,1301.77 728.004,1302.72 734.504,1303.79 741.003,1304.99 747.503,1306.33 754.003,1307.82 760.503,1309.48 767.003,1311.29 773.502,1313.27 780.002,1315.44 786.502,1317.79 793.002,1320.33 799.502,1323.06 806.001,1326 812.501,1329.16 819.001,1333.35 825.501,1338.2 832.001,1342.55 838.5,1346.85 845,1352.17 851.5,1358.31 858,1364.93 864.499,1371.86 870.999,1378.8 877.499,1385.31 883.999,1386.4 890.499,1386.4 896.998,1386.4 903.498,1386.4 909.998,1386.4 916.498,1386.4 922.998,1386.4 929.497,1386.4 935.997,1386.4 942.497,1386.4 948.997,1386.4 955.496,1386.4 961.996,1386.4 968.496,1386.4 974.996,1386.4 981.496,1386.4 987.995,1386.4 994.495,1386.4 1000.99,1386.4 1007.49,1386.4 1013.99,1386.4 1020.49,1386.4 1026.99,1386.39 1033.49,1386.39 1039.99,1386.39 1046.49,1386.38 1052.99,1386.39 1059.49,1386.39 1065.99,1386.39 1072.49,1386.37 1078.99,1386.32 1085.49,1386.39 1091.99,1386.31 1098.49,1386.38 1104.99,1386.39 1111.49,1386.35 1117.99,1386.35 1124.49,1386.16 1130.99,1386.07 1137.49,1386.1 1143.99,1385.81 1150.49,1307.76 1156.99,583.3 1163.49,162.511 1169.99,161.385 1176.49,161.853 1182.99,163.885 1189.49,226.853 1195.99,161.529 1202.49,185.705 1208.99,162.743 1215.49,169.173 1221.99,166.085 1228.49,182.134 1234.99,238.283 1241.49,342.552 1247.99,708.801 1254.49,760.816 1260.99,1030.72 1267.49,1368.97 1273.99,1383.93 1280.49,1384.32 1286.99,1385.13 1293.49,1384.5 1299.99,1384.44 1306.49,1384.48 1312.98,1381.78 1319.48,684.935 1325.98,312.894 1332.48,190.927 1338.98,175.839 1345.48,195.284 1351.98,194.438 1358.48,352.252 1364.98,339.264 1371.48,600.621 1377.98,900.544 1384.48,1332.86 1390.98,1383.79 1397.48,1383.9 1403.98,1383.25 1410.48,1383.31 1416.98,1372.28 1423.48,1338.05 1429.98,1081.68 1436.48,369.267 1442.98,278.863 1449.48,465.401 1455.98,278.082 1462.48,414.914 1468.98,848.399 1475.48,1002.86 1481.98,1376.48 1488.48,1383.56 1494.98,1370.24 1501.48,1383.99 1507.98,1375.52 1514.48,929.274 1520.98,461.126 1527.48,581.729 1533.98,314.789 1540.48,398.143 1546.98,658.535 1553.48,1249.12 1559.98,1381.87 1566.48,1384.36 1572.98,1382.83 1579.48,1384.07 1585.98,1375.2 1592.48,652.516 1598.98,304.033 1605.48,227.943 1611.98,381.833 1618.47,868.465 1624.97,1252.99 1631.47,1385.67 1637.97,1356.33 1644.47,1382.6 1650.97,1332.84 1657.47,688.715 1663.97,235.245 1670.47,274.938 1676.97,412.395 1683.47,888.253 1689.97,1379.97 1696.47,1364.83 1702.97,1380.82 1709.47,1372.71 1715.97,1231.84 1722.47,453.757 1728.97,551.326 1735.47,388.892 1741.97,923.75 1748.47,1381.24 1754.97,1383.41 1761.47,1380.61 1767.97,1018.34 1774.47,305.338 1780.97,187.567 1787.47,311.898 1793.97,1298.76 1800.47,1367.53 1806.97,1383.51 1813.47,1385.42 1819.97,1379.56 1826.47,463.87 1832.97,457.473 1839.47,702.442 1845.97,1334.87 1852.47,1384.32 1858.97,1374.74 1865.47,1383.4 1871.97,641.123 1878.47,239.925 1884.97,853.528 1891.47,1371.2 1897.97,1385.75 1904.47,1378.6 1910.97,1386.08 1917.47,1339.04 1923.96,740.262 1930.46,1167.53 1936.96,1383.38 1943.46,1385.12 1949.96,1385.67 1956.46,1384.97 1962.96,1245.25 1969.46,1371.85 1975.96,1384.01 1982.46,1386.37 1988.96,1386.09 1995.46,1386.23 2001.96,1384.92 2008.46,1343.31 2014.96,1385.69 2021.46,1382.94 2027.96,1385.84 2034.46,1382.66 2040.96,1385.29 2047.46,1385.8 2053.96,1385.43 2060.46,1386.33 2066.96,1381.7 2073.46,1381.93 2079.96,1385.6 2086.46,1383.84 2092.96,1385.89 2099.46,1385.72 2105.96,1384.6 2112.46,1383.6 2118.96,1385.3 2125.46,1385.41 2131.96,1385.41 2138.46,1384.06 2144.96,1386.34 2151.46,1385.93 2157.96,1383.64 2164.46,1385.88 2170.96,1386.29 2177.46,1384.74 2183.96,1381.29 2190.46,1383.84 2196.96,1385.15 2203.46,1386.06 2209.96,1384.86 2216.46,1373.92 2222.96,1381.33 2229.45,1381.34 2235.95,1380.69 2242.45,1386.12 2248.95,1386.25 2255.45,1385.56 2261.95,1363.54 2268.45,1385.47 2274.95,1386.14 2281.45,1385.14 2287.95,1373.28 2294.45,1386.4 \"/>\n",
       "<polyline clip-path=\"url(#clip512)\" style=\"stroke:#e26f46; stroke-linecap:round; stroke-linejoin:round; stroke-width:4; stroke-opacity:1; fill:none\" points=\"351.016,1372.91 357.516,1374.93 364.016,1355.89 370.516,1339.62 377.015,1329.4 383.515,1323.86 390.015,1320.14 396.515,1316.64 403.015,1312.92 409.514,1309.1 416.014,1305.35 422.514,1301.81 429.014,1298.51 435.513,1295.45 442.013,1292.6 448.513,1289.95 455.013,1287.49 461.513,1285.22 468.012,1283.13 474.512,1281.22 481.012,1279.48 487.512,1277.9 494.012,1276.49 500.511,1275.24 507.011,1274.14 513.511,1273.19 520.011,1272.38 526.51,1271.71 533.01,1271.17 539.51,1270.77 546.01,1270.51 552.51,1270.36 559.009,1270.33 565.509,1270.43 572.009,1270.65 578.509,1270.99 585.009,1271.45 591.508,1272.02 598.008,1272.71 604.508,1273.52 611.008,1274.44 617.508,1275.49 624.007,1276.65 630.507,1277.94 637.007,1279.36 643.507,1280.91 650.006,1282.58 656.506,1284.39 663.006,1286.35 669.506,1288.45 676.006,1290.7 682.505,1293.1 689.005,1295.67 695.505,1298.41 702.005,1301.31 708.505,1304.4 715.004,1307.68 721.504,1311.15 728.004,1314.83 734.504,1318.72 741.003,1322.82 747.503,1327.17 754.003,1331.74 760.503,1336.57 767.003,1341.65 773.502,1347 780.002,1352.63 786.502,1358.54 793.002,1364.76 799.502,1371.3 806.001,1378.18 812.501,1385.45 819.001,1386.4 825.501,1386.4 832.001,1386.4 838.5,1386.4 845,1386.4 851.5,1386.4 858,1386.4 864.499,1386.4 870.999,1386.4 877.499,1386.4 883.999,1386.4 890.499,1386.4 896.998,1386.4 903.498,1386.4 909.998,1386.4 916.498,1386.4 922.998,1386.4 929.497,1386.4 935.997,1386.4 942.497,1386.4 948.997,1386.4 955.496,1386.4 961.996,1386.4 968.496,1386.4 974.996,1386.4 981.496,1363.76 987.995,1334.49 994.495,1297.09 1000.99,1251.66 1007.49,1198.77 1013.99,1138.75 1020.49,1071.63 1026.99,994.078 1033.49,898.179 1039.99,798.671 1046.49,698.328 1052.99,596.127 1059.49,490.852 1065.99,385.413 1072.49,295.034 1078.99,228.045 1085.49,174.639 1091.99,179.832 1098.49,164.67 1104.99,160.668 1111.49,166.166 1117.99,164.95 1124.49,173.285 1130.99,164.343 1137.49,161.37 1143.99,160.721 1150.49,160.359 1156.99,160.583 1163.49,160.328 1169.99,160.315 1176.49,160.36 1182.99,160.522 1189.49,165.277 1195.99,160.34 1202.49,161.898 1208.99,160.373 1215.49,160.599 1221.99,160.41 1228.49,160.631 1234.99,160.976 1241.49,160.587 1247.99,163.779 1254.49,160.375 1260.99,160.581 1267.49,162.093 1273.99,161.097 1280.49,161.624 1286.99,161.375 1293.49,162.147 1299.99,161.919 1306.49,161.185 1312.98,160.651 1319.48,160.719 1325.98,162.725 1332.48,160.876 1338.98,160.611 1345.48,161.063 1351.98,160.792 1358.48,162.942 1364.98,160.511 1371.48,160.561 1377.98,160.875 1384.48,169.779 1390.98,161.052 1397.48,161.783 1403.98,162.852 1410.48,162.845 1416.98,169.247 1423.48,175.26 1429.98,160.675 1436.48,160.53 1442.98,161.113 1449.48,166.153 1455.98,160.874 1462.48,160.993 1468.98,165.096 1475.48,160.575 1481.98,161.65 1488.48,161.384 1494.98,170.1 1501.48,161.229 1507.98,161.837 1514.48,170.767 1520.98,164.759 1527.48,170.456 1533.98,161.858 1540.48,161.013 1546.98,161.153 1553.48,165.259 1559.98,161.374 1566.48,161.482 1572.98,162.945 1579.48,161.521 1585.98,162.086 1592.48,161.727 1598.98,161.39 1605.48,160.605 1611.98,161.003 1618.47,167.03 1624.97,161.525 1631.47,160.437 1637.97,180.918 1644.47,161.532 1650.97,162.81 1657.47,173.644 1663.97,161.208 1670.47,161.331 1676.97,160.714 1683.47,161.089 1689.97,162.3 1696.47,182.474 1702.97,166.053 1709.47,169.737 1715.97,161.451 1722.47,168.634 1728.97,170.677 1735.47,161.491 1741.97,162.591 1748.47,162.102 1754.97,162.81 1761.47,163.184 1767.97,162.828 1774.47,164.909 1780.97,160.873 1787.47,161.013 1793.97,161.227 1800.47,185.327 1806.97,168.397 1813.47,162.989 1819.97,164.537 1826.47,162.15 1832.97,174.963 1839.47,165.175 1845.97,199.386 1852.47,166.85 1858.97,231.156 1865.47,164.012 1871.97,161.749 1878.47,162.148 1884.97,162.981 1891.47,238.12 1897.97,495.966 1904.47,1335.18 1910.97,1385.45 1917.47,266.773 1923.96,164.817 1930.46,162.146 1936.96,402.178 1943.46,1383.17 1949.96,1385.79 1956.46,1383.69 1962.96,441.938 1969.46,240.031 1975.96,670.968 1982.46,1386.28 1988.96,1386.11 1995.46,1386.27 2001.96,1383.21 2008.46,1010.47 2014.96,1070.77 2021.46,1375.63 2027.96,1385.92 2034.46,1383.78 2040.96,1385.63 2047.46,1384.81 2053.96,1382.02 2060.46,1386.3 2066.96,1381.74 2073.46,1383.15 2079.96,1385.87 2086.46,1384.21 2092.96,1385.6 2099.46,1385.63 2105.96,1385.1 2112.46,1384.76 2118.96,1385.82 2125.46,1385.79 2131.96,1385.48 2138.46,1384.31 2144.96,1386.36 2151.46,1386.13 2157.96,1384.82 2164.46,1386.11 2170.96,1386.32 2177.46,1385.21 2183.96,1383.17 2190.46,1385.03 2196.96,1385.78 2203.46,1386.22 2209.96,1385.38 2216.46,1376.31 2222.96,1383.28 2229.45,1383.56 2235.95,1383.26 2242.45,1386.25 2248.95,1386.31 2255.45,1385.92 2261.95,1371.16 2268.45,1385.96 2274.95,1386.27 2281.45,1385.69 2287.95,1377.21 2294.45,1386.4 \"/>\n",
       "<polyline clip-path=\"url(#clip512)\" style=\"stroke:#3da44d; stroke-linecap:round; stroke-linejoin:round; stroke-width:4; stroke-opacity:1; fill:none\" points=\"351.016,1372.91 357.516,1372.69 364.016,1374.83 370.516,1375.32 377.015,1373.81 383.515,1372.73 390.015,1371.85 396.515,1370.99 403.015,1370.11 409.514,1369.23 416.014,1368.36 422.514,1367.52 429.014,1366.71 435.513,1365.92 442.013,1365.16 448.513,1364.42 455.013,1363.69 461.513,1362.98 468.012,1362.29 474.512,1361.6 481.012,1360.92 487.512,1360.24 494.012,1359.57 500.511,1358.9 507.011,1358.23 513.511,1357.55 520.011,1356.88 526.51,1356.19 533.01,1355.51 539.51,1354.82 546.01,1354.12 552.51,1353.41 559.009,1352.69 565.509,1351.97 572.009,1351.23 578.509,1350.49 585.009,1349.75 591.508,1348.99 598.008,1348.22 604.508,1347.45 611.008,1346.68 617.508,1345.9 624.007,1345.12 630.507,1344.34 637.007,1343.56 643.507,1342.79 650.006,1342.01 656.506,1341.25 663.006,1340.49 669.506,1339.76 676.006,1339.03 682.505,1338.33 689.005,1337.66 695.505,1337.01 702.005,1336.4 708.505,1335.82 715.004,1335.3 721.504,1334.82 728.004,1334.41 734.504,1334.07 741.003,1333.79 747.503,1333.61 754.003,1333.51 760.503,1333.53 767.003,1333.65 773.502,1333.9 780.002,1334.29 786.502,1334.81 793.002,1335.47 799.502,1336.3 806.001,1337.28 812.501,1338.4 819.001,1336.83 825.501,1333.58 832.001,1329.65 838.5,1324.53 845,1318.09 851.5,1311.63 858,1306.03 864.499,1301.56 870.999,1298.57 877.499,1297.42 883.999,1298.39 890.499,1301.4 896.998,1304.96 903.498,1309.07 909.998,1314.24 916.498,1321.01 922.998,1329.9 929.497,1341.57 935.997,1356.99 942.497,1379.4 948.997,1386.4 955.496,1386.4 961.996,1386.4 968.496,1386.4 974.996,1386.4 981.496,1386.4 987.995,1386.4 994.495,1386.4 1000.99,1386.4 1007.49,1386.4 1013.99,1386.4 1020.49,1386.4 1026.99,1386.39 1033.49,1386.39 1039.99,1386.39 1046.49,1386.38 1052.99,1386.39 1059.49,1386.39 1065.99,1386.39 1072.49,1386.36 1078.99,1386.29 1085.49,1386.39 1091.99,1386.3 1098.49,1386.38 1104.99,1386.39 1111.49,1386.36 1117.99,1386.37 1124.49,1386.32 1130.99,1386.33 1137.49,1386.35 1143.99,1386.35 1150.49,1386.37 1156.99,1386.27 1163.49,1386.36 1169.99,1386.35 1176.49,1386.31 1182.99,1386.15 1189.49,1381.18 1195.99,1386.31 1202.49,1384.6 1208.99,1386.26 1215.49,1386.01 1221.99,1386.22 1228.49,1386 1234.99,1385.69 1241.49,1386.11 1247.99,1383.82 1254.49,1386.33 1260.99,1386.25 1267.49,1385.73 1273.99,1386.17 1280.49,1386.1 1286.99,1386.2 1293.49,1386.09 1299.99,1386.12 1306.49,1386.2 1312.98,1386.27 1319.48,1386.19 1325.98,1384.83 1332.48,1385.9 1338.98,1386.08 1345.48,1385.64 1351.98,1385.9 1358.48,1384.09 1364.98,1386.2 1371.48,1386.2 1377.98,1386.09 1384.48,1382.38 1390.98,1386.16 1397.48,1386.03 1403.98,1385.89 1410.48,1385.89 1416.98,1384.33 1423.48,1381.69 1429.98,1386.22 1436.48,1386.24 1442.98,1385.78 1449.48,1381.49 1455.98,1385.89 1462.48,1385.84 1468.98,1383.33 1475.48,1386.25 1481.98,1385.89 1488.48,1386.09 1494.98,1384.08 1501.48,1386.16 1507.98,1385.91 1514.48,1381.34 1520.98,1383.42 1527.48,1378.39 1533.98,1385.13 1540.48,1385.84 1546.98,1385.86 1553.48,1384.14 1559.98,1386.06 1566.48,1386.13 1572.98,1385.86 1579.48,1386.13 1585.98,1385.85 1592.48,1385.72 1598.98,1385.63 1605.48,1386.12 1611.98,1385.83 1618.47,1382.22 1624.97,1385.87 1631.47,1386.35 1637.97,1381.55 1644.47,1386.09 1650.97,1385.57 1657.47,1379.22 1663.97,1385.72 1670.47,1385.57 1676.97,1386.09 1683.47,1386.02 1689.97,1385.83 1696.47,1381.84 1702.97,1385.51 1709.47,1384.64 1715.97,1386.01 1722.47,1381.43 1728.97,1378.5 1735.47,1385.59 1741.97,1385.38 1748.47,1385.95 1754.97,1385.99 1761.47,1385.88 1767.97,1385.64 1774.47,1384.06 1780.97,1385.99 1787.47,1385.98 1793.97,1386.07 1800.47,1382.07 1806.97,1385.65 1813.47,1386.2 1819.97,1385.8 1826.47,1385.71 1832.97,1377.18 1839.47,1384.55 1845.97,1378.77 1852.47,1385.98 1858.97,1383.53 1865.47,1386.14 1871.97,1386.12 1878.47,1385.75 1884.97,1385.77 1891.47,1382.47 1897.97,1386.09 1904.47,1381.8 1910.97,1386.3 1917.47,1382.37 1923.96,1385.78 1930.46,1386.2 1936.96,1385.53 1943.46,1385.76 1949.96,1386.02 1956.46,1386.11 1962.96,1381.99 1969.46,1385.75 1975.96,1385.48 1982.46,1386.37 1988.96,1386.12 1995.46,1386.28 2001.96,1385.99 2008.46,1378.19 2014.96,1386.18 2021.46,1383.55 2027.96,1385.84 2034.46,1382.87 2040.96,1385.92 2047.46,1386.29 2053.96,1385.83 2060.46,1386.32 2066.96,1379.79 2073.46,1380.08 2079.96,1385.63 2086.46,1385.17 2092.96,1386.09 2099.46,1385.62 2105.96,1383.57 2112.46,1381.62 2118.96,1385.05 2125.46,1385.71 2131.96,1385.34 2138.46,1382.31 2144.96,1386.26 2151.46,1385.28 2157.96,1380.93 2164.46,1385.73 2170.96,1386.24 2177.46,1382.58 2183.96,1371.08 2190.46,1378.33 2196.96,1383.18 2203.46,1385.73 2209.96,1382.16 2216.46,1343.25 2222.96,1366.02 2229.45,1364.83 2235.95,1364.81 2242.45,1385.53 2248.95,1385.79 2255.45,1381.91 2261.95,1242.16 2268.45,1379.78 2274.95,1384.87 2281.45,1379.04 2287.95,1305.68 2294.45,1386.4 \"/>\n",
       "<polyline clip-path=\"url(#clip512)\" style=\"stroke:#c271d2; stroke-linecap:round; stroke-linejoin:round; stroke-width:4; stroke-opacity:1; fill:none\" points=\"351.016,1372.91 357.516,1373.46 364.016,1372.54 370.516,1372.63 377.015,1373.74 383.515,1374.26 390.015,1374.54 396.515,1374.8 403.015,1375.1 409.514,1375.43 416.014,1375.75 422.514,1376.04 429.014,1376.3 435.513,1376.54 442.013,1376.76 448.513,1376.96 455.013,1377.15 461.513,1377.32 468.012,1377.48 474.512,1377.62 481.012,1377.76 487.512,1377.89 494.012,1378.01 500.511,1378.13 507.011,1378.24 513.511,1378.34 520.011,1378.45 526.51,1378.55 533.01,1378.65 539.51,1378.75 546.01,1378.85 552.51,1378.96 559.009,1379.06 565.509,1379.16 572.009,1379.26 578.509,1379.37 585.009,1379.47 591.508,1379.58 598.008,1379.69 604.508,1379.8 611.008,1379.91 617.508,1380.02 624.007,1380.13 630.507,1380.24 637.007,1380.34 643.507,1380.44 650.006,1380.54 656.506,1380.64 663.006,1380.73 669.506,1380.8 676.006,1380.87 682.505,1380.93 689.005,1380.97 695.505,1380.99 702.005,1380.99 708.505,1380.97 715.004,1380.91 721.504,1380.83 728.004,1380.71 734.504,1380.55 741.003,1380.34 747.503,1380.08 754.003,1379.75 760.503,1379.36 767.003,1378.89 773.502,1378.34 780.002,1377.69 786.502,1376.95 793.002,1376.1 799.502,1375.13 806.001,1374.05 812.501,1372.84 819.001,1370.88 825.501,1368.83 832.001,1367.3 838.5,1366.21 845,1365.21 851.5,1364.12 858,1362.93 864.499,1361.66 870.999,1360.26 877.499,1358.63 883.999,1356.62 890.499,1354.02 896.998,1351.26 903.498,1348.35 909.998,1345.2 916.498,1341.69 922.998,1337.71 929.497,1333.14 935.997,1327.81 942.497,1320.67 948.997,1304.77 955.496,1290.78 961.996,1283.46 968.496,1271.72 974.996,1260.13 981.496,1248.82 987.995,1234.39 994.495,1215.43 1000.99,1192.6 1007.49,1166.48 1013.99,1137.22 1020.49,1104.64 1026.99,1058.56 1033.49,971.411 1039.99,851.574 1046.49,703.599 1052.99,518.401 1059.49,288.205 1065.99,160.555 1072.49,160.699 1078.99,161.072 1085.49,160.302 1091.99,160.665 1098.49,160.316 1104.99,160.26 1111.49,160.322 1117.99,160.298 1124.49,160.364 1130.99,160.334 1137.49,160.31 1143.99,160.317 1150.49,160.287 1156.99,160.414 1163.49,160.305 1169.99,160.317 1176.49,160.386 1182.99,160.627 1189.49,168.644 1195.99,160.402 1202.49,163.213 1208.99,160.485 1215.49,160.913 1221.99,160.549 1228.49,160.926 1234.99,161.401 1241.49,160.687 1247.99,164.062 1254.49,160.346 1260.99,160.453 1267.49,161.121 1273.99,160.55 1280.49,160.64 1286.99,160.514 1293.49,160.639 1299.99,160.611 1306.49,160.498 1312.98,160.409 1319.48,160.514 1325.98,162.426 1332.48,160.978 1338.98,160.738 1345.48,161.426 1351.98,161.028 1358.48,163.75 1364.98,160.538 1371.48,160.527 1377.98,160.662 1384.48,165.673 1390.98,160.563 1397.48,160.725 1403.98,160.896 1410.48,160.901 1416.98,162.904 1423.48,166.289 1429.98,160.478 1436.48,160.458 1442.98,161.133 1449.48,167.615 1455.98,161.011 1462.48,161.068 1468.98,164.556 1475.48,160.446 1481.98,160.905 1488.48,160.645 1494.98,163.224 1501.48,160.552 1507.98,160.871 1514.48,166.923 1520.98,164.398 1527.48,172.049 1533.98,162.11 1540.48,161.059 1546.98,160.977 1553.48,163.239 1559.98,160.688 1566.48,160.596 1572.98,160.94 1579.48,160.584 1585.98,160.943 1592.48,161.122 1598.98,161.321 1605.48,160.657 1611.98,161.071 1618.47,166.14 1624.97,160.936 1631.47,160.317 1637.97,166.556 1644.47,160.64 1650.97,161.298 1657.47,169.857 1663.97,161.209 1670.47,161.459 1676.97,160.68 1683.47,160.754 1689.97,160.987 1696.47,166.341 1702.97,161.385 1709.47,162.475 1715.97,160.741 1722.47,167.068 1728.97,171.852 1735.47,161.382 1741.97,161.58 1748.47,160.83 1754.97,160.767 1761.47,160.901 1767.97,161.194 1774.47,163.351 1780.97,160.817 1787.47,160.823 1793.97,160.679 1800.47,166.168 1806.97,161.259 1813.47,160.511 1819.97,160.999 1826.47,161.135 1832.97,173.302 1839.47,162.654 1845.97,170.391 1852.47,160.807 1858.97,164.076 1865.47,160.575 1871.97,160.596 1878.47,161.088 1884.97,161.038 1891.47,165.678 1897.97,160.724 1904.47,167.424 1910.97,160.384 1917.47,165.351 1923.96,161.019 1930.46,160.492 1936.96,161.478 1943.46,161.177 1949.96,160.729 1956.46,160.628 1962.96,165.843 1969.46,161.086 1975.96,161.649 1982.46,160.296 1988.96,160.626 1995.46,160.397 2001.96,160.812 2008.46,171.659 2014.96,160.581 2021.46,165.608 2027.96,161.043 2034.46,164.857 2040.96,160.873 2047.46,160.404 2053.96,161.261 2060.46,160.385 2066.96,171.172 2073.46,168.867 2079.96,161.264 2086.46,162.018 2092.96,160.781 2099.46,161.71 2105.96,164.395 2112.46,166.137 2118.96,161.93 2125.46,161.237 2131.96,162.165 2138.46,168.022 2144.96,160.441 2151.46,161.553 2157.96,167.208 2164.46,161.223 2170.96,160.538 2177.46,167.057 2183.96,182.771 2190.46,169.726 2196.96,164.076 2203.46,161.263 2209.96,168.21 2216.46,258.911 2222.96,189.098 2229.45,186.203 2235.95,189.278 2242.45,161.681 2248.95,161.33 2255.45,166.219 2261.95,394.347 2268.45,166.164 2274.95,161.992 2281.45,173.447 2287.95,338.86 2294.45,1386.4 \"/>\n",
       "<polyline clip-path=\"url(#clip512)\" style=\"stroke:#ac8d18; stroke-linecap:round; stroke-linejoin:round; stroke-width:4; stroke-opacity:1; fill:none\" points=\"351.016,1372.91 357.516,1373.42 364.016,1373.06 370.516,1372.57 377.015,1371.84 383.515,1371.21 390.015,1370.63 396.515,1370.04 403.015,1369.45 409.514,1368.87 416.014,1368.3 422.514,1367.73 429.014,1367.18 435.513,1366.64 442.013,1366.1 448.513,1365.57 455.013,1365.05 461.513,1364.53 468.012,1364.01 474.512,1363.5 481.012,1362.98 487.512,1362.47 494.012,1361.95 500.511,1361.44 507.011,1360.92 513.511,1360.39 520.011,1359.86 526.51,1359.33 533.01,1358.79 539.51,1358.24 546.01,1357.69 552.51,1357.12 559.009,1356.55 565.509,1355.97 572.009,1355.39 578.509,1354.79 585.009,1354.19 591.508,1353.58 598.008,1352.96 604.508,1352.34 611.008,1351.71 617.508,1351.07 624.007,1350.43 630.507,1349.79 637.007,1349.14 643.507,1348.49 650.006,1347.84 656.506,1347.18 663.006,1346.53 669.506,1345.88 676.006,1345.24 682.505,1344.6 689.005,1343.96 695.505,1343.33 702.005,1342.71 708.505,1342.1 715.004,1341.51 721.504,1340.93 728.004,1340.36 734.504,1339.81 741.003,1339.28 747.503,1338.77 754.003,1338.28 760.503,1337.81 767.003,1337.37 773.502,1336.95 780.002,1336.56 786.502,1336.19 793.002,1335.84 799.502,1335.51 806.001,1335.19 812.501,1334.86 819.001,1330.74 825.501,1324.82 832.001,1318.81 838.5,1312.15 845,1304.33 851.5,1296.46 858,1289.35 864.499,1283.29 870.999,1278.52 877.499,1275.26 883.999,1273.52 890.499,1272.93 896.998,1272.81 903.498,1273.21 909.998,1274.5 916.498,1277.04 922.998,1281.22 929.497,1287.57 935.997,1296.92 942.497,1311.38 948.997,1339.83 955.496,1384.12 961.996,1386.4 968.496,1386.4 974.996,1386.4 981.496,1386.4 987.995,1386.4 994.495,1386.4 1000.99,1386.4 1007.49,1386.4 1013.99,1386.4 1020.49,1386.4 1026.99,1386.39 1033.49,1386.39 1039.99,1386.39 1046.49,1386.37 1052.99,1386.39 1059.49,1386.39 1065.99,1386.39 1072.49,1386.36 1078.99,1386.28 1085.49,1386.39 1091.99,1386.26 1098.49,1386.36 1104.99,1386.39 1111.49,1386.31 1117.99,1386.28 1124.49,1385.48 1130.99,933.93 1137.49,472.726 1143.99,184.908 1150.49,164.945 1156.99,576.955 1163.49,1308.08 1169.99,1385.73 1176.49,1385.49 1182.99,1384.36 1189.49,1356.37 1195.99,1385.88 1202.49,1377.11 1208.99,1385.77 1215.49,1384.62 1221.99,1385.62 1228.49,1384.51 1234.99,1382.61 1241.49,1384.42 1247.99,1363.46 1254.49,1384.43 1260.99,1246.35 1267.49,1062.57 1273.99,1063.15 1280.49,1257.11 1286.99,1237.54 1293.49,1068.61 1299.99,790.687 1306.49,498.08 1312.98,310.321 1319.48,857.753 1325.98,1361.2 1332.48,1382.04 1338.98,1384.26 1345.48,1381.81 1351.98,1383.38 1358.48,1371.03 1364.98,1384.66 1371.48,1383.61 1377.98,1354.24 1384.48,1261.1 1390.98,987.939 1397.48,1235.73 1403.98,1153.42 1410.48,974.758 1416.98,895.377 1423.48,929.333 1429.98,685.057 1436.48,1381.51 1442.98,1380.01 1449.48,1353.43 1455.98,1382.63 1462.48,1381.47 1468.98,1348.53 1475.48,1195.82 1481.98,883.019 1488.48,852.011 1494.98,1009.02 1501.48,542.818 1507.98,415.935 1514.48,1123.58 1520.98,1348.88 1527.48,1327.39 1533.98,1376 1540.48,1381.03 1546.98,1376.15 1553.48,1125.67 1559.98,865.541 1566.48,941.438 1572.98,854.746 1579.48,496.702 1585.98,357.714 1592.48,938.889 1598.98,1376.66 1605.48,1384.1 1611.98,1381.24 1618.47,1330.97 1624.97,817.761 1631.47,641.621 1637.97,1045.85 1644.47,380.504 1650.97,301.181 1657.47,1182.43 1663.97,1378.26 1670.47,1379.01 1676.97,1382.24 1683.47,1080.33 1689.97,770.215 1696.47,1258.96 1702.97,848.141 1709.47,493.226 1715.97,207.742 1722.47,1272.23 1728.97,1322.36 1735.47,1374.58 1741.97,962.724 1748.47,611.273 1754.97,658.124 1761.47,294.335 1767.97,217.577 1774.47,958.345 1780.97,1378.31 1787.47,1359.72 1793.97,499.088 1800.47,1296.56 1806.97,1370.37 1813.47,1150.6 1819.97,242.216 1826.47,334.442 1832.97,1218.98 1839.47,582.684 1845.97,907.89 1852.47,1194.81 1858.97,1213.17 1865.47,192.251 1871.97,168.33 1878.47,287.185 1884.97,203.681 1891.47,1278.6 1897.97,1384.69 1904.47,1365.03 1910.97,1196.29 1917.47,326.382 1923.96,176.452 1930.46,167.652 1936.96,1368.73 1943.46,1380.3 1949.96,549.98 1956.46,450.069 1962.96,278.519 1969.46,224.297 1975.96,1378.95 1982.46,1386.33 1988.96,1382.15 1995.46,869.556 2001.96,1040.76 2008.46,859.804 2014.96,1382.2 2021.46,1377.73 2027.96,1372 2034.46,707.574 2040.96,566.042 2047.46,808.029 2053.96,1383.77 2060.46,1386.17 2066.96,1359.59 2073.46,1161.16 2079.96,731.12 2086.46,1079.19 2092.96,1384.12 2099.46,1383.53 2105.96,1348.79 2112.46,699.692 2118.96,366.167 2125.46,774.979 2131.96,1380.23 2138.46,1373.71 2144.96,1385.33 2151.46,795.545 2157.96,659.999 2164.46,881.722 2170.96,1385.21 2177.46,1368.73 2183.96,1199.93 2190.46,514.103 2196.96,361.517 2203.46,854.293 2209.96,1369.01 2216.46,1316.94 2222.96,1156.3 2229.45,761.254 2235.95,756.482 2242.45,1167.66 2248.95,1383.34 2255.45,1097.42 2261.95,1184.33 2268.45,274.229 2274.95,500.861 2281.45,1193.28 2287.95,1290.26 2294.45,1386.4 \"/>\n",
       "<polyline clip-path=\"url(#clip512)\" style=\"stroke:#00a9ad; stroke-linecap:round; stroke-linejoin:round; stroke-width:4; stroke-opacity:1; fill:none\" points=\"351.016,1372.91 357.516,1371.84 364.016,1382.12 370.516,1386.4 377.015,1386.4 383.515,1386.4 390.015,1386.4 396.515,1386.4 403.015,1386.4 409.514,1386.4 416.014,1386.4 422.514,1386.4 429.014,1386.4 435.513,1386.4 442.013,1386.4 448.513,1386.4 455.013,1386.4 461.513,1386.4 468.012,1386.4 474.512,1386.4 481.012,1386.4 487.512,1386.4 494.012,1386.4 500.511,1386.4 507.011,1386.4 513.511,1386.4 520.011,1386.4 526.51,1386.4 533.01,1386.4 539.51,1386.4 546.01,1386.4 552.51,1386.4 559.009,1386.4 565.509,1386.4 572.009,1386.4 578.509,1386.4 585.009,1386.4 591.508,1386.4 598.008,1386.4 604.508,1386.4 611.008,1386.4 617.508,1386.4 624.007,1386.4 630.507,1386.4 637.007,1386.4 643.507,1386.4 650.006,1386.4 656.506,1386.4 663.006,1386.4 669.506,1386.4 676.006,1386.4 682.505,1386.4 689.005,1386.4 695.505,1386.4 702.005,1386.4 708.505,1386.4 715.004,1386.4 721.504,1386.4 728.004,1386.4 734.504,1386.4 741.003,1386.4 747.503,1386.4 754.003,1386.4 760.503,1386.4 767.003,1386.4 773.502,1386.4 780.002,1386.4 786.502,1386.4 793.002,1386.4 799.502,1386.4 806.001,1386.4 812.501,1386.4 819.001,1386.4 825.501,1386.4 832.001,1386.4 838.5,1380.69 845,1370.77 851.5,1359.85 858,1348.49 864.499,1336.94 870.999,1325.58 877.499,1314.82 883.999,1305.01 890.499,1296.51 896.998,1287.02 903.498,1276.21 909.998,1264.47 916.498,1251.98 922.998,1238.84 929.497,1225.11 935.997,1210.62 942.497,1194.23 948.997,1166.89 955.496,1129.77 961.996,1081.51 968.496,1032.85 974.996,974.651 981.496,904.952 987.995,824.339 994.495,732.242 1000.99,625.352 1007.49,499.753 1013.99,351.298 1020.49,174.938 1026.99,160.286 1033.49,160.263 1039.99,160.258 1046.49,160.274 1052.99,160.26 1059.49,160.256 1065.99,160.261 1072.49,160.28 1078.99,160.329 1085.49,160.261 1091.99,160.33 1098.49,160.27 1104.99,160.256 1111.49,160.282 1117.99,160.278 1124.49,160.326 1130.99,160.315 1137.49,160.299 1143.99,160.307 1150.49,160.285 1156.99,160.413 1163.49,160.308 1169.99,160.325 1176.49,160.412 1182.99,160.717 1189.49,171.071 1195.99,160.449 1202.49,164.156 1208.99,160.56 1215.49,161.104 1221.99,160.625 1228.49,161.068 1234.99,161.582 1241.49,160.73 1247.99,164.197 1254.49,160.347 1260.99,160.447 1267.49,161.05 1273.99,160.509 1280.49,160.566 1286.99,160.461 1293.49,160.562 1299.99,160.544 1306.49,160.462 1312.98,160.397 1319.48,160.51 1325.98,162.506 1332.48,161.045 1338.98,160.798 1345.48,161.591 1351.98,161.127 1358.48,164.054 1364.98,160.554 1371.48,160.532 1377.98,160.651 1384.48,164.979 1390.98,160.521 1397.48,160.636 1403.98,160.771 1410.48,160.772 1416.98,162.416 1423.48,165.473 1429.98,160.472 1436.48,160.46 1442.98,161.173 1449.48,168.07 1455.98,161.067 1462.48,161.11 1468.98,164.468 1475.48,160.44 1481.98,160.838 1488.48,160.585 1494.98,162.686 1501.48,160.51 1507.98,160.815 1514.48,166.623 1520.98,164.506 1527.48,172.528 1533.98,162.237 1540.48,161.098 1546.98,160.983 1553.48,163.027 1559.98,160.635 1566.48,160.537 1572.98,160.808 1579.48,160.533 1585.98,160.877 1592.48,161.109 1598.98,161.358 1605.48,160.685 1611.98,161.116 1618.47,165.98 1624.97,160.898 1631.47,160.31 1637.97,165.318 1644.47,160.589 1650.97,161.226 1657.47,169.743 1663.97,161.27 1670.47,161.544 1676.97,160.696 1683.47,160.735 1689.97,160.884 1696.47,164.86 1702.97,161.156 1709.47,162.084 1715.97,160.715 1722.47,167.171 1728.97,172.425 1735.47,161.429 1741.97,161.541 1748.47,160.744 1754.97,160.671 1761.47,160.804 1767.97,161.149 1774.47,163.467 1780.97,160.863 1787.47,160.841 1793.97,160.652 1800.47,164.598 1806.97,160.975 1813.47,160.449 1819.97,160.885 1826.47,161.133 1832.97,173.859 1839.47,162.61 1845.97,168.342 1852.47,160.671 1858.97,163.015 1865.47,160.525 1871.97,160.588 1878.47,161.122 1884.97,161.007 1891.47,164.067 1897.97,160.523 1904.47,163.971 1910.97,160.342 1917.47,164.48 1923.96,160.985 1930.46,160.475 1936.96,161.089 1943.46,160.771 1949.96,160.523 1956.46,160.528 1962.96,165.076 1969.46,160.961 1975.96,161.109 1982.46,160.272 1988.96,160.415 1995.46,160.325 2001.96,160.629 2008.46,168.51 2014.96,160.466 2021.46,162.349 2027.96,160.564 2034.46,162.169 2040.96,160.615 2047.46,160.363 2053.96,160.733 2060.46,160.297 2066.96,163.433 2073.46,163.015 2079.96,160.664 2086.46,161.206 2092.96,160.499 2099.46,160.698 2105.96,161.425 2112.46,161.993 2118.96,160.849 2125.46,160.693 2131.96,160.864 2138.46,161.971 2144.96,160.295 2151.46,160.568 2157.96,162.055 2164.46,160.554 2170.96,160.325 2177.46,161.5 2183.96,164.126 2190.46,162.077 2196.96,161.085 2203.46,160.478 2209.96,161.447 2216.46,171.067 2222.96,164.265 2229.45,164.139 2235.95,164.583 2242.45,160.46 2248.95,160.37 2255.45,160.925 2261.95,180.674 2268.45,160.956 2274.95,160.449 2281.45,161.29 2287.95,172.128 2294.45,1386.4 \"/>\n",
       "<path clip-path=\"url(#clip510)\" d=\"M361.381 529.676 L592.617 529.676 L592.617 166.796 L361.381 166.796  Z\" fill=\"#ffffff\" fill-rule=\"evenodd\" fill-opacity=\"1\"/>\n",
       "<polyline clip-path=\"url(#clip510)\" style=\"stroke:#000000; stroke-linecap:round; stroke-linejoin:round; stroke-width:4; stroke-opacity:1; fill:none\" points=\"361.381,529.676 592.617,529.676 592.617,166.796 361.381,166.796 361.381,529.676 \"/>\n",
       "<polyline clip-path=\"url(#clip510)\" style=\"stroke:#009af9; stroke-linecap:round; stroke-linejoin:round; stroke-width:4; stroke-opacity:1; fill:none\" points=\"384.271,218.636 521.607,218.636 \"/>\n",
       "<path clip-path=\"url(#clip510)\" d=\"M569.149 209.99 L559.774 222.606 L569.635 235.916 L564.612 235.916 L557.065 225.731 L549.519 235.916 L544.496 235.916 L554.565 222.351 L545.353 209.99 L550.376 209.99 L557.251 219.226 L564.126 209.99 L569.149 209.99 Z\" fill=\"#000000\" fill-rule=\"nonzero\" fill-opacity=\"1\" /><polyline clip-path=\"url(#clip510)\" style=\"stroke:#e26f46; stroke-linecap:round; stroke-linejoin:round; stroke-width:4; stroke-opacity:1; fill:none\" points=\"384.271,270.476 521.607,270.476 \"/>\n",
       "<path clip-path=\"url(#clip510)\" d=\"M558.339 290.163 Q556.533 294.793 554.82 296.205 Q553.107 297.617 550.237 297.617 L546.834 297.617 L546.834 294.052 L549.334 294.052 Q551.093 294.052 552.066 293.219 Q553.038 292.385 554.218 289.283 L554.982 287.339 L544.496 261.83 L549.01 261.83 L557.112 282.108 L565.214 261.83 L569.727 261.83 L558.339 290.163 Z\" fill=\"#000000\" fill-rule=\"nonzero\" fill-opacity=\"1\" /><polyline clip-path=\"url(#clip510)\" style=\"stroke:#3da44d; stroke-linecap:round; stroke-linejoin:round; stroke-width:4; stroke-opacity:1; fill:none\" points=\"384.271,322.316 521.607,322.316 \"/>\n",
       "<path clip-path=\"url(#clip510)\" d=\"M545.075 313.67 L565.306 313.67 L565.306 317.559 L549.288 336.193 L565.306 336.193 L565.306 339.596 L544.496 339.596 L544.496 335.707 L560.515 317.073 L545.075 317.073 L545.075 313.67 Z\" fill=\"#000000\" fill-rule=\"nonzero\" fill-opacity=\"1\" /><polyline clip-path=\"url(#clip510)\" style=\"stroke:#c271d2; stroke-linecap:round; stroke-linejoin:round; stroke-width:4; stroke-opacity:1; fill:none\" points=\"384.271,374.156 521.607,374.156 \"/>\n",
       "<path clip-path=\"url(#clip510)\" d=\"M569.149 365.51 L559.774 378.126 L569.635 391.436 L564.612 391.436 L557.065 381.251 L549.519 391.436 L544.496 391.436 L554.565 377.871 L545.353 365.51 L550.376 365.51 L557.251 374.746 L564.126 365.51 L569.149 365.51 Z\" fill=\"#000000\" fill-rule=\"nonzero\" fill-opacity=\"1\" /><polyline clip-path=\"url(#clip510)\" style=\"stroke:#ac8d18; stroke-linecap:round; stroke-linejoin:round; stroke-width:4; stroke-opacity:1; fill:none\" points=\"384.271,425.996 521.607,425.996 \"/>\n",
       "<path clip-path=\"url(#clip510)\" d=\"M558.339 445.683 Q556.533 450.313 554.82 451.725 Q553.107 453.137 550.237 453.137 L546.834 453.137 L546.834 449.572 L549.334 449.572 Q551.093 449.572 552.066 448.739 Q553.038 447.905 554.218 444.803 L554.982 442.859 L544.496 417.35 L549.01 417.35 L557.112 437.628 L565.214 417.35 L569.727 417.35 L558.339 445.683 Z\" fill=\"#000000\" fill-rule=\"nonzero\" fill-opacity=\"1\" /><polyline clip-path=\"url(#clip510)\" style=\"stroke:#00a9ad; stroke-linecap:round; stroke-linejoin:round; stroke-width:4; stroke-opacity:1; fill:none\" points=\"384.271,477.836 521.607,477.836 \"/>\n",
       "<path clip-path=\"url(#clip510)\" d=\"M545.075 469.19 L565.306 469.19 L565.306 473.079 L549.288 491.713 L565.306 491.713 L565.306 495.116 L544.496 495.116 L544.496 491.227 L560.515 472.593 L545.075 472.593 L545.075 469.19 Z\" fill=\"#000000\" fill-rule=\"nonzero\" fill-opacity=\"1\" /></svg>\n"
      ],
      "text/html": [
       "<?xml version=\"1.0\" encoding=\"utf-8\"?>\n",
       "<svg xmlns=\"http://www.w3.org/2000/svg\" xmlns:xlink=\"http://www.w3.org/1999/xlink\" width=\"600\" height=\"400\" viewBox=\"0 0 2400 1600\">\n",
       "<defs>\n",
       "  <clipPath id=\"clip560\">\n",
       "    <rect x=\"0\" y=\"0\" width=\"2400\" height=\"1600\"/>\n",
       "  </clipPath>\n",
       "</defs>\n",
       "<path clip-path=\"url(#clip560)\" d=\"M0 1600 L2400 1600 L2400 0 L0 0  Z\" fill=\"#ffffff\" fill-rule=\"evenodd\" fill-opacity=\"1\"/>\n",
       "<defs>\n",
       "  <clipPath id=\"clip561\">\n",
       "    <rect x=\"480\" y=\"0\" width=\"1681\" height=\"1600\"/>\n",
       "  </clipPath>\n",
       "</defs>\n",
       "<path clip-path=\"url(#clip560)\" d=\"M292.713 1423.18 L2352.76 1423.18 L2352.76 123.472 L292.713 123.472  Z\" fill=\"#ffffff\" fill-rule=\"evenodd\" fill-opacity=\"1\"/>\n",
       "<defs>\n",
       "  <clipPath id=\"clip562\">\n",
       "    <rect x=\"292\" y=\"123\" width=\"2061\" height=\"1301\"/>\n",
       "  </clipPath>\n",
       "</defs>\n",
       "<polyline clip-path=\"url(#clip562)\" style=\"stroke:#000000; stroke-linecap:round; stroke-linejoin:round; stroke-width:2; stroke-opacity:0.1; fill:none\" points=\"351.016,1423.18 351.016,123.472 \"/>\n",
       "<polyline clip-path=\"url(#clip562)\" style=\"stroke:#000000; stroke-linecap:round; stroke-linejoin:round; stroke-width:2; stroke-opacity:0.1; fill:none\" points=\"1000.99,1423.18 1000.99,123.472 \"/>\n",
       "<polyline clip-path=\"url(#clip562)\" style=\"stroke:#000000; stroke-linecap:round; stroke-linejoin:round; stroke-width:2; stroke-opacity:0.1; fill:none\" points=\"1650.97,1423.18 1650.97,123.472 \"/>\n",
       "<polyline clip-path=\"url(#clip562)\" style=\"stroke:#000000; stroke-linecap:round; stroke-linejoin:round; stroke-width:2; stroke-opacity:0.1; fill:none\" points=\"2300.95,1423.18 2300.95,123.472 \"/>\n",
       "<polyline clip-path=\"url(#clip560)\" style=\"stroke:#000000; stroke-linecap:round; stroke-linejoin:round; stroke-width:4; stroke-opacity:1; fill:none\" points=\"292.713,1423.18 2352.76,1423.18 \"/>\n",
       "<polyline clip-path=\"url(#clip560)\" style=\"stroke:#000000; stroke-linecap:round; stroke-linejoin:round; stroke-width:4; stroke-opacity:1; fill:none\" points=\"351.016,1423.18 351.016,1404.28 \"/>\n",
       "<polyline clip-path=\"url(#clip560)\" style=\"stroke:#000000; stroke-linecap:round; stroke-linejoin:round; stroke-width:4; stroke-opacity:1; fill:none\" points=\"1000.99,1423.18 1000.99,1404.28 \"/>\n",
       "<polyline clip-path=\"url(#clip560)\" style=\"stroke:#000000; stroke-linecap:round; stroke-linejoin:round; stroke-width:4; stroke-opacity:1; fill:none\" points=\"1650.97,1423.18 1650.97,1404.28 \"/>\n",
       "<polyline clip-path=\"url(#clip560)\" style=\"stroke:#000000; stroke-linecap:round; stroke-linejoin:round; stroke-width:4; stroke-opacity:1; fill:none\" points=\"2300.95,1423.18 2300.95,1404.28 \"/>\n",
       "<path clip-path=\"url(#clip560)\" d=\"M351.016 1454.1 Q347.405 1454.1 345.576 1457.66 Q343.771 1461.2 343.771 1468.33 Q343.771 1475.44 345.576 1479.01 Q347.405 1482.55 351.016 1482.55 Q354.65 1482.55 356.456 1479.01 Q358.285 1475.44 358.285 1468.33 Q358.285 1461.2 356.456 1457.66 Q354.65 1454.1 351.016 1454.1 M351.016 1450.39 Q356.826 1450.39 359.882 1455 Q362.961 1459.58 362.961 1468.33 Q362.961 1477.06 359.882 1481.67 Q356.826 1486.25 351.016 1486.25 Q345.206 1486.25 342.127 1481.67 Q339.072 1477.06 339.072 1468.33 Q339.072 1459.58 342.127 1455 Q345.206 1450.39 351.016 1450.39 Z\" fill=\"#000000\" fill-rule=\"nonzero\" fill-opacity=\"1\" /><path clip-path=\"url(#clip560)\" d=\"M975.683 1481.64 L983.321 1481.64 L983.321 1455.28 L975.011 1456.95 L975.011 1452.69 L983.275 1451.02 L987.951 1451.02 L987.951 1481.64 L995.59 1481.64 L995.59 1485.58 L975.683 1485.58 L975.683 1481.64 Z\" fill=\"#000000\" fill-rule=\"nonzero\" fill-opacity=\"1\" /><path clip-path=\"url(#clip560)\" d=\"M1015.03 1454.1 Q1011.42 1454.1 1009.59 1457.66 Q1007.79 1461.2 1007.79 1468.33 Q1007.79 1475.44 1009.59 1479.01 Q1011.42 1482.55 1015.03 1482.55 Q1018.67 1482.55 1020.47 1479.01 Q1022.3 1475.44 1022.3 1468.33 Q1022.3 1461.2 1020.47 1457.66 Q1018.67 1454.1 1015.03 1454.1 M1015.03 1450.39 Q1020.84 1450.39 1023.9 1455 Q1026.98 1459.58 1026.98 1468.33 Q1026.98 1477.06 1023.9 1481.67 Q1020.84 1486.25 1015.03 1486.25 Q1009.22 1486.25 1006.15 1481.67 Q1003.09 1477.06 1003.09 1468.33 Q1003.09 1459.58 1006.15 1455 Q1009.22 1450.39 1015.03 1450.39 Z\" fill=\"#000000\" fill-rule=\"nonzero\" fill-opacity=\"1\" /><path clip-path=\"url(#clip560)\" d=\"M1629.75 1481.64 L1646.07 1481.64 L1646.07 1485.58 L1624.12 1485.58 L1624.12 1481.64 Q1626.78 1478.89 1631.37 1474.26 Q1635.97 1469.61 1637.15 1468.27 Q1639.4 1465.74 1640.28 1464.01 Q1641.18 1462.25 1641.18 1460.56 Q1641.18 1457.8 1639.24 1456.07 Q1637.32 1454.33 1634.21 1454.33 Q1632.02 1454.33 1629.56 1455.09 Q1627.13 1455.86 1624.35 1457.41 L1624.35 1452.69 Q1627.18 1451.55 1629.63 1450.97 Q1632.09 1450.39 1634.12 1450.39 Q1639.49 1450.39 1642.69 1453.08 Q1645.88 1455.77 1645.88 1460.26 Q1645.88 1462.39 1645.07 1464.31 Q1644.28 1466.2 1642.18 1468.8 Q1641.6 1469.47 1638.5 1472.69 Q1635.4 1475.88 1629.75 1481.64 Z\" fill=\"#000000\" fill-rule=\"nonzero\" fill-opacity=\"1\" /><path clip-path=\"url(#clip560)\" d=\"M1665.88 1454.1 Q1662.27 1454.1 1660.44 1457.66 Q1658.64 1461.2 1658.64 1468.33 Q1658.64 1475.44 1660.44 1479.01 Q1662.27 1482.55 1665.88 1482.55 Q1669.52 1482.55 1671.32 1479.01 Q1673.15 1475.44 1673.15 1468.33 Q1673.15 1461.2 1671.32 1457.66 Q1669.52 1454.1 1665.88 1454.1 M1665.88 1450.39 Q1671.69 1450.39 1674.75 1455 Q1677.83 1459.58 1677.83 1468.33 Q1677.83 1477.06 1674.75 1481.67 Q1671.69 1486.25 1665.88 1486.25 Q1660.07 1486.25 1656.99 1481.67 Q1653.94 1477.06 1653.94 1468.33 Q1653.94 1459.58 1656.99 1455 Q1660.07 1450.39 1665.88 1450.39 Z\" fill=\"#000000\" fill-rule=\"nonzero\" fill-opacity=\"1\" /><path clip-path=\"url(#clip560)\" d=\"M2289.8 1466.95 Q2293.15 1467.66 2295.03 1469.93 Q2296.92 1472.2 2296.92 1475.53 Q2296.92 1480.65 2293.41 1483.45 Q2289.89 1486.25 2283.41 1486.25 Q2281.23 1486.25 2278.92 1485.81 Q2276.62 1485.39 2274.17 1484.54 L2274.17 1480.02 Q2276.11 1481.16 2278.43 1481.74 Q2280.74 1482.32 2283.27 1482.32 Q2287.67 1482.32 2289.96 1480.58 Q2292.27 1478.84 2292.27 1475.53 Q2292.27 1472.48 2290.12 1470.77 Q2287.99 1469.03 2284.17 1469.03 L2280.14 1469.03 L2280.14 1465.19 L2284.36 1465.19 Q2287.8 1465.19 2289.63 1463.82 Q2291.46 1462.43 2291.46 1459.84 Q2291.46 1457.18 2289.56 1455.77 Q2287.69 1454.33 2284.17 1454.33 Q2282.25 1454.33 2280.05 1454.75 Q2277.85 1455.16 2275.21 1456.04 L2275.21 1451.88 Q2277.87 1451.14 2280.19 1450.77 Q2282.53 1450.39 2284.59 1450.39 Q2289.91 1450.39 2293.01 1452.83 Q2296.11 1455.23 2296.11 1459.35 Q2296.11 1462.22 2294.47 1464.21 Q2292.83 1466.18 2289.8 1466.95 Z\" fill=\"#000000\" fill-rule=\"nonzero\" fill-opacity=\"1\" /><path clip-path=\"url(#clip560)\" d=\"M2315.79 1454.1 Q2312.18 1454.1 2310.35 1457.66 Q2308.55 1461.2 2308.55 1468.33 Q2308.55 1475.44 2310.35 1479.01 Q2312.18 1482.55 2315.79 1482.55 Q2319.42 1482.55 2321.23 1479.01 Q2323.06 1475.44 2323.06 1468.33 Q2323.06 1461.2 2321.23 1457.66 Q2319.42 1454.1 2315.79 1454.1 M2315.79 1450.39 Q2321.6 1450.39 2324.66 1455 Q2327.73 1459.58 2327.73 1468.33 Q2327.73 1477.06 2324.66 1481.67 Q2321.6 1486.25 2315.79 1486.25 Q2309.98 1486.25 2306.9 1481.67 Q2303.85 1477.06 2303.85 1468.33 Q2303.85 1459.58 2306.9 1455 Q2309.98 1450.39 2315.79 1450.39 Z\" fill=\"#000000\" fill-rule=\"nonzero\" fill-opacity=\"1\" /><path clip-path=\"url(#clip560)\" d=\"M1210.19 1522.27 L1210.19 1532.4 L1222.25 1532.4 L1222.25 1536.95 L1210.19 1536.95 L1210.19 1556.3 Q1210.19 1560.66 1211.37 1561.9 Q1212.58 1563.14 1216.24 1563.14 L1222.25 1563.14 L1222.25 1568.04 L1216.24 1568.04 Q1209.46 1568.04 1206.88 1565.53 Q1204.3 1562.98 1204.3 1556.3 L1204.3 1536.95 L1200 1536.95 L1200 1532.4 L1204.3 1532.4 L1204.3 1522.27 L1210.19 1522.27 Z\" fill=\"#000000\" fill-rule=\"nonzero\" fill-opacity=\"1\" /><path clip-path=\"url(#clip560)\" d=\"M1229.95 1532.4 L1235.81 1532.4 L1235.81 1568.04 L1229.95 1568.04 L1229.95 1532.4 M1229.95 1518.52 L1235.81 1518.52 L1235.81 1525.93 L1229.95 1525.93 L1229.95 1518.52 Z\" fill=\"#000000\" fill-rule=\"nonzero\" fill-opacity=\"1\" /><path clip-path=\"url(#clip560)\" d=\"M1275.82 1539.24 Q1278.02 1535.29 1281.07 1533.41 Q1284.13 1531.54 1288.26 1531.54 Q1293.83 1531.54 1296.86 1535.45 Q1299.88 1539.33 1299.88 1546.53 L1299.88 1568.04 L1293.99 1568.04 L1293.99 1546.72 Q1293.99 1541.59 1292.18 1539.11 Q1290.36 1536.63 1286.64 1536.63 Q1282.09 1536.63 1279.45 1539.65 Q1276.81 1542.68 1276.81 1547.9 L1276.81 1568.04 L1270.92 1568.04 L1270.92 1546.72 Q1270.92 1541.56 1269.1 1539.11 Q1267.29 1536.63 1263.5 1536.63 Q1259.01 1536.63 1256.37 1539.68 Q1253.73 1542.71 1253.73 1547.9 L1253.73 1568.04 L1247.84 1568.04 L1247.84 1532.4 L1253.73 1532.4 L1253.73 1537.93 Q1255.74 1534.66 1258.54 1533.1 Q1261.34 1531.54 1265.19 1531.54 Q1269.07 1531.54 1271.78 1533.51 Q1274.51 1535.48 1275.82 1539.24 Z\" fill=\"#000000\" fill-rule=\"nonzero\" fill-opacity=\"1\" /><path clip-path=\"url(#clip560)\" d=\"M1342.05 1548.76 L1342.05 1551.62 L1315.13 1551.62 Q1315.51 1557.67 1318.76 1560.85 Q1322.03 1564 1327.86 1564 Q1331.23 1564 1334.38 1563.17 Q1337.57 1562.35 1340.69 1560.69 L1340.69 1566.23 Q1337.53 1567.57 1334.22 1568.27 Q1330.91 1568.97 1327.51 1568.97 Q1318.98 1568.97 1313.98 1564 Q1309.02 1559.04 1309.02 1550.57 Q1309.02 1541.82 1313.73 1536.69 Q1318.47 1531.54 1326.49 1531.54 Q1333.68 1531.54 1337.85 1536.18 Q1342.05 1540.8 1342.05 1548.76 M1336.2 1547.04 Q1336.13 1542.23 1333.49 1539.37 Q1330.88 1536.5 1326.55 1536.5 Q1321.65 1536.5 1318.69 1539.27 Q1315.76 1542.04 1315.32 1547.07 L1336.2 1547.04 Z\" fill=\"#000000\" fill-rule=\"nonzero\" fill-opacity=\"1\" /><path clip-path=\"url(#clip560)\" d=\"M1386.46 1518.58 Q1382.19 1525.9 1380.12 1533.06 Q1378.05 1540.23 1378.05 1547.58 Q1378.05 1554.93 1380.12 1562.16 Q1382.22 1569.35 1386.46 1576.64 L1381.36 1576.64 Q1376.59 1569.16 1374.2 1561.93 Q1371.85 1554.71 1371.85 1547.58 Q1371.85 1540.48 1374.2 1533.29 Q1376.56 1526.09 1381.36 1518.58 L1386.46 1518.58 Z\" fill=\"#000000\" fill-rule=\"nonzero\" fill-opacity=\"1\" /><path clip-path=\"url(#clip560)\" d=\"M1420.54 1533.45 L1420.54 1538.98 Q1418.06 1537.71 1415.39 1537.07 Q1412.71 1536.44 1409.85 1536.44 Q1405.49 1536.44 1403.29 1537.77 Q1401.13 1539.11 1401.13 1541.79 Q1401.13 1543.82 1402.69 1545 Q1404.25 1546.15 1408.96 1547.2 L1410.96 1547.64 Q1417.2 1548.98 1419.81 1551.43 Q1422.45 1553.85 1422.45 1558.21 Q1422.45 1563.17 1418.51 1566.07 Q1414.59 1568.97 1407.72 1568.97 Q1404.85 1568.97 1401.73 1568.39 Q1398.65 1567.85 1395.21 1566.74 L1395.21 1560.69 Q1398.45 1562.38 1401.61 1563.24 Q1404.76 1564.07 1407.84 1564.07 Q1411.98 1564.07 1414.21 1562.66 Q1416.44 1561.23 1416.44 1558.65 Q1416.44 1556.27 1414.81 1554.99 Q1413.22 1553.72 1407.78 1552.54 L1405.74 1552.07 Q1400.3 1550.92 1397.88 1548.56 Q1395.46 1546.18 1395.46 1542.04 Q1395.46 1537.01 1399.03 1534.27 Q1402.59 1531.54 1409.15 1531.54 Q1412.4 1531.54 1415.26 1532.01 Q1418.12 1532.49 1420.54 1533.45 Z\" fill=\"#000000\" fill-rule=\"nonzero\" fill-opacity=\"1\" /><path clip-path=\"url(#clip560)\" d=\"M1430.86 1518.58 L1435.95 1518.58 Q1440.72 1526.09 1443.08 1533.29 Q1445.47 1540.48 1445.47 1547.58 Q1445.47 1554.71 1443.08 1561.93 Q1440.72 1569.16 1435.95 1576.64 L1430.86 1576.64 Q1435.09 1569.35 1437.16 1562.16 Q1439.26 1554.93 1439.26 1547.58 Q1439.26 1540.23 1437.16 1533.06 Q1435.09 1525.9 1430.86 1518.58 Z\" fill=\"#000000\" fill-rule=\"nonzero\" fill-opacity=\"1\" /><polyline clip-path=\"url(#clip562)\" style=\"stroke:#000000; stroke-linecap:round; stroke-linejoin:round; stroke-width:2; stroke-opacity:0.1; fill:none\" points=\"292.713,1386.4 2352.76,1386.4 \"/>\n",
       "<polyline clip-path=\"url(#clip562)\" style=\"stroke:#000000; stroke-linecap:round; stroke-linejoin:round; stroke-width:2; stroke-opacity:0.1; fill:none\" points=\"292.713,1079.86 2352.76,1079.86 \"/>\n",
       "<polyline clip-path=\"url(#clip562)\" style=\"stroke:#000000; stroke-linecap:round; stroke-linejoin:round; stroke-width:2; stroke-opacity:0.1; fill:none\" points=\"292.713,773.325 2352.76,773.325 \"/>\n",
       "<polyline clip-path=\"url(#clip562)\" style=\"stroke:#000000; stroke-linecap:round; stroke-linejoin:round; stroke-width:2; stroke-opacity:0.1; fill:none\" points=\"292.713,466.79 2352.76,466.79 \"/>\n",
       "<polyline clip-path=\"url(#clip562)\" style=\"stroke:#000000; stroke-linecap:round; stroke-linejoin:round; stroke-width:2; stroke-opacity:0.1; fill:none\" points=\"292.713,160.255 2352.76,160.255 \"/>\n",
       "<polyline clip-path=\"url(#clip560)\" style=\"stroke:#000000; stroke-linecap:round; stroke-linejoin:round; stroke-width:4; stroke-opacity:1; fill:none\" points=\"292.713,1423.18 292.713,123.472 \"/>\n",
       "<polyline clip-path=\"url(#clip560)\" style=\"stroke:#000000; stroke-linecap:round; stroke-linejoin:round; stroke-width:4; stroke-opacity:1; fill:none\" points=\"292.713,1386.4 311.611,1386.4 \"/>\n",
       "<polyline clip-path=\"url(#clip560)\" style=\"stroke:#000000; stroke-linecap:round; stroke-linejoin:round; stroke-width:4; stroke-opacity:1; fill:none\" points=\"292.713,1079.86 311.611,1079.86 \"/>\n",
       "<polyline clip-path=\"url(#clip560)\" style=\"stroke:#000000; stroke-linecap:round; stroke-linejoin:round; stroke-width:4; stroke-opacity:1; fill:none\" points=\"292.713,773.325 311.611,773.325 \"/>\n",
       "<polyline clip-path=\"url(#clip560)\" style=\"stroke:#000000; stroke-linecap:round; stroke-linejoin:round; stroke-width:4; stroke-opacity:1; fill:none\" points=\"292.713,466.79 311.611,466.79 \"/>\n",
       "<polyline clip-path=\"url(#clip560)\" style=\"stroke:#000000; stroke-linecap:round; stroke-linejoin:round; stroke-width:4; stroke-opacity:1; fill:none\" points=\"292.713,160.255 311.611,160.255 \"/>\n",
       "<path clip-path=\"url(#clip560)\" d=\"M244.769 1372.19 Q241.158 1372.19 239.329 1375.76 Q237.523 1379.3 237.523 1386.43 Q237.523 1393.54 239.329 1397.1 Q241.158 1400.64 244.769 1400.64 Q248.403 1400.64 250.209 1397.1 Q252.037 1393.54 252.037 1386.43 Q252.037 1379.3 250.209 1375.76 Q248.403 1372.19 244.769 1372.19 M244.769 1368.49 Q250.579 1368.49 253.634 1373.1 Q256.713 1377.68 256.713 1386.43 Q256.713 1395.16 253.634 1399.76 Q250.579 1404.35 244.769 1404.35 Q238.959 1404.35 235.88 1399.76 Q232.824 1395.16 232.824 1386.43 Q232.824 1377.68 235.88 1373.1 Q238.959 1368.49 244.769 1368.49 Z\" fill=\"#000000\" fill-rule=\"nonzero\" fill-opacity=\"1\" /><path clip-path=\"url(#clip560)\" d=\"M148.311 1093.21 L164.63 1093.21 L164.63 1097.14 L142.686 1097.14 L142.686 1093.21 Q145.348 1090.45 149.931 1085.82 Q154.538 1081.17 155.718 1079.83 Q157.964 1077.3 158.843 1075.57 Q159.746 1073.81 159.746 1072.12 Q159.746 1069.36 157.802 1067.63 Q155.88 1065.89 152.778 1065.89 Q150.579 1065.89 148.126 1066.65 Q145.695 1067.42 142.917 1068.97 L142.917 1064.25 Q145.741 1063.11 148.195 1062.53 Q150.649 1061.96 152.686 1061.96 Q158.056 1061.96 161.251 1064.64 Q164.445 1067.33 164.445 1071.82 Q164.445 1073.95 163.635 1075.87 Q162.848 1077.77 160.741 1080.36 Q160.163 1081.03 157.061 1084.25 Q153.959 1087.44 148.311 1093.21 Z\" fill=\"#000000\" fill-rule=\"nonzero\" fill-opacity=\"1\" /><path clip-path=\"url(#clip560)\" d=\"M174.491 1062.58 L192.848 1062.58 L192.848 1066.52 L178.774 1066.52 L178.774 1074.99 Q179.792 1074.64 180.811 1074.48 Q181.829 1074.29 182.848 1074.29 Q188.635 1074.29 192.014 1077.46 Q195.394 1080.64 195.394 1086.05 Q195.394 1091.63 191.922 1094.73 Q188.45 1097.81 182.13 1097.81 Q179.954 1097.81 177.686 1097.44 Q175.44 1097.07 173.033 1096.33 L173.033 1091.63 Q175.116 1092.77 177.339 1093.32 Q179.561 1093.88 182.038 1093.88 Q186.042 1093.88 188.38 1091.77 Q190.718 1089.66 190.718 1086.05 Q190.718 1082.44 188.38 1080.33 Q186.042 1078.23 182.038 1078.23 Q180.163 1078.23 178.288 1078.65 Q176.436 1079.06 174.491 1079.94 L174.491 1062.58 Z\" fill=\"#000000\" fill-rule=\"nonzero\" fill-opacity=\"1\" /><path clip-path=\"url(#clip560)\" d=\"M214.607 1065.66 Q210.996 1065.66 209.167 1069.22 Q207.362 1072.77 207.362 1079.9 Q207.362 1087 209.167 1090.57 Q210.996 1094.11 214.607 1094.11 Q218.241 1094.11 220.047 1090.57 Q221.875 1087 221.875 1079.9 Q221.875 1072.77 220.047 1069.22 Q218.241 1065.66 214.607 1065.66 M214.607 1061.96 Q220.417 1061.96 223.473 1066.56 Q226.551 1071.15 226.551 1079.9 Q226.551 1088.62 223.473 1093.23 Q220.417 1097.81 214.607 1097.81 Q208.797 1097.81 205.718 1093.23 Q202.662 1088.62 202.662 1079.9 Q202.662 1071.15 205.718 1066.56 Q208.797 1061.96 214.607 1061.96 Z\" fill=\"#000000\" fill-rule=\"nonzero\" fill-opacity=\"1\" /><path clip-path=\"url(#clip560)\" d=\"M244.769 1065.66 Q241.158 1065.66 239.329 1069.22 Q237.523 1072.77 237.523 1079.9 Q237.523 1087 239.329 1090.57 Q241.158 1094.11 244.769 1094.11 Q248.403 1094.11 250.209 1090.57 Q252.037 1087 252.037 1079.9 Q252.037 1072.77 250.209 1069.22 Q248.403 1065.66 244.769 1065.66 M244.769 1061.96 Q250.579 1061.96 253.634 1066.56 Q256.713 1071.15 256.713 1079.9 Q256.713 1088.62 253.634 1093.23 Q250.579 1097.81 244.769 1097.81 Q238.959 1097.81 235.88 1093.23 Q232.824 1088.62 232.824 1079.9 Q232.824 1071.15 235.88 1066.56 Q238.959 1061.96 244.769 1061.96 Z\" fill=\"#000000\" fill-rule=\"nonzero\" fill-opacity=\"1\" /><path clip-path=\"url(#clip560)\" d=\"M144.329 756.045 L162.686 756.045 L162.686 759.98 L148.612 759.98 L148.612 768.452 Q149.63 768.105 150.649 767.943 Q151.667 767.758 152.686 767.758 Q158.473 767.758 161.852 770.929 Q165.232 774.101 165.232 779.517 Q165.232 785.096 161.76 788.198 Q158.288 791.276 151.968 791.276 Q149.792 791.276 147.524 790.906 Q145.279 790.536 142.871 789.795 L142.871 785.096 Q144.954 786.23 147.177 786.786 Q149.399 787.341 151.876 787.341 Q155.88 787.341 158.218 785.235 Q160.556 783.128 160.556 779.517 Q160.556 775.906 158.218 773.8 Q155.88 771.693 151.876 771.693 Q150.001 771.693 148.126 772.11 Q146.274 772.527 144.329 773.406 L144.329 756.045 Z\" fill=\"#000000\" fill-rule=\"nonzero\" fill-opacity=\"1\" /><path clip-path=\"url(#clip560)\" d=\"M184.445 759.124 Q180.834 759.124 179.005 762.689 Q177.2 766.23 177.2 773.36 Q177.2 780.466 179.005 784.031 Q180.834 787.573 184.445 787.573 Q188.079 787.573 189.885 784.031 Q191.713 780.466 191.713 773.36 Q191.713 766.23 189.885 762.689 Q188.079 759.124 184.445 759.124 M184.445 755.42 Q190.255 755.42 193.311 760.027 Q196.389 764.61 196.389 773.36 Q196.389 782.087 193.311 786.693 Q190.255 791.276 184.445 791.276 Q178.635 791.276 175.556 786.693 Q172.501 782.087 172.501 773.36 Q172.501 764.61 175.556 760.027 Q178.635 755.42 184.445 755.42 Z\" fill=\"#000000\" fill-rule=\"nonzero\" fill-opacity=\"1\" /><path clip-path=\"url(#clip560)\" d=\"M214.607 759.124 Q210.996 759.124 209.167 762.689 Q207.362 766.23 207.362 773.36 Q207.362 780.466 209.167 784.031 Q210.996 787.573 214.607 787.573 Q218.241 787.573 220.047 784.031 Q221.875 780.466 221.875 773.36 Q221.875 766.23 220.047 762.689 Q218.241 759.124 214.607 759.124 M214.607 755.42 Q220.417 755.42 223.473 760.027 Q226.551 764.61 226.551 773.36 Q226.551 782.087 223.473 786.693 Q220.417 791.276 214.607 791.276 Q208.797 791.276 205.718 786.693 Q202.662 782.087 202.662 773.36 Q202.662 764.61 205.718 760.027 Q208.797 755.42 214.607 755.42 Z\" fill=\"#000000\" fill-rule=\"nonzero\" fill-opacity=\"1\" /><path clip-path=\"url(#clip560)\" d=\"M244.769 759.124 Q241.158 759.124 239.329 762.689 Q237.523 766.23 237.523 773.36 Q237.523 780.466 239.329 784.031 Q241.158 787.573 244.769 787.573 Q248.403 787.573 250.209 784.031 Q252.037 780.466 252.037 773.36 Q252.037 766.23 250.209 762.689 Q248.403 759.124 244.769 759.124 M244.769 755.42 Q250.579 755.42 253.634 760.027 Q256.713 764.61 256.713 773.36 Q256.713 782.087 253.634 786.693 Q250.579 791.276 244.769 791.276 Q238.959 791.276 235.88 786.693 Q232.824 782.087 232.824 773.36 Q232.824 764.61 235.88 760.027 Q238.959 755.42 244.769 755.42 Z\" fill=\"#000000\" fill-rule=\"nonzero\" fill-opacity=\"1\" /><path clip-path=\"url(#clip560)\" d=\"M143.103 449.51 L165.325 449.51 L165.325 451.501 L152.778 484.07 L147.894 484.07 L159.7 453.445 L143.103 453.445 L143.103 449.51 Z\" fill=\"#000000\" fill-rule=\"nonzero\" fill-opacity=\"1\" /><path clip-path=\"url(#clip560)\" d=\"M174.491 449.51 L192.848 449.51 L192.848 453.445 L178.774 453.445 L178.774 461.917 Q179.792 461.57 180.811 461.408 Q181.829 461.223 182.848 461.223 Q188.635 461.223 192.014 464.394 Q195.394 467.565 195.394 472.982 Q195.394 478.561 191.922 481.662 Q188.45 484.741 182.13 484.741 Q179.954 484.741 177.686 484.371 Q175.44 484 173.033 483.26 L173.033 478.561 Q175.116 479.695 177.339 480.25 Q179.561 480.806 182.038 480.806 Q186.042 480.806 188.38 478.7 Q190.718 476.593 190.718 472.982 Q190.718 469.371 188.38 467.264 Q186.042 465.158 182.038 465.158 Q180.163 465.158 178.288 465.575 Q176.436 465.991 174.491 466.871 L174.491 449.51 Z\" fill=\"#000000\" fill-rule=\"nonzero\" fill-opacity=\"1\" /><path clip-path=\"url(#clip560)\" d=\"M214.607 452.589 Q210.996 452.589 209.167 456.153 Q207.362 459.695 207.362 466.825 Q207.362 473.931 209.167 477.496 Q210.996 481.037 214.607 481.037 Q218.241 481.037 220.047 477.496 Q221.875 473.931 221.875 466.825 Q221.875 459.695 220.047 456.153 Q218.241 452.589 214.607 452.589 M214.607 448.885 Q220.417 448.885 223.473 453.491 Q226.551 458.075 226.551 466.825 Q226.551 475.551 223.473 480.158 Q220.417 484.741 214.607 484.741 Q208.797 484.741 205.718 480.158 Q202.662 475.551 202.662 466.825 Q202.662 458.075 205.718 453.491 Q208.797 448.885 214.607 448.885 Z\" fill=\"#000000\" fill-rule=\"nonzero\" fill-opacity=\"1\" /><path clip-path=\"url(#clip560)\" d=\"M244.769 452.589 Q241.158 452.589 239.329 456.153 Q237.523 459.695 237.523 466.825 Q237.523 473.931 239.329 477.496 Q241.158 481.037 244.769 481.037 Q248.403 481.037 250.209 477.496 Q252.037 473.931 252.037 466.825 Q252.037 459.695 250.209 456.153 Q248.403 452.589 244.769 452.589 M244.769 448.885 Q250.579 448.885 253.634 453.491 Q256.713 458.075 256.713 466.825 Q256.713 475.551 253.634 480.158 Q250.579 484.741 244.769 484.741 Q238.959 484.741 235.88 480.158 Q232.824 475.551 232.824 466.825 Q232.824 458.075 235.88 453.491 Q238.959 448.885 244.769 448.885 Z\" fill=\"#000000\" fill-rule=\"nonzero\" fill-opacity=\"1\" /><path clip-path=\"url(#clip560)\" d=\"M114.931 173.599 L122.57 173.599 L122.57 147.234 L114.26 148.9 L114.26 144.641 L122.524 142.975 L127.2 142.975 L127.2 173.599 L134.839 173.599 L134.839 177.535 L114.931 177.535 L114.931 173.599 Z\" fill=\"#000000\" fill-rule=\"nonzero\" fill-opacity=\"1\" /><path clip-path=\"url(#clip560)\" d=\"M154.283 146.053 Q150.672 146.053 148.843 149.618 Q147.038 153.16 147.038 160.289 Q147.038 167.396 148.843 170.961 Q150.672 174.502 154.283 174.502 Q157.917 174.502 159.723 170.961 Q161.552 167.396 161.552 160.289 Q161.552 153.16 159.723 149.618 Q157.917 146.053 154.283 146.053 M154.283 142.35 Q160.093 142.35 163.149 146.956 Q166.227 151.539 166.227 160.289 Q166.227 169.016 163.149 173.623 Q160.093 178.206 154.283 178.206 Q148.473 178.206 145.394 173.623 Q142.339 169.016 142.339 160.289 Q142.339 151.539 145.394 146.956 Q148.473 142.35 154.283 142.35 Z\" fill=\"#000000\" fill-rule=\"nonzero\" fill-opacity=\"1\" /><path clip-path=\"url(#clip560)\" d=\"M184.445 146.053 Q180.834 146.053 179.005 149.618 Q177.2 153.16 177.2 160.289 Q177.2 167.396 179.005 170.961 Q180.834 174.502 184.445 174.502 Q188.079 174.502 189.885 170.961 Q191.713 167.396 191.713 160.289 Q191.713 153.16 189.885 149.618 Q188.079 146.053 184.445 146.053 M184.445 142.35 Q190.255 142.35 193.311 146.956 Q196.389 151.539 196.389 160.289 Q196.389 169.016 193.311 173.623 Q190.255 178.206 184.445 178.206 Q178.635 178.206 175.556 173.623 Q172.501 169.016 172.501 160.289 Q172.501 151.539 175.556 146.956 Q178.635 142.35 184.445 142.35 Z\" fill=\"#000000\" fill-rule=\"nonzero\" fill-opacity=\"1\" /><path clip-path=\"url(#clip560)\" d=\"M214.607 146.053 Q210.996 146.053 209.167 149.618 Q207.362 153.16 207.362 160.289 Q207.362 167.396 209.167 170.961 Q210.996 174.502 214.607 174.502 Q218.241 174.502 220.047 170.961 Q221.875 167.396 221.875 160.289 Q221.875 153.16 220.047 149.618 Q218.241 146.053 214.607 146.053 M214.607 142.35 Q220.417 142.35 223.473 146.956 Q226.551 151.539 226.551 160.289 Q226.551 169.016 223.473 173.623 Q220.417 178.206 214.607 178.206 Q208.797 178.206 205.718 173.623 Q202.662 169.016 202.662 160.289 Q202.662 151.539 205.718 146.956 Q208.797 142.35 214.607 142.35 Z\" fill=\"#000000\" fill-rule=\"nonzero\" fill-opacity=\"1\" /><path clip-path=\"url(#clip560)\" d=\"M244.769 146.053 Q241.158 146.053 239.329 149.618 Q237.523 153.16 237.523 160.289 Q237.523 167.396 239.329 170.961 Q241.158 174.502 244.769 174.502 Q248.403 174.502 250.209 170.961 Q252.037 167.396 252.037 160.289 Q252.037 153.16 250.209 149.618 Q248.403 146.053 244.769 146.053 M244.769 142.35 Q250.579 142.35 253.634 146.956 Q256.713 151.539 256.713 160.289 Q256.713 169.016 253.634 173.623 Q250.579 178.206 244.769 178.206 Q238.959 178.206 235.88 173.623 Q232.824 169.016 232.824 160.289 Q232.824 151.539 235.88 146.956 Q238.959 142.35 244.769 142.35 Z\" fill=\"#000000\" fill-rule=\"nonzero\" fill-opacity=\"1\" /><path clip-path=\"url(#clip560)\" d=\"M18.2347 916.889 L28.3562 916.889 L28.3562 904.826 L32.9077 904.826 L32.9077 916.889 L52.2594 916.889 Q56.6199 916.889 57.8613 915.711 Q59.1026 914.501 59.1026 910.841 L59.1026 904.826 L64.0042 904.826 L64.0042 910.841 Q64.0042 917.621 61.4897 920.199 Q58.9434 922.777 52.2594 922.777 L32.9077 922.777 L32.9077 927.074 L28.3562 927.074 L28.3562 922.777 L18.2347 922.777 L18.2347 916.889 Z\" fill=\"#000000\" fill-rule=\"nonzero\" fill-opacity=\"1\" /><path clip-path=\"url(#clip560)\" d=\"M42.4881 867.491 L64.0042 867.491 L64.0042 873.347 L42.679 873.347 Q37.6183 873.347 35.1038 875.321 Q32.5894 877.294 32.5894 881.241 Q32.5894 885.983 35.6131 888.72 Q38.6368 891.458 43.8567 891.458 L64.0042 891.458 L64.0042 897.346 L14.479 897.346 L14.479 891.458 L33.8944 891.458 Q30.6797 889.357 29.0883 886.524 Q27.4968 883.66 27.4968 879.936 Q27.4968 873.793 31.3163 870.642 Q35.1038 867.491 42.4881 867.491 Z\" fill=\"#000000\" fill-rule=\"nonzero\" fill-opacity=\"1\" /><path clip-path=\"url(#clip560)\" d=\"M33.8307 835.153 Q33.2578 836.14 33.0032 837.317 Q32.7167 838.463 32.7167 839.864 Q32.7167 844.829 35.9632 847.502 Q39.1779 850.144 45.2253 850.144 L64.0042 850.144 L64.0042 856.032 L28.3562 856.032 L28.3562 850.144 L33.8944 850.144 Q30.6479 848.298 29.0883 845.338 Q27.4968 842.378 27.4968 838.145 Q27.4968 837.54 27.5923 836.808 Q27.656 836.076 27.8151 835.185 L33.8307 835.153 Z\" fill=\"#000000\" fill-rule=\"nonzero\" fill-opacity=\"1\" /><path clip-path=\"url(#clip560)\" d=\"M49.9359 829.615 L28.3562 829.615 L28.3562 823.758 L49.7131 823.758 Q54.7739 823.758 57.3202 821.785 Q59.8346 819.812 59.8346 815.865 Q59.8346 811.122 56.8109 808.385 Q53.7872 805.616 48.5673 805.616 L28.3562 805.616 L28.3562 799.76 L64.0042 799.76 L64.0042 805.616 L58.5296 805.616 Q61.7762 807.749 63.3676 810.581 Q64.9272 813.382 64.9272 817.106 Q64.9272 823.249 61.1078 826.432 Q57.2883 829.615 49.9359 829.615 M27.4968 814.878 L27.4968 814.878 Z\" fill=\"#000000\" fill-rule=\"nonzero\" fill-opacity=\"1\" /><path clip-path=\"url(#clip560)\" d=\"M29.4065 764.971 L34.9447 764.971 Q33.6716 767.454 33.035 770.127 Q32.3984 772.801 32.3984 775.665 Q32.3984 780.026 33.7352 782.222 Q35.072 784.386 37.7456 784.386 Q39.7826 784.386 40.9603 782.827 Q42.1061 781.267 43.1565 776.557 L43.6021 774.551 Q44.9389 768.313 47.3897 765.703 Q49.8086 763.061 54.1691 763.061 Q59.1344 763.061 62.0308 767.008 Q64.9272 770.923 64.9272 777.798 Q64.9272 780.662 64.3543 783.782 Q63.8132 786.869 62.6992 790.307 L56.6518 790.307 Q58.3387 787.06 59.198 783.909 Q60.0256 780.758 60.0256 777.671 Q60.0256 773.533 58.6251 771.305 Q57.1929 769.077 54.6147 769.077 Q52.2276 769.077 50.9545 770.7 Q49.6813 772.292 48.5037 777.734 L48.0262 779.771 Q46.8804 785.214 44.5251 787.633 Q42.138 790.052 38.0002 790.052 Q32.9713 790.052 30.2341 786.487 Q27.4968 782.922 27.4968 776.366 Q27.4968 773.119 27.9743 770.255 Q28.4517 767.39 29.4065 764.971 Z\" fill=\"#000000\" fill-rule=\"nonzero\" fill-opacity=\"1\" /><path clip-path=\"url(#clip560)\" d=\"M18.2347 747.943 L28.3562 747.943 L28.3562 735.88 L32.9077 735.88 L32.9077 747.943 L52.2594 747.943 Q56.6199 747.943 57.8613 746.765 Q59.1026 745.556 59.1026 741.895 L59.1026 735.88 L64.0042 735.88 L64.0042 741.895 Q64.0042 748.675 61.4897 751.253 Q58.9434 753.831 52.2594 753.831 L32.9077 753.831 L32.9077 758.128 L28.3562 758.128 L28.3562 753.831 L18.2347 753.831 L18.2347 747.943 Z\" fill=\"#000000\" fill-rule=\"nonzero\" fill-opacity=\"1\" /><path clip-path=\"url(#clip560)\" d=\"M14.5426 693.389 Q21.8632 697.654 29.0246 699.723 Q36.186 701.791 43.5384 701.791 Q50.8908 701.791 58.1159 699.723 Q65.3091 697.622 72.5979 693.389 L72.5979 698.481 Q65.1182 703.255 57.8931 705.643 Q50.668 707.998 43.5384 707.998 Q36.4406 707.998 29.2474 705.643 Q22.0542 703.287 14.5426 698.481 L14.5426 693.389 Z\" fill=\"#000000\" fill-rule=\"nonzero\" fill-opacity=\"1\" /><path clip-path=\"url(#clip560)\" d=\"M16.4842 681.771 L16.4842 673.114 L56.238 652.043 L16.4842 652.043 L16.4842 645.805 L64.0042 645.805 L64.0042 654.462 L24.2503 675.533 L64.0042 675.533 L64.0042 681.771 L16.4842 681.771 Z\" fill=\"#000000\" fill-rule=\"nonzero\" fill-opacity=\"1\" /><path clip-path=\"url(#clip560)\" d=\"M14.5426 634.188 L14.5426 629.095 Q22.0542 624.321 29.2474 621.965 Q36.4406 619.578 43.5384 619.578 Q50.668 619.578 57.8931 621.965 Q65.1182 624.321 72.5979 629.095 L72.5979 634.188 Q65.3091 629.954 58.1159 627.886 Q50.8908 625.785 43.5384 625.785 Q36.186 625.785 29.0246 627.886 Q21.8632 629.954 14.5426 634.188 Z\" fill=\"#000000\" fill-rule=\"nonzero\" fill-opacity=\"1\" /><path clip-path=\"url(#clip560)\" d=\"M1227.78 16.7545 L1227.78 25.383 Q1223.65 21.5346 1218.95 19.6307 Q1214.29 17.7268 1209.03 17.7268 Q1198.66 17.7268 1193.15 24.0867 Q1187.64 30.4061 1187.64 42.3968 Q1187.64 54.3469 1193.15 60.7069 Q1198.66 67.0263 1209.03 67.0263 Q1214.29 67.0263 1218.95 65.1223 Q1223.65 63.2184 1227.78 59.3701 L1227.78 67.9175 Q1223.49 70.8341 1218.67 72.2924 Q1213.89 73.7508 1208.54 73.7508 Q1194.81 73.7508 1186.91 65.3654 Q1179.01 56.9395 1179.01 42.3968 Q1179.01 27.8135 1186.91 19.4281 Q1194.81 11.0023 1208.54 11.0023 Q1213.97 11.0023 1218.75 12.4606 Q1223.57 13.8784 1227.78 16.7545 Z\" fill=\"#000000\" fill-rule=\"nonzero\" fill-opacity=\"1\" /><path clip-path=\"url(#clip560)\" d=\"M1257.68 32.4315 Q1251.68 32.4315 1248.2 37.1306 Q1244.71 41.7891 1244.71 49.9314 Q1244.71 58.0738 1248.16 62.7728 Q1251.64 67.4314 1257.68 67.4314 Q1263.63 67.4314 1267.12 62.7323 Q1270.6 58.0333 1270.6 49.9314 Q1270.6 41.8701 1267.12 37.1711 Q1263.63 32.4315 1257.68 32.4315 M1257.68 26.1121 Q1267.4 26.1121 1272.95 32.4315 Q1278.5 38.7509 1278.5 49.9314 Q1278.5 61.0714 1272.95 67.4314 Q1267.4 73.7508 1257.68 73.7508 Q1247.91 73.7508 1242.36 67.4314 Q1236.86 61.0714 1236.86 49.9314 Q1236.86 38.7509 1242.36 32.4315 Q1247.91 26.1121 1257.68 26.1121 Z\" fill=\"#000000\" fill-rule=\"nonzero\" fill-opacity=\"1\" /><path clip-path=\"url(#clip560)\" d=\"M1328.57 45.1919 L1328.57 72.576 L1321.11 72.576 L1321.11 45.4349 Q1321.11 38.994 1318.6 35.7938 Q1316.09 32.5936 1311.07 32.5936 Q1305.03 32.5936 1301.55 36.4419 Q1298.06 40.2903 1298.06 46.9338 L1298.06 72.576 L1290.57 72.576 L1290.57 27.2059 L1298.06 27.2059 L1298.06 34.2544 Q1300.74 30.163 1304.34 28.1376 Q1307.99 26.1121 1312.73 26.1121 Q1320.55 26.1121 1324.56 30.9732 Q1328.57 35.7938 1328.57 45.1919 Z\" fill=\"#000000\" fill-rule=\"nonzero\" fill-opacity=\"1\" /><path clip-path=\"url(#clip560)\" d=\"M1350.81 14.324 L1350.81 27.2059 L1366.16 27.2059 L1366.16 32.9987 L1350.81 32.9987 L1350.81 57.6282 Q1350.81 63.1779 1352.31 64.7578 Q1353.85 66.3376 1358.5 66.3376 L1366.16 66.3376 L1366.16 72.576 L1358.5 72.576 Q1349.88 72.576 1346.59 69.3758 Q1343.31 66.1351 1343.31 57.6282 L1343.31 32.9987 L1337.84 32.9987 L1337.84 27.2059 L1343.31 27.2059 L1343.31 14.324 L1350.81 14.324 Z\" fill=\"#000000\" fill-rule=\"nonzero\" fill-opacity=\"1\" /><path clip-path=\"url(#clip560)\" d=\"M1402.25 34.1734 Q1401 33.4443 1399.5 33.1202 Q1398.04 32.7556 1396.26 32.7556 Q1389.94 32.7556 1386.54 36.8875 Q1383.17 40.9789 1383.17 48.6757 L1383.17 72.576 L1375.68 72.576 L1375.68 27.2059 L1383.17 27.2059 L1383.17 34.2544 Q1385.52 30.1225 1389.29 28.1376 Q1393.06 26.1121 1398.45 26.1121 Q1399.22 26.1121 1400.15 26.2337 Q1401.08 26.3147 1402.21 26.5172 L1402.25 34.1734 Z\" fill=\"#000000\" fill-rule=\"nonzero\" fill-opacity=\"1\" /><path clip-path=\"url(#clip560)\" d=\"M1425.83 32.4315 Q1419.83 32.4315 1416.35 37.1306 Q1412.87 41.7891 1412.87 49.9314 Q1412.87 58.0738 1416.31 62.7728 Q1419.79 67.4314 1425.83 67.4314 Q1431.78 67.4314 1435.27 62.7323 Q1438.75 58.0333 1438.75 49.9314 Q1438.75 41.8701 1435.27 37.1711 Q1431.78 32.4315 1425.83 32.4315 M1425.83 26.1121 Q1435.55 26.1121 1441.1 32.4315 Q1446.65 38.7509 1446.65 49.9314 Q1446.65 61.0714 1441.1 67.4314 Q1435.55 73.7508 1425.83 73.7508 Q1416.07 73.7508 1410.52 67.4314 Q1405.01 61.0714 1405.01 49.9314 Q1405.01 38.7509 1410.52 32.4315 Q1416.07 26.1121 1425.83 26.1121 Z\" fill=\"#000000\" fill-rule=\"nonzero\" fill-opacity=\"1\" /><path clip-path=\"url(#clip560)\" d=\"M1459.01 9.54393 L1466.46 9.54393 L1466.46 72.576 L1459.01 72.576 L1459.01 9.54393 Z\" fill=\"#000000\" fill-rule=\"nonzero\" fill-opacity=\"1\" /><polyline clip-path=\"url(#clip562)\" style=\"stroke:#009af9; stroke-linecap:round; stroke-linejoin:round; stroke-width:4; stroke-opacity:1; fill:none\" points=\"351.016,1372.91 357.516,1374.32 364.016,1363.58 370.516,1354.11 377.015,1347.62 383.515,1344.09 390.015,1341.69 396.515,1339.38 403.015,1336.92 409.514,1334.37 416.014,1331.88 422.514,1329.51 429.014,1327.29 435.513,1325.21 442.013,1323.26 448.513,1321.42 455.013,1319.69 461.513,1318.06 468.012,1316.52 474.512,1315.08 481.012,1313.72 487.512,1312.45 494.012,1311.25 500.511,1310.13 507.011,1309.07 513.511,1308.08 520.011,1307.14 526.51,1306.26 533.01,1305.43 539.51,1304.65 546.01,1303.92 552.51,1303.23 559.009,1302.58 565.509,1301.97 572.009,1301.4 578.509,1300.87 585.009,1300.38 591.508,1299.92 598.008,1299.51 604.508,1299.13 611.008,1298.79 617.508,1298.49 624.007,1298.24 630.507,1298.03 637.007,1297.86 643.507,1297.75 650.006,1297.69 656.506,1297.68 663.006,1297.74 669.506,1297.86 676.006,1298.05 682.505,1298.32 689.005,1298.66 695.505,1299.09 702.005,1299.61 708.505,1300.22 715.004,1300.94 721.504,1301.77 728.004,1302.72 734.504,1303.79 741.003,1304.99 747.503,1306.33 754.003,1307.82 760.503,1309.48 767.003,1311.29 773.502,1313.27 780.002,1315.44 786.502,1317.79 793.002,1320.33 799.502,1323.06 806.001,1326 812.501,1329.16 819.001,1333.35 825.501,1338.2 832.001,1342.55 838.5,1346.85 845,1352.17 851.5,1358.31 858,1364.93 864.499,1371.86 870.999,1378.8 877.499,1385.31 883.999,1386.4 890.499,1386.4 896.998,1386.4 903.498,1386.4 909.998,1386.4 916.498,1386.4 922.998,1386.4 929.497,1386.4 935.997,1386.4 942.497,1386.4 948.997,1386.4 955.496,1386.4 961.996,1386.4 968.496,1386.4 974.996,1386.4 981.496,1386.4 987.995,1386.4 994.495,1386.4 1000.99,1386.4 1007.49,1386.4 1013.99,1386.4 1020.49,1386.4 1026.99,1386.39 1033.49,1386.39 1039.99,1386.39 1046.49,1386.38 1052.99,1386.39 1059.49,1386.39 1065.99,1386.39 1072.49,1386.37 1078.99,1386.32 1085.49,1386.39 1091.99,1386.31 1098.49,1386.38 1104.99,1386.39 1111.49,1386.35 1117.99,1386.35 1124.49,1386.16 1130.99,1386.07 1137.49,1386.1 1143.99,1385.81 1150.49,1307.76 1156.99,583.3 1163.49,162.511 1169.99,161.385 1176.49,161.853 1182.99,163.885 1189.49,226.853 1195.99,161.529 1202.49,185.705 1208.99,162.743 1215.49,169.173 1221.99,166.085 1228.49,182.134 1234.99,238.283 1241.49,342.552 1247.99,708.801 1254.49,760.816 1260.99,1030.72 1267.49,1368.97 1273.99,1383.93 1280.49,1384.32 1286.99,1385.13 1293.49,1384.5 1299.99,1384.44 1306.49,1384.48 1312.98,1381.78 1319.48,684.935 1325.98,312.894 1332.48,190.927 1338.98,175.839 1345.48,195.284 1351.98,194.438 1358.48,352.252 1364.98,339.264 1371.48,600.621 1377.98,900.544 1384.48,1332.86 1390.98,1383.79 1397.48,1383.9 1403.98,1383.25 1410.48,1383.31 1416.98,1372.28 1423.48,1338.05 1429.98,1081.68 1436.48,369.267 1442.98,278.863 1449.48,465.401 1455.98,278.082 1462.48,414.914 1468.98,848.399 1475.48,1002.86 1481.98,1376.48 1488.48,1383.56 1494.98,1370.24 1501.48,1383.99 1507.98,1375.52 1514.48,929.274 1520.98,461.126 1527.48,581.729 1533.98,314.789 1540.48,398.143 1546.98,658.535 1553.48,1249.12 1559.98,1381.87 1566.48,1384.36 1572.98,1382.83 1579.48,1384.07 1585.98,1375.2 1592.48,652.516 1598.98,304.033 1605.48,227.943 1611.98,381.833 1618.47,868.465 1624.97,1252.99 1631.47,1385.67 1637.97,1356.33 1644.47,1382.6 1650.97,1332.84 1657.47,688.715 1663.97,235.245 1670.47,274.938 1676.97,412.395 1683.47,888.253 1689.97,1379.97 1696.47,1364.83 1702.97,1380.82 1709.47,1372.71 1715.97,1231.84 1722.47,453.757 1728.97,551.326 1735.47,388.892 1741.97,923.75 1748.47,1381.24 1754.97,1383.41 1761.47,1380.61 1767.97,1018.34 1774.47,305.338 1780.97,187.567 1787.47,311.898 1793.97,1298.76 1800.47,1367.53 1806.97,1383.51 1813.47,1385.42 1819.97,1379.56 1826.47,463.87 1832.97,457.473 1839.47,702.442 1845.97,1334.87 1852.47,1384.32 1858.97,1374.74 1865.47,1383.4 1871.97,641.123 1878.47,239.925 1884.97,853.528 1891.47,1371.2 1897.97,1385.75 1904.47,1378.6 1910.97,1386.08 1917.47,1339.04 1923.96,740.262 1930.46,1167.53 1936.96,1383.38 1943.46,1385.12 1949.96,1385.67 1956.46,1384.97 1962.96,1245.25 1969.46,1371.85 1975.96,1384.01 1982.46,1386.37 1988.96,1386.09 1995.46,1386.23 2001.96,1384.92 2008.46,1343.31 2014.96,1385.69 2021.46,1382.94 2027.96,1385.84 2034.46,1382.66 2040.96,1385.29 2047.46,1385.8 2053.96,1385.43 2060.46,1386.33 2066.96,1381.7 2073.46,1381.93 2079.96,1385.6 2086.46,1383.84 2092.96,1385.89 2099.46,1385.72 2105.96,1384.6 2112.46,1383.6 2118.96,1385.3 2125.46,1385.41 2131.96,1385.41 2138.46,1384.06 2144.96,1386.34 2151.46,1385.93 2157.96,1383.64 2164.46,1385.88 2170.96,1386.29 2177.46,1384.74 2183.96,1381.29 2190.46,1383.84 2196.96,1385.15 2203.46,1386.06 2209.96,1384.86 2216.46,1373.92 2222.96,1381.33 2229.45,1381.34 2235.95,1380.69 2242.45,1386.12 2248.95,1386.25 2255.45,1385.56 2261.95,1363.54 2268.45,1385.47 2274.95,1386.14 2281.45,1385.14 2287.95,1373.28 2294.45,1386.4 \"/>\n",
       "<polyline clip-path=\"url(#clip562)\" style=\"stroke:#e26f46; stroke-linecap:round; stroke-linejoin:round; stroke-width:4; stroke-opacity:1; fill:none\" points=\"351.016,1372.91 357.516,1374.93 364.016,1355.89 370.516,1339.62 377.015,1329.4 383.515,1323.86 390.015,1320.14 396.515,1316.64 403.015,1312.92 409.514,1309.1 416.014,1305.35 422.514,1301.81 429.014,1298.51 435.513,1295.45 442.013,1292.6 448.513,1289.95 455.013,1287.49 461.513,1285.22 468.012,1283.13 474.512,1281.22 481.012,1279.48 487.512,1277.9 494.012,1276.49 500.511,1275.24 507.011,1274.14 513.511,1273.19 520.011,1272.38 526.51,1271.71 533.01,1271.17 539.51,1270.77 546.01,1270.51 552.51,1270.36 559.009,1270.33 565.509,1270.43 572.009,1270.65 578.509,1270.99 585.009,1271.45 591.508,1272.02 598.008,1272.71 604.508,1273.52 611.008,1274.44 617.508,1275.49 624.007,1276.65 630.507,1277.94 637.007,1279.36 643.507,1280.91 650.006,1282.58 656.506,1284.39 663.006,1286.35 669.506,1288.45 676.006,1290.7 682.505,1293.1 689.005,1295.67 695.505,1298.41 702.005,1301.31 708.505,1304.4 715.004,1307.68 721.504,1311.15 728.004,1314.83 734.504,1318.72 741.003,1322.82 747.503,1327.17 754.003,1331.74 760.503,1336.57 767.003,1341.65 773.502,1347 780.002,1352.63 786.502,1358.54 793.002,1364.76 799.502,1371.3 806.001,1378.18 812.501,1385.45 819.001,1386.4 825.501,1386.4 832.001,1386.4 838.5,1386.4 845,1386.4 851.5,1386.4 858,1386.4 864.499,1386.4 870.999,1386.4 877.499,1386.4 883.999,1386.4 890.499,1386.4 896.998,1386.4 903.498,1386.4 909.998,1386.4 916.498,1386.4 922.998,1386.4 929.497,1386.4 935.997,1386.4 942.497,1386.4 948.997,1386.4 955.496,1386.4 961.996,1386.4 968.496,1386.4 974.996,1386.4 981.496,1363.76 987.995,1334.49 994.495,1297.09 1000.99,1251.66 1007.49,1198.77 1013.99,1138.75 1020.49,1071.63 1026.99,994.078 1033.49,898.179 1039.99,798.671 1046.49,698.328 1052.99,596.127 1059.49,490.852 1065.99,385.413 1072.49,295.034 1078.99,228.045 1085.49,174.639 1091.99,179.832 1098.49,164.67 1104.99,160.668 1111.49,166.166 1117.99,164.95 1124.49,173.285 1130.99,164.343 1137.49,161.37 1143.99,160.721 1150.49,160.359 1156.99,160.583 1163.49,160.328 1169.99,160.315 1176.49,160.36 1182.99,160.522 1189.49,165.277 1195.99,160.34 1202.49,161.898 1208.99,160.373 1215.49,160.599 1221.99,160.41 1228.49,160.631 1234.99,160.976 1241.49,160.587 1247.99,163.779 1254.49,160.375 1260.99,160.581 1267.49,162.093 1273.99,161.097 1280.49,161.624 1286.99,161.375 1293.49,162.147 1299.99,161.919 1306.49,161.185 1312.98,160.651 1319.48,160.719 1325.98,162.725 1332.48,160.876 1338.98,160.611 1345.48,161.063 1351.98,160.792 1358.48,162.942 1364.98,160.511 1371.48,160.561 1377.98,160.875 1384.48,169.779 1390.98,161.052 1397.48,161.783 1403.98,162.852 1410.48,162.845 1416.98,169.247 1423.48,175.26 1429.98,160.675 1436.48,160.53 1442.98,161.113 1449.48,166.153 1455.98,160.874 1462.48,160.993 1468.98,165.096 1475.48,160.575 1481.98,161.65 1488.48,161.384 1494.98,170.1 1501.48,161.229 1507.98,161.837 1514.48,170.767 1520.98,164.759 1527.48,170.456 1533.98,161.858 1540.48,161.013 1546.98,161.153 1553.48,165.259 1559.98,161.374 1566.48,161.482 1572.98,162.945 1579.48,161.521 1585.98,162.086 1592.48,161.727 1598.98,161.39 1605.48,160.605 1611.98,161.003 1618.47,167.03 1624.97,161.525 1631.47,160.437 1637.97,180.918 1644.47,161.532 1650.97,162.81 1657.47,173.644 1663.97,161.208 1670.47,161.331 1676.97,160.714 1683.47,161.089 1689.97,162.3 1696.47,182.474 1702.97,166.053 1709.47,169.737 1715.97,161.451 1722.47,168.634 1728.97,170.677 1735.47,161.491 1741.97,162.591 1748.47,162.102 1754.97,162.81 1761.47,163.184 1767.97,162.828 1774.47,164.909 1780.97,160.873 1787.47,161.013 1793.97,161.227 1800.47,185.327 1806.97,168.397 1813.47,162.989 1819.97,164.537 1826.47,162.15 1832.97,174.963 1839.47,165.175 1845.97,199.386 1852.47,166.85 1858.97,231.156 1865.47,164.012 1871.97,161.749 1878.47,162.148 1884.97,162.981 1891.47,238.12 1897.97,495.966 1904.47,1335.18 1910.97,1385.45 1917.47,266.773 1923.96,164.817 1930.46,162.146 1936.96,402.178 1943.46,1383.17 1949.96,1385.79 1956.46,1383.69 1962.96,441.938 1969.46,240.031 1975.96,670.968 1982.46,1386.28 1988.96,1386.11 1995.46,1386.27 2001.96,1383.21 2008.46,1010.47 2014.96,1070.77 2021.46,1375.63 2027.96,1385.92 2034.46,1383.78 2040.96,1385.63 2047.46,1384.81 2053.96,1382.02 2060.46,1386.3 2066.96,1381.74 2073.46,1383.15 2079.96,1385.87 2086.46,1384.21 2092.96,1385.6 2099.46,1385.63 2105.96,1385.1 2112.46,1384.76 2118.96,1385.82 2125.46,1385.79 2131.96,1385.48 2138.46,1384.31 2144.96,1386.36 2151.46,1386.13 2157.96,1384.82 2164.46,1386.11 2170.96,1386.32 2177.46,1385.21 2183.96,1383.17 2190.46,1385.03 2196.96,1385.78 2203.46,1386.22 2209.96,1385.38 2216.46,1376.31 2222.96,1383.28 2229.45,1383.56 2235.95,1383.26 2242.45,1386.25 2248.95,1386.31 2255.45,1385.92 2261.95,1371.16 2268.45,1385.96 2274.95,1386.27 2281.45,1385.69 2287.95,1377.21 2294.45,1386.4 \"/>\n",
       "<polyline clip-path=\"url(#clip562)\" style=\"stroke:#3da44d; stroke-linecap:round; stroke-linejoin:round; stroke-width:4; stroke-opacity:1; fill:none\" points=\"351.016,1372.91 357.516,1372.69 364.016,1374.83 370.516,1375.32 377.015,1373.81 383.515,1372.73 390.015,1371.85 396.515,1370.99 403.015,1370.11 409.514,1369.23 416.014,1368.36 422.514,1367.52 429.014,1366.71 435.513,1365.92 442.013,1365.16 448.513,1364.42 455.013,1363.69 461.513,1362.98 468.012,1362.29 474.512,1361.6 481.012,1360.92 487.512,1360.24 494.012,1359.57 500.511,1358.9 507.011,1358.23 513.511,1357.55 520.011,1356.88 526.51,1356.19 533.01,1355.51 539.51,1354.82 546.01,1354.12 552.51,1353.41 559.009,1352.69 565.509,1351.97 572.009,1351.23 578.509,1350.49 585.009,1349.75 591.508,1348.99 598.008,1348.22 604.508,1347.45 611.008,1346.68 617.508,1345.9 624.007,1345.12 630.507,1344.34 637.007,1343.56 643.507,1342.79 650.006,1342.01 656.506,1341.25 663.006,1340.49 669.506,1339.76 676.006,1339.03 682.505,1338.33 689.005,1337.66 695.505,1337.01 702.005,1336.4 708.505,1335.82 715.004,1335.3 721.504,1334.82 728.004,1334.41 734.504,1334.07 741.003,1333.79 747.503,1333.61 754.003,1333.51 760.503,1333.53 767.003,1333.65 773.502,1333.9 780.002,1334.29 786.502,1334.81 793.002,1335.47 799.502,1336.3 806.001,1337.28 812.501,1338.4 819.001,1336.83 825.501,1333.58 832.001,1329.65 838.5,1324.53 845,1318.09 851.5,1311.63 858,1306.03 864.499,1301.56 870.999,1298.57 877.499,1297.42 883.999,1298.39 890.499,1301.4 896.998,1304.96 903.498,1309.07 909.998,1314.24 916.498,1321.01 922.998,1329.9 929.497,1341.57 935.997,1356.99 942.497,1379.4 948.997,1386.4 955.496,1386.4 961.996,1386.4 968.496,1386.4 974.996,1386.4 981.496,1386.4 987.995,1386.4 994.495,1386.4 1000.99,1386.4 1007.49,1386.4 1013.99,1386.4 1020.49,1386.4 1026.99,1386.39 1033.49,1386.39 1039.99,1386.39 1046.49,1386.38 1052.99,1386.39 1059.49,1386.39 1065.99,1386.39 1072.49,1386.36 1078.99,1386.29 1085.49,1386.39 1091.99,1386.3 1098.49,1386.38 1104.99,1386.39 1111.49,1386.36 1117.99,1386.37 1124.49,1386.32 1130.99,1386.33 1137.49,1386.35 1143.99,1386.35 1150.49,1386.37 1156.99,1386.27 1163.49,1386.36 1169.99,1386.35 1176.49,1386.31 1182.99,1386.15 1189.49,1381.18 1195.99,1386.31 1202.49,1384.6 1208.99,1386.26 1215.49,1386.01 1221.99,1386.22 1228.49,1386 1234.99,1385.69 1241.49,1386.11 1247.99,1383.82 1254.49,1386.33 1260.99,1386.25 1267.49,1385.73 1273.99,1386.17 1280.49,1386.1 1286.99,1386.2 1293.49,1386.09 1299.99,1386.12 1306.49,1386.2 1312.98,1386.27 1319.48,1386.19 1325.98,1384.83 1332.48,1385.9 1338.98,1386.08 1345.48,1385.64 1351.98,1385.9 1358.48,1384.09 1364.98,1386.2 1371.48,1386.2 1377.98,1386.09 1384.48,1382.38 1390.98,1386.16 1397.48,1386.03 1403.98,1385.89 1410.48,1385.89 1416.98,1384.33 1423.48,1381.69 1429.98,1386.22 1436.48,1386.24 1442.98,1385.78 1449.48,1381.49 1455.98,1385.89 1462.48,1385.84 1468.98,1383.33 1475.48,1386.25 1481.98,1385.89 1488.48,1386.09 1494.98,1384.08 1501.48,1386.16 1507.98,1385.91 1514.48,1381.34 1520.98,1383.42 1527.48,1378.39 1533.98,1385.13 1540.48,1385.84 1546.98,1385.86 1553.48,1384.14 1559.98,1386.06 1566.48,1386.13 1572.98,1385.86 1579.48,1386.13 1585.98,1385.85 1592.48,1385.72 1598.98,1385.63 1605.48,1386.12 1611.98,1385.83 1618.47,1382.22 1624.97,1385.87 1631.47,1386.35 1637.97,1381.55 1644.47,1386.09 1650.97,1385.57 1657.47,1379.22 1663.97,1385.72 1670.47,1385.57 1676.97,1386.09 1683.47,1386.02 1689.97,1385.83 1696.47,1381.84 1702.97,1385.51 1709.47,1384.64 1715.97,1386.01 1722.47,1381.43 1728.97,1378.5 1735.47,1385.59 1741.97,1385.38 1748.47,1385.95 1754.97,1385.99 1761.47,1385.88 1767.97,1385.64 1774.47,1384.06 1780.97,1385.99 1787.47,1385.98 1793.97,1386.07 1800.47,1382.07 1806.97,1385.65 1813.47,1386.2 1819.97,1385.8 1826.47,1385.71 1832.97,1377.18 1839.47,1384.55 1845.97,1378.77 1852.47,1385.98 1858.97,1383.53 1865.47,1386.14 1871.97,1386.12 1878.47,1385.75 1884.97,1385.77 1891.47,1382.47 1897.97,1386.09 1904.47,1381.8 1910.97,1386.3 1917.47,1382.37 1923.96,1385.78 1930.46,1386.2 1936.96,1385.53 1943.46,1385.76 1949.96,1386.02 1956.46,1386.11 1962.96,1381.99 1969.46,1385.75 1975.96,1385.48 1982.46,1386.37 1988.96,1386.12 1995.46,1386.28 2001.96,1385.99 2008.46,1378.19 2014.96,1386.18 2021.46,1383.55 2027.96,1385.84 2034.46,1382.87 2040.96,1385.92 2047.46,1386.29 2053.96,1385.83 2060.46,1386.32 2066.96,1379.79 2073.46,1380.08 2079.96,1385.63 2086.46,1385.17 2092.96,1386.09 2099.46,1385.62 2105.96,1383.57 2112.46,1381.62 2118.96,1385.05 2125.46,1385.71 2131.96,1385.34 2138.46,1382.31 2144.96,1386.26 2151.46,1385.28 2157.96,1380.93 2164.46,1385.73 2170.96,1386.24 2177.46,1382.58 2183.96,1371.08 2190.46,1378.33 2196.96,1383.18 2203.46,1385.73 2209.96,1382.16 2216.46,1343.25 2222.96,1366.02 2229.45,1364.83 2235.95,1364.81 2242.45,1385.53 2248.95,1385.79 2255.45,1381.91 2261.95,1242.16 2268.45,1379.78 2274.95,1384.87 2281.45,1379.04 2287.95,1305.68 2294.45,1386.4 \"/>\n",
       "<polyline clip-path=\"url(#clip562)\" style=\"stroke:#c271d2; stroke-linecap:round; stroke-linejoin:round; stroke-width:4; stroke-opacity:1; fill:none\" points=\"351.016,1372.91 357.516,1373.46 364.016,1372.54 370.516,1372.63 377.015,1373.74 383.515,1374.26 390.015,1374.54 396.515,1374.8 403.015,1375.1 409.514,1375.43 416.014,1375.75 422.514,1376.04 429.014,1376.3 435.513,1376.54 442.013,1376.76 448.513,1376.96 455.013,1377.15 461.513,1377.32 468.012,1377.48 474.512,1377.62 481.012,1377.76 487.512,1377.89 494.012,1378.01 500.511,1378.13 507.011,1378.24 513.511,1378.34 520.011,1378.45 526.51,1378.55 533.01,1378.65 539.51,1378.75 546.01,1378.85 552.51,1378.96 559.009,1379.06 565.509,1379.16 572.009,1379.26 578.509,1379.37 585.009,1379.47 591.508,1379.58 598.008,1379.69 604.508,1379.8 611.008,1379.91 617.508,1380.02 624.007,1380.13 630.507,1380.24 637.007,1380.34 643.507,1380.44 650.006,1380.54 656.506,1380.64 663.006,1380.73 669.506,1380.8 676.006,1380.87 682.505,1380.93 689.005,1380.97 695.505,1380.99 702.005,1380.99 708.505,1380.97 715.004,1380.91 721.504,1380.83 728.004,1380.71 734.504,1380.55 741.003,1380.34 747.503,1380.08 754.003,1379.75 760.503,1379.36 767.003,1378.89 773.502,1378.34 780.002,1377.69 786.502,1376.95 793.002,1376.1 799.502,1375.13 806.001,1374.05 812.501,1372.84 819.001,1370.88 825.501,1368.83 832.001,1367.3 838.5,1366.21 845,1365.21 851.5,1364.12 858,1362.93 864.499,1361.66 870.999,1360.26 877.499,1358.63 883.999,1356.62 890.499,1354.02 896.998,1351.26 903.498,1348.35 909.998,1345.2 916.498,1341.69 922.998,1337.71 929.497,1333.14 935.997,1327.81 942.497,1320.67 948.997,1304.77 955.496,1290.78 961.996,1283.46 968.496,1271.72 974.996,1260.13 981.496,1248.82 987.995,1234.39 994.495,1215.43 1000.99,1192.6 1007.49,1166.48 1013.99,1137.22 1020.49,1104.64 1026.99,1058.56 1033.49,971.411 1039.99,851.574 1046.49,703.599 1052.99,518.401 1059.49,288.205 1065.99,160.555 1072.49,160.699 1078.99,161.072 1085.49,160.302 1091.99,160.665 1098.49,160.316 1104.99,160.26 1111.49,160.322 1117.99,160.298 1124.49,160.364 1130.99,160.334 1137.49,160.31 1143.99,160.317 1150.49,160.287 1156.99,160.414 1163.49,160.305 1169.99,160.317 1176.49,160.386 1182.99,160.627 1189.49,168.644 1195.99,160.402 1202.49,163.213 1208.99,160.485 1215.49,160.913 1221.99,160.549 1228.49,160.926 1234.99,161.401 1241.49,160.687 1247.99,164.062 1254.49,160.346 1260.99,160.453 1267.49,161.121 1273.99,160.55 1280.49,160.64 1286.99,160.514 1293.49,160.639 1299.99,160.611 1306.49,160.498 1312.98,160.409 1319.48,160.514 1325.98,162.426 1332.48,160.978 1338.98,160.738 1345.48,161.426 1351.98,161.028 1358.48,163.75 1364.98,160.538 1371.48,160.527 1377.98,160.662 1384.48,165.673 1390.98,160.563 1397.48,160.725 1403.98,160.896 1410.48,160.901 1416.98,162.904 1423.48,166.289 1429.98,160.478 1436.48,160.458 1442.98,161.133 1449.48,167.615 1455.98,161.011 1462.48,161.068 1468.98,164.556 1475.48,160.446 1481.98,160.905 1488.48,160.645 1494.98,163.224 1501.48,160.552 1507.98,160.871 1514.48,166.923 1520.98,164.398 1527.48,172.049 1533.98,162.11 1540.48,161.059 1546.98,160.977 1553.48,163.239 1559.98,160.688 1566.48,160.596 1572.98,160.94 1579.48,160.584 1585.98,160.943 1592.48,161.122 1598.98,161.321 1605.48,160.657 1611.98,161.071 1618.47,166.14 1624.97,160.936 1631.47,160.317 1637.97,166.556 1644.47,160.64 1650.97,161.298 1657.47,169.857 1663.97,161.209 1670.47,161.459 1676.97,160.68 1683.47,160.754 1689.97,160.987 1696.47,166.341 1702.97,161.385 1709.47,162.475 1715.97,160.741 1722.47,167.068 1728.97,171.852 1735.47,161.382 1741.97,161.58 1748.47,160.83 1754.97,160.767 1761.47,160.901 1767.97,161.194 1774.47,163.351 1780.97,160.817 1787.47,160.823 1793.97,160.679 1800.47,166.168 1806.97,161.259 1813.47,160.511 1819.97,160.999 1826.47,161.135 1832.97,173.302 1839.47,162.654 1845.97,170.391 1852.47,160.807 1858.97,164.076 1865.47,160.575 1871.97,160.596 1878.47,161.088 1884.97,161.038 1891.47,165.678 1897.97,160.724 1904.47,167.424 1910.97,160.384 1917.47,165.351 1923.96,161.019 1930.46,160.492 1936.96,161.478 1943.46,161.177 1949.96,160.729 1956.46,160.628 1962.96,165.843 1969.46,161.086 1975.96,161.649 1982.46,160.296 1988.96,160.626 1995.46,160.397 2001.96,160.812 2008.46,171.659 2014.96,160.581 2021.46,165.608 2027.96,161.043 2034.46,164.857 2040.96,160.873 2047.46,160.404 2053.96,161.261 2060.46,160.385 2066.96,171.172 2073.46,168.867 2079.96,161.264 2086.46,162.018 2092.96,160.781 2099.46,161.71 2105.96,164.395 2112.46,166.137 2118.96,161.93 2125.46,161.237 2131.96,162.165 2138.46,168.022 2144.96,160.441 2151.46,161.553 2157.96,167.208 2164.46,161.223 2170.96,160.538 2177.46,167.057 2183.96,182.771 2190.46,169.726 2196.96,164.076 2203.46,161.263 2209.96,168.21 2216.46,258.911 2222.96,189.098 2229.45,186.203 2235.95,189.278 2242.45,161.681 2248.95,161.33 2255.45,166.219 2261.95,394.347 2268.45,166.164 2274.95,161.992 2281.45,173.447 2287.95,338.86 2294.45,1386.4 \"/>\n",
       "<polyline clip-path=\"url(#clip562)\" style=\"stroke:#ac8d18; stroke-linecap:round; stroke-linejoin:round; stroke-width:4; stroke-opacity:1; fill:none\" points=\"351.016,1372.91 357.516,1373.42 364.016,1373.06 370.516,1372.57 377.015,1371.84 383.515,1371.21 390.015,1370.63 396.515,1370.04 403.015,1369.45 409.514,1368.87 416.014,1368.3 422.514,1367.73 429.014,1367.18 435.513,1366.64 442.013,1366.1 448.513,1365.57 455.013,1365.05 461.513,1364.53 468.012,1364.01 474.512,1363.5 481.012,1362.98 487.512,1362.47 494.012,1361.95 500.511,1361.44 507.011,1360.92 513.511,1360.39 520.011,1359.86 526.51,1359.33 533.01,1358.79 539.51,1358.24 546.01,1357.69 552.51,1357.12 559.009,1356.55 565.509,1355.97 572.009,1355.39 578.509,1354.79 585.009,1354.19 591.508,1353.58 598.008,1352.96 604.508,1352.34 611.008,1351.71 617.508,1351.07 624.007,1350.43 630.507,1349.79 637.007,1349.14 643.507,1348.49 650.006,1347.84 656.506,1347.18 663.006,1346.53 669.506,1345.88 676.006,1345.24 682.505,1344.6 689.005,1343.96 695.505,1343.33 702.005,1342.71 708.505,1342.1 715.004,1341.51 721.504,1340.93 728.004,1340.36 734.504,1339.81 741.003,1339.28 747.503,1338.77 754.003,1338.28 760.503,1337.81 767.003,1337.37 773.502,1336.95 780.002,1336.56 786.502,1336.19 793.002,1335.84 799.502,1335.51 806.001,1335.19 812.501,1334.86 819.001,1330.74 825.501,1324.82 832.001,1318.81 838.5,1312.15 845,1304.33 851.5,1296.46 858,1289.35 864.499,1283.29 870.999,1278.52 877.499,1275.26 883.999,1273.52 890.499,1272.93 896.998,1272.81 903.498,1273.21 909.998,1274.5 916.498,1277.04 922.998,1281.22 929.497,1287.57 935.997,1296.92 942.497,1311.38 948.997,1339.83 955.496,1384.12 961.996,1386.4 968.496,1386.4 974.996,1386.4 981.496,1386.4 987.995,1386.4 994.495,1386.4 1000.99,1386.4 1007.49,1386.4 1013.99,1386.4 1020.49,1386.4 1026.99,1386.39 1033.49,1386.39 1039.99,1386.39 1046.49,1386.37 1052.99,1386.39 1059.49,1386.39 1065.99,1386.39 1072.49,1386.36 1078.99,1386.28 1085.49,1386.39 1091.99,1386.26 1098.49,1386.36 1104.99,1386.39 1111.49,1386.31 1117.99,1386.28 1124.49,1385.48 1130.99,933.93 1137.49,472.726 1143.99,184.908 1150.49,164.945 1156.99,576.955 1163.49,1308.08 1169.99,1385.73 1176.49,1385.49 1182.99,1384.36 1189.49,1356.37 1195.99,1385.88 1202.49,1377.11 1208.99,1385.77 1215.49,1384.62 1221.99,1385.62 1228.49,1384.51 1234.99,1382.61 1241.49,1384.42 1247.99,1363.46 1254.49,1384.43 1260.99,1246.35 1267.49,1062.57 1273.99,1063.15 1280.49,1257.11 1286.99,1237.54 1293.49,1068.61 1299.99,790.687 1306.49,498.08 1312.98,310.321 1319.48,857.753 1325.98,1361.2 1332.48,1382.04 1338.98,1384.26 1345.48,1381.81 1351.98,1383.38 1358.48,1371.03 1364.98,1384.66 1371.48,1383.61 1377.98,1354.24 1384.48,1261.1 1390.98,987.939 1397.48,1235.73 1403.98,1153.42 1410.48,974.758 1416.98,895.377 1423.48,929.333 1429.98,685.057 1436.48,1381.51 1442.98,1380.01 1449.48,1353.43 1455.98,1382.63 1462.48,1381.47 1468.98,1348.53 1475.48,1195.82 1481.98,883.019 1488.48,852.011 1494.98,1009.02 1501.48,542.818 1507.98,415.935 1514.48,1123.58 1520.98,1348.88 1527.48,1327.39 1533.98,1376 1540.48,1381.03 1546.98,1376.15 1553.48,1125.67 1559.98,865.541 1566.48,941.438 1572.98,854.746 1579.48,496.702 1585.98,357.714 1592.48,938.889 1598.98,1376.66 1605.48,1384.1 1611.98,1381.24 1618.47,1330.97 1624.97,817.761 1631.47,641.621 1637.97,1045.85 1644.47,380.504 1650.97,301.181 1657.47,1182.43 1663.97,1378.26 1670.47,1379.01 1676.97,1382.24 1683.47,1080.33 1689.97,770.215 1696.47,1258.96 1702.97,848.141 1709.47,493.226 1715.97,207.742 1722.47,1272.23 1728.97,1322.36 1735.47,1374.58 1741.97,962.724 1748.47,611.273 1754.97,658.124 1761.47,294.335 1767.97,217.577 1774.47,958.345 1780.97,1378.31 1787.47,1359.72 1793.97,499.088 1800.47,1296.56 1806.97,1370.37 1813.47,1150.6 1819.97,242.216 1826.47,334.442 1832.97,1218.98 1839.47,582.684 1845.97,907.89 1852.47,1194.81 1858.97,1213.17 1865.47,192.251 1871.97,168.33 1878.47,287.185 1884.97,203.681 1891.47,1278.6 1897.97,1384.69 1904.47,1365.03 1910.97,1196.29 1917.47,326.382 1923.96,176.452 1930.46,167.652 1936.96,1368.73 1943.46,1380.3 1949.96,549.98 1956.46,450.069 1962.96,278.519 1969.46,224.297 1975.96,1378.95 1982.46,1386.33 1988.96,1382.15 1995.46,869.556 2001.96,1040.76 2008.46,859.804 2014.96,1382.2 2021.46,1377.73 2027.96,1372 2034.46,707.574 2040.96,566.042 2047.46,808.029 2053.96,1383.77 2060.46,1386.17 2066.96,1359.59 2073.46,1161.16 2079.96,731.12 2086.46,1079.19 2092.96,1384.12 2099.46,1383.53 2105.96,1348.79 2112.46,699.692 2118.96,366.167 2125.46,774.979 2131.96,1380.23 2138.46,1373.71 2144.96,1385.33 2151.46,795.545 2157.96,659.999 2164.46,881.722 2170.96,1385.21 2177.46,1368.73 2183.96,1199.93 2190.46,514.103 2196.96,361.517 2203.46,854.293 2209.96,1369.01 2216.46,1316.94 2222.96,1156.3 2229.45,761.254 2235.95,756.482 2242.45,1167.66 2248.95,1383.34 2255.45,1097.42 2261.95,1184.33 2268.45,274.229 2274.95,500.861 2281.45,1193.28 2287.95,1290.26 2294.45,1386.4 \"/>\n",
       "<polyline clip-path=\"url(#clip562)\" style=\"stroke:#00a9ad; stroke-linecap:round; stroke-linejoin:round; stroke-width:4; stroke-opacity:1; fill:none\" points=\"351.016,1372.91 357.516,1371.84 364.016,1382.12 370.516,1386.4 377.015,1386.4 383.515,1386.4 390.015,1386.4 396.515,1386.4 403.015,1386.4 409.514,1386.4 416.014,1386.4 422.514,1386.4 429.014,1386.4 435.513,1386.4 442.013,1386.4 448.513,1386.4 455.013,1386.4 461.513,1386.4 468.012,1386.4 474.512,1386.4 481.012,1386.4 487.512,1386.4 494.012,1386.4 500.511,1386.4 507.011,1386.4 513.511,1386.4 520.011,1386.4 526.51,1386.4 533.01,1386.4 539.51,1386.4 546.01,1386.4 552.51,1386.4 559.009,1386.4 565.509,1386.4 572.009,1386.4 578.509,1386.4 585.009,1386.4 591.508,1386.4 598.008,1386.4 604.508,1386.4 611.008,1386.4 617.508,1386.4 624.007,1386.4 630.507,1386.4 637.007,1386.4 643.507,1386.4 650.006,1386.4 656.506,1386.4 663.006,1386.4 669.506,1386.4 676.006,1386.4 682.505,1386.4 689.005,1386.4 695.505,1386.4 702.005,1386.4 708.505,1386.4 715.004,1386.4 721.504,1386.4 728.004,1386.4 734.504,1386.4 741.003,1386.4 747.503,1386.4 754.003,1386.4 760.503,1386.4 767.003,1386.4 773.502,1386.4 780.002,1386.4 786.502,1386.4 793.002,1386.4 799.502,1386.4 806.001,1386.4 812.501,1386.4 819.001,1386.4 825.501,1386.4 832.001,1386.4 838.5,1380.69 845,1370.77 851.5,1359.85 858,1348.49 864.499,1336.94 870.999,1325.58 877.499,1314.82 883.999,1305.01 890.499,1296.51 896.998,1287.02 903.498,1276.21 909.998,1264.47 916.498,1251.98 922.998,1238.84 929.497,1225.11 935.997,1210.62 942.497,1194.23 948.997,1166.89 955.496,1129.77 961.996,1081.51 968.496,1032.85 974.996,974.651 981.496,904.952 987.995,824.339 994.495,732.242 1000.99,625.352 1007.49,499.753 1013.99,351.298 1020.49,174.938 1026.99,160.286 1033.49,160.263 1039.99,160.258 1046.49,160.274 1052.99,160.26 1059.49,160.256 1065.99,160.261 1072.49,160.28 1078.99,160.329 1085.49,160.261 1091.99,160.33 1098.49,160.27 1104.99,160.256 1111.49,160.282 1117.99,160.278 1124.49,160.326 1130.99,160.315 1137.49,160.299 1143.99,160.307 1150.49,160.285 1156.99,160.413 1163.49,160.308 1169.99,160.325 1176.49,160.412 1182.99,160.717 1189.49,171.071 1195.99,160.449 1202.49,164.156 1208.99,160.56 1215.49,161.104 1221.99,160.625 1228.49,161.068 1234.99,161.582 1241.49,160.73 1247.99,164.197 1254.49,160.347 1260.99,160.447 1267.49,161.05 1273.99,160.509 1280.49,160.566 1286.99,160.461 1293.49,160.562 1299.99,160.544 1306.49,160.462 1312.98,160.397 1319.48,160.51 1325.98,162.506 1332.48,161.045 1338.98,160.798 1345.48,161.591 1351.98,161.127 1358.48,164.054 1364.98,160.554 1371.48,160.532 1377.98,160.651 1384.48,164.979 1390.98,160.521 1397.48,160.636 1403.98,160.771 1410.48,160.772 1416.98,162.416 1423.48,165.473 1429.98,160.472 1436.48,160.46 1442.98,161.173 1449.48,168.07 1455.98,161.067 1462.48,161.11 1468.98,164.468 1475.48,160.44 1481.98,160.838 1488.48,160.585 1494.98,162.686 1501.48,160.51 1507.98,160.815 1514.48,166.623 1520.98,164.506 1527.48,172.528 1533.98,162.237 1540.48,161.098 1546.98,160.983 1553.48,163.027 1559.98,160.635 1566.48,160.537 1572.98,160.808 1579.48,160.533 1585.98,160.877 1592.48,161.109 1598.98,161.358 1605.48,160.685 1611.98,161.116 1618.47,165.98 1624.97,160.898 1631.47,160.31 1637.97,165.318 1644.47,160.589 1650.97,161.226 1657.47,169.743 1663.97,161.27 1670.47,161.544 1676.97,160.696 1683.47,160.735 1689.97,160.884 1696.47,164.86 1702.97,161.156 1709.47,162.084 1715.97,160.715 1722.47,167.171 1728.97,172.425 1735.47,161.429 1741.97,161.541 1748.47,160.744 1754.97,160.671 1761.47,160.804 1767.97,161.149 1774.47,163.467 1780.97,160.863 1787.47,160.841 1793.97,160.652 1800.47,164.598 1806.97,160.975 1813.47,160.449 1819.97,160.885 1826.47,161.133 1832.97,173.859 1839.47,162.61 1845.97,168.342 1852.47,160.671 1858.97,163.015 1865.47,160.525 1871.97,160.588 1878.47,161.122 1884.97,161.007 1891.47,164.067 1897.97,160.523 1904.47,163.971 1910.97,160.342 1917.47,164.48 1923.96,160.985 1930.46,160.475 1936.96,161.089 1943.46,160.771 1949.96,160.523 1956.46,160.528 1962.96,165.076 1969.46,160.961 1975.96,161.109 1982.46,160.272 1988.96,160.415 1995.46,160.325 2001.96,160.629 2008.46,168.51 2014.96,160.466 2021.46,162.349 2027.96,160.564 2034.46,162.169 2040.96,160.615 2047.46,160.363 2053.96,160.733 2060.46,160.297 2066.96,163.433 2073.46,163.015 2079.96,160.664 2086.46,161.206 2092.96,160.499 2099.46,160.698 2105.96,161.425 2112.46,161.993 2118.96,160.849 2125.46,160.693 2131.96,160.864 2138.46,161.971 2144.96,160.295 2151.46,160.568 2157.96,162.055 2164.46,160.554 2170.96,160.325 2177.46,161.5 2183.96,164.126 2190.46,162.077 2196.96,161.085 2203.46,160.478 2209.96,161.447 2216.46,171.067 2222.96,164.265 2229.45,164.139 2235.95,164.583 2242.45,160.46 2248.95,160.37 2255.45,160.925 2261.95,180.674 2268.45,160.956 2274.95,160.449 2281.45,161.29 2287.95,172.128 2294.45,1386.4 \"/>\n",
       "<path clip-path=\"url(#clip560)\" d=\"M361.381 529.676 L592.617 529.676 L592.617 166.796 L361.381 166.796  Z\" fill=\"#ffffff\" fill-rule=\"evenodd\" fill-opacity=\"1\"/>\n",
       "<polyline clip-path=\"url(#clip560)\" style=\"stroke:#000000; stroke-linecap:round; stroke-linejoin:round; stroke-width:4; stroke-opacity:1; fill:none\" points=\"361.381,529.676 592.617,529.676 592.617,166.796 361.381,166.796 361.381,529.676 \"/>\n",
       "<polyline clip-path=\"url(#clip560)\" style=\"stroke:#009af9; stroke-linecap:round; stroke-linejoin:round; stroke-width:4; stroke-opacity:1; fill:none\" points=\"384.271,218.636 521.607,218.636 \"/>\n",
       "<path clip-path=\"url(#clip560)\" d=\"M569.149 209.99 L559.774 222.606 L569.635 235.916 L564.612 235.916 L557.065 225.731 L549.519 235.916 L544.496 235.916 L554.565 222.351 L545.353 209.99 L550.376 209.99 L557.251 219.226 L564.126 209.99 L569.149 209.99 Z\" fill=\"#000000\" fill-rule=\"nonzero\" fill-opacity=\"1\" /><polyline clip-path=\"url(#clip560)\" style=\"stroke:#e26f46; stroke-linecap:round; stroke-linejoin:round; stroke-width:4; stroke-opacity:1; fill:none\" points=\"384.271,270.476 521.607,270.476 \"/>\n",
       "<path clip-path=\"url(#clip560)\" d=\"M558.339 290.163 Q556.533 294.793 554.82 296.205 Q553.107 297.617 550.237 297.617 L546.834 297.617 L546.834 294.052 L549.334 294.052 Q551.093 294.052 552.066 293.219 Q553.038 292.385 554.218 289.283 L554.982 287.339 L544.496 261.83 L549.01 261.83 L557.112 282.108 L565.214 261.83 L569.727 261.83 L558.339 290.163 Z\" fill=\"#000000\" fill-rule=\"nonzero\" fill-opacity=\"1\" /><polyline clip-path=\"url(#clip560)\" style=\"stroke:#3da44d; stroke-linecap:round; stroke-linejoin:round; stroke-width:4; stroke-opacity:1; fill:none\" points=\"384.271,322.316 521.607,322.316 \"/>\n",
       "<path clip-path=\"url(#clip560)\" d=\"M545.075 313.67 L565.306 313.67 L565.306 317.559 L549.288 336.193 L565.306 336.193 L565.306 339.596 L544.496 339.596 L544.496 335.707 L560.515 317.073 L545.075 317.073 L545.075 313.67 Z\" fill=\"#000000\" fill-rule=\"nonzero\" fill-opacity=\"1\" /><polyline clip-path=\"url(#clip560)\" style=\"stroke:#c271d2; stroke-linecap:round; stroke-linejoin:round; stroke-width:4; stroke-opacity:1; fill:none\" points=\"384.271,374.156 521.607,374.156 \"/>\n",
       "<path clip-path=\"url(#clip560)\" d=\"M569.149 365.51 L559.774 378.126 L569.635 391.436 L564.612 391.436 L557.065 381.251 L549.519 391.436 L544.496 391.436 L554.565 377.871 L545.353 365.51 L550.376 365.51 L557.251 374.746 L564.126 365.51 L569.149 365.51 Z\" fill=\"#000000\" fill-rule=\"nonzero\" fill-opacity=\"1\" /><polyline clip-path=\"url(#clip560)\" style=\"stroke:#ac8d18; stroke-linecap:round; stroke-linejoin:round; stroke-width:4; stroke-opacity:1; fill:none\" points=\"384.271,425.996 521.607,425.996 \"/>\n",
       "<path clip-path=\"url(#clip560)\" d=\"M558.339 445.683 Q556.533 450.313 554.82 451.725 Q553.107 453.137 550.237 453.137 L546.834 453.137 L546.834 449.572 L549.334 449.572 Q551.093 449.572 552.066 448.739 Q553.038 447.905 554.218 444.803 L554.982 442.859 L544.496 417.35 L549.01 417.35 L557.112 437.628 L565.214 417.35 L569.727 417.35 L558.339 445.683 Z\" fill=\"#000000\" fill-rule=\"nonzero\" fill-opacity=\"1\" /><polyline clip-path=\"url(#clip560)\" style=\"stroke:#00a9ad; stroke-linecap:round; stroke-linejoin:round; stroke-width:4; stroke-opacity:1; fill:none\" points=\"384.271,477.836 521.607,477.836 \"/>\n",
       "<path clip-path=\"url(#clip560)\" d=\"M545.075 469.19 L565.306 469.19 L565.306 473.079 L549.288 491.713 L565.306 491.713 L565.306 495.116 L544.496 495.116 L544.496 491.227 L560.515 472.593 L545.075 472.593 L545.075 469.19 Z\" fill=\"#000000\" fill-rule=\"nonzero\" fill-opacity=\"1\" /></svg>\n"
      ]
     },
     "metadata": {},
     "output_type": "display_data"
    },
    {
     "name": "stdout",
     "output_type": "stream",
     "text": [
      "[110.00280000030894 98.48952031328366 186.09729693675843; 110.00280000092526 93.48225486327934 248.75680366549756; 110.00280000022818 111.74060098134328 94.3279476051272; 110.00279999938955 105.5349230523806 112.96275069340336; 110.00279999940794 105.81697373521219 108.7514337953875; 110.00279999966234 118.68095293589379 34.83957629339449]"
     ]
    },
    {
     "name": "stderr",
     "output_type": "stream",
     "text": [
      "┌ Info: Listening on: 127.0.0.1:8703, thread id: 1\n",
      "└ @ HTTP.Servers C:\\Users\\scott\\.julia\\packages\\HTTP\\bDoga\\src\\Servers.jl:367\n"
     ]
    },
    {
     "name": "stderr",
     "output_type": "stream",
     "text": [
      "┌ Info: MeshCat server started. You can open the visualizer by visiting the following URL in your browser:\n",
      "│ http://127.0.0.1:8703\n",
      "└ @ MeshCat C:\\Users\\scott\\.julia\\packages\\MeshCat\\I6NTX\\src\\visualizer.jl:63\n"
     ]
    },
    {
     "data": {
      "text/html": [
       "    <div style=\"height: 500px; width: 100%; overflow-x: auto; overflow-y: hidden; resize: both\">\n",
       "    <iframe src=\"http://127.0.0.1:8703\" style=\"width: 100%; height: 100%; border: none\"></iframe>\n",
       "    </div>\n"
      ],
      "text/plain": [
       "MeshCat.DisplayedVisualizer(MeshCat.CoreVisualizer(MeshCat.SceneTrees.SceneNode(nothing, nothing, Dict{String, Vector{UInt8}}(), UInt8[0x83, 0xa7, 0x6f, 0x70, 0x74, 0x69, 0x6f, 0x6e, 0x73, 0x82  …  0x5f, 0x61, 0x6e, 0x69, 0x6d, 0x61, 0x74, 0x69, 0x6f, 0x6e], Dict{String, MeshCat.SceneTrees.SceneNode}(\"meshcat\" => MeshCat.SceneTrees.SceneNode(nothing, nothing, Dict{String, Vector{UInt8}}(), nothing, Dict{String, MeshCat.SceneTrees.SceneNode}(\"drone\" => MeshCat.SceneTrees.SceneNode(UInt8[0x83, 0xa6, 0x6f, 0x62, 0x6a, 0x65, 0x63, 0x74, 0x84, 0xaa  …  0x68, 0x63, 0x61, 0x74, 0x2f, 0x64, 0x72, 0x6f, 0x6e, 0x65], nothing, Dict{String, Vector{UInt8}}(), nothing, Dict{String, MeshCat.SceneTrees.SceneNode}(\"base\" => MeshCat.SceneTrees.SceneNode(UInt8[0x83, 0xa6, 0x6f, 0x62, 0x6a, 0x65, 0x63, 0x74, 0x84, 0xaa  …  0x64, 0x72, 0x6f, 0x6e, 0x65, 0x2f, 0x62, 0x61, 0x73, 0x65], UInt8[0x83, 0xa6, 0x6d, 0x61, 0x74, 0x72, 0x69, 0x78, 0xc7, 0x40  …  0x64, 0x72, 0x6f, 0x6e, 0x65, 0x2f, 0x62, 0x61, 0x73, 0x65], Dict{String, Vector{UInt8}}(), nothing, Dict{String, MeshCat.SceneTrees.SceneNode}()))))))), Set{HTTP.WebSockets.WebSocket}(), ip\"127.0.0.1\", 8703))"
      ]
     },
     "metadata": {},
     "output_type": "display_data"
    }
   ],
   "source": [
    "\n",
    "# Drone parameters\n",
    "Ixx= 2.331e2\n",
    "Iyy= 2.322e2\n",
    "Izz= 4.022e2\n",
    "model = (mass= 6.728,\n",
    "    J= Diagonal([Ixx, Iyy, Izz]), \n",
    "    gravity= [0,0,-9.81],\n",
    "    L= 0.5375, \n",
    "    kf= 0.1, # constant thrust coefficient \n",
    "    km= 0.01, # propeller drag coefficient\n",
    "    dt= 0.1, #\n",
    "    α= 0.49, #rad\n",
    "    β= 0.33 # rad\n",
    ")\n",
    "\n",
    "# create our discrete time model \n",
    "dt = model.dt\n",
    "g= 9.81\n",
    "m= model.mass\n",
    "\n",
    "n_states = 12\n",
    "n_inputs = 6\n",
    "\n",
    "# problem size and reference trajectory \n",
    "N = 300\n",
    "# MPC window size\n",
    "N_mpc = 60 #20 \n",
    "\n",
    "# Initialize wind parameters\n",
    "wind_dynamics = zeros(n_states, 3)\n",
    "wind_dynamics[4, 1] = 1  # Wind effect on vx\n",
    "wind_dynamics[5, 2] = 1  # Wind effect on vy\n",
    "wind_dynamics[6, 3] = 1  # Wind effect on vz\n",
    "wind_velocity = [0.0, 0, 0] # Intensity of the turbulence\n",
    "wind_intensity = 0.5\n",
    "\n",
    "# initial and goal states\n",
    "x0= [0.0, 0.0, 1.0, 0.0, 0.0,0.0,0.0,0.0,0.0,0.0,0.0,0.0]\n",
    "# xg= [0.0, 0.0, 1.0, 0.0, 0.0,0.0,0.0,0.0,0.0,0.0,0.0,0.0]\n",
    "# Generate hover trajectory for hexrotor\n",
    "X_ref, U_ref = create_ref_hover(model, N+N_mpc, dt, n_inputs, 1.0)\n",
    "# Generate equilibrium Point (linearizing about hover)\n",
    "Xbar = X_ref[1]\n",
    "Ubar = U_ref[1]\n",
    "\n",
    "# generate figure 8 trajectory\n",
    "# X_ref, U_ref = create_fig8(model, N+N_mpc, dt, n_inputs, 5.0)\n",
    "\n",
    "dX_ref = [(X_ref[i] - Xbar) for i = 1:length(X_ref)]\n",
    "dU_ref = [(U_ref[i] - Ubar) for i = 1:length(U_ref)]\n",
    "\n",
    "# bounds on u\n",
    "u_min = zeros(n_inputs)\n",
    "u_max = 10000*ones(n_inputs)\n",
    "du_min = u_min - Ubar\n",
    "du_max = u_max - Ubar\n",
    "\n",
    "# MPC Parameters\n",
    "Q = diagm([1,1,1,\n",
    "0.1,0.1,0.1,\n",
    "0.001,0.001,0.001,\n",
    "0.1,0.1,0.1])\n",
    "R = diagm(ones(n_inputs)*0.001)\n",
    "\n",
    "# Linearize system\n",
    "A = FD.jacobian(dx -> rk4(model, hexrotor_dynamics, dx, Ubar, dt), Xbar)\n",
    "B = FD.jacobian(du -> rk4(model, hexrotor_dynamics, Xbar, du, dt), Ubar)\n",
    "C = I(n_states)\n",
    "D = zeros(n_states, n_inputs)\n",
    "\n",
    "\n",
    "# sim size and setup \n",
    "N_sim = N \n",
    "t_vec = 0:dt:((N_sim-1)*dt)\n",
    "X_sim = [zeros(n_states) for i = 1:N_sim]\n",
    "X_sim[1] = x0\n",
    "dX_sim = [zeros(n_states) for i = 1:N_sim]\n",
    "dX_sim[1] = X_sim[1] - Xbar\n",
    "\n",
    "U_sim = [zeros(n_inputs) for i = 1:N_sim]\n",
    "U_sim[1] = U_ref[1]\n",
    "dU_sim = [zeros(n_inputs) for i = 1:N_sim]\n",
    "dU_sim[1] = U_sim[1] - Ubar\n",
    "\n",
    "x_hat = [zeros(n_states) for i = 1:N_sim]\n",
    "x_hat[1] = X_sim[1]\n",
    "dX_hat = [zeros(n_states) for i = 1:N_sim]\n",
    "dX_hat[1] = dX_sim[1]\n",
    "\n",
    "dxg= 1*dX_ref[N]\n",
    "measurements = X_sim[1]\n",
    "\n",
    "# Initialize Kalman Filter parameters\n",
    "Qkf = I*1\n",
    "Rkf = I*1\n",
    "P = I(n_states)\n",
    "\n",
    "\n",
    "# simulate \n",
    "@showprogress \"simulating\" for i = 1:N_sim-1 \n",
    "    # given a window of N_mpc timesteps, get current reference trajectory\n",
    "    dX_ref_tilde = dX_ref[i: (i+ N_mpc-1)] \n",
    "    \n",
    "    # call convex mpc controller with state estimate \n",
    "    dU_sim[i] = convex_mpc(A, B, dX_ref_tilde, dX_hat[i], dxg, du_min, du_max, N_mpc, Q, R, wind_dynamics, wind_velocity) \n",
    "    dU_sim[i] = clamp.(dU_sim[i], du_min, du_max)\n",
    "    #u_mpc = convex_mpc(A, B, X_ref_tilde, xi_estimate, u_min, u_max, N_mpc) \n",
    "    U_sim[i] = dU_sim[i] + Ubar\n",
    "\n",
    "    # simulate one step- X_sim is delta x so add xref to the end\n",
    "    # dX_sim[i+1] = A*(dX_sim[i]) + B*(dU_sim[i])# + rand(n_states) * 0.01\n",
    "    # X_sim[i+1] = dX_sim[i+1] + Xbar\n",
    "\n",
    "    X_sim[i+1] = rk4(model, hexrotor_dynamics, X_sim[i], U_sim[i], dt) #+ randn(n_states)*0.001\n",
    "    X_sim[i+1] = X_sim[i+1] + wind_dynamics*wind_velocity\n",
    "\n",
    "    dX_sim[i+1] = X_sim[i+1] - Xbar\n",
    "\n",
    "    # get state estimate\n",
    "    #x_hat = X_sim[i]#+ 0.01*rand(nx) #state_estimate(X_sim[i], xg)\n",
    "    dX_hat[i+1], P = kalman_filter(A, B, C, D, Qkf, Rkf, dX_hat[i], P, dU_sim[i], measurements, wind_dynamics, wind_velocity) \n",
    "\n",
    "    measurements = dX_sim[i+1] #+ randn(n_states) * 0.01\n",
    "end\n",
    "\n",
    "# -------------plotting/animation---------------------------\n",
    "Xm = mat_from_vec(X_sim)\n",
    "Um = mat_from_vec(U_sim)\n",
    "Xref= mat_from_vec(X_ref[1:N_sim-1])\n",
    "display(plot(t_vec,Xm[1:3,:]',title = \"Positions\",\n",
    "            xlabel = \"time (s)\", ylabel = \"position (m)\",\n",
    "            label = [\"x\" \"y\" \"z\"]))\n",
    "# #plot!(t_vec,Xref[1:3,:]', ls=:dash)\n",
    "\n",
    "display(plot(t_vec[1:end],Um',title = \"Control\",\n",
    "        xlabel = \"time (s)\", ylabel = \"thrust (N)\",\n",
    "            label = [\"x\" \"y\" \"z\"]))\n",
    "\n",
    "\n",
    "print(Um[:, 1:3])\n",
    "# Plotting\n",
    "\n",
    "# true_states_plot = hcat(X_sim...)\n",
    "# estimated_states_plot = hcat(estimated_states...)\n",
    "# #U_ref_plot = hcat(U_ref...)\n",
    "# X_ref_plot = hcat(X_ref...)\n",
    "# # inputs_plot = hcat(inputs...)\n",
    "# for i in 1:n_states\n",
    "#     p = plot(t_vec, true_states_plot[i,:], label=\"True\")\n",
    "#     plot!(t_vec, estimated_states_plot[i, :], label=\"Estimated\", linestyle=:dash)\n",
    "#     plot!(t_vec, X_ref_plot[i, 1:N], label = \"Reference\")\n",
    "#     title!(\"State $i\")\n",
    "#     display(p)\n",
    "# end\n",
    "\n",
    "######### this would be cool if it worked...\n",
    "# true_states_plot = mat_from_vec(X_sim...)\n",
    "# estimated_states_plot = mat_from_vec(x_hat...)\n",
    "# X_ref_plot = mat_from_vec(X_ref...)\n",
    "# p = plot(t_vec, true_states_plot[1:3,:]', label=\"True\")\n",
    "# plot!(t_vec, estimated_states_plot[1:3, :]', label=\"Estimated\", linestyle=:dash)\n",
    "# plot!(t_vec, X_ref_plot[1:3, :]', label = \"Reference\")\n",
    "# title!(\"State\")\n",
    "# display(p)\n",
    "##############################\n",
    "\n",
    "\n",
    "# for i in 1:n_inputs\n",
    "#     p = plot(time, inputs_plot[i, :], label=\"MPC Inputs\")\n",
    "#     plot!(time, U_ref_plot[i, 1:N], label = \"Reference\")\n",
    "#     title!(\"Input $i\")\n",
    "#     display(p)\n",
    "# end\n",
    "\n",
    "display(animate_hexrotor(X_sim, dt))\n",
    "# @test norm(X_sim[end] - xg) < 1e-3 # goal \n"
   ]
  }
 ],
 "metadata": {
  "kernelspec": {
   "display_name": "Julia 1.6.7",
   "language": "julia",
   "name": "julia-1.6"
  },
  "language_info": {
   "file_extension": ".jl",
   "mimetype": "application/julia",
   "name": "julia",
   "version": "1.6.7"
  }
 },
 "nbformat": 4,
 "nbformat_minor": 2
}
